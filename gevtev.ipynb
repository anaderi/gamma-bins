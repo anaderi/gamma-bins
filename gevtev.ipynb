{
 "cells": [
  {
   "cell_type": "code",
   "execution_count": 1,
   "metadata": {
    "collapsed": true
   },
   "outputs": [],
   "source": [
    "import numpy as np\n",
    "import pandas as pd\n",
    "\n",
    "from astropy.io import fits\n",
    "\n",
    "#fits_image_filename = fits.util.get_testdata_filepath()"
   ]
  },
  {
   "cell_type": "code",
   "execution_count": 2,
   "metadata": {
    "collapsed": true
   },
   "outputs": [],
   "source": [
    "_epsilon = 3e-4 "
   ]
  },
  {
   "cell_type": "code",
   "execution_count": 3,
   "metadata": {},
   "outputs": [],
   "source": [
    "hdul_gev = fits.open('data/gll_psc_v16.fit')\n",
    "cat_gev = hdul_gev[1].data"
   ]
  },
  {
   "cell_type": "code",
   "execution_count": 4,
   "metadata": {
    "collapsed": true
   },
   "outputs": [],
   "source": [
    "names_gev = [\n",
    "    'ASSOC_TEV', \n",
    "    'CLASS1', \n",
    "    'GLON', \n",
    "    'GLAT', \n",
    "    'Variability_Index', \n",
    "    'Flux1000', \n",
    "    'Flux10000_100000', \n",
    "    'Flux1000_3000', \n",
    "    'Flux100_300', \n",
    "    'Flux3000_10000', \n",
    "    'Flux300_1000',  \n",
    "    'Flux30_100',\n",
    "    ] "
   ]
  },
  {
   "cell_type": "code",
   "execution_count": 5,
   "metadata": {},
   "outputs": [],
   "source": [
    "hdul_tev = fits.open('data/gammacat.fits.gz')\n",
    "cat_tev = hdul_tev[1].data"
   ]
  },
  {
   "cell_type": "code",
   "execution_count": null,
   "metadata": {
    "collapsed": true
   },
   "outputs": [],
   "source": [
    "names_tev = [\n",
    "    'classes', \n",
    "    'glat', \n",
    "    'glon', \n",
    "    'morph_pa', \n",
    "    'sed_dnde', \n",
    "    'sed_dnde_err', \n",
    "    'sed_e_ref', \n",
    "    'spec_dnde_1TeV', \n",
    "    'spec_dnde_1TeV_err', \n",
    "    'spec_eflux_1TeV_10TeV', \n",
    "    'spec_eflux_1TeV_10TeV_err', \n",
    "    'spec_flux_1TeV', \n",
    "    'spec_flux_1TeV_crab', \n",
    "    'spec_flux_1TeV_crab_err'\n",
    "    ]"
   ]
  },
  {
   "cell_type": "code",
   "execution_count": null,
   "metadata": {},
   "outputs": [],
   "source": [
    "def corresponding_bins(cat_gev, cat_tev, epsilon):\n",
    "    d = {}\n",
    "    \n",
    "    class_gev = cat_gev['CLASS1']\n",
    "    class_tev = cat_tev['classes']\n",
    "    glat_gev = cat_gev['GLAT']\n",
    "    glat_tev = cat_tev['glat']\n",
    "    glon_gev = cat_gev['GLON']\n",
    "    glon_tev = cat_tev['glon']\n",
    "    \n",
    "    for j in range(len(glat_tev)):\n",
    "        for i in range(len(glat_gev)):\n",
    "            if ((class_tev[j].find('bin') != -1) \n",
    "                & ((class_gev[i].find('BIN') != -1) | (class_gev[i].find('HMB') != -1))\n",
    "                & (np.abs(glat_gev[i] - glat_tev[j]) < epsilon) \n",
    "                & (np.abs(glon_gev[i] - glon_tev[j]) < epsilon)):\n",
    "                d.update({j : i})\n",
    "    return d\n",
    "                \n",
    "print(corresponding_bins(cat_gev, cat_tev, 1))"
   ]
  },
  {
   "cell_type": "code",
   "execution_count": null,
   "metadata": {
    "collapsed": true
   },
   "outputs": [],
   "source": [
    "gevToTev = {'BLL': 'blazar', \n",
    "            'FRSQ': 'frsq', \n",
    "            'HMB': 'bin' , \n",
    "            'BIN': 'bin', \n",
    "            'GAL': 'galaxy', \n",
    "            'PSR': 'psr', \n",
    "            'PWN': 'pwn', \n",
    "            'SNR': 'snr', \n",
    "            '': 'unid'}\n",
    "tevToGev = {v:k for k, v in gevToTev.items()}"
   ]
  },
  {
   "cell_type": "code",
   "execution_count": null,
   "metadata": {},
   "outputs": [],
   "source": [
    "def common(cat_gev, cat_tev, epsilon):\n",
    "    \"\"\"This function looks for the same objects in GeV and TeV catalogs\n",
    "    \n",
    "    Return: dictionary with corresponding values\n",
    "    \n",
    "    feature1(list) - features of GeV \n",
    "    feature2(list) - features of TeV \n",
    "    epsilon(double) - distance accepted as equivalence\n",
    "    \"\"\"\n",
    "    d = {}\n",
    "\n",
    "    class_gev = cat_gev['CLASS1']\n",
    "    class_tev = cat_tev['classes']\n",
    "    glat_gev = cat_gev['GLAT']\n",
    "    glat_tev = cat_tev['glat']\n",
    "    glon_gev = cat_gev['GLON']\n",
    "    glon_tev = cat_tev['glon']\n",
    "    \n",
    "    for i in range(len(glat_gev)):\n",
    "        for j in range(len(glat_tev)):\n",
    "            classGeV = class_gev[i]\n",
    "            start = -1\n",
    "            try: \n",
    "                start = (class_tev[j].find(gevToTev[classGeV]))\n",
    "            except KeyError:\n",
    "                continue\n",
    "            if (start != -1):\n",
    "                if ((glat_gev[i] - glat_tev[j] < epsilon) and (glon_gev[i] - glon_tev[j] < epsilon)) :\n",
    "                    d.update({j : i})\n",
    "    return d\n",
    "\n",
    "D = common(cat_gev, cat_tev, 3e-10)\n",
    "print(D)"
   ]
  },
  {
   "cell_type": "code",
   "execution_count": null,
   "metadata": {
    "collapsed": true
   },
   "outputs": [],
   "source": [
    "names_common = [\n",
    "    'glat',\n",
    "    'glon',\n",
    "    'morph_pa',\n",
    "    'sed_dnde',\n",
    "    'sed_dnde_err',\n",
    "    'sed_e_ref', \n",
    "    'spec_dnde_1TeV', \n",
    "    'spec_dnde_1TeV_err', \n",
    "    'spec_eflux_1TeV_10TeV', \n",
    "    'spec_eflux_1TeV_10TeV_err', \n",
    "    'spec_flux_1TeV', \n",
    "    'spec_flux_1TeV_crab', \n",
    "    'spec_flux_1TeV_crab_err', \n",
    "    'ASSOC_TEV', \n",
    "    'Variability_Index', \n",
    "    'Flux1000', \n",
    "    'Flux10000_100000', \n",
    "    'Flux1000_3000', \n",
    "    'Flux100_300', \n",
    "    'Flux3000_10000', \n",
    "    'Flux300_1000', \n",
    "    'Flux30_100', \n",
    "    'Flux1000', \n",
    "    'Flux10000_100000', \n",
    "    'Flux1000_3000', \n",
    "    'Flux100_300', \n",
    "    'Flux3000_10000', \n",
    "    'Flux300_1000', \n",
    "    'Flux30_100', \n",
    "    'CLASS1']"
   ]
  },
  {
   "cell_type": "code",
   "execution_count": null,
   "metadata": {
    "collapsed": true
   },
   "outputs": [],
   "source": [
    "d_coord = {'glon' : 'GLON', 'glat' : 'GLAT'}"
   ]
  },
  {
   "cell_type": "code",
   "execution_count": null,
   "metadata": {
    "collapsed": true
   },
   "outputs": [],
   "source": [
    "def create_common_data(cat_gev, cat_tev, D, namefinal):\n",
    "    \"\"\"The fonction adds objects found both in GeV and TeV.\n",
    "    \n",
    "    D(dictionary) - a dictionary with repeated objects from TeV and GeV\n",
    "    namefinal(list) - names of required features to fill in data\n",
    "    \"\"\"\n",
    "    k = 0\n",
    "    data = []\n",
    "    \n",
    "    for j in D.keys():\n",
    "        data.append([])\n",
    "        for i in range(13):\n",
    "            data[k].append(cat_gev[namefinal[i]][j])\n",
    "        for i in range(13, len(namefinal)):\n",
    "            data[k].append(cat_tev[namefinal[i]][D[j]])\n",
    "        k = k+1\n",
    "        \n",
    "    df_common = pd.DataFrame(data = data, columns = namefinal)\n",
    "        \n",
    "    return df_common\n",
    "    #print(str(cat['CLASS1'][D[i]]) + \" - \" + str(cat2['classes'][i]) + \"\\n\")"
   ]
  },
  {
   "cell_type": "code",
   "execution_count": null,
   "metadata": {
    "collapsed": true
   },
   "outputs": [],
   "source": [
    "def create_only_tev_data(cat_tev, D, name_tev):\n",
    "    \"\"\"The fonction adds objects found only in TeV.\n",
    "    \n",
    "    D(dictionary) - a dictionary with repeated objects from TeV and GeV\n",
    "    name_tev(list) - names of TeV columns\n",
    "    \"\"\"\n",
    "    k = 0\n",
    "    data = []\n",
    "    \n",
    "    for j in range(len(cat_tev)):\n",
    "        if not(j in D.keys()):\n",
    "            data.append([])\n",
    "            for i in range(len(name_tev)):\n",
    "                data[k].append(cat_tev[name_tev[i]][j])\n",
    "            k = k+1\n",
    "            \n",
    "    df_only_tev = pd.DataFrame(data = data, columns = name_tev)\n",
    "        \n",
    "    return df_only_tev"
   ]
  },
  {
   "cell_type": "code",
   "execution_count": null,
   "metadata": {
    "collapsed": true
   },
   "outputs": [],
   "source": [
    "def create_only_gev_data(cat_gev, D, names_gev):\n",
    "    \"\"\"The fonction adds objects found only in GeV.\n",
    "    \n",
    "    D(dictionary) - a dictionary with repeated objects from TeV and GeV\n",
    "    name_gev(list) - names of GeV columns\n",
    "    \"\"\"\n",
    "    k = 0\n",
    "    data = []\n",
    "    \n",
    "    for j in range(len(cat_gev)):\n",
    "        if not(j in D.values()):\n",
    "            data.append([])\n",
    "            for i in range(len(names_gev)):\n",
    "                data[k].append(cat_gev[names_gev[i]][j])\n",
    "            k = k+1\n",
    "            \n",
    "    df_only_gev = pd.DataFrame(data = data, columns = names_gev)\n",
    "        \n",
    "    return df_only_gev"
   ]
  },
  {
   "cell_type": "code",
   "execution_count": null,
   "metadata": {},
   "outputs": [],
   "source": [
    "data = []\n",
    "common_data = create_common_data(cat_tev, cat_gev, D, names_common)\n",
    "print(\"Added common values = \" + str(len(common_data)))\n",
    "only_tev_data = create_only_tev_data(cat_tev, D, names_tev)\n",
    "print(\"Added values which can be found only in grammacat.fits (TeV) = \" + str(len(only_tev_data)))\n",
    "only_gev_data = create_only_gev_data(cat_gev, D, names_gev)\n",
    "print(\"Added values which can be found only in gll_psc_v16.fit (GeV) = \" + str(len(only_gev_data)))\n",
    "\n",
    "print(\"Size of grammacat.fits (TeV) = \"  + str(len(cat_tev)))\n",
    "print(\"Size of gll_psc_v16.fits (GeV) = \"  + str(len(cat_gev)))"
   ]
  },
  {
   "cell_type": "code",
   "execution_count": null,
   "metadata": {},
   "outputs": [],
   "source": [
    "common_data.head()"
   ]
  },
  {
   "cell_type": "code",
   "execution_count": null,
   "metadata": {},
   "outputs": [],
   "source": [
    "only_tev_data.head()"
   ]
  },
  {
   "cell_type": "code",
   "execution_count": null,
   "metadata": {},
   "outputs": [],
   "source": [
    "only_gev_data.head()"
   ]
  },
  {
   "cell_type": "code",
   "execution_count": null,
   "metadata": {
    "collapsed": true
   },
   "outputs": [],
   "source": []
  }
 ],
 "metadata": {
  "kernelspec": {
   "display_name": "Python 3",
   "language": "python",
   "name": "python3"
  },
  "language_info": {
   "codemirror_mode": {
    "name": "ipython",
    "version": 3
   },
   "file_extension": ".py",
   "mimetype": "text/x-python",
   "name": "python",
   "nbconvert_exporter": "python",
   "pygments_lexer": "ipython3",
   "version": "3.6.3"
  }
 },
 "nbformat": 4,
 "nbformat_minor": 2
}
