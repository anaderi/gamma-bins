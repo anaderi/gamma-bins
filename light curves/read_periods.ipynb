{
 "cells": [
  {
   "cell_type": "code",
   "execution_count": 1,
   "metadata": {},
   "outputs": [
    {
     "data": {
      "text/html": [
       "<div>\n",
       "<style scoped>\n",
       "    .dataframe tbody tr th:only-of-type {\n",
       "        vertical-align: middle;\n",
       "    }\n",
       "\n",
       "    .dataframe tbody tr th {\n",
       "        vertical-align: top;\n",
       "    }\n",
       "\n",
       "    .dataframe thead th {\n",
       "        text-align: right;\n",
       "    }\n",
       "</style>\n",
       "<table border=\"1\" class=\"dataframe\">\n",
       "  <thead>\n",
       "    <tr style=\"text-align: right;\">\n",
       "      <th></th>\n",
       "      <th>J2015.7+3708</th>\n",
       "      <th>J1853.1+0032c</th>\n",
       "      <th>J1848.1-0145c</th>\n",
       "      <th>J1833.5-1034</th>\n",
       "      <th>J1826.2-1450</th>\n",
       "      <th>J1813.3-1246</th>\n",
       "      <th>J1459.4-6053</th>\n",
       "      <th>J1256.2-0547</th>\n",
       "      <th>J1119.4-6127c</th>\n",
       "      <th>J1018.6-5856</th>\n",
       "      <th>J1000.1+6539</th>\n",
       "      <th>J0240.5+6113</th>\n",
       "      <th>J0205.6+6449</th>\n",
       "    </tr>\n",
       "  </thead>\n",
       "  <tbody>\n",
       "    <tr>\n",
       "      <th>Best period</th>\n",
       "      <td>0.100</td>\n",
       "      <td>26.569</td>\n",
       "      <td>2.085</td>\n",
       "      <td>1.020</td>\n",
       "      <td>3.905</td>\n",
       "      <td>16.331</td>\n",
       "      <td>0.244</td>\n",
       "      <td>1.002</td>\n",
       "      <td>1.328</td>\n",
       "      <td>16.523</td>\n",
       "      <td>0.201</td>\n",
       "      <td>26.569</td>\n",
       "      <td>3.951</td>\n",
       "    </tr>\n",
       "    <tr>\n",
       "      <th>1bin error</th>\n",
       "      <td>0.001</td>\n",
       "      <td>0.156</td>\n",
       "      <td>0.012</td>\n",
       "      <td>0.006</td>\n",
       "      <td>0.023</td>\n",
       "      <td>0.096</td>\n",
       "      <td>0.001</td>\n",
       "      <td>0.006</td>\n",
       "      <td>0.008</td>\n",
       "      <td>0.097</td>\n",
       "      <td>0.001</td>\n",
       "      <td>0.156</td>\n",
       "      <td>0.023</td>\n",
       "    </tr>\n",
       "  </tbody>\n",
       "</table>\n",
       "</div>"
      ],
      "text/plain": [
       "             J2015.7+3708  J1853.1+0032c  J1848.1-0145c  J1833.5-1034  \\\n",
       "Best period         0.100         26.569          2.085         1.020   \n",
       "1bin error          0.001          0.156          0.012         0.006   \n",
       "\n",
       "             J1826.2-1450  J1813.3-1246  J1459.4-6053  J1256.2-0547  \\\n",
       "Best period         3.905        16.331         0.244         1.002   \n",
       "1bin error          0.023         0.096         0.001         0.006   \n",
       "\n",
       "             J1119.4-6127c  J1018.6-5856  J1000.1+6539  J0240.5+6113  \\\n",
       "Best period          1.328        16.523         0.201        26.569   \n",
       "1bin error           0.008         0.097         0.001         0.156   \n",
       "\n",
       "             J0205.6+6449  \n",
       "Best period         3.951  \n",
       "1bin error          0.023  "
      ]
     },
     "execution_count": 1,
     "metadata": {},
     "output_type": "execute_result"
    }
   ],
   "source": [
    "import pandas as pd\n",
    "df = pd.read_table(\"periods.csv\", sep=',', index_col=0)\n",
    "df"
   ]
  }
 ],
 "metadata": {
  "kernelspec": {
   "display_name": "Python 3",
   "language": "python",
   "name": "python3"
  },
  "language_info": {
   "codemirror_mode": {
    "name": "ipython",
    "version": 3
   },
   "file_extension": ".py",
   "mimetype": "text/x-python",
   "name": "python",
   "nbconvert_exporter": "python",
   "pygments_lexer": "ipython3",
   "version": "3.6.5"
  }
 },
 "nbformat": 4,
 "nbformat_minor": 2
}
