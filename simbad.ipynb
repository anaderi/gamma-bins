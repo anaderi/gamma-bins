{
 "cells": [
  {
   "cell_type": "markdown",
   "metadata": {},
   "source": [
    "# Similar objects in simbad, GEV and TEV catalogs\n",
    "First, we import all the packages that we will need."
   ]
  },
  {
   "cell_type": "code",
   "execution_count": 1,
   "metadata": {
    "collapsed": true
   },
   "outputs": [],
   "source": [
    "import warnings\n",
    "import pandas as pd\n",
    "import numpy as np\n",
    "from astropy.io.votable import parse_single_table, parse\n",
    "from astropy.io.votable import from_table\n",
    "import astropy.units as u\n",
    "from astropy.coordinates import SkyCoord\n",
    "from gevtev import compare_gev_tev_data \n",
    "\n",
    "warnings.filterwarnings(\"ignore\")"
   ]
  },
  {
   "cell_type": "markdown",
   "metadata": {},
   "source": [
    "This constant determines a threshold for the similarity between the objects:\n",
    "$$|glat_{1} - glat_{2}| <= \\epsilon$$\n",
    "$$\\epsilon = 1*10^{-1}$$"
   ]
  },
  {
   "cell_type": "code",
   "execution_count": 2,
   "metadata": {
    "collapsed": true
   },
   "outputs": [],
   "source": [
    "_epsilon = 1e-1"
   ]
  },
  {
   "cell_type": "markdown",
   "metadata": {},
   "source": [
    "The cell above loads data from SIMBAD catalog obtained by requests 'Be', 'O', 'B' and 'plsr'. If the file \"data/symbad.txt\" does not exist, run getsimbad.py."
   ]
  },
  {
   "cell_type": "code",
   "execution_count": 3,
   "metadata": {},
   "outputs": [],
   "source": [
    "pd_simbad = pd.read_csv(\"data/symbad.txt\", sep='\\t', encoding='utf-8')\n",
    "del pd_simbad['Unnamed: 0']"
   ]
  },
  {
   "cell_type": "code",
   "execution_count": 4,
   "metadata": {},
   "outputs": [
    {
     "data": {
      "text/html": [
       "<div>\n",
       "<style>\n",
       "    .dataframe thead tr:only-child th {\n",
       "        text-align: right;\n",
       "    }\n",
       "\n",
       "    .dataframe thead th {\n",
       "        text-align: left;\n",
       "    }\n",
       "\n",
       "    .dataframe tbody tr th {\n",
       "        vertical-align: top;\n",
       "    }\n",
       "</style>\n",
       "<table border=\"1\" class=\"dataframe\">\n",
       "  <thead>\n",
       "    <tr style=\"text-align: right;\">\n",
       "      <th></th>\n",
       "      <th>s_MAIN_ID</th>\n",
       "      <th>s_RA</th>\n",
       "      <th>s_DEC</th>\n",
       "      <th>s_RA_PREC</th>\n",
       "      <th>s_DEC_PREC</th>\n",
       "      <th>s_COO_ERR_MAJA</th>\n",
       "      <th>s_COO_ERR_MINA</th>\n",
       "      <th>s_COO_ERR_ANGLE</th>\n",
       "      <th>s_COO_QUAL</th>\n",
       "      <th>s_COO_WAVELENGTH</th>\n",
       "      <th>s_COO_BIBCODE</th>\n",
       "      <th>s_class</th>\n",
       "      <th>s_glat</th>\n",
       "      <th>s_glon</th>\n",
       "    </tr>\n",
       "  </thead>\n",
       "  <tbody>\n",
       "    <tr>\n",
       "      <th>0</th>\n",
       "      <td>b'HD 201433A'</td>\n",
       "      <td>21 08 38.894</td>\n",
       "      <td>+30 12 20.27</td>\n",
       "      <td>7.0</td>\n",
       "      <td>7.0</td>\n",
       "      <td>26.0000</td>\n",
       "      <td>26.0000</td>\n",
       "      <td>90.0</td>\n",
       "      <td>B</td>\n",
       "      <td>O</td>\n",
       "      <td>b'2000A&amp;A...355L..27H'</td>\n",
       "      <td>plsr</td>\n",
       "      <td>-11.774311</td>\n",
       "      <td>76.107743</td>\n",
       "    </tr>\n",
       "    <tr>\n",
       "      <th>1</th>\n",
       "      <td>b'* nu. For'</td>\n",
       "      <td>02 04 29.4462</td>\n",
       "      <td>-29 17 48.491</td>\n",
       "      <td>14.0</td>\n",
       "      <td>14.0</td>\n",
       "      <td>0.1834</td>\n",
       "      <td>0.1942</td>\n",
       "      <td>90.0</td>\n",
       "      <td>A</td>\n",
       "      <td>O</td>\n",
       "      <td>b'2018yCat.1345....0G'</td>\n",
       "      <td>plsr</td>\n",
       "      <td>-73.777993</td>\n",
       "      <td>224.887601</td>\n",
       "    </tr>\n",
       "    <tr>\n",
       "      <th>2</th>\n",
       "      <td>b'* phi Her'</td>\n",
       "      <td>16 08 46.1668</td>\n",
       "      <td>+44 56 05.732</td>\n",
       "      <td>14.0</td>\n",
       "      <td>14.0</td>\n",
       "      <td>0.3710</td>\n",
       "      <td>0.3754</td>\n",
       "      <td>90.0</td>\n",
       "      <td>A</td>\n",
       "      <td>O</td>\n",
       "      <td>b'2018yCat.1345....0G'</td>\n",
       "      <td>plsr</td>\n",
       "      <td>47.107400</td>\n",
       "      <td>70.847825</td>\n",
       "    </tr>\n",
       "    <tr>\n",
       "      <th>3</th>\n",
       "      <td>b'V* CG And'</td>\n",
       "      <td>00 00 43.6345</td>\n",
       "      <td>+45 15 12.002</td>\n",
       "      <td>14.0</td>\n",
       "      <td>14.0</td>\n",
       "      <td>0.0550</td>\n",
       "      <td>0.0422</td>\n",
       "      <td>90.0</td>\n",
       "      <td>A</td>\n",
       "      <td>O</td>\n",
       "      <td>b'2018yCat.1345....0G'</td>\n",
       "      <td>plsr</td>\n",
       "      <td>-16.702455</td>\n",
       "      <td>113.649358</td>\n",
       "    </tr>\n",
       "    <tr>\n",
       "      <th>4</th>\n",
       "      <td>b'HD 133029'</td>\n",
       "      <td>15 00 38.7184</td>\n",
       "      <td>+47 16 38.793</td>\n",
       "      <td>14.0</td>\n",
       "      <td>14.0</td>\n",
       "      <td>0.0472</td>\n",
       "      <td>0.0421</td>\n",
       "      <td>90.0</td>\n",
       "      <td>A</td>\n",
       "      <td>O</td>\n",
       "      <td>b'2018yCat.1345....0G'</td>\n",
       "      <td>plsr</td>\n",
       "      <td>57.710074</td>\n",
       "      <td>80.191942</td>\n",
       "    </tr>\n",
       "  </tbody>\n",
       "</table>\n",
       "</div>"
      ],
      "text/plain": [
       "       s_MAIN_ID           s_RA          s_DEC  s_RA_PREC  s_DEC_PREC  \\\n",
       "0  b'HD 201433A'   21 08 38.894   +30 12 20.27        7.0         7.0   \n",
       "1   b'* nu. For'  02 04 29.4462  -29 17 48.491       14.0        14.0   \n",
       "2   b'* phi Her'  16 08 46.1668  +44 56 05.732       14.0        14.0   \n",
       "3   b'V* CG And'  00 00 43.6345  +45 15 12.002       14.0        14.0   \n",
       "4   b'HD 133029'  15 00 38.7184  +47 16 38.793       14.0        14.0   \n",
       "\n",
       "   s_COO_ERR_MAJA  s_COO_ERR_MINA  s_COO_ERR_ANGLE s_COO_QUAL  \\\n",
       "0         26.0000         26.0000             90.0          B   \n",
       "1          0.1834          0.1942             90.0          A   \n",
       "2          0.3710          0.3754             90.0          A   \n",
       "3          0.0550          0.0422             90.0          A   \n",
       "4          0.0472          0.0421             90.0          A   \n",
       "\n",
       "  s_COO_WAVELENGTH           s_COO_BIBCODE s_class     s_glat      s_glon  \n",
       "0                O  b'2000A&A...355L..27H'    plsr -11.774311   76.107743  \n",
       "1                O  b'2018yCat.1345....0G'    plsr -73.777993  224.887601  \n",
       "2                O  b'2018yCat.1345....0G'    plsr  47.107400   70.847825  \n",
       "3                O  b'2018yCat.1345....0G'    plsr -16.702455  113.649358  \n",
       "4                O  b'2018yCat.1345....0G'    plsr  57.710074   80.191942  "
      ]
     },
     "execution_count": 4,
     "metadata": {},
     "output_type": "execute_result"
    }
   ],
   "source": [
    "pd_simbad.head()"
   ]
  },
  {
   "cell_type": "markdown",
   "metadata": {},
   "source": [
    "We load data common for GEV and TEV catalogs."
   ]
  },
  {
   "cell_type": "code",
   "execution_count": 5,
   "metadata": {
    "collapsed": true,
    "scrolled": true
   },
   "outputs": [],
   "source": [
    "common_data, only_tev_data, only_gev_data = compare_gev_tev_data(_epsilon)"
   ]
  },
  {
   "cell_type": "markdown",
   "metadata": {},
   "source": [
    "The following cells compare distances from a common catalog of GEV and TEV and SIMBAD catalog by translating SIMBAD coordinates to glan and glot due to astropy module. If their relative distance is smaller than $\\epsilon$ they are associated to each another."
   ]
  },
  {
   "cell_type": "code",
   "execution_count": 6,
   "metadata": {
    "collapsed": true
   },
   "outputs": [],
   "source": [
    "def create_vectors_common_gevtev_simbad(gevtev, simbad, epsilon, catalog=\"tev\"):\n",
    "    \"\"\"This function looks for the same objects in GeV and TeV and Simbad catalogs \n",
    "    \n",
    "    Return: two vectors where each index of TEV(GEV) is associated with its indev in GEV(TEV).\n",
    "    If such objects does not existe, the corresponding vector coordinate is equal to -1\n",
    "    \n",
    "    gevtev - a pandas dataFrame of common GeV and TeV \n",
    "    simbad - a pandas dataFrame of Simbad \n",
    "    epsilon(double) - distance accepted as equivalence\n",
    "    \"\"\"\n",
    "    d = {}\n",
    "    classes = {}\n",
    "    if (catalog.find(\"tev\") != -1):\n",
    "        glat_gevtev = gevtev[catalog+'_glat']\n",
    "        glon_gevtev = gevtev[catalog+'_glon']\n",
    "    else:\n",
    "        glat_gevtev = gevtev[catalog+'_GLAT']\n",
    "        glon_gevtev = gevtev[catalog+'_GLON']        \n",
    "\n",
    "    glat_simbad = simbad['s_glat']\n",
    "    glon_simbad = simbad['s_glon']\n",
    "    \n",
    "    C_associations_gevtev = -1.0 * np.ones((len(glat_gevtev)))\n",
    "    C_associations_simbad = -1.0 * np.ones((len(glat_simbad)))\n",
    "    \n",
    "    for i in range(len(glat_gevtev)):\n",
    "        for j in range(len(glat_simbad)):\n",
    "            if ((np.abs(glat_gevtev[i] - glat_simbad[j]) < epsilon) \n",
    "                and (np.abs(glon_gevtev[i] - glon_simbad[j]) < epsilon)) :\n",
    "                    C_associations_gevtev[i] = j\n",
    "                    C_associations_simbad[j] = i\n",
    "    return C_associations_gevtev, C_associations_simbad"
   ]
  },
  {
   "cell_type": "code",
   "execution_count": 7,
   "metadata": {},
   "outputs": [],
   "source": [
    "C_associations_gevtev, C_associations_simbad = create_vectors_common_gevtev_simbad(common_data, pd_simbad, _epsilon)"
   ]
  },
  {
   "cell_type": "code",
   "execution_count": 8,
   "metadata": {
    "collapsed": true
   },
   "outputs": [],
   "source": [
    "def create_common_data(data_gevtev, data_simbad, C_associations_gevtev, C_associations_simbad, catalog=\"tev\"):\n",
    "    \"\"\"The fonction adds objects found both in GeV, TeV and simbad.\n",
    "    \"\"\"\n",
    "    data_gevtev['join'] = C_associations_gevtev\n",
    "\n",
    "    pd_common_sgevtev = pd.merge(data_simbad, data_gevtev, left_index=True, right_on='join', how='inner')\n",
    "    del data_gevtev['join']\n",
    "    \n",
    "    try:\n",
    "        del pd_common_sgevtev['join_y']\n",
    "    except:\n",
    "        pass\n",
    "    \n",
    "    data_simbad['join'] = C_associations_simbad\n",
    "    pd_common_sgevtev0 = pd.merge(data_simbad, data_gevtev, right_index=True, left_on='join', how='inner')\n",
    "    \n",
    "    pd_common_sgevtev = pd_common_sgevtev.append(pd_common_sgevtev0)\n",
    "    if (catalog.find(\"tev\") != -1):    \n",
    "        array_non_duplicate = [catalog+'_glat', catalog+'_glon', 's_glat','s_glon']\n",
    "    else:\n",
    "        array_non_duplicate = [catalog+'_GLAT', catalog+'_GLON', 's_glat','s_glon']\n",
    "    pd_common_sgevtev = pd_common_sgevtev.drop_duplicates(array_non_duplicate)\n",
    "    pd_common_sgevtev = pd_common_sgevtev.reset_index()\n",
    "    try:\n",
    "        del pd_common_sgevtev['join_x']\n",
    "    except KeyError:\n",
    "        pass\n",
    "    try:\n",
    "        del pd_common_sgevtev['join']\n",
    "    except:\n",
    "        pass\n",
    "    try:\n",
    "        del pd_common_sgevtev['index']\n",
    "    except:\n",
    "        pass\n",
    "    #df_common = pd.DataFrame(data = data, columns = namefinal)\n",
    "    return pd_common_sgevtev"
   ]
  },
  {
   "cell_type": "code",
   "execution_count": 9,
   "metadata": {
    "scrolled": true
   },
   "outputs": [
    {
     "name": "stdout",
     "output_type": "stream",
     "text": [
      "There are 7 common objects in the three catalogs.\n"
     ]
    }
   ],
   "source": [
    "pd_common_gevtevsimbad = create_common_data(common_data, pd_simbad, C_associations_gevtev, C_associations_simbad)\n",
    "print(\"There are \" + str(len(pd_common_gevtevsimbad)) + \" common objects in the three catalogs.\")"
   ]
  },
  {
   "cell_type": "code",
   "execution_count": 10,
   "metadata": {},
   "outputs": [
    {
     "data": {
      "text/html": [
       "<div>\n",
       "<style>\n",
       "    .dataframe thead tr:only-child th {\n",
       "        text-align: right;\n",
       "    }\n",
       "\n",
       "    .dataframe thead th {\n",
       "        text-align: left;\n",
       "    }\n",
       "\n",
       "    .dataframe tbody tr th {\n",
       "        vertical-align: top;\n",
       "    }\n",
       "</style>\n",
       "<table border=\"1\" class=\"dataframe\">\n",
       "  <thead>\n",
       "    <tr style=\"text-align: right;\">\n",
       "      <th></th>\n",
       "      <th>level_0</th>\n",
       "      <th>gev_ASSOC_TEV</th>\n",
       "      <th>gev_CLASS1</th>\n",
       "      <th>gev_DEJ2000</th>\n",
       "      <th>gev_Flux1000</th>\n",
       "      <th>gev_Flux10000_100000</th>\n",
       "      <th>gev_Flux1000_3000</th>\n",
       "      <th>gev_Flux100_300</th>\n",
       "      <th>gev_Flux3000_10000</th>\n",
       "      <th>gev_Flux300_1000</th>\n",
       "      <th>...</th>\n",
       "      <th>tev_sed_dnde</th>\n",
       "      <th>tev_sed_dnde_err</th>\n",
       "      <th>tev_sed_e_ref</th>\n",
       "      <th>tev_spec_dnde_1TeV</th>\n",
       "      <th>tev_spec_dnde_1TeV_err</th>\n",
       "      <th>tev_spec_eflux_1TeV_10TeV</th>\n",
       "      <th>tev_spec_eflux_1TeV_10TeV_err</th>\n",
       "      <th>tev_spec_flux_1TeV</th>\n",
       "      <th>tev_spec_flux_1TeV_crab</th>\n",
       "      <th>tev_spec_flux_1TeV_crab_err</th>\n",
       "    </tr>\n",
       "  </thead>\n",
       "  <tbody>\n",
       "    <tr>\n",
       "      <th>0</th>\n",
       "      <td>23</td>\n",
       "      <td>b'HESS J1841-055       '</td>\n",
       "      <td>b'PWN  '</td>\n",
       "      <td>-5.5500</td>\n",
       "      <td>1.184660e-08</td>\n",
       "      <td>1.087441e-09</td>\n",
       "      <td>8.559550e-09</td>\n",
       "      <td>5.170882e-09</td>\n",
       "      <td>3.236763e-09</td>\n",
       "      <td>1.076956e-08</td>\n",
       "      <td>...</td>\n",
       "      <td>[1.8321e-11, 8.4412e-12, 1.89955e-12, 3.35585e...</td>\n",
       "      <td>[nan, nan, nan, nan, nan, nan, nan, nan, nan, ...</td>\n",
       "      <td>[0.738068, 1.29739, 2.29365, 4.04547, 7.1601, ...</td>\n",
       "      <td>1.280000e-11</td>\n",
       "      <td>1.300000e-12</td>\n",
       "      <td>3.055946e-11</td>\n",
       "      <td>3.910089e-12</td>\n",
       "      <td>9.078014e-12</td>\n",
       "      <td>43.761204</td>\n",
       "      <td>5.091009</td>\n",
       "    </tr>\n",
       "    <tr>\n",
       "      <th>1</th>\n",
       "      <td>19</td>\n",
       "      <td>b'                     '</td>\n",
       "      <td>b'     '</td>\n",
       "      <td>-29.0630</td>\n",
       "      <td>3.874533e-08</td>\n",
       "      <td>3.055154e-10</td>\n",
       "      <td>3.184363e-08</td>\n",
       "      <td>1.613918e-08</td>\n",
       "      <td>5.155299e-09</td>\n",
       "      <td>9.678488e-08</td>\n",
       "      <td>...</td>\n",
       "      <td>[nan, nan, nan, nan, nan, nan, nan, nan, nan, ...</td>\n",
       "      <td>[nan, nan, nan, nan, nan, nan, nan, nan, nan, ...</td>\n",
       "      <td>[nan, nan, nan, nan, nan, nan, nan, nan, nan, ...</td>\n",
       "      <td>NaN</td>\n",
       "      <td>NaN</td>\n",
       "      <td>NaN</td>\n",
       "      <td>NaN</td>\n",
       "      <td>NaN</td>\n",
       "      <td>NaN</td>\n",
       "      <td>NaN</td>\n",
       "    </tr>\n",
       "    <tr>\n",
       "      <th>2</th>\n",
       "      <td>20</td>\n",
       "      <td>b'                     '</td>\n",
       "      <td>b'pwn  '</td>\n",
       "      <td>-28.8627</td>\n",
       "      <td>2.752177e-08</td>\n",
       "      <td>4.572024e-10</td>\n",
       "      <td>2.235459e-08</td>\n",
       "      <td>1.851010e-09</td>\n",
       "      <td>4.686388e-09</td>\n",
       "      <td>4.536945e-08</td>\n",
       "      <td>...</td>\n",
       "      <td>[3.233e-12, 4.407e-13, 2.95e-13, 4.42e-14, 6.1...</td>\n",
       "      <td>[nan, nan, nan, nan, nan, nan, nan, nan, nan, ...</td>\n",
       "      <td>[0.3979, 0.5622, 0.7943, 1.122, 1.585, 2.24, 3...</td>\n",
       "      <td>1.800000e-13</td>\n",
       "      <td>5.000000e-14</td>\n",
       "      <td>5.321444e-13</td>\n",
       "      <td>1.861589e-13</td>\n",
       "      <td>1.500000e-13</td>\n",
       "      <td>0.723085</td>\n",
       "      <td>0.234238</td>\n",
       "    </tr>\n",
       "    <tr>\n",
       "      <th>3</th>\n",
       "      <td>29</td>\n",
       "      <td>b'                     '</td>\n",
       "      <td>b'pwn  '</td>\n",
       "      <td>-28.8627</td>\n",
       "      <td>2.752177e-08</td>\n",
       "      <td>4.572024e-10</td>\n",
       "      <td>2.235459e-08</td>\n",
       "      <td>1.851010e-09</td>\n",
       "      <td>4.686388e-09</td>\n",
       "      <td>4.536945e-08</td>\n",
       "      <td>...</td>\n",
       "      <td>[nan, nan, nan, nan, nan, nan, nan, nan, nan, ...</td>\n",
       "      <td>[nan, nan, nan, nan, nan, nan, nan, nan, nan, ...</td>\n",
       "      <td>[nan, nan, nan, nan, nan, nan, nan, nan, nan, ...</td>\n",
       "      <td>NaN</td>\n",
       "      <td>NaN</td>\n",
       "      <td>NaN</td>\n",
       "      <td>NaN</td>\n",
       "      <td>NaN</td>\n",
       "      <td>NaN</td>\n",
       "      <td>NaN</td>\n",
       "    </tr>\n",
       "    <tr>\n",
       "      <th>4</th>\n",
       "      <td>251</td>\n",
       "      <td>b'                     '</td>\n",
       "      <td>b'     '</td>\n",
       "      <td>-29.0630</td>\n",
       "      <td>3.874533e-08</td>\n",
       "      <td>3.055154e-10</td>\n",
       "      <td>3.184363e-08</td>\n",
       "      <td>1.613918e-08</td>\n",
       "      <td>5.155299e-09</td>\n",
       "      <td>9.678488e-08</td>\n",
       "      <td>...</td>\n",
       "      <td>[nan, nan, nan, nan, nan, nan, nan, nan, nan, ...</td>\n",
       "      <td>[nan, nan, nan, nan, nan, nan, nan, nan, nan, ...</td>\n",
       "      <td>[nan, nan, nan, nan, nan, nan, nan, nan, nan, ...</td>\n",
       "      <td>NaN</td>\n",
       "      <td>NaN</td>\n",
       "      <td>NaN</td>\n",
       "      <td>NaN</td>\n",
       "      <td>NaN</td>\n",
       "      <td>NaN</td>\n",
       "      <td>NaN</td>\n",
       "    </tr>\n",
       "  </tbody>\n",
       "</table>\n",
       "<p>5 rows × 45 columns</p>\n",
       "</div>"
      ],
      "text/plain": [
       "   level_0             gev_ASSOC_TEV gev_CLASS1  gev_DEJ2000  gev_Flux1000  \\\n",
       "0       23  b'HESS J1841-055       '   b'PWN  '      -5.5500  1.184660e-08   \n",
       "1       19  b'                     '   b'     '     -29.0630  3.874533e-08   \n",
       "2       20  b'                     '   b'pwn  '     -28.8627  2.752177e-08   \n",
       "3       29  b'                     '   b'pwn  '     -28.8627  2.752177e-08   \n",
       "4      251  b'                     '   b'     '     -29.0630  3.874533e-08   \n",
       "\n",
       "   gev_Flux10000_100000  gev_Flux1000_3000  gev_Flux100_300  \\\n",
       "0          1.087441e-09       8.559550e-09     5.170882e-09   \n",
       "1          3.055154e-10       3.184363e-08     1.613918e-08   \n",
       "2          4.572024e-10       2.235459e-08     1.851010e-09   \n",
       "3          4.572024e-10       2.235459e-08     1.851010e-09   \n",
       "4          3.055154e-10       3.184363e-08     1.613918e-08   \n",
       "\n",
       "   gev_Flux3000_10000  gev_Flux300_1000             ...              \\\n",
       "0        3.236763e-09      1.076956e-08             ...               \n",
       "1        5.155299e-09      9.678488e-08             ...               \n",
       "2        4.686388e-09      4.536945e-08             ...               \n",
       "3        4.686388e-09      4.536945e-08             ...               \n",
       "4        5.155299e-09      9.678488e-08             ...               \n",
       "\n",
       "                                        tev_sed_dnde  \\\n",
       "0  [1.8321e-11, 8.4412e-12, 1.89955e-12, 3.35585e...   \n",
       "1  [nan, nan, nan, nan, nan, nan, nan, nan, nan, ...   \n",
       "2  [3.233e-12, 4.407e-13, 2.95e-13, 4.42e-14, 6.1...   \n",
       "3  [nan, nan, nan, nan, nan, nan, nan, nan, nan, ...   \n",
       "4  [nan, nan, nan, nan, nan, nan, nan, nan, nan, ...   \n",
       "\n",
       "                                    tev_sed_dnde_err  \\\n",
       "0  [nan, nan, nan, nan, nan, nan, nan, nan, nan, ...   \n",
       "1  [nan, nan, nan, nan, nan, nan, nan, nan, nan, ...   \n",
       "2  [nan, nan, nan, nan, nan, nan, nan, nan, nan, ...   \n",
       "3  [nan, nan, nan, nan, nan, nan, nan, nan, nan, ...   \n",
       "4  [nan, nan, nan, nan, nan, nan, nan, nan, nan, ...   \n",
       "\n",
       "                                       tev_sed_e_ref  tev_spec_dnde_1TeV  \\\n",
       "0  [0.738068, 1.29739, 2.29365, 4.04547, 7.1601, ...        1.280000e-11   \n",
       "1  [nan, nan, nan, nan, nan, nan, nan, nan, nan, ...                 NaN   \n",
       "2  [0.3979, 0.5622, 0.7943, 1.122, 1.585, 2.24, 3...        1.800000e-13   \n",
       "3  [nan, nan, nan, nan, nan, nan, nan, nan, nan, ...                 NaN   \n",
       "4  [nan, nan, nan, nan, nan, nan, nan, nan, nan, ...                 NaN   \n",
       "\n",
       "   tev_spec_dnde_1TeV_err tev_spec_eflux_1TeV_10TeV  \\\n",
       "0            1.300000e-12              3.055946e-11   \n",
       "1                     NaN                       NaN   \n",
       "2            5.000000e-14              5.321444e-13   \n",
       "3                     NaN                       NaN   \n",
       "4                     NaN                       NaN   \n",
       "\n",
       "   tev_spec_eflux_1TeV_10TeV_err  tev_spec_flux_1TeV  tev_spec_flux_1TeV_crab  \\\n",
       "0                   3.910089e-12        9.078014e-12                43.761204   \n",
       "1                            NaN                 NaN                      NaN   \n",
       "2                   1.861589e-13        1.500000e-13                 0.723085   \n",
       "3                            NaN                 NaN                      NaN   \n",
       "4                            NaN                 NaN                      NaN   \n",
       "\n",
       "  tev_spec_flux_1TeV_crab_err  \n",
       "0                    5.091009  \n",
       "1                         NaN  \n",
       "2                    0.234238  \n",
       "3                         NaN  \n",
       "4                         NaN  \n",
       "\n",
       "[5 rows x 45 columns]"
      ]
     },
     "execution_count": 10,
     "metadata": {},
     "output_type": "execute_result"
    }
   ],
   "source": [
    "pd_common_gevtevsimbad.head()"
   ]
  },
  {
   "cell_type": "markdown",
   "metadata": {},
   "source": [
    "The next cell chooses several columns from a dataFrame to make sure that the output is correct(objects have the same coordinates etc.)"
   ]
  },
  {
   "cell_type": "code",
   "execution_count": 11,
   "metadata": {},
   "outputs": [
    {
     "data": {
      "text/html": [
       "<div>\n",
       "<style>\n",
       "    .dataframe thead tr:only-child th {\n",
       "        text-align: right;\n",
       "    }\n",
       "\n",
       "    .dataframe thead th {\n",
       "        text-align: left;\n",
       "    }\n",
       "\n",
       "    .dataframe tbody tr th {\n",
       "        vertical-align: top;\n",
       "    }\n",
       "</style>\n",
       "<table border=\"1\" class=\"dataframe\">\n",
       "  <thead>\n",
       "    <tr style=\"text-align: right;\">\n",
       "      <th></th>\n",
       "      <th>s_glat</th>\n",
       "      <th>s_glon</th>\n",
       "      <th>gev_ASSOC_TEV</th>\n",
       "      <th>tev_glat</th>\n",
       "      <th>gev_GLAT</th>\n",
       "      <th>tev_glon</th>\n",
       "      <th>gev_GLON</th>\n",
       "      <th>s_class</th>\n",
       "      <th>gev_CLASS1</th>\n",
       "      <th>tev_classes</th>\n",
       "    </tr>\n",
       "  </thead>\n",
       "  <tbody>\n",
       "    <tr>\n",
       "      <th>0</th>\n",
       "      <td>-0.198384</td>\n",
       "      <td>26.857782</td>\n",
       "      <td>b'HESS J1841-055       '</td>\n",
       "      <td>-0.197604</td>\n",
       "      <td>-0.198590</td>\n",
       "      <td>26.795113</td>\n",
       "      <td>26.795933</td>\n",
       "      <td>B</td>\n",
       "      <td>b'PWN  '</td>\n",
       "      <td>b'unid'</td>\n",
       "    </tr>\n",
       "    <tr>\n",
       "      <th>1</th>\n",
       "      <td>-0.042219</td>\n",
       "      <td>359.951421</td>\n",
       "      <td>b'                     '</td>\n",
       "      <td>-0.046162</td>\n",
       "      <td>-0.020071</td>\n",
       "      <td>359.944244</td>\n",
       "      <td>359.863953</td>\n",
       "      <td>O</td>\n",
       "      <td>b'     '</td>\n",
       "      <td>b'unid'</td>\n",
       "    </tr>\n",
       "    <tr>\n",
       "      <th>2</th>\n",
       "      <td>-0.068187</td>\n",
       "      <td>0.059459</td>\n",
       "      <td>b'                     '</td>\n",
       "      <td>-0.113206</td>\n",
       "      <td>-0.103157</td>\n",
       "      <td>0.140617</td>\n",
       "      <td>0.149201</td>\n",
       "      <td>O</td>\n",
       "      <td>b'pwn  '</td>\n",
       "      <td>b'unid'</td>\n",
       "    </tr>\n",
       "    <tr>\n",
       "      <th>3</th>\n",
       "      <td>-0.068187</td>\n",
       "      <td>0.059459</td>\n",
       "      <td>b'                     '</td>\n",
       "      <td>-0.147977</td>\n",
       "      <td>-0.103157</td>\n",
       "      <td>0.054990</td>\n",
       "      <td>0.149201</td>\n",
       "      <td>O</td>\n",
       "      <td>b'pwn  '</td>\n",
       "      <td>b'unid'</td>\n",
       "    </tr>\n",
       "    <tr>\n",
       "      <th>4</th>\n",
       "      <td>-0.011453</td>\n",
       "      <td>359.985525</td>\n",
       "      <td>b'                     '</td>\n",
       "      <td>-0.046162</td>\n",
       "      <td>-0.020071</td>\n",
       "      <td>359.944244</td>\n",
       "      <td>359.863953</td>\n",
       "      <td>Be</td>\n",
       "      <td>b'     '</td>\n",
       "      <td>b'unid'</td>\n",
       "    </tr>\n",
       "  </tbody>\n",
       "</table>\n",
       "</div>"
      ],
      "text/plain": [
       "     s_glat      s_glon             gev_ASSOC_TEV  tev_glat  gev_GLAT  \\\n",
       "0 -0.198384   26.857782  b'HESS J1841-055       ' -0.197604 -0.198590   \n",
       "1 -0.042219  359.951421  b'                     ' -0.046162 -0.020071   \n",
       "2 -0.068187    0.059459  b'                     ' -0.113206 -0.103157   \n",
       "3 -0.068187    0.059459  b'                     ' -0.147977 -0.103157   \n",
       "4 -0.011453  359.985525  b'                     ' -0.046162 -0.020071   \n",
       "\n",
       "     tev_glon    gev_GLON s_class gev_CLASS1 tev_classes  \n",
       "0   26.795113   26.795933       B   b'PWN  '     b'unid'  \n",
       "1  359.944244  359.863953       O   b'     '     b'unid'  \n",
       "2    0.140617    0.149201       O   b'pwn  '     b'unid'  \n",
       "3    0.054990    0.149201       O   b'pwn  '     b'unid'  \n",
       "4  359.944244  359.863953      Be   b'     '     b'unid'  "
      ]
     },
     "execution_count": 11,
     "metadata": {},
     "output_type": "execute_result"
    }
   ],
   "source": [
    "columns_to_compare = ['s_glat',\n",
    "                     's_glon',\n",
    "                     'gev_ASSOC_TEV',\n",
    "                     'tev_glat', \n",
    "                     'gev_GLAT',\n",
    "                     'tev_glon',\n",
    "                     'gev_GLON',\n",
    "                     's_class',\n",
    "                     'gev_CLASS1',\n",
    "                     'tev_classes']\n",
    "pd_common_gevtevsimbad[columns_to_compare].head()"
   ]
  },
  {
   "cell_type": "code",
   "execution_count": 12,
   "metadata": {
    "collapsed": true
   },
   "outputs": [],
   "source": [
    "columns_to_compare_gevtev = ['gev_ASSOC_TEV',\n",
    "                     'tev_glat', \n",
    "                     'gev_GLAT',\n",
    "                     'tev_glon',\n",
    "                     'gev_GLON',\n",
    "                     'gev_CLASS1',\n",
    "                     'tev_classes']"
   ]
  },
  {
   "cell_type": "code",
   "execution_count": 13,
   "metadata": {
    "collapsed": true
   },
   "outputs": [],
   "source": [
    "common_data[columns_to_compare_gevtev].to_csv(\"gevtev.txt\", sep='\\t')"
   ]
  },
  {
   "cell_type": "markdown",
   "metadata": {
    "collapsed": true
   },
   "source": [
    "The next cells find common values in simbad-tev"
   ]
  },
  {
   "cell_type": "code",
   "execution_count": 14,
   "metadata": {
    "collapsed": true
   },
   "outputs": [],
   "source": [
    "C_associations_tev, C_associations_simbad = create_vectors_common_gevtev_simbad(only_tev_data, pd_simbad, _epsilon)"
   ]
  },
  {
   "cell_type": "code",
   "execution_count": 15,
   "metadata": {
    "collapsed": true
   },
   "outputs": [],
   "source": [
    "pd_common_onlytevsimbad = create_common_data(only_tev_data, pd_simbad, C_associations_tev, C_associations_simbad, catalog=\"tev\")"
   ]
  },
  {
   "cell_type": "code",
   "execution_count": 26,
   "metadata": {},
   "outputs": [
    {
     "name": "stdout",
     "output_type": "stream",
     "text": [
      "There are 23 common objects in the tev and simbad catalogs.\n"
     ]
    }
   ],
   "source": [
    "print(\"There are \" + str(len(pd_common_onlytevsimbad)) + \" common objects in the tev and simbad catalogs.\")"
   ]
  },
  {
   "cell_type": "code",
   "execution_count": 17,
   "metadata": {},
   "outputs": [
    {
     "data": {
      "text/plain": [
       "0                        b'[KKM2013] 7'\n",
       "1            b'MSX6C G331.5487-00.5364'\n",
       "2                    b'LS  IV -05   11'\n",
       "3                       b'CPD-69   416'\n",
       "4                           b'GCIRS  8'\n",
       "5                       b'[MCD2010] 13'\n",
       "6                       b'[MCD2010] 13'\n",
       "7                           b'VFTS 318'\n",
       "8                   b'UCAC4 105-013663'\n",
       "9          b'[AAA97b] J053648.7-691700'\n",
       "10                      b'[ST92] 2-62B'\n",
       "11                       b'[ST92] 2-62'\n",
       "12                b'[M2002] LMC 164553'\n",
       "13                b'[M2002] LMC 161594'\n",
       "14                      b'SSTGC 519103'\n",
       "15                         b'GCIRS  1W'\n",
       "16                           b'RMC 141'\n",
       "17                            b'HTR 13'\n",
       "18       b'Cl* NGC 2070    SMB     283'\n",
       "19    b'SSTISAGE1C J053736.75-690633.4'\n",
       "20       b'Cl* NGC 2070    SMB     455'\n",
       "21       b'Cl* NGC 2070    SMB     163'\n",
       "22                      b'[MCD2010] 18'\n",
       "Name: s_MAIN_ID, dtype: object"
      ]
     },
     "execution_count": 17,
     "metadata": {},
     "output_type": "execute_result"
    }
   ],
   "source": [
    "pd_common_onlytevsimbad['s_MAIN_ID']"
   ]
  },
  {
   "cell_type": "markdown",
   "metadata": {},
   "source": [
    "The next cells find common values in simbad-gev"
   ]
  },
  {
   "cell_type": "markdown",
   "metadata": {},
   "source": [
    "This cell can take up to 40 minutes."
   ]
  },
  {
   "cell_type": "code",
   "execution_count": 18,
   "metadata": {},
   "outputs": [],
   "source": [
    "C_associations_gev, C_associations_simbad = create_vectors_common_gevtev_simbad(only_gev_data, pd_simbad, _epsilon, catalog=\"gev\")"
   ]
  },
  {
   "cell_type": "code",
   "execution_count": 19,
   "metadata": {
    "collapsed": true
   },
   "outputs": [],
   "source": [
    "pd_common_onlygevsimbad = create_common_data(only_gev_data, pd_simbad, C_associations_gev, C_associations_simbad, catalog=\"gev\")"
   ]
  },
  {
   "cell_type": "code",
   "execution_count": 20,
   "metadata": {},
   "outputs": [
    {
     "data": {
      "text/plain": [
       "0                  b'LS   I +56   58'\n",
       "1           b'GALEX J175340.5-500741'\n",
       "2                   b'[KRL2007b] 194'\n",
       "3                  b'LS  IV -03    6'\n",
       "4                     b'EM* GGR  129'\n",
       "5         b'SDSS J085023.10+485826.3'\n",
       "6                  b'LS  IV -14   70'\n",
       "7                       b'Hen 3-1611'\n",
       "8                  b'LS III +50    6'\n",
       "9                          b'LIN 341'\n",
       "10                 b'LS  IV -05   11'\n",
       "11        b'SDSS J134029.74+441346.8'\n",
       "12        b'SDSS J232339.56-031507.7'\n",
       "13                 b'TYC 8958-3477-1'\n",
       "14                       b'MAC 1-531'\n",
       "15                       b'HD  92406'\n",
       "16                 b'LS III +60   19'\n",
       "17                       b'HD 295998'\n",
       "18                     b'PG 0042+211'\n",
       "19                      b'LLNS  2720'\n",
       "20                    b'CPD-58  2614'\n",
       "21                    b'[MCF2015] 22'\n",
       "22                        b'GCIRS  8'\n",
       "23                        b'GCIRS  8'\n",
       "24                    b'[MCD2010] 13'\n",
       "25                  b'TYC 3156-998-1'\n",
       "26                    b'SSTGC 519103'\n",
       "27                       b'GCIRS  1W'\n",
       "28          b'Cl Trumpler   16   215'\n",
       "29    b'DETWC Tr 16 J104445.3-593920'\n",
       "30                     b'BD-14  5057'\n",
       "31                 b'TYC 8958-1269-1'\n",
       "32                   b'CPD-58  2608B'\n",
       "33        b'LGGS J004032.13+404522.5'\n",
       "34                    b'[MCD2010] 18'\n",
       "Name: s_MAIN_ID, dtype: object"
      ]
     },
     "execution_count": 20,
     "metadata": {},
     "output_type": "execute_result"
    }
   ],
   "source": [
    "pd_common_onlygevsimbad['s_MAIN_ID']"
   ]
  },
  {
   "cell_type": "code",
   "execution_count": 25,
   "metadata": {},
   "outputs": [
    {
     "name": "stdout",
     "output_type": "stream",
     "text": [
      "There are 35 common objects in the gev and simbad catalogs.\n"
     ]
    }
   ],
   "source": [
    "print(\"There are \" + str(len(pd_common_onlygevsimbad)) + \" common objects in the gev and simbad catalogs.\")"
   ]
  },
  {
   "cell_type": "code",
   "execution_count": 22,
   "metadata": {
    "collapsed": true
   },
   "outputs": [],
   "source": [
    "pd_common_gevtevsimbad[columns_to_compare].to_csv(\"gevtevsimbad.txt\", sep='\\t')"
   ]
  },
  {
   "cell_type": "code",
   "execution_count": 23,
   "metadata": {
    "collapsed": true
   },
   "outputs": [],
   "source": [
    "pd_common_onlytevsimbad.to_csv(\"tevsimbad.txt\", sep='\\t')"
   ]
  },
  {
   "cell_type": "code",
   "execution_count": 24,
   "metadata": {
    "collapsed": true
   },
   "outputs": [],
   "source": [
    "pd_common_onlygevsimbad.to_csv(\"gevsimbad.txt\", sep='\\t')"
   ]
  }
 ],
 "metadata": {
  "kernelspec": {
   "display_name": "Python 3",
   "language": "python",
   "name": "python3"
  },
  "language_info": {
   "codemirror_mode": {
    "name": "ipython",
    "version": 3
   },
   "file_extension": ".py",
   "mimetype": "text/x-python",
   "name": "python",
   "nbconvert_exporter": "python",
   "pygments_lexer": "ipython3",
   "version": "3.6.3"
  }
 },
 "nbformat": 4,
 "nbformat_minor": 2
}
