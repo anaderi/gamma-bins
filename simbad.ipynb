{
 "cells": [
  {
   "cell_type": "code",
   "execution_count": 1,
   "metadata": {
    "collapsed": true
   },
   "outputs": [],
   "source": [
    "import warnings\n",
    "import pandas as pd\n",
    "import numpy as np\n",
    "from astropy.io.votable import parse_single_table, parse\n",
    "from astropy.io.votable import from_table\n",
    "from gevtev import gev_tev_data \n",
    "\n",
    "\n",
    "warnings.filterwarnings(\"ignore\")\n",
    "\n",
    "_epsilon = 1e-1\n",
    "\n",
    "s = \"data/simbad-plsr.xml\"\n",
    "votable1 = parse(s)\n",
    "votable = parse_single_table(s)\n",
    "table = votable.to_table()\n",
    "table_plsr = table['RA_d','DEC_d', 'MAIN_ID']\n",
    "pd_plsr = table_plsr.to_pandas() \n",
    "pd_plsr['class'] = 'plsr'\n",
    "\n",
    "s = \"data/simbad-be.xml\"\n",
    "votable1 = parse(s)\n",
    "votable = parse_single_table(s)\n",
    "table = votable.to_table()\n",
    "table_be = table['RA_d','DEC_d', 'MAIN_ID']\n",
    "pd_be = table_be.to_pandas()\n",
    "pd_be['class'] = 'be'\n",
    "\n",
    "frames_simbda = [pd_be, pd_plsr]\n",
    "pd_simbad = pd.concat(frames_simbda)"
   ]
  },
  {
   "cell_type": "code",
   "execution_count": 2,
   "metadata": {
    "collapsed": true,
    "scrolled": true
   },
   "outputs": [],
   "source": [
    "common_data, only_tev_data, only_gev_data = gev_tev_data()"
   ]
  },
  {
   "cell_type": "code",
   "execution_count": 3,
   "metadata": {},
   "outputs": [
    {
     "name": "stdout",
     "output_type": "stream",
     "text": [
      "PWN-['be']\n",
      "PWN-['be']\n",
      "PWN-['be']\n",
      "PWN-['be']\n",
      "PWN-['be']\n",
      "PWN-['be']\n",
      "PWN-['be']\n",
      "PWN-['be']\n",
      "PWN-['be']\n",
      "PWN-['be']\n",
      "PWN-['be']\n",
      "PWN-['be']\n",
      "PWN-['be']\n",
      "PWN-['be']\n",
      "PWN-['be']\n",
      "PWN-['be']\n",
      "PWN-['be']\n",
      "PWN-['be']\n",
      "PWN-['be']\n",
      "PWN-['be']\n",
      "PWN-['be']\n",
      "PWN-['be']\n",
      "PWN-['be']\n",
      "PWN-['plsr']\n",
      "PWN-['plsr']\n",
      "PWN-['plsr']\n",
      "PWN-['plsr']\n",
      "PWN-['plsr']\n",
      "PWN-['plsr']\n",
      "PWN-['be']\n",
      "PWN-['be']\n",
      "PWN-['be']\n",
      "PWN-['be']\n",
      "PWN-['be']\n",
      "PWN-['be']\n",
      "PWN-['be']\n",
      "PWN-['plsr']\n",
      "PWN-['plsr']\n",
      "PWN-['plsr']\n",
      "PWN-['plsr']\n",
      "PWN-['plsr']\n",
      "PWN-['plsr']\n",
      "PWN-['plsr']\n",
      "PWN-['plsr']\n",
      "HMB-['be']\n",
      "HMB-['be']\n",
      "HMB-['be']\n",
      "HMB-['be']\n",
      "HMB-['be']\n",
      "SNR-['be']\n",
      "SNR-['plsr']\n",
      "SNR-['plsr']\n",
      "{4: [189, 191, 192, 193, 195, 196], 5: [281, 282, 283, 284, 285, 286, 287, 288, 289, 290, 291, 292, 293, 294, 295, 308, 323, 633, 634, 635, 636, 637, 638], 6: [299, 300, 301, 302, 304, 305, 328, 669, 670, 671, 673, 674, 675, 676, 678], 7: [165, 166, 169, 307, 338], 8: [320, 538, 943]}\n"
     ]
    }
   ],
   "source": [
    "def common_gevtev_simbad(gevtev, simbad, epsilon):\n",
    "    \"\"\"This function looks for the same objects in GeV and TeV catalogs\n",
    "    \n",
    "    Return: dictionary with corresponding values\n",
    "    \n",
    "    feature1(list) - features of GeV \n",
    "    feature2(list) - features of TeV \n",
    "    epsilon(double) - distance accepted as equivalence\n",
    "    \"\"\"\n",
    "    d = {}\n",
    "    classes = {}\n",
    "    pos_ra_gevtev = gevtev['pos_ra']\n",
    "    pos_dec_gevtev = gevtev['pos_dec']\n",
    "    pos_ra_simbad = pd_simbad.as_matrix(columns=['RA_d'])\n",
    "    pos_dec_simbad = pd_simbad.as_matrix(columns=['DEC_d'])\n",
    "    class_simbad = pd_simbad.as_matrix(columns=['class'])\n",
    "    class_gevtev = gevtev['CLASS1']\n",
    "    for i in range(len(pos_ra_gevtev)):\n",
    "        for j in range(len(pos_ra_simbad)):\n",
    "            if ((np.abs(pos_ra_gevtev[i] - pos_ra_simbad[j])/np.abs(pos_ra_gevtev[i]) < epsilon) and (np.abs(pos_dec_gevtev[i] - pos_dec_simbad[j])/np.abs(pos_dec_gevtev[i]) < epsilon)) :\n",
    "                    try:\n",
    "                        list(d.keys()).index(i)\n",
    "                        d[i].append(j)\n",
    "                    except ValueError:\n",
    "                        d.update({i : [j]})\n",
    "                    print(str(class_gevtev[i]) + '-' +str(class_simbad[j]))\n",
    "    return d\n",
    "\n",
    "print(common_gevtev_simbad(common_data, pd_simbad, _epsilon))"
   ]
  },
  {
   "cell_type": "code",
   "execution_count": null,
   "metadata": {
    "collapsed": true
   },
   "outputs": [],
   "source": []
  }
 ],
 "metadata": {
  "kernelspec": {
   "display_name": "Python 3",
   "language": "python",
   "name": "python3"
  },
  "language_info": {
   "codemirror_mode": {
    "name": "ipython",
    "version": 3
   },
   "file_extension": ".py",
   "mimetype": "text/x-python",
   "name": "python",
   "nbconvert_exporter": "python",
   "pygments_lexer": "ipython3",
   "version": "3.6.3"
  }
 },
 "nbformat": 4,
 "nbformat_minor": 2
}
