{
 "cells": [
  {
   "cell_type": "markdown",
   "metadata": {},
   "source": [
    "# Similar objects in simbad, GEV and TEV catalogs\n",
    "First, we import all the packages that we will need."
   ]
  },
  {
   "cell_type": "code",
   "execution_count": 1,
   "metadata": {
    "collapsed": true
   },
   "outputs": [],
   "source": [
    "import warnings\n",
    "import pandas as pd\n",
    "import numpy as np\n",
    "from astropy.io.votable import parse_single_table, parse\n",
    "from astropy.io.votable import from_table\n",
    "import astropy.units as u\n",
    "from astropy.coordinates import SkyCoord\n",
    "from gevtev import compare_gev_tev_data \n",
    "\n",
    "warnings.filterwarnings(\"ignore\")"
   ]
  },
  {
   "cell_type": "markdown",
   "metadata": {},
   "source": [
    "This constant determines a threshold for the similarity between the objects:\n",
    "$$|glat_{1} - glat_{2}| <= \\epsilon$$\n",
    "$$\\epsilon = 1*10^{-1}$$"
   ]
  },
  {
   "cell_type": "code",
   "execution_count": 2,
   "metadata": {
    "collapsed": true
   },
   "outputs": [],
   "source": [
    "_epsilon = 1e-1"
   ]
  },
  {
   "cell_type": "markdown",
   "metadata": {},
   "source": [
    "The cell above loads data manually downloaded from SIMBAD catalog by requests 'be' and 'plsr'. It creates a DataFrame with a respective column class. \n",
    "\n",
    "Now this dataFrame contains only three columns:\n",
    "- RA_d\n",
    "- DEC_d\n",
    "- MAIN_ID\n",
    "- class\n",
    "\n",
    "Other columns with physical sense will be added later."
   ]
  },
  {
   "cell_type": "code",
   "execution_count": 3,
   "metadata": {
    "collapsed": true
   },
   "outputs": [],
   "source": [
    "s = \"data/simbad-plsr.xml\"\n",
    "votable1 = parse(s)\n",
    "votable = parse_single_table(s)\n",
    "table = votable.to_table()\n",
    "table_plsr = table['RA_d','DEC_d', 'MAIN_ID']\n",
    "pd_plsr = table_plsr.to_pandas() \n",
    "pd_plsr['class'] = 'plsr'\n",
    "\n",
    "s = \"data/simbad-be.xml\"\n",
    "votable1 = parse(s)\n",
    "votable = parse_single_table(s)\n",
    "table = votable.to_table()\n",
    "table_be = table['RA_d','DEC_d', 'MAIN_ID']\n",
    "pd_be = table_be.to_pandas()\n",
    "pd_be['class'] = 'be'\n",
    "\n",
    "frames_simbda = [pd_be, pd_plsr]\n",
    "pd_simbad = pd.concat(frames_simbda)"
   ]
  },
  {
   "cell_type": "markdown",
   "metadata": {},
   "source": [
    "This cell adds \"s_\" to columns of simbad data to makes them easily distinguishable from data of other catalogs."
   ]
  },
  {
   "cell_type": "code",
   "execution_count": 4,
   "metadata": {
    "collapsed": true
   },
   "outputs": [],
   "source": [
    "plsr_match_names = {}\n",
    "for i in pd_simbad.columns:\n",
    "    plsr_match_names.update({i : \"s_\" + i})\n",
    "pd_simbad = pd_simbad.rename(columns = plsr_match_names)"
   ]
  },
  {
   "cell_type": "code",
   "execution_count": 5,
   "metadata": {},
   "outputs": [
    {
     "data": {
      "text/html": [
       "<div>\n",
       "<style>\n",
       "    .dataframe thead tr:only-child th {\n",
       "        text-align: right;\n",
       "    }\n",
       "\n",
       "    .dataframe thead th {\n",
       "        text-align: left;\n",
       "    }\n",
       "\n",
       "    .dataframe tbody tr th {\n",
       "        vertical-align: top;\n",
       "    }\n",
       "</style>\n",
       "<table border=\"1\" class=\"dataframe\">\n",
       "  <thead>\n",
       "    <tr style=\"text-align: right;\">\n",
       "      <th></th>\n",
       "      <th>s_RA_d</th>\n",
       "      <th>s_DEC_d</th>\n",
       "      <th>s_MAIN_ID</th>\n",
       "      <th>s_class</th>\n",
       "    </tr>\n",
       "  </thead>\n",
       "  <tbody>\n",
       "    <tr>\n",
       "      <th>0</th>\n",
       "      <td>315.783489</td>\n",
       "      <td>38.991710</td>\n",
       "      <td>b'EM* MWC 1036'</td>\n",
       "      <td>be</td>\n",
       "    </tr>\n",
       "    <tr>\n",
       "      <th>1</th>\n",
       "      <td>306.792553</td>\n",
       "      <td>38.900434</td>\n",
       "      <td>b'BD+38  4093'</td>\n",
       "      <td>be</td>\n",
       "    </tr>\n",
       "    <tr>\n",
       "      <th>2</th>\n",
       "      <td>305.765073</td>\n",
       "      <td>39.497200</td>\n",
       "      <td>b'EM* MWC  342'</td>\n",
       "      <td>be</td>\n",
       "    </tr>\n",
       "    <tr>\n",
       "      <th>3</th>\n",
       "      <td>308.363021</td>\n",
       "      <td>41.599570</td>\n",
       "      <td>b'[D75b] Em* 20+118'</td>\n",
       "      <td>be</td>\n",
       "    </tr>\n",
       "    <tr>\n",
       "      <th>4</th>\n",
       "      <td>311.705350</td>\n",
       "      <td>43.427917</td>\n",
       "      <td>b'EM* LkHA  133'</td>\n",
       "      <td>be</td>\n",
       "    </tr>\n",
       "  </tbody>\n",
       "</table>\n",
       "</div>"
      ],
      "text/plain": [
       "       s_RA_d    s_DEC_d             s_MAIN_ID s_class\n",
       "0  315.783489  38.991710       b'EM* MWC 1036'      be\n",
       "1  306.792553  38.900434        b'BD+38  4093'      be\n",
       "2  305.765073  39.497200       b'EM* MWC  342'      be\n",
       "3  308.363021  41.599570  b'[D75b] Em* 20+118'      be\n",
       "4  311.705350  43.427917      b'EM* LkHA  133'      be"
      ]
     },
     "execution_count": 5,
     "metadata": {},
     "output_type": "execute_result"
    }
   ],
   "source": [
    "pd_simbad.head()"
   ]
  },
  {
   "cell_type": "markdown",
   "metadata": {},
   "source": [
    "We load data common for GEV and TEV catalogs."
   ]
  },
  {
   "cell_type": "code",
   "execution_count": 6,
   "metadata": {
    "collapsed": true,
    "scrolled": true
   },
   "outputs": [],
   "source": [
    "common_data, only_tev_data, only_gev_data = compare_gev_tev_data(_epsilon)"
   ]
  },
  {
   "cell_type": "markdown",
   "metadata": {},
   "source": [
    "The following cells compare distances from a common catalog of GEV and TEV and SIMBAD catalog by translating SIMBAD coordinates to glan and glot due to astropy module. If their relative distance is smaller than $\\epsilon$ they are associated to each another."
   ]
  },
  {
   "cell_type": "code",
   "execution_count": 33,
   "metadata": {
    "collapsed": true
   },
   "outputs": [],
   "source": [
    "def create_vectors_common_gevtev_simbad(gevtev, simbad, epsilon, catalog=\"tev\"):\n",
    "    \"\"\"This function looks for the same objects in GeV and TeV and Simbad catalogs \n",
    "    \n",
    "    Return: two vectors where each index of TEV(GEV) is associated with its indev in GEV(TEV).\n",
    "    If such objects does not existe, the corresponding vector coordinate is equal to -1\n",
    "    \n",
    "    gevtev - a pandas dataFrame of common GeV and TeV \n",
    "    simbad - a pandas dataFrame of Simbad \n",
    "    epsilon(double) - distance accepted as equivalence\n",
    "    \"\"\"\n",
    "    d = {}\n",
    "    classes = {}\n",
    "    if (catalog.find(\"tev\") != -1):\n",
    "        glat_gevtev = gevtev[catalog+'_glat']\n",
    "        glon_gevtev = gevtev[catalog+'_glon']\n",
    "    else:\n",
    "        glat_gevtev = gevtev[catalog+'_GLAT']\n",
    "        glon_gevtev = gevtev[catalog+'_GLON']        \n",
    "    pos_ra_simbad = pd_simbad.as_matrix(columns=['s_RA_d'])\n",
    "    pos_dec_simbad = pd_simbad.as_matrix(columns=['s_DEC_d'])\n",
    "    c_icrs = SkyCoord(ra=pos_ra_simbad*u.degree, dec=pos_dec_simbad*u.degree, frame='icrs')\n",
    "    glat_simbad = c_icrs.galactic.b.deg\n",
    "    glon_simbad = c_icrs.galactic.l.deg\n",
    "    \n",
    "    \n",
    "    C_associations_gevtev = -1.0 * np.ones((len(glat_gevtev)))\n",
    "    C_associations_simbad = -1.0 * np.ones((len(glat_simbad)))\n",
    "    \n",
    "    for i in range(len(glat_gevtev)):\n",
    "        for j in range(len(pos_ra_simbad)): \n",
    "            if ((np.abs(glat_gevtev[i] - glat_simbad[j]) < epsilon) \n",
    "                and (np.abs(glon_gevtev[i] - glon_simbad[j]) < epsilon)) :\n",
    "                    C_associations_gevtev[i] = j\n",
    "                    C_associations_simbad[j] = i\n",
    "    return C_associations_gevtev, C_associations_simbad"
   ]
  },
  {
   "cell_type": "code",
   "execution_count": 34,
   "metadata": {},
   "outputs": [],
   "source": [
    "C_associations_gevtev, C_associations_simbad = create_vectors_common_gevtev_simbad(common_data, pd_simbad, _epsilon)"
   ]
  },
  {
   "cell_type": "code",
   "execution_count": 35,
   "metadata": {
    "collapsed": true
   },
   "outputs": [],
   "source": [
    "def create_common_data(data_gevtev, data_simbad, C_associations_gevtev, C_associations_simbad, catalog=\"tev\"):\n",
    "    \"\"\"The fonction adds objects found both in GeV, TeV and simbad.\n",
    "    \"\"\"\n",
    "    data_gevtev['join'] = C_associations_gevtev\n",
    "    pd_common_sgevtev = pd.merge(data_simbad, data_gevtev, left_index=True, right_on='join', how='inner')\n",
    "    del data_gevtev['join']\n",
    "\n",
    "    data_simbad['join'] = C_associations_simbad\n",
    "    pd_common_sgevtev0 = pd.merge(data_simbad, data_gevtev, right_index=True, left_on='join', how='inner')\n",
    "    \n",
    "    pd_common_sgevtev = pd_common_sgevtev.append(pd_common_sgevtev0)\n",
    "    if (catalog.find(\"tev\") != -1):    \n",
    "        array_non_duplicate = [catalog+'_glat', catalog+'_glon', 's_RA_d','s_DEC_d']\n",
    "    else:\n",
    "        array_non_duplicate = [catalog+'_GLAT', catalog+'_GLON', 's_RA_d','s_DEC_d']\n",
    "    pd_common_sgevtev = pd_common_sgevtev.drop_duplicates(array_non_duplicate)\n",
    "    pd_common_sgevtev = pd_common_sgevtev.reset_index()\n",
    "    \n",
    "    del pd_common_sgevtev['join']\n",
    "    del pd_common_sgevtev['join_x']\n",
    "    del pd_common_sgevtev['join_y']\n",
    "    del pd_common_sgevtev['index']\n",
    "    #df_common = pd.DataFrame(data = data, columns = namefinal)\n",
    "    return pd_common_sgevtev"
   ]
  },
  {
   "cell_type": "code",
   "execution_count": 10,
   "metadata": {
    "scrolled": true
   },
   "outputs": [
    {
     "name": "stdout",
     "output_type": "stream",
     "text": [
      "There are 2 common objects in the three catalogs.\n"
     ]
    }
   ],
   "source": [
    "pd_common_gevtevsimbad = create_common_data(common_data, pd_simbad, C_associations_gevtev, C_associations_simbad)\n",
    "print(\"There are \" + str(len(pd_common_gevtevsimbad)) + \" common objects in the three catalogs.\")"
   ]
  },
  {
   "cell_type": "code",
   "execution_count": 11,
   "metadata": {},
   "outputs": [
    {
     "data": {
      "text/html": [
       "<div>\n",
       "<style>\n",
       "    .dataframe thead tr:only-child th {\n",
       "        text-align: right;\n",
       "    }\n",
       "\n",
       "    .dataframe thead th {\n",
       "        text-align: left;\n",
       "    }\n",
       "\n",
       "    .dataframe tbody tr th {\n",
       "        vertical-align: top;\n",
       "    }\n",
       "</style>\n",
       "<table border=\"1\" class=\"dataframe\">\n",
       "  <thead>\n",
       "    <tr style=\"text-align: right;\">\n",
       "      <th></th>\n",
       "      <th>level_0</th>\n",
       "      <th>gev_ASSOC_TEV</th>\n",
       "      <th>gev_CLASS1</th>\n",
       "      <th>gev_DEJ2000</th>\n",
       "      <th>gev_Flux1000</th>\n",
       "      <th>gev_Flux10000_100000</th>\n",
       "      <th>gev_Flux1000_3000</th>\n",
       "      <th>gev_Flux100_300</th>\n",
       "      <th>gev_Flux3000_10000</th>\n",
       "      <th>gev_Flux300_1000</th>\n",
       "      <th>...</th>\n",
       "      <th>tev_sed_dnde</th>\n",
       "      <th>tev_sed_dnde_err</th>\n",
       "      <th>tev_sed_e_ref</th>\n",
       "      <th>tev_spec_dnde_1TeV</th>\n",
       "      <th>tev_spec_dnde_1TeV_err</th>\n",
       "      <th>tev_spec_eflux_1TeV_10TeV</th>\n",
       "      <th>tev_spec_eflux_1TeV_10TeV_err</th>\n",
       "      <th>tev_spec_flux_1TeV</th>\n",
       "      <th>tev_spec_flux_1TeV_crab</th>\n",
       "      <th>tev_spec_flux_1TeV_crab_err</th>\n",
       "    </tr>\n",
       "  </thead>\n",
       "  <tbody>\n",
       "    <tr>\n",
       "      <th>0</th>\n",
       "      <td>19</td>\n",
       "      <td>b'                     '</td>\n",
       "      <td>b'     '</td>\n",
       "      <td>-29.063</td>\n",
       "      <td>3.874533e-08</td>\n",
       "      <td>3.055154e-10</td>\n",
       "      <td>3.184363e-08</td>\n",
       "      <td>1.613918e-08</td>\n",
       "      <td>5.155299e-09</td>\n",
       "      <td>9.678488e-08</td>\n",
       "      <td>...</td>\n",
       "      <td>[nan, nan, nan, nan, nan, nan, nan, nan, nan, ...</td>\n",
       "      <td>[nan, nan, nan, nan, nan, nan, nan, nan, nan, ...</td>\n",
       "      <td>[nan, nan, nan, nan, nan, nan, nan, nan, nan, ...</td>\n",
       "      <td>NaN</td>\n",
       "      <td>NaN</td>\n",
       "      <td>NaN</td>\n",
       "      <td>NaN</td>\n",
       "      <td>NaN</td>\n",
       "      <td>NaN</td>\n",
       "      <td>NaN</td>\n",
       "    </tr>\n",
       "    <tr>\n",
       "      <th>1</th>\n",
       "      <td>19</td>\n",
       "      <td>b'                     '</td>\n",
       "      <td>b'     '</td>\n",
       "      <td>-29.063</td>\n",
       "      <td>3.874533e-08</td>\n",
       "      <td>3.055154e-10</td>\n",
       "      <td>3.184363e-08</td>\n",
       "      <td>1.613918e-08</td>\n",
       "      <td>5.155299e-09</td>\n",
       "      <td>9.678488e-08</td>\n",
       "      <td>...</td>\n",
       "      <td>[nan, nan, nan, nan, nan, nan, nan, nan, nan, ...</td>\n",
       "      <td>[nan, nan, nan, nan, nan, nan, nan, nan, nan, ...</td>\n",
       "      <td>[nan, nan, nan, nan, nan, nan, nan, nan, nan, ...</td>\n",
       "      <td>NaN</td>\n",
       "      <td>NaN</td>\n",
       "      <td>NaN</td>\n",
       "      <td>NaN</td>\n",
       "      <td>NaN</td>\n",
       "      <td>NaN</td>\n",
       "      <td>NaN</td>\n",
       "    </tr>\n",
       "  </tbody>\n",
       "</table>\n",
       "<p>2 rows × 35 columns</p>\n",
       "</div>"
      ],
      "text/plain": [
       "   level_0             gev_ASSOC_TEV gev_CLASS1  gev_DEJ2000  gev_Flux1000  \\\n",
       "0       19  b'                     '   b'     '      -29.063  3.874533e-08   \n",
       "1       19  b'                     '   b'     '      -29.063  3.874533e-08   \n",
       "\n",
       "   gev_Flux10000_100000  gev_Flux1000_3000  gev_Flux100_300  \\\n",
       "0          3.055154e-10       3.184363e-08     1.613918e-08   \n",
       "1          3.055154e-10       3.184363e-08     1.613918e-08   \n",
       "\n",
       "   gev_Flux3000_10000  gev_Flux300_1000             ...              \\\n",
       "0        5.155299e-09      9.678488e-08             ...               \n",
       "1        5.155299e-09      9.678488e-08             ...               \n",
       "\n",
       "                                        tev_sed_dnde  \\\n",
       "0  [nan, nan, nan, nan, nan, nan, nan, nan, nan, ...   \n",
       "1  [nan, nan, nan, nan, nan, nan, nan, nan, nan, ...   \n",
       "\n",
       "                                    tev_sed_dnde_err  \\\n",
       "0  [nan, nan, nan, nan, nan, nan, nan, nan, nan, ...   \n",
       "1  [nan, nan, nan, nan, nan, nan, nan, nan, nan, ...   \n",
       "\n",
       "                                       tev_sed_e_ref  tev_spec_dnde_1TeV  \\\n",
       "0  [nan, nan, nan, nan, nan, nan, nan, nan, nan, ...                 NaN   \n",
       "1  [nan, nan, nan, nan, nan, nan, nan, nan, nan, ...                 NaN   \n",
       "\n",
       "   tev_spec_dnde_1TeV_err  tev_spec_eflux_1TeV_10TeV  \\\n",
       "0                     NaN                        NaN   \n",
       "1                     NaN                        NaN   \n",
       "\n",
       "  tev_spec_eflux_1TeV_10TeV_err  tev_spec_flux_1TeV tev_spec_flux_1TeV_crab  \\\n",
       "0                           NaN                 NaN                     NaN   \n",
       "1                           NaN                 NaN                     NaN   \n",
       "\n",
       "  tev_spec_flux_1TeV_crab_err  \n",
       "0                         NaN  \n",
       "1                         NaN  \n",
       "\n",
       "[2 rows x 35 columns]"
      ]
     },
     "execution_count": 11,
     "metadata": {},
     "output_type": "execute_result"
    }
   ],
   "source": [
    "pd_common_gevtevsimbad.head()"
   ]
  },
  {
   "cell_type": "markdown",
   "metadata": {},
   "source": [
    "The next cell chooses several columns from a dataFrame to make sure that the output is correct(objects have the same coordinates etc.)"
   ]
  },
  {
   "cell_type": "code",
   "execution_count": 12,
   "metadata": {},
   "outputs": [
    {
     "data": {
      "text/html": [
       "<div>\n",
       "<style>\n",
       "    .dataframe thead tr:only-child th {\n",
       "        text-align: right;\n",
       "    }\n",
       "\n",
       "    .dataframe thead th {\n",
       "        text-align: left;\n",
       "    }\n",
       "\n",
       "    .dataframe tbody tr th {\n",
       "        vertical-align: top;\n",
       "    }\n",
       "</style>\n",
       "<table border=\"1\" class=\"dataframe\">\n",
       "  <thead>\n",
       "    <tr style=\"text-align: right;\">\n",
       "      <th></th>\n",
       "      <th>s_RA_d</th>\n",
       "      <th>s_DEC_d</th>\n",
       "      <th>gev_ASSOC_TEV</th>\n",
       "      <th>tev_glat</th>\n",
       "      <th>gev_GLAT</th>\n",
       "      <th>tev_glon</th>\n",
       "      <th>gev_GLON</th>\n",
       "      <th>s_class</th>\n",
       "      <th>gev_CLASS1</th>\n",
       "      <th>tev_classes</th>\n",
       "    </tr>\n",
       "  </thead>\n",
       "  <tbody>\n",
       "    <tr>\n",
       "      <th>0</th>\n",
       "      <td>266.407530</td>\n",
       "      <td>-28.954500</td>\n",
       "      <td>b'                     '</td>\n",
       "      <td>-0.046162</td>\n",
       "      <td>-0.020071</td>\n",
       "      <td>359.944244</td>\n",
       "      <td>359.863953</td>\n",
       "      <td>be</td>\n",
       "      <td>b'     '</td>\n",
       "      <td>b'unid'</td>\n",
       "    </tr>\n",
       "    <tr>\n",
       "      <th>1</th>\n",
       "      <td>244.711241</td>\n",
       "      <td>-50.470085</td>\n",
       "      <td>b'                     '</td>\n",
       "      <td>-0.046162</td>\n",
       "      <td>-0.020071</td>\n",
       "      <td>359.944244</td>\n",
       "      <td>359.863953</td>\n",
       "      <td>plsr</td>\n",
       "      <td>b'     '</td>\n",
       "      <td>b'unid'</td>\n",
       "    </tr>\n",
       "  </tbody>\n",
       "</table>\n",
       "</div>"
      ],
      "text/plain": [
       "       s_RA_d    s_DEC_d             gev_ASSOC_TEV  tev_glat  gev_GLAT  \\\n",
       "0  266.407530 -28.954500  b'                     ' -0.046162 -0.020071   \n",
       "1  244.711241 -50.470085  b'                     ' -0.046162 -0.020071   \n",
       "\n",
       "     tev_glon    gev_GLON s_class gev_CLASS1 tev_classes  \n",
       "0  359.944244  359.863953      be   b'     '     b'unid'  \n",
       "1  359.944244  359.863953    plsr   b'     '     b'unid'  "
      ]
     },
     "execution_count": 12,
     "metadata": {},
     "output_type": "execute_result"
    }
   ],
   "source": [
    "columns_to_compare = ['s_RA_d',\n",
    "                     's_DEC_d',\n",
    "                     'gev_ASSOC_TEV',\n",
    "                     'tev_glat', \n",
    "                     'gev_GLAT',\n",
    "                     'tev_glon',\n",
    "                     'gev_GLON',\n",
    "                     's_class',\n",
    "                     'gev_CLASS1',\n",
    "                     'tev_classes']\n",
    "pd_common_gevtevsimbad[columns_to_compare].head()"
   ]
  },
  {
   "cell_type": "code",
   "execution_count": 13,
   "metadata": {
    "collapsed": true
   },
   "outputs": [],
   "source": [
    "pd_common_gevtevsimbad[columns_to_compare].to_csv(\"gevtevsimbad.txt\", sep='\\t')"
   ]
  },
  {
   "cell_type": "code",
   "execution_count": 14,
   "metadata": {
    "collapsed": true
   },
   "outputs": [],
   "source": [
    "columns_to_compare_gevtev = ['gev_ASSOC_TEV',\n",
    "                     'tev_glat', \n",
    "                     'gev_GLAT',\n",
    "                     'tev_glon',\n",
    "                     'gev_GLON',\n",
    "                     'gev_CLASS1',\n",
    "                     'tev_classes']"
   ]
  },
  {
   "cell_type": "code",
   "execution_count": 15,
   "metadata": {
    "collapsed": true
   },
   "outputs": [],
   "source": [
    "common_data[columns_to_compare_gevtev].to_csv(\"gevtev.txt\", sep='\\t')"
   ]
  },
  {
   "cell_type": "markdown",
   "metadata": {
    "collapsed": true
   },
   "source": [
    "The next cells find common values in simbad-tev"
   ]
  },
  {
   "cell_type": "code",
   "execution_count": 27,
   "metadata": {},
   "outputs": [],
   "source": [
    "C_associations_tev, C_associations_simbad = create_vectors_common_gevtev_simbad(only_tev_data, pd_simbad, _epsilon)"
   ]
  },
  {
   "cell_type": "code",
   "execution_count": 30,
   "metadata": {},
   "outputs": [],
   "source": [
    "pd_common_onlytevsimbad = create_common_data(only_tev_data, pd_simbad, C_associations_tev, C_associations_simbad, catalog=\"tev\")"
   ]
  },
  {
   "cell_type": "code",
   "execution_count": 31,
   "metadata": {},
   "outputs": [
    {
     "data": {
      "text/html": [
       "<div>\n",
       "<style>\n",
       "    .dataframe thead tr:only-child th {\n",
       "        text-align: right;\n",
       "    }\n",
       "\n",
       "    .dataframe thead th {\n",
       "        text-align: left;\n",
       "    }\n",
       "\n",
       "    .dataframe tbody tr th {\n",
       "        vertical-align: top;\n",
       "    }\n",
       "</style>\n",
       "<table border=\"1\" class=\"dataframe\">\n",
       "  <thead>\n",
       "    <tr style=\"text-align: right;\">\n",
       "      <th></th>\n",
       "      <th>level_0</th>\n",
       "      <th>s_DEC_d</th>\n",
       "      <th>s_MAIN_ID</th>\n",
       "      <th>s_RA_d</th>\n",
       "      <th>s_class</th>\n",
       "      <th>tev_classes</th>\n",
       "      <th>tev_glat</th>\n",
       "      <th>tev_glon</th>\n",
       "      <th>tev_morph_pa</th>\n",
       "      <th>tev_pos_dec</th>\n",
       "      <th>...</th>\n",
       "      <th>tev_sed_dnde</th>\n",
       "      <th>tev_sed_dnde_err</th>\n",
       "      <th>tev_sed_e_ref</th>\n",
       "      <th>tev_spec_dnde_1TeV</th>\n",
       "      <th>tev_spec_dnde_1TeV_err</th>\n",
       "      <th>tev_spec_eflux_1TeV_10TeV</th>\n",
       "      <th>tev_spec_eflux_1TeV_10TeV_err</th>\n",
       "      <th>tev_spec_flux_1TeV</th>\n",
       "      <th>tev_spec_flux_1TeV_crab</th>\n",
       "      <th>tev_spec_flux_1TeV_crab_err</th>\n",
       "    </tr>\n",
       "  </thead>\n",
       "  <tbody>\n",
       "    <tr>\n",
       "      <th>0</th>\n",
       "      <td>19</td>\n",
       "      <td>-28.954500</td>\n",
       "      <td>b'SSTGC 519103'</td>\n",
       "      <td>266.407530</td>\n",
       "      <td>be</td>\n",
       "      <td>b'unid'</td>\n",
       "      <td>-0.046162</td>\n",
       "      <td>359.944244</td>\n",
       "      <td>NaN</td>\n",
       "      <td>-29.006111</td>\n",
       "      <td>...</td>\n",
       "      <td>[1.42756e-10, 7.84682e-11, 4.92253e-11, 3.1732...</td>\n",
       "      <td>[nan, nan, nan, nan, nan, nan, nan, nan, nan, ...</td>\n",
       "      <td>[0.165368, 0.204729, 0.251321, 0.307177, 0.374...</td>\n",
       "      <td>2.322480e-12</td>\n",
       "      <td>5.452722e-14</td>\n",
       "      <td>5.835075e-12</td>\n",
       "      <td>3.561090e-13</td>\n",
       "      <td>1.703836e-12</td>\n",
       "      <td>8.21346</td>\n",
       "      <td>0.381336</td>\n",
       "    </tr>\n",
       "    <tr>\n",
       "      <th>1</th>\n",
       "      <td>19</td>\n",
       "      <td>-50.470085</td>\n",
       "      <td>b'HD 146461'</td>\n",
       "      <td>244.711241</td>\n",
       "      <td>plsr</td>\n",
       "      <td>b'unid'</td>\n",
       "      <td>-0.046162</td>\n",
       "      <td>359.944244</td>\n",
       "      <td>NaN</td>\n",
       "      <td>-29.006111</td>\n",
       "      <td>...</td>\n",
       "      <td>[1.42756e-10, 7.84682e-11, 4.92253e-11, 3.1732...</td>\n",
       "      <td>[nan, nan, nan, nan, nan, nan, nan, nan, nan, ...</td>\n",
       "      <td>[0.165368, 0.204729, 0.251321, 0.307177, 0.374...</td>\n",
       "      <td>2.322480e-12</td>\n",
       "      <td>5.452722e-14</td>\n",
       "      <td>5.835075e-12</td>\n",
       "      <td>3.561090e-13</td>\n",
       "      <td>1.703836e-12</td>\n",
       "      <td>8.21346</td>\n",
       "      <td>0.381336</td>\n",
       "    </tr>\n",
       "  </tbody>\n",
       "</table>\n",
       "<p>2 rows × 21 columns</p>\n",
       "</div>"
      ],
      "text/plain": [
       "   level_0    s_DEC_d        s_MAIN_ID      s_RA_d s_class tev_classes  \\\n",
       "0       19 -28.954500  b'SSTGC 519103'  266.407530      be     b'unid'   \n",
       "1       19 -50.470085     b'HD 146461'  244.711241    plsr     b'unid'   \n",
       "\n",
       "   tev_glat    tev_glon  tev_morph_pa  tev_pos_dec  \\\n",
       "0 -0.046162  359.944244           NaN   -29.006111   \n",
       "1 -0.046162  359.944244           NaN   -29.006111   \n",
       "\n",
       "              ...               \\\n",
       "0             ...                \n",
       "1             ...                \n",
       "\n",
       "                                        tev_sed_dnde  \\\n",
       "0  [1.42756e-10, 7.84682e-11, 4.92253e-11, 3.1732...   \n",
       "1  [1.42756e-10, 7.84682e-11, 4.92253e-11, 3.1732...   \n",
       "\n",
       "                                    tev_sed_dnde_err  \\\n",
       "0  [nan, nan, nan, nan, nan, nan, nan, nan, nan, ...   \n",
       "1  [nan, nan, nan, nan, nan, nan, nan, nan, nan, ...   \n",
       "\n",
       "                                       tev_sed_e_ref tev_spec_dnde_1TeV  \\\n",
       "0  [0.165368, 0.204729, 0.251321, 0.307177, 0.374...       2.322480e-12   \n",
       "1  [0.165368, 0.204729, 0.251321, 0.307177, 0.374...       2.322480e-12   \n",
       "\n",
       "   tev_spec_dnde_1TeV_err  tev_spec_eflux_1TeV_10TeV  \\\n",
       "0            5.452722e-14               5.835075e-12   \n",
       "1            5.452722e-14               5.835075e-12   \n",
       "\n",
       "   tev_spec_eflux_1TeV_10TeV_err  tev_spec_flux_1TeV  tev_spec_flux_1TeV_crab  \\\n",
       "0                   3.561090e-13        1.703836e-12                  8.21346   \n",
       "1                   3.561090e-13        1.703836e-12                  8.21346   \n",
       "\n",
       "   tev_spec_flux_1TeV_crab_err  \n",
       "0                     0.381336  \n",
       "1                     0.381336  \n",
       "\n",
       "[2 rows x 21 columns]"
      ]
     },
     "execution_count": 31,
     "metadata": {},
     "output_type": "execute_result"
    }
   ],
   "source": [
    "pd_common_onlytevsimbad.head()"
   ]
  },
  {
   "cell_type": "markdown",
   "metadata": {},
   "source": [
    "The next cells find common values in simbad-gev"
   ]
  },
  {
   "cell_type": "code",
   "execution_count": 36,
   "metadata": {},
   "outputs": [],
   "source": [
    "C_associations_gev, C_associations_simbad = create_vectors_common_gevtev_simbad(only_gev_data, pd_simbad, _epsilon, catalog=\"gev\")"
   ]
  },
  {
   "cell_type": "code",
   "execution_count": 38,
   "metadata": {},
   "outputs": [],
   "source": [
    "pd_common_onlygevsimbad = create_common_data(only_gev_data, pd_simbad, C_associations_gev, C_associations_simbad, catalog=\"gev\")"
   ]
  },
  {
   "cell_type": "code",
   "execution_count": 39,
   "metadata": {},
   "outputs": [
    {
     "data": {
      "text/html": [
       "<div>\n",
       "<style>\n",
       "    .dataframe thead tr:only-child th {\n",
       "        text-align: right;\n",
       "    }\n",
       "\n",
       "    .dataframe thead th {\n",
       "        text-align: left;\n",
       "    }\n",
       "\n",
       "    .dataframe tbody tr th {\n",
       "        vertical-align: top;\n",
       "    }\n",
       "</style>\n",
       "<table border=\"1\" class=\"dataframe\">\n",
       "  <thead>\n",
       "    <tr style=\"text-align: right;\">\n",
       "      <th></th>\n",
       "      <th>level_0</th>\n",
       "      <th>gev_ASSOC_TEV</th>\n",
       "      <th>gev_CLASS1</th>\n",
       "      <th>gev_DEJ2000</th>\n",
       "      <th>gev_Flux1000</th>\n",
       "      <th>gev_Flux10000_100000</th>\n",
       "      <th>gev_Flux1000_3000</th>\n",
       "      <th>gev_Flux100_300</th>\n",
       "      <th>gev_Flux3000_10000</th>\n",
       "      <th>gev_Flux300_1000</th>\n",
       "      <th>gev_Flux30_100</th>\n",
       "      <th>gev_GLAT</th>\n",
       "      <th>gev_GLON</th>\n",
       "      <th>gev_RAJ2000</th>\n",
       "      <th>gev_Variability_Index</th>\n",
       "      <th>s_DEC_d</th>\n",
       "      <th>s_MAIN_ID</th>\n",
       "      <th>s_RA_d</th>\n",
       "      <th>s_class</th>\n",
       "    </tr>\n",
       "  </thead>\n",
       "  <tbody>\n",
       "  </tbody>\n",
       "</table>\n",
       "</div>"
      ],
      "text/plain": [
       "Empty DataFrame\n",
       "Columns: [level_0, gev_ASSOC_TEV, gev_CLASS1, gev_DEJ2000, gev_Flux1000, gev_Flux10000_100000, gev_Flux1000_3000, gev_Flux100_300, gev_Flux3000_10000, gev_Flux300_1000, gev_Flux30_100, gev_GLAT, gev_GLON, gev_RAJ2000, gev_Variability_Index, s_DEC_d, s_MAIN_ID, s_RA_d, s_class]\n",
       "Index: []"
      ]
     },
     "execution_count": 39,
     "metadata": {},
     "output_type": "execute_result"
    }
   ],
   "source": [
    "pd_common_onlygevsimbad.head()"
   ]
  },
  {
   "cell_type": "code",
   "execution_count": null,
   "metadata": {
    "collapsed": true
   },
   "outputs": [],
   "source": []
  }
 ],
 "metadata": {
  "kernelspec": {
   "display_name": "Python 3",
   "language": "python",
   "name": "python3"
  },
  "language_info": {
   "codemirror_mode": {
    "name": "ipython",
    "version": 3
   },
   "file_extension": ".py",
   "mimetype": "text/x-python",
   "name": "python",
   "nbconvert_exporter": "python",
   "pygments_lexer": "ipython3",
   "version": "3.6.3"
  }
 },
 "nbformat": 4,
 "nbformat_minor": 2
}
