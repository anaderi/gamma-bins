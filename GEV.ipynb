{
 "cells": [
  {
   "cell_type": "code",
   "execution_count": 3,
   "metadata": {},
   "outputs": [],
   "source": [
    "from astropy.io import fits\n",
    "#fits_image_filename = fits.util.get_testdata_filepath()\n",
    "\n",
    "hdul = fits.open('gll_psc_v16.fit')"
   ]
  },
  {
   "cell_type": "code",
   "execution_count": 4,
   "metadata": {},
   "outputs": [
    {
     "name": "stdout",
     "output_type": "stream",
     "text": [
      "Filename: gll_psc_v16.fit\n",
      "No.    Name      Ver    Type      Cards   Dimensions   Format\n",
      "  0  PRIMARY       1 PrimaryHDU      11   ()      \n",
      "  1  LAT_Point_Source_Catalog    1 BinTableHDU    463   3034R x 77C   [18A, E, E, E, E, E, E, E, E, E, E, I, E, E, E, E, E, E, E, E, E, 16A, E, E, E, E, E, E, E, E, E, E, E, E, E, E, 2E, E, E, E, 2E, E, E, E, 2E, E, E, E, 2E, E, E, E, 2E, E, E, E, E, E, E, D, E, 48E, 96E, 18A, 17A, 18A, 18A, 18A, 15A, 14A, 15A, A, 21A, 5A, 26A, 26A, I]   \n",
      "  2  ROIs          1 BinTableHDU    108   840R x 12C   [I, E, E, E, E, E, E, E, E, E, E, E]   \n",
      "  3  Hist_Start    1 BinTableHDU     43   49R x 1C   [D]   \n",
      "  4  GTI           1 BinTableHDU    126   22858R x 2C   [D, D]   \n",
      "  5  ExtendedSources    1 BinTableHDU     74   25R x 11C   [15A, 18A, E, E, E, E, 14A, E, E, E, 18A]   \n"
     ]
    }
   ],
   "source": [
    "hdul.info()"
   ]
  },
  {
   "cell_type": "code",
   "execution_count": 7,
   "metadata": {},
   "outputs": [
    {
     "data": {
      "text/plain": [
       "<astropy.io.fits.hdu.table.BinTableHDU at 0x7f2d6964f278>"
      ]
     },
     "execution_count": 7,
     "metadata": {},
     "output_type": "execute_result"
    }
   ],
   "source": [
    "hdul[2]"
   ]
  },
  {
   "cell_type": "code",
   "execution_count": 10,
   "metadata": {},
   "outputs": [
    {
     "data": {
      "text/plain": [
       "SIMPLE  =                    T / Written by IDL:  Wed May 13 22:39:44 2015      \n",
       "BITPIX  =                    8 / number of bits per data pixel                  \n",
       "NAXIS   =                    0 / number of data axes                            \n",
       "EXTEND  =                    T / FITS dataset may contain extensions            \n",
       "COMMENT   FITS (Flexible Image Transport System) format is defined in 'Astronomy\n",
       "COMMENT   and Astrophysics', volume 376, page 359; bibcode: 2001A&A...376..359H \n",
       "MJDREFF = '7.428703703703703D-4' /Frac. part of MJD of SC clock start           \n",
       "FILENAME= 'gll_psc_v16.fit'    /                                                \n",
       "VERSION = 'v16     '           /                                                \n",
       "CHECKSUM= 'NffqOZZnNdfnNZZn'   / HDU checksum updated 2015-05-16T17:27:07       \n",
       "DATASUM = '         0'         / data unit checksum updated 2015-05-16T17:27:07 "
      ]
     },
     "execution_count": 10,
     "metadata": {},
     "output_type": "execute_result"
    }
   ],
   "source": [
    "hdul[0].header"
   ]
  },
  {
   "cell_type": "code",
   "execution_count": 11,
   "metadata": {
    "scrolled": false
   },
   "outputs": [
    {
     "data": {
      "text/plain": [
       "XTENSION= 'BINTABLE'           / binary table extension                         \n",
       "BITPIX  =                    8 / array data type                                \n",
       "NAXIS   =                    2 / number of array dimensions                     \n",
       "NAXIS1  =                 1082 / length of dimension 1                          \n",
       "NAXIS2  =                 3034 / length of dimension 2                          \n",
       "PCOUNT  =                    0 / number of group parameters                     \n",
       "GCOUNT  =                    1 / number of groups                               \n",
       "TFIELDS =                   77 / number of table fields                         \n",
       "COMMENT                                                                         \n",
       "COMMENT  *** End of mandatory fields ***                                        \n",
       "COMMENT                                                                         \n",
       "COMMENT                                                                         \n",
       "COMMENT  *** Column names ***                                                   \n",
       "COMMENT                                                                         \n",
       "TTYPE1  = 'Source_Name'        /                                                \n",
       "TTYPE69 = 'ASSOC_GAM1'         /                                                \n",
       "TTYPE70 = 'ASSOC_GAM2'         /                                                \n",
       "TTYPE71 = 'ASSOC_GAM3'         /                                                \n",
       "TTYPE72 = 'TEVCAT_FLAG'        /                                                \n",
       "TTYPE73 = 'ASSOC_TEV'          /                                                \n",
       "TTYPE74 = 'CLASS1  '           /                                                \n",
       "TTYPE75 = 'ASSOC1  '           /                                                \n",
       "TTYPE76 = 'ASSOC2  '           /                                                \n",
       "COMMENT                                                                         \n",
       "COMMENT  *** Column formats ***                                                 \n",
       "COMMENT                                                                         \n",
       "TFORM1  = '18A     '           /                                                \n",
       "TBUCD1  = 'meta.id;meta.main'  /                                                \n",
       "TUCD1   = 'meta.id;meta.main'  /                                                \n",
       "TTYPE2  = 'RAJ2000 '           /                                                \n",
       "TFORM2  = 'E       '           /                                                \n",
       "TUNIT2  = 'deg     '           /                                                \n",
       "TDISP2  = 'F8.4    '           /                                                \n",
       "TBUCD2  = 'pos.eq.ra;meta.main' /                                               \n",
       "TUCD2   = 'pos.eq.ra;meta.main' /                                               \n",
       "TLMIN2  =             0.000000 /                                                \n",
       "TLMAX2  =              360.000 /                                                \n",
       "TTYPE3  = 'DEJ2000 '           /                                                \n",
       "TFORM3  = 'E       '           /                                                \n",
       "TUNIT3  = 'deg     '           /                                                \n",
       "TDISP3  = 'F8.4    '           /                                                \n",
       "TBUCD3  = 'pos.eq.dec;meta.main' /                                              \n",
       "TUCD3   = 'pos.eq.dec;meta.main' /                                              \n",
       "TLMIN3  =             -90.0000 /                                                \n",
       "TLMAX3  =              90.0000 /                                                \n",
       "TTYPE4  = 'GLON    '           /                                                \n",
       "TFORM4  = 'E       '           /                                                \n",
       "TUNIT4  = 'deg     '           /                                                \n",
       "TDISP4  = 'F8.4    '           /                                                \n",
       "TBUCD4  = 'pos.galactic.lon'   /                                                \n",
       "TUCD4   = 'pos.galactic.lon'   /                                                \n",
       "TLMIN4  =             0.000000 /                                                \n",
       "TLMAX4  =              360.000 /                                                \n",
       "TTYPE5  = 'GLAT    '           /                                                \n",
       "TFORM5  = 'E       '           /                                                \n",
       "TUNIT5  = 'deg     '           /                                                \n",
       "TDISP5  = 'F8.4    '           /                                                \n",
       "TBUCD5  = 'pos.galactic.lat'   /                                                \n",
       "TUCD5   = 'pos.galactic.lat'   /                                                \n",
       "TLMIN5  =             -90.0000 /                                                \n",
       "TLMAX5  =              90.0000 /                                                \n",
       "TTYPE6  = 'Conf_68_SemiMajor'  /                                                \n",
       "TFORM6  = 'E       '           /                                                \n",
       "TUNIT6  = 'deg     '           /                                                \n",
       "TDISP6  = 'F8.4    '           /                                                \n",
       "TBUCD6  = 'pos;stat.error'     /                                                \n",
       "TUCD6   = 'pos;stat.error'     /                                                \n",
       "TLMIN6  =             0.000000 /                                                \n",
       "TTYPE7  = 'Conf_68_SemiMinor'  /                                                \n",
       "TFORM7  = 'E       '           /                                                \n",
       "TUNIT7  = 'deg     '           /                                                \n",
       "TDISP7  = 'F8.4    '           /                                                \n",
       "TBUCD7  = 'pos;stat.error'     /                                                \n",
       "TUCD7   = 'pos;stat.error'     /                                                \n",
       "TLMIN7  =             0.000000 /                                                \n",
       "TTYPE8  = 'Conf_68_PosAng'     /                                                \n",
       "TFORM8  = 'E       '           /                                                \n",
       "TUNIT8  = 'deg     '           /                                                \n",
       "TDISP8  = 'F8.3    '           /                                                \n",
       "TTYPE9  = 'Conf_95_SemiMajor'  /                                                \n",
       "TFORM9  = 'E       '           /                                                \n",
       "TUNIT9  = 'deg     '           /                                                \n",
       "TDISP9  = 'F8.4    '           /                                                \n",
       "TBUCD9  = 'pos;stat.error'     /                                                \n",
       "TUCD9   = 'pos;stat.error'     /                                                \n",
       "TLMIN9  =             0.000000 /                                                \n",
       "TTYPE10 = 'Conf_95_SemiMinor'  /                                                \n",
       "TFORM10 = 'E       '           /                                                \n",
       "TUNIT10 = 'deg     '           /                                                \n",
       "TDISP10 = 'F8.4    '           /                                                \n",
       "TBUCD10 = 'pos;stat.error'     /                                                \n",
       "TUCD10  = 'pos;stat.error'     /                                                \n",
       "TLMIN10 =             0.000000 /                                                \n",
       "TTYPE11 = 'Conf_95_PosAng'     /                                                \n",
       "TFORM11 = 'E       '           /                                                \n",
       "TUNIT11 = 'deg     '           /                                                \n",
       "TDISP11 = 'F8.3    '           /                                                \n",
       "TTYPE12 = 'ROI_num '           /                                                \n",
       "TFORM12 = 'I       '           /                                                \n",
       "TTYPE13 = 'Signif_Avg'         /                                                \n",
       "TFORM13 = 'E       '           /                                                \n",
       "TDISP13 = 'F8.3    '           /                                                \n",
       "TLMIN13 =             0.000000 /                                                \n",
       "TTYPE14 = 'Pivot_Energy'       /                                                \n",
       "TFORM14 = 'E       '           /                                                \n",
       "TUNIT14 = 'MeV     '           /                                                \n",
       "TDISP14 = 'F10.2   '           /                                                \n",
       "TBUCD14 = 'em.energy'          /                                                \n",
       "TUCD14  = 'em.energy'          /                                                \n",
       "TLMIN14 =             0.000000 /                                                \n",
       "TTYPE15 = 'Flux_Density'       /                                                \n",
       "TFORM15 = 'E       '           /                                                \n",
       "TUNIT15 = 'photon/cm**2/MeV/s' /                                                \n",
       "TDISP15 = 'E10.4   '           /                                                \n",
       "TBUCD15 = 'phot.flux.density'  /                                                \n",
       "TUCD15  = 'phot.flux.density'  /                                                \n",
       "TLMIN15 =             0.000000 /                                                \n",
       "TTYPE16 = 'Unc_Flux_Density'   /                                                \n",
       "TFORM16 = 'E       '           /                                                \n",
       "TUNIT16 = 'photon/cm**2/MeV/s' /                                                \n",
       "TDISP16 = 'E10.4   '           /                                                \n",
       "TBUCD16 = 'phot.flux.density;stat.error' /                                      \n",
       "TUCD16  = 'phot.flux.density;stat.error' /                                      \n",
       "TLMIN16 =             0.000000 /                                                \n",
       "TTYPE17 = 'Flux1000'           /                                                \n",
       "TFORM17 = 'E       '           /                                                \n",
       "TUNIT17 = 'photon/cm**2/s'     /                                                \n",
       "TDISP17 = 'E10.4   '           /                                                \n",
       "TBUCD17 = 'phot.count;em.gamma' / UCD for Flux1000                              \n",
       "TUCD17  = 'phot.count;em.gamma' /                                               \n",
       "TEMIN17 =              1000.00 / [MeV]                                          \n",
       "TEMAX17 =        100000.000000 / [MeV]                                          \n",
       "TTYPE18 = 'Unc_Flux1000'       /                                                \n",
       "TFORM18 = 'E       '           /                                                \n",
       "TUNIT18 = 'photon/cm**2/s'     /                                                \n",
       "TBUCD18 = 'phot.count;em.gamma;stat.error' / UCD for Unc_Flux1000               \n",
       "TUCD18  = 'phot.count;em.gamma;stat.error' /                                    \n",
       "TEMIN18 =              1000.00 / [MeV]                                          \n",
       "TEMAX18 =        100000.000000 / [MeV]                                          \n",
       "TTYPE19 = 'Energy_Flux100'     /                                                \n",
       "TFORM19 = 'E       '           /                                                \n",
       "TUNIT19 = 'erg/cm**2/s'        /                                                \n",
       "TDISP19 = 'E10.4   '           /                                                \n",
       "TBUCD19 = 'phot.flux'          /                                                \n",
       "TUCD19  = 'phot.flux'          /                                                \n",
       "TEMIN19 =              100.000 / [MeV]                                          \n",
       "TEMAX19 =        100000.000000 / [MeV]                                          \n",
       "TTYPE20 = 'Unc_Energy_Flux100' /                                                \n",
       "TFORM20 = 'E       '           /                                                \n",
       "TUNIT20 = 'erg/cm**2/s'        /                                                \n",
       "TDISP20 = 'E10.4   '           /                                                \n",
       "TBUCD20 = 'phot.flux;stat.error' /                                              \n",
       "TUCD20  = 'phot.flux;stat.error' /                                              \n",
       "TEMIN20 =              100.000 / [MeV]                                          \n",
       "TEMAX20 =        100000.000000 / [MeV]                                          \n",
       "TTYPE21 = 'Signif_Curve'       /                                                \n",
       "TFORM21 = 'E       '           /                                                \n",
       "TDISP21 = 'F10.2   '           /                                                \n",
       "TTYPE22 = 'SpectrumType'       /                                                \n",
       "TFORM22 = '16A     '           /                                                \n",
       "TTYPE23 = 'Spectral_Index'     /                                                \n",
       "TFORM23 = 'E       '           /                                                \n",
       "TDISP23 = 'F8.4    '           /                                                \n",
       "TBUCD23 = 'spect.index'        /                                                \n",
       "TUCD23  = 'spect.index'        /                                                \n",
       "TLMIN23 =             0.000000 /                                                \n",
       "TLMAX23 =              5.00000 /                                                \n",
       "TTYPE24 = 'Unc_Spectral_Index' /                                                \n",
       "TFORM24 = 'E       '           /                                                \n",
       "TDISP24 = 'F8.4    '           /                                                \n",
       "TBUCD24 = 'spect.index;stat.error' /                                            \n",
       "TUCD24  = 'spect.index;stat.error' /                                            \n",
       "TLMIN24 =             0.000000 /                                                \n",
       "TTYPE25 = 'beta    '           /                                                \n",
       "TFORM25 = 'E       '           /                                                \n",
       "TDISP25 = 'F8.4    '           /                                                \n",
       "TTYPE26 = 'Unc_beta'           /                                                \n",
       "TFORM26 = 'E       '           /                                                \n",
       "TDISP26 = 'F8.4    '           /                                                \n",
       "TTYPE27 = 'Cutoff  '           /                                                \n",
       "TFORM27 = 'E       '           /                                                \n",
       "TUNIT27 = 'MeV     '           /                                                \n",
       "TDISP27 = 'F10.2   '           /                                                \n",
       "TTYPE28 = 'Unc_Cutoff'         /                                                \n",
       "TFORM28 = 'E       '           /                                                \n",
       "TUNIT28 = 'MeV     '           /                                                \n",
       "TDISP28 = 'F10.2   '           /                                                \n",
       "TTYPE29 = 'Exp_Index'          /                                                \n",
       "TFORM29 = 'E       '           /                                                \n",
       "TDISP29 = 'F8.4    '           /                                                \n",
       "TTYPE30 = 'Unc_Exp_Index'      /                                                \n",
       "TFORM30 = 'E       '           /                                                \n",
       "TDISP30 = 'F8.4    '           /                                                \n",
       "TTYPE31 = 'PowerLaw_Index'     /                                                \n",
       "TFORM31 = 'E       '           /                                                \n",
       "TDISP31 = 'F8.4    '           /                                                \n",
       "TBUCD31 = 'spect.index'        /                                                \n",
       "TUCD31  = 'spect.index'        /                                                \n",
       "TTYPE32 = 'Flux30_100'         /                                                \n",
       "TFORM32 = 'E       '           /                                                \n",
       "TUNIT32 = 'photon/cm**2/s'     /                                                \n",
       "TBUCD32 = 'phot.count;em.gamma' /                                               \n",
       "TUCD32  = 'phot.count;em.gamma' /                                               \n",
       "TTYPE33 = 'Unc_Flux30_100'     /                                                \n",
       "TFORM33 = 'E       '           /                                                \n",
       "TUNIT33 = 'photon/cm**2/s'     /                                                \n",
       "TBUCD33 = 'phot.count;em.gamma;stat.error' /                                    \n",
       "TUCD33  = 'phot.count;em.gamma;stat.error' /                                    \n",
       "TTYPE34 = 'nuFnu30_100'        /                                                \n",
       "TFORM34 = 'E       '           /                                                \n",
       "TUNIT34 = 'erg/cm**2/s'        /                                                \n",
       "TBUCD34 = 'phot.flux.density;em.gamma' /                                        \n",
       "TUCD34  = 'phot.flux.density;em.gamma' /                                        \n",
       "TTYPE35 = 'Sqrt_TS30_100'      /                                                \n",
       "TFORM35 = 'E       '           /                                                \n",
       "TDISP35 = 'F8.3    '           /                                                \n",
       "TLMIN35 =             0.000000 /                                                \n",
       "TTYPE36 = 'Flux100_300'        /                                                \n",
       "TFORM36 = 'E       '           /                                                \n",
       "TUNIT36 = 'photon/cm**2/s'     /                                                \n",
       "TBUCD36 = 'phot.count;em.gamma' / UCD for Flux100_300                           \n",
       "TUCD36  = 'phot.count;em.gamma' /                                               \n",
       "TTYPE37 = 'Unc_Flux100_300'    /                                                \n",
       "TFORM37 = '2E      '           /                                                \n",
       "TUNIT37 = 'photon/cm**2/s'     /                                                \n",
       "TBUCD37 = 'phot.count;em.gamma;stat.error' / UCD for Unc_Flux100_300            \n",
       "TUCD37  = 'phot.count;em.gamma;stat.error' /                                    \n",
       "TTYPE38 = 'nuFnu100_300'       /                                                \n",
       "TFORM38 = 'E       '           /                                                \n",
       "TUNIT38 = 'erg/cm**2/s'        /                                                \n",
       "TBUCD38 = 'phot.flux.density;em.gamma' / UCD for nuFnu100_300                   \n",
       "TUCD38  = 'phot.flux.density;em.gamma' /                                        \n",
       "TTYPE39 = 'Sqrt_TS100_300'     /                                                \n",
       "TFORM39 = 'E       '           /                                                \n",
       "TDISP39 = 'F8.3    '           /                                                \n",
       "TLMIN39 =             0.000000 /                                                \n",
       "TTYPE40 = 'Flux300_1000'       /                                                \n",
       "TFORM40 = 'E       '           /                                                \n",
       "TUNIT40 = 'photon/cm**2/s'     /                                                \n",
       "TBUCD40 = 'phot.count;em.gamma' / UCD for Flux300_1000                          \n",
       "TUCD40  = 'phot.count;em.gamma' /                                               \n",
       "TTYPE41 = 'Unc_Flux300_1000'   /                                                \n",
       "TFORM41 = '2E      '           /                                                \n",
       "TUNIT41 = 'photon/cm**2/s'     /                                                \n",
       "TBUCD41 = 'phot.count;em.gamma;stat.error' / UCD for Unc_Flux300_1000           \n",
       "TUCD41  = 'phot.count;em.gamma;stat.error' /                                    \n",
       "TTYPE42 = 'nuFnu300_1000'      /                                                \n",
       "TFORM42 = 'E       '           /                                                \n",
       "TUNIT42 = 'erg/cm**2/s'        /                                                \n",
       "TBUCD42 = 'phot.flux.density;em.gamma' / UCD for nuFnu300_1000                  \n",
       "TUCD42  = 'phot.flux.density;em.gamma' /                                        \n",
       "TTYPE43 = 'Sqrt_TS300_1000'    /                                                \n",
       "TFORM43 = 'E       '           /                                                \n",
       "TDISP43 = 'F8.3    '           /                                                \n",
       "TLMIN43 =             0.000000 /                                                \n",
       "TTYPE44 = 'Flux1000_3000'      /                                                \n",
       "TFORM44 = 'E       '           /                                                \n",
       "TUNIT44 = 'photon/cm**2/s'     /                                                \n",
       "TBUCD44 = 'phot.count;em.gamma' / UCD for Flux1000_3000                         \n",
       "TUCD44  = 'phot.count;em.gamma' /                                               \n",
       "TTYPE45 = 'Unc_Flux1000_3000'  /                                                \n",
       "TFORM45 = '2E      '           /                                                \n",
       "TUNIT45 = 'photon/cm**2/s'     /                                                \n",
       "TBUCD45 = 'phot.count;em.gamma;stat.error' / UCD for Unc_Flux1000_3000          \n",
       "TUCD45  = 'phot.count;em.gamma;stat.error' /                                    \n",
       "TTYPE46 = 'nuFnu1000_3000'     /                                                \n",
       "TFORM46 = 'E       '           /                                                \n",
       "TUNIT46 = 'erg/cm**2/s'        /                                                \n",
       "TBUCD46 = 'phot.flux.density;em.gamma' / UCD for nuFnu1000_3000                 \n",
       "TUCD46  = 'phot.flux.density;em.gamma' /                                        \n",
       "TTYPE47 = 'Sqrt_TS1000_3000'   /                                                \n",
       "TFORM47 = 'E       '           /                                                \n",
       "TDISP47 = 'F8.3    '           /                                                \n",
       "TLMIN47 =             0.000000 /                                                \n",
       "TTYPE48 = 'Flux3000_10000'     /                                                \n",
       "TFORM48 = 'E       '           /                                                \n",
       "TUNIT48 = 'photon/cm**2/s'     /                                                \n",
       "TBUCD48 = 'phot.count;em.gamma' / UCD for Flux3000_10000                        \n",
       "TUCD48  = 'phot.count;em.gamma' /                                               \n",
       "TTYPE49 = 'Unc_Flux3000_10000' /                                                \n",
       "TFORM49 = '2E      '           /                                                \n",
       "TUNIT49 = 'photon/cm**2/s'     /                                                \n",
       "TBUCD49 = 'phot.count;em.gamma;stat.error' / UCD for Unc_Flux3000_10000         \n",
       "TUCD49  = 'phot.count;em.gamma;stat.error' /                                    \n",
       "TTYPE50 = 'nuFnu3000_10000'    /                                                \n",
       "TFORM50 = 'E       '           /                                                \n",
       "TUNIT50 = 'erg/cm**2/s'        /                                                \n",
       "TBUCD50 = 'phot.flux.density;em.gamma' / UCD for nuFnu3000_10000                \n",
       "TUCD50  = 'phot.flux.density;em.gamma' /                                        \n",
       "TTYPE51 = 'Sqrt_TS3000_10000'  /                                                \n",
       "TFORM51 = 'E       '           /                                                \n",
       "TDISP51 = 'F8.3    '           /                                                \n",
       "TLMIN51 =             0.000000 /                                                \n",
       "TTYPE52 = 'Flux10000_100000'   /                                                \n",
       "TFORM52 = 'E       '           /                                                \n",
       "TUNIT52 = 'photon/cm**2/s'     /                                                \n",
       "TBUCD52 = 'phot.count;em.gamma' / UCD for Flux10000_100000                      \n",
       "TUCD52  = 'phot.count;em.gamma' /                                               \n",
       "TTYPE53 = 'Unc_Flux10000_100000' /                                              \n",
       "TFORM53 = '2E      '           /                                                \n",
       "TUNIT53 = 'photon/cm**2/s'     /                                                \n",
       "TBUCD53 = 'phot.count;em.gamma;stat.error' / UCD for Unc_Flux10000_100000       \n",
       "TUCD53  = 'phot.count;em.gamma;stat.error' /                                    \n",
       "TTYPE54 = 'nuFnu10000_100000'  /                                                \n",
       "TFORM54 = 'E       '           /                                                \n",
       "TUNIT54 = 'erg/cm**2/s'        /                                                \n",
       "TBUCD54 = 'phot.flux.density;em.gamma' / UCD for nuFnu10000_100000              \n",
       "TUCD54  = 'phot.flux.density;em.gamma' /                                        \n",
       "TTYPE55 = 'Sqrt_TS10000_100000' /                                               \n",
       "TFORM55 = 'E       '           /                                                \n",
       "TDISP55 = 'F8.3    '           /                                                \n",
       "TLMIN55 =             0.000000 /                                                \n",
       "TTYPE56 = 'Variability_Index'  /                                                \n",
       "TFORM56 = 'E       '           /                                                \n",
       "TTYPE57 = 'Signif_Peak'        /                                                \n",
       "TFORM57 = 'E       '           /                                                \n",
       "TTYPE58 = 'Flux_Peak'          /                                                \n",
       "TFORM58 = 'E       '           /                                                \n",
       "TUNIT58 = 'photon/cm**2/s'     /                                                \n",
       "TEMIN58 =              100.000 / [MeV]                                          \n",
       "TEMAX58 =        100000.000000 / [MeV]                                          \n",
       "TTYPE59 = 'Unc_Flux_Peak'      /                                                \n",
       "TFORM59 = 'E       '           /                                                \n",
       "TUNIT59 = 'photon/cm**2/s'     /                                                \n",
       "TEMIN59 =              100.000 / [MeV]                                          \n",
       "TEMAX59 =        100000.000000 / [MeV]                                          \n",
       "TTYPE60 = 'Time_Peak'          /                                                \n",
       "TFORM60 = 'D       '           /                                                \n",
       "TUNIT60 = 's       '           /                                                \n",
       "TTYPE61 = 'Peak_Interval'      /                                                \n",
       "TFORM61 = 'E       '           /                                                \n",
       "TUNIT61 = 's       '           /                                                \n",
       "TTYPE62 = 'Flux_History'       /                                                \n",
       "TFORM62 = '48E     '           /                                                \n",
       "TUNIT62 = 'photon/cm**2/s'     /                                                \n",
       "TEMIN62 =              100.000 / [MeV]                                          \n",
       "TEMAX62 =        100000.000000 / [MeV]                                          \n",
       "TTYPE63 = 'Unc_Flux_History'   /                                                \n",
       "TFORM63 = '96E     '           /                                                \n",
       "TUNIT63 = 'photon/cm**2/s'     /                                                \n",
       "TDIM63  = '( 2, 48)'           /                                                \n",
       "TEMIN63 =              100.000 / [MeV]                                          \n",
       "TEMAX63 =        100000.000000 / [MeV]                                          \n",
       "TTYPE64 = 'Extended_Source_Name' /                                              \n",
       "TFORM64 = '18A     '           /                                                \n",
       "TTYPE65 = '0FGL_Name'          /                                                \n",
       "TFORM65 = '17A     '           /                                                \n",
       "TTYPE66 = '1FGL_Name'          /                                                \n",
       "TFORM66 = '18A     '           /                                                \n",
       "TTYPE67 = '2FGL_Name'          /                                                \n",
       "TFORM67 = '18A     '           /                                                \n",
       "TTYPE68 = '1FHL_Name'          /                                                \n",
       "TFORM68 = '18A     '           /                                                \n",
       "TTYPE77 = 'Flags   '           /                                                \n",
       "TFORM77 = 'I       '           /                                                \n",
       "COMMENT                                                                         \n",
       "COMMENT  *** Column dimensions (2 D or greater) ***                             \n",
       "COMMENT                                                                         \n",
       "HDUCLAS1= 'SRCLIST '                                                            \n",
       "TELESCOP= 'GLAST   '                                                            \n",
       "INSTRUME= 'LAT     '                                                            \n",
       "EQUINOX =               2000.0                                                  \n",
       "RADECSYS= 'FK5     '                                                            \n",
       "DATE    = '2014-06-13T15:45:57'                                                 \n",
       "DATE-OBS= '2008-08-02T19:59:59.0000'                                            \n",
       "DATE-END= '2012-07-31T22:45:47.0000'                                            \n",
       "TSTART  =          239400000.0                                                  \n",
       "TSTOP   =          365467550.0                                                  \n",
       "TIMEUNIT= 's       '                                                            \n",
       "TIMESYS = 'TT      '                                                            \n",
       "MJDREFI =              51910.0                                                  \n",
       "MJDREFF = '7.428703703703703D-4' /Frac. part of MJD of SC clock start           \n",
       "OBSERVER= 'Peter Michelson'                                                     \n",
       "ORIGIN  = 'LISOC   '                                                            \n",
       "CREATOR = 'PointSourceCat'                                                      \n",
       "VERSION = 'v16     '           /                                                \n",
       "EXTNAME = 'LAT_Point_Source_Catalog'                                            \n",
       "HDUDOC  = 'GLAST Project Science Data products format document'                 \n",
       "HDUCLASS= 'OGIP    '                                                            \n",
       "HDUVERS = '1.0.0   '                                                            \n",
       "CDS-NAME= '3FGL    '                                                            \n",
       "STVERS  = 'ScienceTools-LATEST-3992'                                            \n",
       "PIPVERS = 'Gpipeline-v3r39'                                                     \n",
       "RUNNAME = '4years_uw30'                                                         \n",
       "RSPFUNC = 'P7REP_SOURCE_V15'                                                    \n",
       "TSMIN   =                   25                                                  \n",
       "EMIN    =                  100                                                  \n",
       "EMAX    =             300000.0                                                  \n",
       "SYSREL  =                  0.0                                                  \n",
       "ERRUPLIM=                  2.0                                                  \n",
       "TSUPLIM =                  1.0                                                  \n",
       "ERPOSABS=                0.005                                                  \n",
       "ERPOSFAC=                 1.05                                                  \n",
       "TSCURMIN=                   16                                                  \n",
       "CHECKSUM= 'dMGaeLFUdLFadLFU'   / HDU checksum updated 2015-05-16T17:27:07       \n",
       "DATASUM = '1942102386'         / data unit checksum updated 2015-05-16T17:27:07 \n",
       "ERFLUVAR=                 0.02                                                  \n",
       "VARMODE = 'loglike '                                                            \n",
       "VARMIN  =        72.4433073201                                                  \n",
       "TFORM69 = '15A     '           /                                                \n",
       "TFORM70 = '14A     '           /                                                \n",
       "TFORM71 = '15A     '           /                                                \n",
       "TFORM72 = 'A       '           /                                                \n",
       "TFORM73 = '21A     '           /                                                \n",
       "TFORM74 = '5A      '           /                                                \n",
       "TFORM75 = '26A     '           /                                                \n",
       "TFORM76 = '26A     '           /                                                \n",
       "HISTORY File modified by user 'jbb' with fv  on 2014-06-13T15:49:21             \n",
       "HISTORY File modified by user 'jbb' with fv  on 2014-06-13T19:02:33             \n",
       "HISTORY File modified by user 'jbb' with fv  on 2014-07-16T11:34:31             \n",
       "HISTORY File modified by user 'jbb' with fv  on 2014-07-16T15:08:34             \n",
       "HISTORY File modified by user 'jbb' with fv  on 2014-07-22T10:41:48             \n",
       "HISTORY File modified by user 'jbb' with fv  on 2014-07-23T15:10:28             \n",
       "HISTORY File modified by user 'jbb' with fv  on 2014-11-04T18:06:07             \n",
       "HISTORY Column ID_Number is copied from file gll_psc4yearsource_v13r3_assoc_v6r9\n",
       "HISTORY p1.fit                                                                  \n",
       "HISTORY Column ID_Name is copied from file gll_psc4yearsource_v13r3_assoc_v6r9p1\n",
       "HISTORY .fit                                                                    \n",
       "HISTORY Column ID_Probability is copied from file gll_psc4yearsource_v13r3_assoc\n",
       "HISTORY _v6r9p1.fit                                                             \n",
       "HISTORY Column ID_RA is copied from file gll_psc4yearsource_v13r3_assoc_v6r9p1.f\n",
       "HISTORY it                                                                      \n",
       "HISTORY Column ID_DEC is copied from file gll_psc4yearsource_v13r3_assoc_v6r9p1.\n",
       "HISTORY fit                                                                     \n",
       "HISTORY Column ID_Angsep is copied from file gll_psc4yearsource_v13r3_assoc_v6r9\n",
       "HISTORY p1.fit                                                                  \n",
       "HISTORY Column ID_Catalog is copied from file gll_psc4yearsource_v13r3_assoc_v6r\n",
       "HISTORY 9p1.fit                                                                 \n",
       "HISTORY Column Flags is copied from file gll_psc4yearsource_v13r4_assoc_v6r7p1_f\n",
       "HISTORY lags.fit                                                                \n",
       "HISTORY File modified by user 'jbb' with fv  on 2014-12-24T19:12:41             \n",
       "HISTORY File modified by user 'jbb' with fv  on 2015-03-15T02:55:46             \n",
       "HISTORY File modified by user 'jbb' with fv  on 2015-03-17T20:52:37             \n",
       "TEMIN36 =              100.000 / [MeV]                                          \n",
       "TEMAX36 =        300.000000000 / [MeV]                                          \n",
       "TEMIN37 =              100.000 / [MeV]                                          \n",
       "TEMAX37 =        300.000000000 / [MeV]                                          \n",
       "TEMIN38 =              100.000 / [MeV]                                          \n",
       "TEMAX38 =        300.000000000 / [MeV]                                          \n",
       "TEMIN40 =              300.000 / [MeV]                                          \n",
       "TEMAX40 =        1000.00000000 / [MeV]                                          \n",
       "TEMIN41 =              300.000 / [MeV]                                          \n",
       "TEMAX41 =        1000.00000000 / [MeV]                                          \n",
       "TEMIN42 =              300.000 / [MeV]                                          \n",
       "TEMAX42 =        1000.00000000 / [MeV]                                          \n",
       "TEMIN44 =              1000.00 / [MeV]                                          \n",
       "TEMAX44 =        3000.00000000 / [MeV]                                          \n",
       "TEMIN45 =              1000.00 / [MeV]                                          \n",
       "TEMAX45 =        3000.00000000 / [MeV]                                          \n",
       "TEMIN46 =              1000.00 / [MeV]                                          \n",
       "TEMAX46 =        3000.00000000 / [MeV]                                          \n",
       "TEMIN48 =              3000.00 / [MeV]                                          \n",
       "TEMAX48 =        10000.0000000 / [MeV]                                          \n",
       "TEMIN49 =              3000.00 / [MeV]                                          \n",
       "TEMAX49 =        10000.0000000 / [MeV]                                          \n",
       "TEMIN50 =              3000.00 / [MeV]                                          \n",
       "TEMAX50 =        10000.0000000 / [MeV]                                          \n",
       "TEMIN52 =              10000.0 / [MeV]                                          \n",
       "TEMAX52 =        100000.000000 / [MeV]                                          \n",
       "TEMIN53 =              10000.0 / [MeV]                                          \n",
       "TEMAX53 =        100000.000000 / [MeV]                                          \n",
       "TEMIN54 =              10000.0 / [MeV]                                          \n",
       "TEMAX54 =        100000.000000 / [MeV]                                          "
      ]
     },
     "execution_count": 11,
     "metadata": {},
     "output_type": "execute_result"
    }
   ],
   "source": [
    "hdul[1].header"
   ]
  },
  {
   "cell_type": "code",
   "execution_count": 12,
   "metadata": {
    "scrolled": false
   },
   "outputs": [
    {
     "data": {
      "text/plain": [
       "XTENSION= 'BINTABLE'           / binary table extension                         \n",
       "BITPIX  =                    8 / array data type                                \n",
       "NAXIS   =                    2 / number of array dimensions                     \n",
       "NAXIS1  =                   46 / length of dimension 1                          \n",
       "NAXIS2  =                  840 / length of dimension 2                          \n",
       "PCOUNT  =                    0 / number of group parameters                     \n",
       "GCOUNT  =                    1 / number of groups                               \n",
       "TFIELDS =                   12 / number of table fields                         \n",
       "COMMENT                                                                         \n",
       "COMMENT  *** End of mandatory fields ***                                        \n",
       "COMMENT                                                                         \n",
       "COMMENT                                                                         \n",
       "COMMENT  *** Column names ***                                                   \n",
       "COMMENT                                                                         \n",
       "TTYPE1  = 'ROI_num '           /                                                \n",
       "COMMENT                                                                         \n",
       "COMMENT  *** Column formats ***                                                 \n",
       "COMMENT                                                                         \n",
       "TFORM1  = 'I       '           /                                                \n",
       "TTYPE2  = 'RAJ2000 '           /                                                \n",
       "TFORM2  = 'E       '           /                                                \n",
       "TUNIT2  = 'deg     '           /                                                \n",
       "TDISP2  = 'F8.4    '           /                                                \n",
       "TTYPE3  = 'DEJ2000 '           /                                                \n",
       "TFORM3  = 'E       '           /                                                \n",
       "TUNIT3  = 'deg     '           /                                                \n",
       "TDISP3  = 'F8.4    '           /                                                \n",
       "TTYPE4  = 'GLON    '           /                                                \n",
       "TFORM4  = 'E       '           /                                                \n",
       "TUNIT4  = 'deg     '           /                                                \n",
       "TDISP4  = 'F8.4    '           /                                                \n",
       "TTYPE5  = 'GLAT    '           /                                                \n",
       "TFORM5  = 'E       '           /                                                \n",
       "TUNIT5  = 'deg     '           /                                                \n",
       "TDISP5  = 'F8.4    '           /                                                \n",
       "TTYPE6  = 'RADIUS  '           /                                                \n",
       "TFORM6  = 'E       '           /                                                \n",
       "TUNIT6  = 'deg     '           /                                                \n",
       "TDISP6  = 'F8.4    '           /                                                \n",
       "TTYPE7  = 'PARNAM1 '           /                                                \n",
       "TFORM7  = 'E       '           /                                                \n",
       "TDISP7  = 'F8.5    '           /                                                \n",
       "TTYPE8  = 'Unc_PARNAM1'        /                                                \n",
       "TFORM8  = 'E       '           /                                                \n",
       "TDISP8  = 'F8.5    '           /                                                \n",
       "TTYPE9  = 'PARNAM2 '           /                                                \n",
       "TFORM9  = 'E       '           /                                                \n",
       "TDISP9  = 'F8.5    '           /                                                \n",
       "TTYPE10 = 'Unc_PARNAM2'        /                                                \n",
       "TFORM10 = 'E       '           /                                                \n",
       "TDISP10 = 'F8.5    '           /                                                \n",
       "TTYPE11 = 'PARNAM3 '           /                                                \n",
       "TFORM11 = 'E       '           /                                                \n",
       "TDISP11 = 'F8.5    '           /                                                \n",
       "TTYPE12 = 'Unc_PARNAM3'        /                                                \n",
       "TFORM12 = 'E       '           /                                                \n",
       "TDISP12 = 'F8.5    '           /                                                \n",
       "TELESCOP= 'GLAST   '           / name of telescope generating data              \n",
       "INSTRUME= 'LAT     '           / name of instrument generating data             \n",
       "EQUINOX =               2000.0 / equinox for ra and dec                         \n",
       "RADECSYS= 'FK5     '           / world coord. system for this file (FK5 or FK4) \n",
       "DATE    = '2014-01-10T14:12:00' / file creation date (UTC)                      \n",
       "DATE-OBS= '2008-08-02T19:59:59.0000' / start date/time of the obs. (UTC)        \n",
       "DATE-END= '2012-07-31T22:45:47.0000' / end date/time of the obs. (UTC)          \n",
       "TSTART  =        239400000.000 / mission time of the obs. start                 \n",
       "TSTOP   =          365467550.0 / mission time of the obs. end                   \n",
       "TIMEUNIT= 's       '           / units for the time related keywords            \n",
       "TIMESYS = 'TT      '           / type of time system that is used               \n",
       "MJDREFI =              51910.0 / Integer part of MJD corresponding to SC clock s\n",
       "MJDREFF = '7.428703703703703D-4' /Frac. part of MJD of SC clock start           \n",
       "OBSERVER= 'Peter Michelson'    / GLAST/LAT PI                                   \n",
       "ORIGIN  = 'LISOC   '           / name of organization making file               \n",
       "CREATOR = 'PointSourceCat'     / software and version creating file             \n",
       "VERSION = 'v16     '           / release version of the file                    \n",
       "ST_VERS = 'ScienceTools-LATEST-3988' / ScienceTools version                     \n",
       "RSPFUNC = 'P7REP_SOURCE_V15'   / Response function                              \n",
       "OPTIM   = 'NewMinuit'                                                           \n",
       "SAFE    =                  7.0 / safety_value for ring                          \n",
       "RATIO   = '[0.1, 0.3, 1, 1, 0]' / flux-threshold                                \n",
       "TSCRITIC= '[1, 4, 9, 16, 25]'  / Critical Ts value                              \n",
       "EXTNAME = 'ROIs    '           / name of this binary table extension            \n",
       "HDUDOC  = 'GLAST Project Science Data products format document' / Document descr\n",
       "HDUCLASS= 'OGIP    '           / format conforms to OGIP standard               \n",
       "HDUVERS = '1.0.0   '           / version of the format                          \n",
       "HDUCLAS1= 'SRCLIST '           / an OGIP standard class                         \n",
       "STVERS  = 'ScienceTools-LATEST-3988' / ScienceTools version                     \n",
       "PIPVERS = 'Gpipeline-v3r35'    / Pipeline code version                          \n",
       "RUNNAME = '4years_uw29'        / Name of Run                                    \n",
       "TSMIN   = '[1, 4, 9, 16, 25]'  / Test Statistic Treshold                        \n",
       "EMIN    =                100.0 / low limit for the energy band (MeV)            \n",
       "EMAX    =             300000.0 / high limit for the energy band (MeV)           \n",
       "SYSREL  =                  0.0 / Relative systematic error for flux             \n",
       "ERRUPLIM=                  2.0 / Minimum Relative error for Upperlimits         \n",
       "TSUPLIM =                  1.0 / Maximum TS for Upperlimits                     \n",
       "ERPOSABS=                  0.0 / Systematic position error radius               \n",
       "ERPOSFAC=                  1.0 / Security factor on position error              \n",
       "TSCURMIN=                   16 / TSCurve threshold for moving to curved spectrum\n",
       "PARNAM1 = 'gal_4yearP7v15_v3 Prefactor'                                         \n",
       "PARNAM2 = 'gal_4yearP7v15_v3 Index'                                             \n",
       "PARNAM3 = 'iso_P7v15R_Source Normalization'                                     \n",
       "HISTORY File modified by user 'jbb' with fv  on 2014-06-13T15:42:40             \n",
       "DATASUM = '3865405882'         / data unit checksum updated 2015-05-16T17:27:07 \n",
       "HISTORY TASK: FAPPND on FILENAME: gll_psc4yearsource_v13r4_assoc_v6r7p1_flags.fi\n",
       "HISTORY t+4                                                                     \n",
       "HISTORY fappend3.0a at 2014-11-05T09:51:39                                      \n",
       "HISTORY File modified by user 'jbb' with fv  on 2014-12-24T19:52:23             \n",
       "CHECKSUM= 'lRAOmR4NlR9NlR9N'   / HDU checksum updated 2015-05-16T17:27:07       \n",
       "                                                                                "
      ]
     },
     "execution_count": 12,
     "metadata": {},
     "output_type": "execute_result"
    }
   ],
   "source": [
    "hdul[2].header"
   ]
  },
  {
   "cell_type": "code",
   "execution_count": 14,
   "metadata": {},
   "outputs": [],
   "source": [
    "cat = hdul['LAT_Point_Source_Catalog'].data"
   ]
  },
  {
   "cell_type": "code",
   "execution_count": 18,
   "metadata": {},
   "outputs": [
    {
     "data": {
      "text/plain": [
       "(3034,)"
      ]
     },
     "execution_count": 18,
     "metadata": {},
     "output_type": "execute_result"
    }
   ],
   "source": [
    "cat.shape"
   ]
  },
  {
   "cell_type": "code",
   "execution_count": 22,
   "metadata": {
    "scrolled": true
   },
   "outputs": [
    {
     "data": {
      "text/plain": [
       "('3FGL J0000.1+6545', 0.037700001, 65.751701, 117.69388, 3.4029577, 0.062844507, 0.04810473, 41.029999, 0.1019, 0.078000002, 41.029999, 185, 6.8131251, 1159.0813, 1.0053431e-12, 1.4910649e-13, 1.0159622e-09, 1.5759212e-10, 1.3569529e-11, 2.0731739e-12, 3.396615, 'PowerLaw', 2.4109559, 0.082320817, -inf, -inf, -inf, -inf, -inf, -inf, 2.4109559, nan, nan, nan, nan, 1.8083163e-08, array([ -8.39547987e-09,   8.23604474e-09], dtype=float32), 4.1752856e-12, 2.1687548, 6.9407333e-09, array([ -1.35280975e-09,   1.36691991e-09], dtype=float32), 4.5436471e-12, 5.269711, 1.2366493e-09, array([ -2.25127750e-10,   2.34346764e-10], dtype=float32), 2.8553431e-12, 6.0222402, 5.7805202e-11, array([ -4.04456989e-11,   4.85339581e-11], dtype=float32), 3.7841312e-13, 1.5091934, 2.8396294e-11, array([ -1.48427694e-11,   1.91547004e-11], dtype=float32), 4.3172041e-13, 2.4211686, 40.753517, -inf, -inf, -inf, -inf, -inf, array([  6.36156727e-08,   2.67766165e-08,   2.19423022e-08,\n",
       "         2.31610393e-08,   4.57287648e-08,   2.18158878e-08,\n",
       "         6.49450769e-08,   3.80132104e-09,   2.04316137e-08,\n",
       "         4.60781919e-08,   2.06496402e-08,   2.50139909e-10,\n",
       "         5.47111050e-08,   3.10791464e-08,   2.04417017e-08,\n",
       "         6.32977262e-08,   1.73925621e-08,   4.56306886e-08,\n",
       "         1.59792304e-08,   5.62450957e-08,   2.60060347e-08,\n",
       "         4.28817408e-08,   1.51694248e-08,   2.38721771e-08,\n",
       "         6.66027660e-08,   3.29422107e-08,   8.26633340e-09,\n",
       "         8.38763370e-09,   4.03161629e-08,   0.00000000e+00,\n",
       "         0.00000000e+00,   4.34403979e-08,   3.99362641e-08,\n",
       "         7.54032854e-08,   1.60083733e-08,   1.23332287e-08,\n",
       "         9.30836830e-09,   5.20034291e-08,   8.11321321e-09,\n",
       "         1.69237726e-08,   3.92502342e-09,   0.00000000e+00,\n",
       "         0.00000000e+00,   4.45018848e-08,   0.00000000e+00,\n",
       "         3.87832699e-08,   0.00000000e+00,   0.00000000e+00], dtype=float32), array([[ -2.77770393e-08,   2.97679534e-08],\n",
       "       [             nan,   3.01430596e-08],\n",
       "       [ -2.11352607e-08,   2.71632210e-08],\n",
       "       [             nan,   2.53287720e-08],\n",
       "       [ -3.25911067e-08,   3.54492578e-08],\n",
       "       [             nan,   2.70465730e-08],\n",
       "       [ -2.91341582e-08,   3.22145617e-08],\n",
       "       [             nan,   2.79754211e-08],\n",
       "       [             nan,   2.42317189e-08],\n",
       "       [ -3.22563523e-08,   3.41416495e-08],\n",
       "       [             nan,   2.50481218e-08],\n",
       "       [             nan,   3.36930874e-08],\n",
       "       [ -2.74545684e-08,   2.83172792e-08],\n",
       "       [ -1.96826626e-08,   2.43042209e-08],\n",
       "       [             nan,   2.54719126e-08],\n",
       "       [ -2.52548631e-08,   2.69809224e-08],\n",
       "       [             nan,   2.41502747e-08],\n",
       "       [ -2.42260842e-08,   2.63950835e-08],\n",
       "       [             nan,   2.49145877e-08],\n",
       "       [ -2.50655603e-08,   2.68397731e-08],\n",
       "       [ -1.98908516e-08,   2.26280168e-08],\n",
       "       [ -2.66678022e-08,   2.81960766e-08],\n",
       "       [ -1.40172167e-08,   1.91047373e-08],\n",
       "       [ -2.12625739e-08,   2.36898483e-08],\n",
       "       [ -2.69153126e-08,   2.79973751e-08],\n",
       "       [ -2.56000359e-08,   2.73453349e-08],\n",
       "       [             nan,   2.47058818e-08],\n",
       "       [             nan,   1.80786337e-08],\n",
       "       [ -2.74608158e-08,   2.99354426e-08],\n",
       "       [             nan,   2.11937863e-08],\n",
       "       [             nan,   2.04486188e-08],\n",
       "       [ -2.34923672e-08,   2.62422013e-08],\n",
       "       [ -2.50957672e-08,   2.86855357e-08],\n",
       "       [ -2.89843207e-08,   3.04304919e-08],\n",
       "       [             nan,   2.37835032e-08],\n",
       "       [             nan,   2.70532450e-08],\n",
       "       [             nan,   2.10333990e-08],\n",
       "       [ -2.68062905e-08,   2.78087651e-08],\n",
       "       [             nan,   1.98261567e-08],\n",
       "       [             nan,   2.26409966e-08],\n",
       "       [             nan,   2.51851837e-08],\n",
       "       [             nan,   1.84127327e-08],\n",
       "       [             nan,   2.91026190e-08],\n",
       "       [ -2.44305163e-08,   2.60366555e-08],\n",
       "       [             nan,   2.54566377e-08],\n",
       "       [ -2.51675285e-08,   2.73357834e-08],\n",
       "       [             nan,   2.17674252e-08],\n",
       "       [             nan,   2.09131183e-08]], dtype=float32), '', '', '', '2FGL J2359.6+6543c', '', '', '', '', 'N', '', '', '', '', 4)"
      ]
     },
     "execution_count": 22,
     "metadata": {},
     "output_type": "execute_result"
    }
   ],
   "source": [
    "cat[0]"
   ]
  },
  {
   "cell_type": "code",
   "execution_count": 26,
   "metadata": {},
   "outputs": [
    {
     "name": "stdout",
     "output_type": "stream",
     "text": [
      "['3FGL J0000.1+6545' '3FGL J0000.2-3738' '3FGL J0001.0+6314' ...,\n",
      " '3FGL J2358.9+3926' '3FGL J2359.3-3038' '3FGL J2359.5-2052'] (3034,)\n"
     ]
    }
   ],
   "source": [
    "print (cat.field(0), cat.field(0).shape)"
   ]
  },
  {
   "cell_type": "code",
   "execution_count": 27,
   "metadata": {
    "collapsed": true
   },
   "outputs": [],
   "source": [
    "cols = hdul['LAT_Point_Source_Catalog'].columns"
   ]
  },
  {
   "cell_type": "code",
   "execution_count": 28,
   "metadata": {
    "scrolled": true
   },
   "outputs": [
    {
     "data": {
      "text/plain": [
       "ColDefs(\n",
       "    name = 'Source_Name'; format = '18A'\n",
       "    name = 'RAJ2000'; format = 'E'; unit = 'deg'; disp = 'F8.4'\n",
       "    name = 'DEJ2000'; format = 'E'; unit = 'deg'; disp = 'F8.4'\n",
       "    name = 'GLON'; format = 'E'; unit = 'deg'; disp = 'F8.4'\n",
       "    name = 'GLAT'; format = 'E'; unit = 'deg'; disp = 'F8.4'\n",
       "    name = 'Conf_68_SemiMajor'; format = 'E'; unit = 'deg'; disp = 'F8.4'\n",
       "    name = 'Conf_68_SemiMinor'; format = 'E'; unit = 'deg'; disp = 'F8.4'\n",
       "    name = 'Conf_68_PosAng'; format = 'E'; unit = 'deg'; disp = 'F8.3'\n",
       "    name = 'Conf_95_SemiMajor'; format = 'E'; unit = 'deg'; disp = 'F8.4'\n",
       "    name = 'Conf_95_SemiMinor'; format = 'E'; unit = 'deg'; disp = 'F8.4'\n",
       "    name = 'Conf_95_PosAng'; format = 'E'; unit = 'deg'; disp = 'F8.3'\n",
       "    name = 'ROI_num'; format = 'I'\n",
       "    name = 'Signif_Avg'; format = 'E'; disp = 'F8.3'\n",
       "    name = 'Pivot_Energy'; format = 'E'; unit = 'MeV'; disp = 'F10.2'\n",
       "    name = 'Flux_Density'; format = 'E'; unit = 'photon/cm**2/MeV/s'; disp = 'E10.4'\n",
       "    name = 'Unc_Flux_Density'; format = 'E'; unit = 'photon/cm**2/MeV/s'; disp = 'E10.4'\n",
       "    name = 'Flux1000'; format = 'E'; unit = 'photon/cm**2/s'; disp = 'E10.4'\n",
       "    name = 'Unc_Flux1000'; format = 'E'; unit = 'photon/cm**2/s'\n",
       "    name = 'Energy_Flux100'; format = 'E'; unit = 'erg/cm**2/s'; disp = 'E10.4'\n",
       "    name = 'Unc_Energy_Flux100'; format = 'E'; unit = 'erg/cm**2/s'; disp = 'E10.4'\n",
       "    name = 'Signif_Curve'; format = 'E'; disp = 'F10.2'\n",
       "    name = 'SpectrumType'; format = '16A'\n",
       "    name = 'Spectral_Index'; format = 'E'; disp = 'F8.4'\n",
       "    name = 'Unc_Spectral_Index'; format = 'E'; disp = 'F8.4'\n",
       "    name = 'beta'; format = 'E'; disp = 'F8.4'\n",
       "    name = 'Unc_beta'; format = 'E'; disp = 'F8.4'\n",
       "    name = 'Cutoff'; format = 'E'; unit = 'MeV'; disp = 'F10.2'\n",
       "    name = 'Unc_Cutoff'; format = 'E'; unit = 'MeV'; disp = 'F10.2'\n",
       "    name = 'Exp_Index'; format = 'E'; disp = 'F8.4'\n",
       "    name = 'Unc_Exp_Index'; format = 'E'; disp = 'F8.4'\n",
       "    name = 'PowerLaw_Index'; format = 'E'; disp = 'F8.4'\n",
       "    name = 'Flux30_100'; format = 'E'; unit = 'photon/cm**2/s'\n",
       "    name = 'Unc_Flux30_100'; format = 'E'; unit = 'photon/cm**2/s'\n",
       "    name = 'nuFnu30_100'; format = 'E'; unit = 'erg/cm**2/s'\n",
       "    name = 'Sqrt_TS30_100'; format = 'E'; disp = 'F8.3'\n",
       "    name = 'Flux100_300'; format = 'E'; unit = 'photon/cm**2/s'\n",
       "    name = 'Unc_Flux100_300'; format = '2E'; unit = 'photon/cm**2/s'\n",
       "    name = 'nuFnu100_300'; format = 'E'; unit = 'erg/cm**2/s'\n",
       "    name = 'Sqrt_TS100_300'; format = 'E'; disp = 'F8.3'\n",
       "    name = 'Flux300_1000'; format = 'E'; unit = 'photon/cm**2/s'\n",
       "    name = 'Unc_Flux300_1000'; format = '2E'; unit = 'photon/cm**2/s'\n",
       "    name = 'nuFnu300_1000'; format = 'E'; unit = 'erg/cm**2/s'\n",
       "    name = 'Sqrt_TS300_1000'; format = 'E'; disp = 'F8.3'\n",
       "    name = 'Flux1000_3000'; format = 'E'; unit = 'photon/cm**2/s'\n",
       "    name = 'Unc_Flux1000_3000'; format = '2E'; unit = 'photon/cm**2/s'\n",
       "    name = 'nuFnu1000_3000'; format = 'E'; unit = 'erg/cm**2/s'\n",
       "    name = 'Sqrt_TS1000_3000'; format = 'E'; disp = 'F8.3'\n",
       "    name = 'Flux3000_10000'; format = 'E'; unit = 'photon/cm**2/s'\n",
       "    name = 'Unc_Flux3000_10000'; format = '2E'; unit = 'photon/cm**2/s'\n",
       "    name = 'nuFnu3000_10000'; format = 'E'; unit = 'erg/cm**2/s'\n",
       "    name = 'Sqrt_TS3000_10000'; format = 'E'; disp = 'F8.3'\n",
       "    name = 'Flux10000_100000'; format = 'E'; unit = 'photon/cm**2/s'\n",
       "    name = 'Unc_Flux10000_100000'; format = '2E'; unit = 'photon/cm**2/s'\n",
       "    name = 'nuFnu10000_100000'; format = 'E'; unit = 'erg/cm**2/s'\n",
       "    name = 'Sqrt_TS10000_100000'; format = 'E'; disp = 'F8.3'\n",
       "    name = 'Variability_Index'; format = 'E'\n",
       "    name = 'Signif_Peak'; format = 'E'\n",
       "    name = 'Flux_Peak'; format = 'E'; unit = 'photon/cm**2/s'\n",
       "    name = 'Unc_Flux_Peak'; format = 'E'; unit = 'photon/cm**2/s'\n",
       "    name = 'Time_Peak'; format = 'D'; unit = 's'\n",
       "    name = 'Peak_Interval'; format = 'E'; unit = 's'\n",
       "    name = 'Flux_History'; format = '48E'; unit = 'photon/cm**2/s'\n",
       "    name = 'Unc_Flux_History'; format = '96E'; unit = 'photon/cm**2/s'; dim = '( 2, 48)'\n",
       "    name = 'Extended_Source_Name'; format = '18A'\n",
       "    name = '0FGL_Name'; format = '17A'\n",
       "    name = '1FGL_Name'; format = '18A'\n",
       "    name = '2FGL_Name'; format = '18A'\n",
       "    name = '1FHL_Name'; format = '18A'\n",
       "    name = 'ASSOC_GAM1'; format = '15A'\n",
       "    name = 'ASSOC_GAM2'; format = '14A'\n",
       "    name = 'ASSOC_GAM3'; format = '15A'\n",
       "    name = 'TEVCAT_FLAG'; format = 'A'\n",
       "    name = 'ASSOC_TEV'; format = '21A'\n",
       "    name = 'CLASS1'; format = '5A'\n",
       "    name = 'ASSOC1'; format = '26A'\n",
       "    name = 'ASSOC2'; format = '26A'\n",
       "    name = 'Flags'; format = 'I'\n",
       ")"
      ]
     },
     "execution_count": 28,
     "metadata": {},
     "output_type": "execute_result"
    }
   ],
   "source": [
    "cols"
   ]
  },
  {
   "cell_type": "code",
   "execution_count": 29,
   "metadata": {
    "scrolled": true
   },
   "outputs": [
    {
     "name": "stdout",
     "output_type": "stream",
     "text": [
      "name:\n",
      "    ['Source_Name', 'RAJ2000', 'DEJ2000', 'GLON', 'GLAT', 'Conf_68_SemiMajor', 'Conf_68_SemiMinor', 'Conf_68_PosAng', 'Conf_95_SemiMajor', 'Conf_95_SemiMinor', 'Conf_95_PosAng', 'ROI_num', 'Signif_Avg', 'Pivot_Energy', 'Flux_Density', 'Unc_Flux_Density', 'Flux1000', 'Unc_Flux1000', 'Energy_Flux100', 'Unc_Energy_Flux100', 'Signif_Curve', 'SpectrumType', 'Spectral_Index', 'Unc_Spectral_Index', 'beta', 'Unc_beta', 'Cutoff', 'Unc_Cutoff', 'Exp_Index', 'Unc_Exp_Index', 'PowerLaw_Index', 'Flux30_100', 'Unc_Flux30_100', 'nuFnu30_100', 'Sqrt_TS30_100', 'Flux100_300', 'Unc_Flux100_300', 'nuFnu100_300', 'Sqrt_TS100_300', 'Flux300_1000', 'Unc_Flux300_1000', 'nuFnu300_1000', 'Sqrt_TS300_1000', 'Flux1000_3000', 'Unc_Flux1000_3000', 'nuFnu1000_3000', 'Sqrt_TS1000_3000', 'Flux3000_10000', 'Unc_Flux3000_10000', 'nuFnu3000_10000', 'Sqrt_TS3000_10000', 'Flux10000_100000', 'Unc_Flux10000_100000', 'nuFnu10000_100000', 'Sqrt_TS10000_100000', 'Variability_Index', 'Signif_Peak', 'Flux_Peak', 'Unc_Flux_Peak', 'Time_Peak', 'Peak_Interval', 'Flux_History', 'Unc_Flux_History', 'Extended_Source_Name', '0FGL_Name', '1FGL_Name', '2FGL_Name', '1FHL_Name', 'ASSOC_GAM1', 'ASSOC_GAM2', 'ASSOC_GAM3', 'TEVCAT_FLAG', 'ASSOC_TEV', 'CLASS1', 'ASSOC1', 'ASSOC2', 'Flags']\n",
      "format:\n",
      "    ['18A', 'E', 'E', 'E', 'E', 'E', 'E', 'E', 'E', 'E', 'E', 'I', 'E', 'E', 'E', 'E', 'E', 'E', 'E', 'E', 'E', '16A', 'E', 'E', 'E', 'E', 'E', 'E', 'E', 'E', 'E', 'E', 'E', 'E', 'E', 'E', '2E', 'E', 'E', 'E', '2E', 'E', 'E', 'E', '2E', 'E', 'E', 'E', '2E', 'E', 'E', 'E', '2E', 'E', 'E', 'E', 'E', 'E', 'E', 'D', 'E', '48E', '96E', '18A', '17A', '18A', '18A', '18A', '15A', '14A', '15A', 'A', '21A', '5A', '26A', '26A', 'I']\n",
      "unit:\n",
      "    ['', 'deg', 'deg', 'deg', 'deg', 'deg', 'deg', 'deg', 'deg', 'deg', 'deg', '', '', 'MeV', 'photon/cm**2/MeV/s', 'photon/cm**2/MeV/s', 'photon/cm**2/s', 'photon/cm**2/s', 'erg/cm**2/s', 'erg/cm**2/s', '', '', '', '', '', '', 'MeV', 'MeV', '', '', '', 'photon/cm**2/s', 'photon/cm**2/s', 'erg/cm**2/s', '', 'photon/cm**2/s', 'photon/cm**2/s', 'erg/cm**2/s', '', 'photon/cm**2/s', 'photon/cm**2/s', 'erg/cm**2/s', '', 'photon/cm**2/s', 'photon/cm**2/s', 'erg/cm**2/s', '', 'photon/cm**2/s', 'photon/cm**2/s', 'erg/cm**2/s', '', 'photon/cm**2/s', 'photon/cm**2/s', 'erg/cm**2/s', '', '', '', 'photon/cm**2/s', 'photon/cm**2/s', 's', 's', 'photon/cm**2/s', 'photon/cm**2/s', '', '', '', '', '', '', '', '', '', '', '', '', '', '']\n",
      "null:\n",
      "    ['', '', '', '', '', '', '', '', '', '', '', '', '', '', '', '', '', '', '', '', '', '', '', '', '', '', '', '', '', '', '', '', '', '', '', '', '', '', '', '', '', '', '', '', '', '', '', '', '', '', '', '', '', '', '', '', '', '', '', '', '', '', '', '', '', '', '', '', '', '', '', '', '', '', '', '', '']\n",
      "bscale:\n",
      "    ['', '', '', '', '', '', '', '', '', '', '', '', '', '', '', '', '', '', '', '', '', '', '', '', '', '', '', '', '', '', '', '', '', '', '', '', '', '', '', '', '', '', '', '', '', '', '', '', '', '', '', '', '', '', '', '', '', '', '', '', '', '', '', '', '', '', '', '', '', '', '', '', '', '', '', '', '']\n",
      "bzero:\n",
      "    ['', '', '', '', '', '', '', '', '', '', '', '', '', '', '', '', '', '', '', '', '', '', '', '', '', '', '', '', '', '', '', '', '', '', '', '', '', '', '', '', '', '', '', '', '', '', '', '', '', '', '', '', '', '', '', '', '', '', '', '', '', '', '', '', '', '', '', '', '', '', '', '', '', '', '', '', '']\n",
      "disp:\n",
      "    ['', 'F8.4', 'F8.4', 'F8.4', 'F8.4', 'F8.4', 'F8.4', 'F8.3', 'F8.4', 'F8.4', 'F8.3', '', 'F8.3', 'F10.2', 'E10.4', 'E10.4', 'E10.4', '', 'E10.4', 'E10.4', 'F10.2', '', 'F8.4', 'F8.4', 'F8.4', 'F8.4', 'F10.2', 'F10.2', 'F8.4', 'F8.4', 'F8.4', '', '', '', 'F8.3', '', '', '', 'F8.3', '', '', '', 'F8.3', '', '', '', 'F8.3', '', '', '', 'F8.3', '', '', '', 'F8.3', '', '', '', '', '', '', '', '', '', '', '', '', '', '', '', '', '', '', '', '', '', '']\n",
      "start:\n",
      "    ['', '', '', '', '', '', '', '', '', '', '', '', '', '', '', '', '', '', '', '', '', '', '', '', '', '', '', '', '', '', '', '', '', '', '', '', '', '', '', '', '', '', '', '', '', '', '', '', '', '', '', '', '', '', '', '', '', '', '', '', '', '', '', '', '', '', '', '', '', '', '', '', '', '', '', '', '']\n",
      "dim:\n",
      "    ['', '', '', '', '', '', '', '', '', '', '', '', '', '', '', '', '', '', '', '', '', '', '', '', '', '', '', '', '', '', '', '', '', '', '', '', '', '', '', '', '', '', '', '', '', '', '', '', '', '', '', '', '', '', '', '', '', '', '', '', '', '', '( 2, 48)', '', '', '', '', '', '', '', '', '', '', '', '', '', '']\n",
      "coord_type:\n",
      "    ['', '', '', '', '', '', '', '', '', '', '', '', '', '', '', '', '', '', '', '', '', '', '', '', '', '', '', '', '', '', '', '', '', '', '', '', '', '', '', '', '', '', '', '', '', '', '', '', '', '', '', '', '', '', '', '', '', '', '', '', '', '', '', '', '', '', '', '', '', '', '', '', '', '', '', '', '']\n",
      "coord_unit:\n",
      "    ['', '', '', '', '', '', '', '', '', '', '', '', '', '', '', '', '', '', '', '', '', '', '', '', '', '', '', '', '', '', '', '', '', '', '', '', '', '', '', '', '', '', '', '', '', '', '', '', '', '', '', '', '', '', '', '', '', '', '', '', '', '', '', '', '', '', '', '', '', '', '', '', '', '', '', '', '']\n",
      "coord_ref_point:\n",
      "    ['', '', '', '', '', '', '', '', '', '', '', '', '', '', '', '', '', '', '', '', '', '', '', '', '', '', '', '', '', '', '', '', '', '', '', '', '', '', '', '', '', '', '', '', '', '', '', '', '', '', '', '', '', '', '', '', '', '', '', '', '', '', '', '', '', '', '', '', '', '', '', '', '', '', '', '', '']\n",
      "coord_ref_value:\n",
      "    ['', '', '', '', '', '', '', '', '', '', '', '', '', '', '', '', '', '', '', '', '', '', '', '', '', '', '', '', '', '', '', '', '', '', '', '', '', '', '', '', '', '', '', '', '', '', '', '', '', '', '', '', '', '', '', '', '', '', '', '', '', '', '', '', '', '', '', '', '', '', '', '', '', '', '', '', '']\n",
      "coord_inc:\n",
      "    ['', '', '', '', '', '', '', '', '', '', '', '', '', '', '', '', '', '', '', '', '', '', '', '', '', '', '', '', '', '', '', '', '', '', '', '', '', '', '', '', '', '', '', '', '', '', '', '', '', '', '', '', '', '', '', '', '', '', '', '', '', '', '', '', '', '', '', '', '', '', '', '', '', '', '', '', '']\n",
      "time_ref_pos:\n",
      "    ['', '', '', '', '', '', '', '', '', '', '', '', '', '', '', '', '', '', '', '', '', '', '', '', '', '', '', '', '', '', '', '', '', '', '', '', '', '', '', '', '', '', '', '', '', '', '', '', '', '', '', '', '', '', '', '', '', '', '', '', '', '', '', '', '', '', '', '', '', '', '', '', '', '', '', '', '']\n"
     ]
    }
   ],
   "source": [
    "cols.info()"
   ]
  },
  {
   "cell_type": "code",
   "execution_count": 30,
   "metadata": {
    "collapsed": true
   },
   "outputs": [],
   "source": [
    "sources = cols['Source_Name']"
   ]
  },
  {
   "cell_type": "code",
   "execution_count": 33,
   "metadata": {},
   "outputs": [],
   "source": [
    "names = cat['Source_Name']"
   ]
  },
  {
   "cell_type": "code",
   "execution_count": 34,
   "metadata": {
    "collapsed": true
   },
   "outputs": [],
   "source": [
    "assoc_tev = cat['ASSOC_TEV']"
   ]
  },
  {
   "cell_type": "code",
   "execution_count": 35,
   "metadata": {
    "collapsed": true
   },
   "outputs": [],
   "source": [
    "classes = cat['CLASS1']"
   ]
  },
  {
   "cell_type": "code",
   "execution_count": 36,
   "metadata": {},
   "outputs": [
    {
     "data": {
      "text/plain": [
       "chararray(['', '', 'spp', ..., 'fsrq', 'bll', 'bll'], \n",
       "      dtype='<U5')"
      ]
     },
     "execution_count": 36,
     "metadata": {},
     "output_type": "execute_result"
    }
   ],
   "source": [
    "classes"
   ]
  },
  {
   "cell_type": "code",
   "execution_count": 47,
   "metadata": {},
   "outputs": [
    {
     "data": {
      "text/plain": [
       "chararray(['', 'BCU', 'BIN', 'BLL', 'FSRQ', 'GAL', 'HMB', 'NLSY1', 'NOV',\n",
       "       'PSR', 'PWN', 'RDG', 'SFR', 'SNR', 'agn', 'bcu', 'bll', 'css',\n",
       "       'fsrq', 'gal', 'glc', 'nlsy1', 'psr', 'pwn', 'rdg', 'sbg', 'sey',\n",
       "       'snr', 'spp', 'ssrq'], \n",
       "      dtype='<U5')"
      ]
     },
     "execution_count": 47,
     "metadata": {},
     "output_type": "execute_result"
    }
   ],
   "source": [
    "np.unique(classes)"
   ]
  },
  {
   "cell_type": "code",
   "execution_count": 48,
   "metadata": {
    "collapsed": true
   },
   "outputs": [],
   "source": [
    "from collections import Counter\n"
   ]
  },
  {
   "cell_type": "code",
   "execution_count": 51,
   "metadata": {},
   "outputs": [
    {
     "data": {
      "text/plain": [
       "Counter({'': 1010,\n",
       "         'BCU': 5,\n",
       "         'BIN': 1,\n",
       "         'BLL': 18,\n",
       "         'FSRQ': 38,\n",
       "         'GAL': 2,\n",
       "         'HMB': 3,\n",
       "         'NLSY1': 2,\n",
       "         'NOV': 1,\n",
       "         'PSR': 143,\n",
       "         'PWN': 10,\n",
       "         'RDG': 3,\n",
       "         'SFR': 1,\n",
       "         'SNR': 12,\n",
       "         'agn': 3,\n",
       "         'bcu': 568,\n",
       "         'bll': 642,\n",
       "         'css': 1,\n",
       "         'fsrq': 446,\n",
       "         'gal': 1,\n",
       "         'glc': 15,\n",
       "         'nlsy1': 3,\n",
       "         'psr': 24,\n",
       "         'pwn': 2,\n",
       "         'rdg': 12,\n",
       "         'sbg': 4,\n",
       "         'sey': 1,\n",
       "         'snr': 11,\n",
       "         'spp': 49,\n",
       "         'ssrq': 3})"
      ]
     },
     "execution_count": 51,
     "metadata": {},
     "output_type": "execute_result"
    }
   ],
   "source": [
    "Counter(classes)"
   ]
  },
  {
   "cell_type": "code",
   "execution_count": 52,
   "metadata": {},
   "outputs": [
    {
     "data": {
      "text/plain": [
       "chararray(['3FGL J0240.5+6113', '3FGL J1018.9-5856', '3FGL J1826.2-1450'], \n",
       "      dtype='<U18')"
      ]
     },
     "execution_count": 52,
     "metadata": {},
     "output_type": "execute_result"
    }
   ],
   "source": [
    "names[classes == 'HMB']"
   ]
  },
  {
   "cell_type": "code",
   "execution_count": 53,
   "metadata": {},
   "outputs": [
    {
     "data": {
      "text/plain": [
       "chararray(['3FGL J1045.1-5941'], \n",
       "      dtype='<U18')"
      ]
     },
     "execution_count": 53,
     "metadata": {},
     "output_type": "execute_result"
    }
   ],
   "source": [
    "names[classes == 'BIN']"
   ]
  },
  {
   "cell_type": "code",
   "execution_count": 58,
   "metadata": {},
   "outputs": [],
   "source": [
    "hmbs = cat[classes=='HMB']"
   ]
  },
  {
   "cell_type": "code",
   "execution_count": 59,
   "metadata": {},
   "outputs": [
    {
     "data": {
      "text/plain": [
       "3"
      ]
     },
     "execution_count": 59,
     "metadata": {},
     "output_type": "execute_result"
    }
   ],
   "source": [
    "len(hmbs)"
   ]
  },
  {
   "cell_type": "code",
   "execution_count": 60,
   "metadata": {},
   "outputs": [
    {
     "data": {
      "text/plain": [
       "('3FGL J0240.5+6113', 40.137901, 61.2281, 135.67885, 1.0862774, 0.0053038551, 0.0053038551, -54.849998, 0.0086000003, 0.0086000003, -54.849998, 157, 196.60591, 547.57886, 2.7938216e-10, 2.4704733e-12, 4.6064716e-08, 5.0640142e-10, 4.7266491e-10, 4.4084237e-12, 16.776308, 'LogParabola', 2.1896782, 0.009463463, 0.14616102, 0.0057620569, -inf, -inf, -inf, -inf, 2.2931705, nan, nan, nan, nan, 5.5527016e-07, array([ -1.24773472e-08,   1.24773472e-08], dtype=float32), 1.3538363e-10, 53.129845, 1.9627269e-07, array([ -2.09596918e-09,   2.09596918e-09], dtype=float32), 1.3179177e-10, 127.73142, 3.8710066e-08, array([ -5.87982385e-10,   5.87982385e-10], dtype=float32), 8.8407358e-11, 115.92555, 6.510779e-09, array([ -2.06842876e-10,   2.06842876e-10], dtype=float32), 4.0559514e-11, 66.057297, 5.1304833e-10, array([ -5.56649622e-11,   5.95721111e-11], dtype=float32), 5.9290025e-12, 19.523684, 344.32828, 31.666306, 9.8723979e-07, 4.8024852e-08, 266944992.0, 2630000.0, array([  7.57126600e-07,   6.30520901e-07,   7.96327754e-07,\n",
       "         6.51427854e-07,   5.49354297e-07,   6.62257776e-07,\n",
       "         4.82848520e-07,   7.59628335e-07,   9.27266171e-07,\n",
       "         8.95341259e-07,   9.87239787e-07,   9.19949855e-07,\n",
       "         9.51460436e-07,   7.94745176e-07,   9.74020395e-07,\n",
       "         7.71237410e-07,   8.38033657e-07,   9.75087460e-07,\n",
       "         8.94676646e-07,   8.73391741e-07,   8.92633295e-07,\n",
       "         9.76494221e-07,   8.42489840e-07,   8.49366870e-07,\n",
       "         6.37124515e-07,   8.90937315e-07,   7.36044399e-07,\n",
       "         6.75381159e-07,   7.92283117e-07,   9.58318878e-07,\n",
       "         9.02459703e-07,   8.44526312e-07,   7.31786429e-07,\n",
       "         8.60473222e-07,   7.68171788e-07,   7.80898404e-07,\n",
       "         8.06314347e-07,   8.58288956e-07,   7.88618706e-07,\n",
       "         8.39092650e-07,   6.90744116e-07,   7.09447306e-07,\n",
       "         7.43058422e-07,   7.09576909e-07,   8.13034376e-07,\n",
       "         6.69545670e-07,   7.17472517e-07,   6.35466677e-07], dtype=float32), array([[ -4.74647059e-08,   4.74647059e-08],\n",
       "       [ -4.21708783e-08,   4.21708783e-08],\n",
       "       [ -4.79002296e-08,   4.79002296e-08],\n",
       "       [ -4.12928784e-08,   4.12928784e-08],\n",
       "       [ -4.38802452e-08,   4.38802452e-08],\n",
       "       [ -4.25735109e-08,   4.25735109e-08],\n",
       "       [ -4.16084269e-08,   4.16084269e-08],\n",
       "       [ -4.92823204e-08,   4.92823204e-08],\n",
       "       [ -4.62941614e-08,   4.62941614e-08],\n",
       "       [ -4.74784585e-08,   4.74784585e-08],\n",
       "       [ -4.80248517e-08,   4.80248517e-08],\n",
       "       [ -4.41589911e-08,   4.41589911e-08],\n",
       "       [ -4.63125645e-08,   4.63125645e-08],\n",
       "       [ -4.03602094e-08,   4.03602094e-08],\n",
       "       [ -4.53720226e-08,   4.53720226e-08],\n",
       "       [ -4.16570423e-08,   4.16570423e-08],\n",
       "       [ -4.12661230e-08,   4.12661230e-08],\n",
       "       [ -4.50528290e-08,   4.50528290e-08],\n",
       "       [ -4.14774206e-08,   4.14774206e-08],\n",
       "       [ -4.15667607e-08,   4.15667607e-08],\n",
       "       [ -4.35953282e-08,   4.35953282e-08],\n",
       "       [ -4.57476190e-08,   4.57476190e-08],\n",
       "       [ -4.22917772e-08,   4.22917772e-08],\n",
       "       [ -4.15280859e-08,   4.15280859e-08],\n",
       "       [ -3.87565215e-08,   3.87565215e-08],\n",
       "       [ -4.32649614e-08,   4.32649614e-08],\n",
       "       [ -4.24889421e-08,   4.24889421e-08],\n",
       "       [ -3.75209233e-08,   3.75209233e-08],\n",
       "       [ -4.39182379e-08,   4.39182379e-08],\n",
       "       [ -4.50584032e-08,   4.50584032e-08],\n",
       "       [ -4.18878550e-08,   4.18878550e-08],\n",
       "       [ -4.42396058e-08,   4.42396058e-08],\n",
       "       [ -4.03427229e-08,   4.03427229e-08],\n",
       "       [ -4.45842225e-08,   4.45842225e-08],\n",
       "       [ -3.97098674e-08,   3.97098674e-08],\n",
       "       [ -4.13656736e-08,   4.13656736e-08],\n",
       "       [ -3.98864834e-08,   3.98864834e-08],\n",
       "       [ -4.23118216e-08,   4.23118216e-08],\n",
       "       [ -4.30625846e-08,   4.30625846e-08],\n",
       "       [ -3.87345551e-08,   3.87345551e-08],\n",
       "       [ -4.05873983e-08,   4.05873983e-08],\n",
       "       [ -3.79751839e-08,   3.79751839e-08],\n",
       "       [ -4.04615008e-08,   4.04615008e-08],\n",
       "       [ -3.76117377e-08,   3.76117377e-08],\n",
       "       [ -4.19837640e-08,   4.19837640e-08],\n",
       "       [ -3.98808631e-08,   3.98808631e-08],\n",
       "       [ -3.95576762e-08,   3.95576762e-08],\n",
       "       [ -3.93512494e-08,   3.93512494e-08]], dtype=float32), '', '0FGL J0240.3+6113', '1FGL J0240.5+6113', '2FGL J0240.5+6113', '1FHL J0240.2+6113', '1AGL J0242+6111', '', 'EGR J0240+6112', 'P', 'LS I +61 303', 'HMB', 'LS I+61 303', '', 0)"
      ]
     },
     "execution_count": 60,
     "metadata": {},
     "output_type": "execute_result"
    }
   ],
   "source": [
    "hmbs[0]"
   ]
  },
  {
   "cell_type": "code",
   "execution_count": 61,
   "metadata": {},
   "outputs": [
    {
     "data": {
      "text/plain": [
       "chararray(['LS I +61 303', 'HESS J1018-589', 'LS 5039'], \n",
       "      dtype='<U21')"
      ]
     },
     "execution_count": 61,
     "metadata": {},
     "output_type": "execute_result"
    }
   ],
   "source": [
    "hmbs['ASSOC_TEV']"
   ]
  },
  {
   "cell_type": "code",
   "execution_count": 62,
   "metadata": {},
   "outputs": [
    {
     "data": {
      "text/plain": [
       "chararray(['3FGL J0240.5+6113', '3FGL J1018.9-5856', '3FGL J1826.2-1450'], \n",
       "      dtype='<U18')"
      ]
     },
     "execution_count": 62,
     "metadata": {},
     "output_type": "execute_result"
    }
   ],
   "source": [
    "hmbs['Source_Name']"
   ]
  },
  {
   "cell_type": "code",
   "execution_count": 63,
   "metadata": {
    "collapsed": true
   },
   "outputs": [],
   "source": [
    "rec1 = dict(zip([c.name for c in cat.columns], hmbs[0]))"
   ]
  },
  {
   "cell_type": "code",
   "execution_count": 64,
   "metadata": {
    "scrolled": false
   },
   "outputs": [
    {
     "data": {
      "text/plain": [
       "{'0FGL_Name': '0FGL J0240.3+6113',\n",
       " '1FGL_Name': '1FGL J0240.5+6113',\n",
       " '1FHL_Name': '1FHL J0240.2+6113',\n",
       " '2FGL_Name': '2FGL J0240.5+6113',\n",
       " 'ASSOC1': 'LS I+61 303',\n",
       " 'ASSOC2': '',\n",
       " 'ASSOC_GAM1': '1AGL J0242+6111',\n",
       " 'ASSOC_GAM2': '',\n",
       " 'ASSOC_GAM3': 'EGR J0240+6112',\n",
       " 'ASSOC_TEV': 'LS I +61 303',\n",
       " 'CLASS1': 'HMB',\n",
       " 'Conf_68_PosAng': -54.849998,\n",
       " 'Conf_68_SemiMajor': 0.0053038551,\n",
       " 'Conf_68_SemiMinor': 0.0053038551,\n",
       " 'Conf_95_PosAng': -54.849998,\n",
       " 'Conf_95_SemiMajor': 0.0086000003,\n",
       " 'Conf_95_SemiMinor': 0.0086000003,\n",
       " 'Cutoff': -inf,\n",
       " 'DEJ2000': 61.2281,\n",
       " 'Energy_Flux100': 4.7266491e-10,\n",
       " 'Exp_Index': -inf,\n",
       " 'Extended_Source_Name': '',\n",
       " 'Flags': 0,\n",
       " 'Flux1000': 4.6064716e-08,\n",
       " 'Flux10000_100000': 5.1304833e-10,\n",
       " 'Flux1000_3000': 3.8710066e-08,\n",
       " 'Flux100_300': 5.5527016e-07,\n",
       " 'Flux3000_10000': 6.510779e-09,\n",
       " 'Flux300_1000': 1.9627269e-07,\n",
       " 'Flux30_100': nan,\n",
       " 'Flux_Density': 2.7938216e-10,\n",
       " 'Flux_History': array([  7.57126600e-07,   6.30520901e-07,   7.96327754e-07,\n",
       "          6.51427854e-07,   5.49354297e-07,   6.62257776e-07,\n",
       "          4.82848520e-07,   7.59628335e-07,   9.27266171e-07,\n",
       "          8.95341259e-07,   9.87239787e-07,   9.19949855e-07,\n",
       "          9.51460436e-07,   7.94745176e-07,   9.74020395e-07,\n",
       "          7.71237410e-07,   8.38033657e-07,   9.75087460e-07,\n",
       "          8.94676646e-07,   8.73391741e-07,   8.92633295e-07,\n",
       "          9.76494221e-07,   8.42489840e-07,   8.49366870e-07,\n",
       "          6.37124515e-07,   8.90937315e-07,   7.36044399e-07,\n",
       "          6.75381159e-07,   7.92283117e-07,   9.58318878e-07,\n",
       "          9.02459703e-07,   8.44526312e-07,   7.31786429e-07,\n",
       "          8.60473222e-07,   7.68171788e-07,   7.80898404e-07,\n",
       "          8.06314347e-07,   8.58288956e-07,   7.88618706e-07,\n",
       "          8.39092650e-07,   6.90744116e-07,   7.09447306e-07,\n",
       "          7.43058422e-07,   7.09576909e-07,   8.13034376e-07,\n",
       "          6.69545670e-07,   7.17472517e-07,   6.35466677e-07], dtype=float32),\n",
       " 'Flux_Peak': 9.8723979e-07,\n",
       " 'GLAT': 1.0862774,\n",
       " 'GLON': 135.67885,\n",
       " 'Peak_Interval': 2630000.0,\n",
       " 'Pivot_Energy': 547.57886,\n",
       " 'PowerLaw_Index': 2.2931705,\n",
       " 'RAJ2000': 40.137901,\n",
       " 'ROI_num': 157,\n",
       " 'Signif_Avg': 196.60591,\n",
       " 'Signif_Curve': 16.776308,\n",
       " 'Signif_Peak': 31.666306,\n",
       " 'Source_Name': '3FGL J0240.5+6113',\n",
       " 'Spectral_Index': 2.1896782,\n",
       " 'SpectrumType': 'LogParabola',\n",
       " 'Sqrt_TS10000_100000': 19.523684,\n",
       " 'Sqrt_TS1000_3000': 115.92555,\n",
       " 'Sqrt_TS100_300': 53.129845,\n",
       " 'Sqrt_TS3000_10000': 66.057297,\n",
       " 'Sqrt_TS300_1000': 127.73142,\n",
       " 'Sqrt_TS30_100': nan,\n",
       " 'TEVCAT_FLAG': 'P',\n",
       " 'Time_Peak': 266944992.0,\n",
       " 'Unc_Cutoff': -inf,\n",
       " 'Unc_Energy_Flux100': 4.4084237e-12,\n",
       " 'Unc_Exp_Index': -inf,\n",
       " 'Unc_Flux1000': 5.0640142e-10,\n",
       " 'Unc_Flux10000_100000': array([ -5.56649622e-11,   5.95721111e-11], dtype=float32),\n",
       " 'Unc_Flux1000_3000': array([ -5.87982385e-10,   5.87982385e-10], dtype=float32),\n",
       " 'Unc_Flux100_300': array([ -1.24773472e-08,   1.24773472e-08], dtype=float32),\n",
       " 'Unc_Flux3000_10000': array([ -2.06842876e-10,   2.06842876e-10], dtype=float32),\n",
       " 'Unc_Flux300_1000': array([ -2.09596918e-09,   2.09596918e-09], dtype=float32),\n",
       " 'Unc_Flux30_100': nan,\n",
       " 'Unc_Flux_Density': 2.4704733e-12,\n",
       " 'Unc_Flux_History': array([[ -4.74647059e-08,   4.74647059e-08],\n",
       "        [ -4.21708783e-08,   4.21708783e-08],\n",
       "        [ -4.79002296e-08,   4.79002296e-08],\n",
       "        [ -4.12928784e-08,   4.12928784e-08],\n",
       "        [ -4.38802452e-08,   4.38802452e-08],\n",
       "        [ -4.25735109e-08,   4.25735109e-08],\n",
       "        [ -4.16084269e-08,   4.16084269e-08],\n",
       "        [ -4.92823204e-08,   4.92823204e-08],\n",
       "        [ -4.62941614e-08,   4.62941614e-08],\n",
       "        [ -4.74784585e-08,   4.74784585e-08],\n",
       "        [ -4.80248517e-08,   4.80248517e-08],\n",
       "        [ -4.41589911e-08,   4.41589911e-08],\n",
       "        [ -4.63125645e-08,   4.63125645e-08],\n",
       "        [ -4.03602094e-08,   4.03602094e-08],\n",
       "        [ -4.53720226e-08,   4.53720226e-08],\n",
       "        [ -4.16570423e-08,   4.16570423e-08],\n",
       "        [ -4.12661230e-08,   4.12661230e-08],\n",
       "        [ -4.50528290e-08,   4.50528290e-08],\n",
       "        [ -4.14774206e-08,   4.14774206e-08],\n",
       "        [ -4.15667607e-08,   4.15667607e-08],\n",
       "        [ -4.35953282e-08,   4.35953282e-08],\n",
       "        [ -4.57476190e-08,   4.57476190e-08],\n",
       "        [ -4.22917772e-08,   4.22917772e-08],\n",
       "        [ -4.15280859e-08,   4.15280859e-08],\n",
       "        [ -3.87565215e-08,   3.87565215e-08],\n",
       "        [ -4.32649614e-08,   4.32649614e-08],\n",
       "        [ -4.24889421e-08,   4.24889421e-08],\n",
       "        [ -3.75209233e-08,   3.75209233e-08],\n",
       "        [ -4.39182379e-08,   4.39182379e-08],\n",
       "        [ -4.50584032e-08,   4.50584032e-08],\n",
       "        [ -4.18878550e-08,   4.18878550e-08],\n",
       "        [ -4.42396058e-08,   4.42396058e-08],\n",
       "        [ -4.03427229e-08,   4.03427229e-08],\n",
       "        [ -4.45842225e-08,   4.45842225e-08],\n",
       "        [ -3.97098674e-08,   3.97098674e-08],\n",
       "        [ -4.13656736e-08,   4.13656736e-08],\n",
       "        [ -3.98864834e-08,   3.98864834e-08],\n",
       "        [ -4.23118216e-08,   4.23118216e-08],\n",
       "        [ -4.30625846e-08,   4.30625846e-08],\n",
       "        [ -3.87345551e-08,   3.87345551e-08],\n",
       "        [ -4.05873983e-08,   4.05873983e-08],\n",
       "        [ -3.79751839e-08,   3.79751839e-08],\n",
       "        [ -4.04615008e-08,   4.04615008e-08],\n",
       "        [ -3.76117377e-08,   3.76117377e-08],\n",
       "        [ -4.19837640e-08,   4.19837640e-08],\n",
       "        [ -3.98808631e-08,   3.98808631e-08],\n",
       "        [ -3.95576762e-08,   3.95576762e-08],\n",
       "        [ -3.93512494e-08,   3.93512494e-08]], dtype=float32),\n",
       " 'Unc_Flux_Peak': 4.8024852e-08,\n",
       " 'Unc_Spectral_Index': 0.009463463,\n",
       " 'Unc_beta': 0.0057620569,\n",
       " 'Variability_Index': 344.32828,\n",
       " 'beta': 0.14616102,\n",
       " 'nuFnu10000_100000': 5.9290025e-12,\n",
       " 'nuFnu1000_3000': 8.8407358e-11,\n",
       " 'nuFnu100_300': 1.3538363e-10,\n",
       " 'nuFnu3000_10000': 4.0559514e-11,\n",
       " 'nuFnu300_1000': 1.3179177e-10,\n",
       " 'nuFnu30_100': nan}"
      ]
     },
     "execution_count": 64,
     "metadata": {},
     "output_type": "execute_result"
    }
   ],
   "source": [
    "rec1"
   ]
  },
  {
   "cell_type": "code",
   "execution_count": null,
   "metadata": {
    "collapsed": true
   },
   "outputs": [],
   "source": []
  }
 ],
 "metadata": {
  "kernelspec": {
   "display_name": "Python 3",
   "language": "python",
   "name": "python3"
  },
  "language_info": {
   "codemirror_mode": {
    "name": "ipython",
    "version": 3
   },
   "file_extension": ".py",
   "mimetype": "text/x-python",
   "name": "python",
   "nbconvert_exporter": "python",
   "pygments_lexer": "ipython3",
   "version": "3.6.2"
  }
 },
 "nbformat": 4,
 "nbformat_minor": 2
}
