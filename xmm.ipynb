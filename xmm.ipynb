{
 "cells": [
  {
   "cell_type": "markdown",
   "metadata": {},
   "source": [
    "# Find similar objects in XMM for objects in simbad, GEV and TEV catalogs\n",
    "First, we import all the packages that we will need."
   ]
  },
  {
   "cell_type": "code",
   "execution_count": 1,
   "metadata": {
    "collapsed": true
   },
   "outputs": [],
   "source": [
    "import warnings\n",
    "import pandas as pd\n",
    "import numpy as np\n",
    "from getsimbad import get_simbad_data\n",
    "from gevtev import compare_gev_tev_data\n",
    "from astropy.io import fits\n",
    "\n",
    "warnings.filterwarnings(\"ignore\")"
   ]
  },
  {
   "cell_type": "markdown",
   "metadata": {},
   "source": [
    "This constant determines a threshold for the similarity between the objects:\n",
    "$$|glat_{1} - glat_{2}| <= \\epsilon$$\n",
    "$$\\epsilon = 1,2*10^{-1}$$"
   ]
  },
  {
   "cell_type": "code",
   "execution_count": 2,
   "metadata": {
    "collapsed": true
   },
   "outputs": [],
   "source": [
    "_epsilon = 1.2e-1"
   ]
  },
  {
   "cell_type": "markdown",
   "metadata": {},
   "source": [
    "The cell above loads data from SIMBAD catalog obtained by requests 'Be', 'O', 'B' and 'plsr'. If the file \"data/symbad.txt\" does not exist, run getsimbad.py."
   ]
  },
  {
   "cell_type": "code",
   "execution_count": 3,
   "metadata": {
    "collapsed": true
   },
   "outputs": [],
   "source": [
    "try:\n",
    "    pd_simbad = pd.read_csv(\"data/simbad.txt\", sep='\\t', encoding='utf-8')\n",
    "    del pd_simbad['Unnamed: 0']\n",
    "except FileNotFoundError:\n",
    "    pd_simbad = get_simbad_data()\n"
   ]
  },
  {
   "cell_type": "code",
   "execution_count": 4,
   "metadata": {},
   "outputs": [
    {
     "data": {
      "text/html": [
       "<div>\n",
       "<style scoped>\n",
       "    .dataframe tbody tr th:only-of-type {\n",
       "        vertical-align: middle;\n",
       "    }\n",
       "\n",
       "    .dataframe tbody tr th {\n",
       "        vertical-align: top;\n",
       "    }\n",
       "\n",
       "    .dataframe thead th {\n",
       "        text-align: right;\n",
       "    }\n",
       "</style>\n",
       "<table border=\"1\" class=\"dataframe\">\n",
       "  <thead>\n",
       "    <tr style=\"text-align: right;\">\n",
       "      <th></th>\n",
       "      <th>s_MAIN_ID</th>\n",
       "      <th>s_RA</th>\n",
       "      <th>s_DEC</th>\n",
       "      <th>s_RA_PREC</th>\n",
       "      <th>s_DEC_PREC</th>\n",
       "      <th>s_COO_ERR_MAJA</th>\n",
       "      <th>s_COO_ERR_MINA</th>\n",
       "      <th>s_COO_ERR_ANGLE</th>\n",
       "      <th>s_COO_QUAL</th>\n",
       "      <th>s_COO_WAVELENGTH</th>\n",
       "      <th>...</th>\n",
       "      <th>s_FLUX_H</th>\n",
       "      <th>s_FLUX_K</th>\n",
       "      <th>s_FLUX_u</th>\n",
       "      <th>s_FLUX_g</th>\n",
       "      <th>s_FLUX_r</th>\n",
       "      <th>s_FLUX_i</th>\n",
       "      <th>s_FLUX_z</th>\n",
       "      <th>s_class</th>\n",
       "      <th>s_glat</th>\n",
       "      <th>s_glon</th>\n",
       "    </tr>\n",
       "  </thead>\n",
       "  <tbody>\n",
       "    <tr>\n",
       "      <th>0</th>\n",
       "      <td>b'HD 201433A'</td>\n",
       "      <td>21 08 38.894</td>\n",
       "      <td>+30 12 20.27</td>\n",
       "      <td>7.0</td>\n",
       "      <td>7.0</td>\n",
       "      <td>26.0000</td>\n",
       "      <td>26.0000</td>\n",
       "      <td>90.0</td>\n",
       "      <td>B</td>\n",
       "      <td>O</td>\n",
       "      <td>...</td>\n",
       "      <td>NaN</td>\n",
       "      <td>NaN</td>\n",
       "      <td>NaN</td>\n",
       "      <td>NaN</td>\n",
       "      <td>NaN</td>\n",
       "      <td>NaN</td>\n",
       "      <td>NaN</td>\n",
       "      <td>plsr</td>\n",
       "      <td>-11.774311</td>\n",
       "      <td>76.107743</td>\n",
       "    </tr>\n",
       "    <tr>\n",
       "      <th>1</th>\n",
       "      <td>b'* nu. For'</td>\n",
       "      <td>02 04 29.4462</td>\n",
       "      <td>-29 17 48.491</td>\n",
       "      <td>14.0</td>\n",
       "      <td>14.0</td>\n",
       "      <td>0.1834</td>\n",
       "      <td>0.1942</td>\n",
       "      <td>90.0</td>\n",
       "      <td>A</td>\n",
       "      <td>O</td>\n",
       "      <td>...</td>\n",
       "      <td>8.953651e-06</td>\n",
       "      <td>9.660512e-06</td>\n",
       "      <td>NaN</td>\n",
       "      <td>NaN</td>\n",
       "      <td>NaN</td>\n",
       "      <td>NaN</td>\n",
       "      <td>NaN</td>\n",
       "      <td>plsr</td>\n",
       "      <td>-73.777993</td>\n",
       "      <td>224.887601</td>\n",
       "    </tr>\n",
       "    <tr>\n",
       "      <th>2</th>\n",
       "      <td>b'* phi Her'</td>\n",
       "      <td>16 08 46.1668</td>\n",
       "      <td>+44 56 05.732</td>\n",
       "      <td>14.0</td>\n",
       "      <td>14.0</td>\n",
       "      <td>0.3710</td>\n",
       "      <td>0.3754</td>\n",
       "      <td>90.0</td>\n",
       "      <td>A</td>\n",
       "      <td>O</td>\n",
       "      <td>...</td>\n",
       "      <td>4.677352e-05</td>\n",
       "      <td>4.786299e-05</td>\n",
       "      <td>NaN</td>\n",
       "      <td>NaN</td>\n",
       "      <td>NaN</td>\n",
       "      <td>NaN</td>\n",
       "      <td>NaN</td>\n",
       "      <td>plsr</td>\n",
       "      <td>47.107400</td>\n",
       "      <td>70.847825</td>\n",
       "    </tr>\n",
       "    <tr>\n",
       "      <th>3</th>\n",
       "      <td>b'V* CG And'</td>\n",
       "      <td>00 00 43.6345</td>\n",
       "      <td>+45 15 12.002</td>\n",
       "      <td>14.0</td>\n",
       "      <td>14.0</td>\n",
       "      <td>0.0550</td>\n",
       "      <td>0.0422</td>\n",
       "      <td>90.0</td>\n",
       "      <td>A</td>\n",
       "      <td>O</td>\n",
       "      <td>...</td>\n",
       "      <td>3.118889e-07</td>\n",
       "      <td>3.083187e-07</td>\n",
       "      <td>NaN</td>\n",
       "      <td>NaN</td>\n",
       "      <td>NaN</td>\n",
       "      <td>NaN</td>\n",
       "      <td>NaN</td>\n",
       "      <td>plsr</td>\n",
       "      <td>-16.702455</td>\n",
       "      <td>113.649358</td>\n",
       "    </tr>\n",
       "    <tr>\n",
       "      <th>4</th>\n",
       "      <td>b'HD 133029'</td>\n",
       "      <td>15 00 38.7184</td>\n",
       "      <td>+47 16 38.793</td>\n",
       "      <td>14.0</td>\n",
       "      <td>14.0</td>\n",
       "      <td>0.0472</td>\n",
       "      <td>0.0421</td>\n",
       "      <td>90.0</td>\n",
       "      <td>A</td>\n",
       "      <td>O</td>\n",
       "      <td>...</td>\n",
       "      <td>2.600159e-07</td>\n",
       "      <td>2.691534e-07</td>\n",
       "      <td>NaN</td>\n",
       "      <td>NaN</td>\n",
       "      <td>NaN</td>\n",
       "      <td>NaN</td>\n",
       "      <td>NaN</td>\n",
       "      <td>plsr</td>\n",
       "      <td>57.710074</td>\n",
       "      <td>80.191942</td>\n",
       "    </tr>\n",
       "  </tbody>\n",
       "</table>\n",
       "<p>5 rows × 28 columns</p>\n",
       "</div>"
      ],
      "text/plain": [
       "       s_MAIN_ID           s_RA          s_DEC  s_RA_PREC  s_DEC_PREC  \\\n",
       "0  b'HD 201433A'   21 08 38.894   +30 12 20.27        7.0         7.0   \n",
       "1   b'* nu. For'  02 04 29.4462  -29 17 48.491       14.0        14.0   \n",
       "2   b'* phi Her'  16 08 46.1668  +44 56 05.732       14.0        14.0   \n",
       "3   b'V* CG And'  00 00 43.6345  +45 15 12.002       14.0        14.0   \n",
       "4   b'HD 133029'  15 00 38.7184  +47 16 38.793       14.0        14.0   \n",
       "\n",
       "   s_COO_ERR_MAJA  s_COO_ERR_MINA  s_COO_ERR_ANGLE s_COO_QUAL  \\\n",
       "0         26.0000         26.0000             90.0          B   \n",
       "1          0.1834          0.1942             90.0          A   \n",
       "2          0.3710          0.3754             90.0          A   \n",
       "3          0.0550          0.0422             90.0          A   \n",
       "4          0.0472          0.0421             90.0          A   \n",
       "\n",
       "  s_COO_WAVELENGTH     ...          s_FLUX_H      s_FLUX_K  s_FLUX_u  \\\n",
       "0                O     ...               NaN           NaN       NaN   \n",
       "1                O     ...      8.953651e-06  9.660512e-06       NaN   \n",
       "2                O     ...      4.677352e-05  4.786299e-05       NaN   \n",
       "3                O     ...      3.118889e-07  3.083187e-07       NaN   \n",
       "4                O     ...      2.600159e-07  2.691534e-07       NaN   \n",
       "\n",
       "   s_FLUX_g  s_FLUX_r  s_FLUX_i  s_FLUX_z  s_class     s_glat      s_glon  \n",
       "0       NaN       NaN       NaN       NaN     plsr -11.774311   76.107743  \n",
       "1       NaN       NaN       NaN       NaN     plsr -73.777993  224.887601  \n",
       "2       NaN       NaN       NaN       NaN     plsr  47.107400   70.847825  \n",
       "3       NaN       NaN       NaN       NaN     plsr -16.702455  113.649358  \n",
       "4       NaN       NaN       NaN       NaN     plsr  57.710074   80.191942  \n",
       "\n",
       "[5 rows x 28 columns]"
      ]
     },
     "execution_count": 4,
     "metadata": {},
     "output_type": "execute_result"
    }
   ],
   "source": [
    "pd_simbad.head()"
   ]
  },
  {
   "cell_type": "code",
   "execution_count": 5,
   "metadata": {
    "collapsed": true
   },
   "outputs": [],
   "source": [
    "s_spectrum_columns = [\n",
    "    's_FLUX_U', \n",
    "    's_FLUX_B', \n",
    "    's_FLUX_V', \n",
    "    's_FLUX_R', \n",
    "    's_FLUX_I',\n",
    "    's_FLUX_G', \n",
    "    's_FLUX_J', \n",
    "    's_FLUX_H',\n",
    "    's_FLUX_K', \n",
    "    's_FLUX_u',\n",
    "    's_FLUX_g', \n",
    "    's_FLUX_r',\n",
    "    's_FLUX_i',    \n",
    "    's_FLUX_z',\n",
    "    ]"
   ]
  },
  {
   "cell_type": "code",
   "execution_count": 6,
   "metadata": {
    "collapsed": true
   },
   "outputs": [],
   "source": [
    "_path_xmm = 'data/3XMM_DR7cat_slim_v1.0.fits.gz'\n",
    "_names_xmm = [\n",
    "    \"SC_RA\",\n",
    "    \"SC_DEC\",\n",
    "    \"SC_POSERR\",\n",
    "    \"SC_EP_1_FLUX\",\n",
    "    \"SC_EP_2_FLUX\",\n",
    "    \"SC_EP_3_FLUX\",\n",
    "    \"SC_EP_4_FLUX\",\n",
    "    \"SC_EP_5_FLUX\",\n",
    "    \"SC_EP_1_FLUX_ERR\",\n",
    "    \"SC_EP_2_FLUX_ERR\",\n",
    "    \"SC_EP_3_FLUX_ERR\",\n",
    "    \"SC_EP_4_FLUX_ERR\",\n",
    "    \"SC_EP_5_FLUX_ERR\",\n",
    "    ] "
   ]
  },
  {
   "cell_type": "code",
   "execution_count": 7,
   "metadata": {
    "collapsed": true
   },
   "outputs": [],
   "source": [
    "hdul_xmm = fits.open(_path_xmm)\n",
    "cat_xmm = hdul_xmm[1].data"
   ]
  },
  {
   "cell_type": "code",
   "execution_count": 8,
   "metadata": {
    "collapsed": true
   },
   "outputs": [],
   "source": [
    "def create_pandas_frames(cat, cat_name):   \n",
    "    \"\"\"\n",
    "    Creates pandas dataframes with the same values as in cat, adding to columns cat_name.\n",
    "    \n",
    "    Arguments:\n",
    "    cat -- rec array with catalog data\n",
    "    cat_name -- short catalog name\n",
    "    \n",
    "    Returns:\n",
    "    data -- pandas DataFrame with catalog data\n",
    "    \"\"\"\n",
    "    \n",
    "    data = pd.DataFrame.from_records(cat.tolist(), columns=cat.dtype.names)\n",
    "    match_names = {}\n",
    "    for i in data.columns:\n",
    "        match_names.update({i : cat_name + i})\n",
    "    data = data.rename(columns = match_names)\n",
    "    \n",
    "    return data"
   ]
  },
  {
   "cell_type": "code",
   "execution_count": 9,
   "metadata": {},
   "outputs": [
    {
     "data": {
      "text/html": [
       "<div>\n",
       "<style scoped>\n",
       "    .dataframe tbody tr th:only-of-type {\n",
       "        vertical-align: middle;\n",
       "    }\n",
       "\n",
       "    .dataframe tbody tr th {\n",
       "        vertical-align: top;\n",
       "    }\n",
       "\n",
       "    .dataframe thead th {\n",
       "        text-align: right;\n",
       "    }\n",
       "</style>\n",
       "<table border=\"1\" class=\"dataframe\">\n",
       "  <thead>\n",
       "    <tr style=\"text-align: right;\">\n",
       "      <th></th>\n",
       "      <th>xmm_SRCID</th>\n",
       "      <th>xmm_IAUNAME</th>\n",
       "      <th>xmm_SC_RA</th>\n",
       "      <th>xmm_SC_DEC</th>\n",
       "      <th>xmm_SC_POSERR</th>\n",
       "      <th>xmm_SC_DET_ML</th>\n",
       "      <th>xmm_SC_EP_1_FLUX</th>\n",
       "      <th>xmm_SC_EP_1_FLUX_ERR</th>\n",
       "      <th>xmm_SC_EP_2_FLUX</th>\n",
       "      <th>xmm_SC_EP_2_FLUX_ERR</th>\n",
       "      <th>...</th>\n",
       "      <th>xmm_SC_SUM_FLAG</th>\n",
       "      <th>xmm_SC_EP_8_FMIN</th>\n",
       "      <th>xmm_SC_EP_8_FMIN_ERR</th>\n",
       "      <th>xmm_SC_EP_8_FMAX</th>\n",
       "      <th>xmm_SC_EP_8_FMAX_ERR</th>\n",
       "      <th>xmm_MJD_FIRST</th>\n",
       "      <th>xmm_MJD_LAST</th>\n",
       "      <th>xmm_N_DETECTIONS</th>\n",
       "      <th>xmm_CONFUSED</th>\n",
       "      <th>xmm_WEBPAGE_URL</th>\n",
       "    </tr>\n",
       "  </thead>\n",
       "  <tbody>\n",
       "    <tr>\n",
       "      <th>0</th>\n",
       "      <td>206931901010113</td>\n",
       "      <td>b'3XMM J000000.0-552108'</td>\n",
       "      <td>0.000395</td>\n",
       "      <td>-55.352442</td>\n",
       "      <td>2.31261</td>\n",
       "      <td>11.961400</td>\n",
       "      <td>5.975190e-17</td>\n",
       "      <td>1.080930e-16</td>\n",
       "      <td>7.739470e-16</td>\n",
       "      <td>2.520810e-16</td>\n",
       "      <td>...</td>\n",
       "      <td>0</td>\n",
       "      <td>6.018350e-15</td>\n",
       "      <td>5.191330e-15</td>\n",
       "      <td>6.018350e-15</td>\n",
       "      <td>5.191330e-15</td>\n",
       "      <td>56086.742951</td>\n",
       "      <td>56087.588194</td>\n",
       "      <td>1</td>\n",
       "      <td>70</td>\n",
       "      <td>b'http://xmm-catalog.irap.omp.eu/source/206931...</td>\n",
       "    </tr>\n",
       "    <tr>\n",
       "      <th>1</th>\n",
       "      <td>204033901010030</td>\n",
       "      <td>b'3XMM J000000.2+623122'</td>\n",
       "      <td>0.001138</td>\n",
       "      <td>62.523022</td>\n",
       "      <td>1.81998</td>\n",
       "      <td>24.577000</td>\n",
       "      <td>2.084380e-17</td>\n",
       "      <td>6.754120e-17</td>\n",
       "      <td>1.423010e-17</td>\n",
       "      <td>9.893530e-17</td>\n",
       "      <td>...</td>\n",
       "      <td>0</td>\n",
       "      <td>7.443400e-15</td>\n",
       "      <td>1.952370e-15</td>\n",
       "      <td>7.443400e-15</td>\n",
       "      <td>1.952370e-15</td>\n",
       "      <td>54134.485278</td>\n",
       "      <td>54135.043600</td>\n",
       "      <td>1</td>\n",
       "      <td>70</td>\n",
       "      <td>b'http://xmm-catalog.irap.omp.eu/source/204033...</td>\n",
       "    </tr>\n",
       "    <tr>\n",
       "      <th>2</th>\n",
       "      <td>201253101010082</td>\n",
       "      <td>b'3XMM J000000.3-250629'</td>\n",
       "      <td>0.001307</td>\n",
       "      <td>-25.108284</td>\n",
       "      <td>2.15064</td>\n",
       "      <td>10.571600</td>\n",
       "      <td>1.946440e-16</td>\n",
       "      <td>2.242400e-16</td>\n",
       "      <td>1.116210e-15</td>\n",
       "      <td>3.949710e-16</td>\n",
       "      <td>...</td>\n",
       "      <td>0</td>\n",
       "      <td>5.887980e-15</td>\n",
       "      <td>3.771330e-15</td>\n",
       "      <td>5.887980e-15</td>\n",
       "      <td>3.771330e-15</td>\n",
       "      <td>51696.440880</td>\n",
       "      <td>51696.788090</td>\n",
       "      <td>1</td>\n",
       "      <td>70</td>\n",
       "      <td>b'http://xmm-catalog.irap.omp.eu/source/201253...</td>\n",
       "    </tr>\n",
       "    <tr>\n",
       "      <th>3</th>\n",
       "      <td>206931901010049</td>\n",
       "      <td>b'3XMM J000000.3-552139'</td>\n",
       "      <td>0.001344</td>\n",
       "      <td>-55.361047</td>\n",
       "      <td>1.86001</td>\n",
       "      <td>48.571301</td>\n",
       "      <td>7.582340e-16</td>\n",
       "      <td>2.276970e-16</td>\n",
       "      <td>1.875440e-15</td>\n",
       "      <td>3.475400e-16</td>\n",
       "      <td>...</td>\n",
       "      <td>0</td>\n",
       "      <td>1.669370e-14</td>\n",
       "      <td>6.452240e-15</td>\n",
       "      <td>1.669370e-14</td>\n",
       "      <td>6.452240e-15</td>\n",
       "      <td>56086.742951</td>\n",
       "      <td>56087.588194</td>\n",
       "      <td>1</td>\n",
       "      <td>70</td>\n",
       "      <td>b'http://xmm-catalog.irap.omp.eu/source/206931...</td>\n",
       "    </tr>\n",
       "    <tr>\n",
       "      <th>4</th>\n",
       "      <td>203025805010073</td>\n",
       "      <td>b'3XMM J000000.7-321352'</td>\n",
       "      <td>0.003264</td>\n",
       "      <td>-32.231256</td>\n",
       "      <td>1.94055</td>\n",
       "      <td>14.014100</td>\n",
       "      <td>2.411770e-16</td>\n",
       "      <td>1.397010e-16</td>\n",
       "      <td>7.000080e-16</td>\n",
       "      <td>2.408750e-16</td>\n",
       "      <td>...</td>\n",
       "      <td>0</td>\n",
       "      <td>6.316080e-15</td>\n",
       "      <td>3.759480e-15</td>\n",
       "      <td>6.316080e-15</td>\n",
       "      <td>3.759480e-15</td>\n",
       "      <td>53534.288912</td>\n",
       "      <td>53534.827627</td>\n",
       "      <td>1</td>\n",
       "      <td>70</td>\n",
       "      <td>b'http://xmm-catalog.irap.omp.eu/source/203025...</td>\n",
       "    </tr>\n",
       "  </tbody>\n",
       "</table>\n",
       "<p>5 rows × 44 columns</p>\n",
       "</div>"
      ],
      "text/plain": [
       "         xmm_SRCID               xmm_IAUNAME  xmm_SC_RA  xmm_SC_DEC  \\\n",
       "0  206931901010113  b'3XMM J000000.0-552108'   0.000395  -55.352442   \n",
       "1  204033901010030  b'3XMM J000000.2+623122'   0.001138   62.523022   \n",
       "2  201253101010082  b'3XMM J000000.3-250629'   0.001307  -25.108284   \n",
       "3  206931901010049  b'3XMM J000000.3-552139'   0.001344  -55.361047   \n",
       "4  203025805010073  b'3XMM J000000.7-321352'   0.003264  -32.231256   \n",
       "\n",
       "   xmm_SC_POSERR  xmm_SC_DET_ML  xmm_SC_EP_1_FLUX  xmm_SC_EP_1_FLUX_ERR  \\\n",
       "0        2.31261      11.961400      5.975190e-17          1.080930e-16   \n",
       "1        1.81998      24.577000      2.084380e-17          6.754120e-17   \n",
       "2        2.15064      10.571600      1.946440e-16          2.242400e-16   \n",
       "3        1.86001      48.571301      7.582340e-16          2.276970e-16   \n",
       "4        1.94055      14.014100      2.411770e-16          1.397010e-16   \n",
       "\n",
       "   xmm_SC_EP_2_FLUX  xmm_SC_EP_2_FLUX_ERR  \\\n",
       "0      7.739470e-16          2.520810e-16   \n",
       "1      1.423010e-17          9.893530e-17   \n",
       "2      1.116210e-15          3.949710e-16   \n",
       "3      1.875440e-15          3.475400e-16   \n",
       "4      7.000080e-16          2.408750e-16   \n",
       "\n",
       "                         ...                          xmm_SC_SUM_FLAG  \\\n",
       "0                        ...                                        0   \n",
       "1                        ...                                        0   \n",
       "2                        ...                                        0   \n",
       "3                        ...                                        0   \n",
       "4                        ...                                        0   \n",
       "\n",
       "   xmm_SC_EP_8_FMIN  xmm_SC_EP_8_FMIN_ERR  xmm_SC_EP_8_FMAX  \\\n",
       "0      6.018350e-15          5.191330e-15      6.018350e-15   \n",
       "1      7.443400e-15          1.952370e-15      7.443400e-15   \n",
       "2      5.887980e-15          3.771330e-15      5.887980e-15   \n",
       "3      1.669370e-14          6.452240e-15      1.669370e-14   \n",
       "4      6.316080e-15          3.759480e-15      6.316080e-15   \n",
       "\n",
       "   xmm_SC_EP_8_FMAX_ERR  xmm_MJD_FIRST  xmm_MJD_LAST  xmm_N_DETECTIONS  \\\n",
       "0          5.191330e-15   56086.742951  56087.588194                 1   \n",
       "1          1.952370e-15   54134.485278  54135.043600                 1   \n",
       "2          3.771330e-15   51696.440880  51696.788090                 1   \n",
       "3          6.452240e-15   56086.742951  56087.588194                 1   \n",
       "4          3.759480e-15   53534.288912  53534.827627                 1   \n",
       "\n",
       "   xmm_CONFUSED                                    xmm_WEBPAGE_URL  \n",
       "0            70  b'http://xmm-catalog.irap.omp.eu/source/206931...  \n",
       "1            70  b'http://xmm-catalog.irap.omp.eu/source/204033...  \n",
       "2            70  b'http://xmm-catalog.irap.omp.eu/source/201253...  \n",
       "3            70  b'http://xmm-catalog.irap.omp.eu/source/206931...  \n",
       "4            70  b'http://xmm-catalog.irap.omp.eu/source/203025...  \n",
       "\n",
       "[5 rows x 44 columns]"
      ]
     },
     "execution_count": 9,
     "metadata": {},
     "output_type": "execute_result"
    }
   ],
   "source": [
    "data_xmm = create_pandas_frames(cat_xmm, \"xmm_\")\n",
    "data_xmm.head()"
   ]
  },
  {
   "cell_type": "code",
   "execution_count": null,
   "metadata": {
    "collapsed": true
   },
   "outputs": [],
   "source": []
  },
  {
   "cell_type": "markdown",
   "metadata": {},
   "source": [
    "Load data from gevtevsimbad, gevsimbad and tevsimbad:"
   ]
  },
  {
   "cell_type": "code",
   "execution_count": 10,
   "metadata": {
    "scrolled": true
   },
   "outputs": [],
   "source": [
    "common_data, only_tev_data, only_gev_data = compare_gev_tev_data(_epsilon)"
   ]
  },
  {
   "cell_type": "code",
   "execution_count": 11,
   "metadata": {
    "collapsed": true
   },
   "outputs": [],
   "source": [
    "def create_matrix_common(cat1, cat2, epsilon, cat1_col1, cat1_col2, cat2_col1, cat2_col2):\n",
    "    \"\"\"This function looks for the same objects in GeV and TeV and Simbad catalogs \n",
    "    \n",
    "    Return: a matrix with association: m[i][j] = True if object i from cat1\n",
    "            is close enough to object j from cat2\n",
    "    \n",
    "    cat1, cat2 - a pandas dataFrames \n",
    "    epsilon(double) - distance accepted as equivalence\n",
    "    \"\"\"\n",
    "    d = {}\n",
    "    classes = {}\n",
    "        \n",
    "    \n",
    "    C_associations_1 = -1.0 * np.ones((len(cat1[cat1_col1])))\n",
    "    C_associations_2 = -1.0 * np.ones((len(cat2[cat2_col1])))\n",
    "    \n",
    "    col1_dif_matrix = np.dot(np.vstack((cat1[cat1_col1], -np.ones_like(cat1[cat1_col1]))).T,\n",
    "                            np.vstack((np.ones_like(cat2[cat2_col1]), cat2[cat2_col1])))\n",
    "    col2_dif_matrix = np.dot(np.vstack((cat1[cat1_col2], -np.ones_like(cat1[cat1_col2]))).T,\n",
    "                            np.vstack((np.ones_like(cat2[cat2_col2]), cat2[cat2_col2])))\n",
    "    pairs_matrix = np.logical_and(np.abs(col1_dif_matrix) < epsilon, \n",
    "                                np.abs(col2_dif_matrix) < epsilon)\n",
    "\n",
    "    return pairs_matrix"
   ]
  },
  {
   "cell_type": "code",
   "execution_count": 12,
   "metadata": {
    "collapsed": true
   },
   "outputs": [],
   "source": [
    "from tqdm import tqdm"
   ]
  },
  {
   "cell_type": "code",
   "execution_count": 13,
   "metadata": {
    "collapsed": true
   },
   "outputs": [],
   "source": [
    "def create_common_data(data1, data2, pairs_matrix, cat1_col1, cat1_col2, cat2_col1, cat2_col2):\n",
    "    \"\"\"The function adds objects found in both catalogs.\n",
    "    \"\"\"\n",
    "    vector_association = np.where(np.sum(pairs_matrix, axis=0) > 0)[0]\n",
    "    pd_common = pd.DataFrame()\n",
    "    for i in tqdm(vector_association):\n",
    "        data1_join = (pairs_matrix[:, i] > 0)*(i + 1) - 1\n",
    "        data1[\"join\"] = data1_join\n",
    "        pd_common0 = pd.merge(data1, data2, right_index=True, left_on='join', how='inner')\n",
    "        if (len(pd_common)):\n",
    "            pd_common = pd_common.append(pd_common0)\n",
    "            del pd_common[\"join\"]\n",
    "            del data1[\"join\"]\n",
    "        else:\n",
    "            pd_common = pd_common0.copy()\n",
    "    \n",
    "      \n",
    "    array_non_duplicate = [cat1_col1, cat1_col2, cat2_col1, cat2_col2]\n",
    "    pd_common = pd_common.drop_duplicates(array_non_duplicate)\n",
    "#     pd_common = pd_common.reset_index()\n",
    "\n",
    "    return pd_common"
   ]
  },
  {
   "cell_type": "code",
   "execution_count": 14,
   "metadata": {},
   "outputs": [
    {
     "name": "stderr",
     "output_type": "stream",
     "text": [
      "100%|██████████| 69/69 [00:02<00:00, 25.94it/s]\n"
     ]
    },
    {
     "name": "stdout",
     "output_type": "stream",
     "text": [
      "There are 68 common objects in the three catalogs.\n"
     ]
    }
   ],
   "source": [
    "matrix = create_matrix_common(common_data, pd_simbad, _epsilon, 'tev_glat', 'tev_glon', \"s_glat\", \"s_glon\")\n",
    "pd_common_gevtevsimbad = create_common_data(common_data, pd_simbad, matrix, 'tev_glat', 'tev_glon', \"s_glat\", \"s_glon\")\n",
    "print(\"There are \" + str(len(pd_common_gevtevsimbad)) + \" common objects in the three catalogs.\")"
   ]
  },
  {
   "cell_type": "code",
   "execution_count": 15,
   "metadata": {
    "collapsed": true
   },
   "outputs": [],
   "source": [
    "matrix = create_matrix_common(pd_common_gevtevsimbad, data_xmm, _epsilon, \"gev_RAJ2000\", \"gev_DEJ2000\", \"xmm_SC_RA\", \"xmm_SC_DEC\")"
   ]
  },
  {
   "cell_type": "code",
   "execution_count": 16,
   "metadata": {},
   "outputs": [
    {
     "name": "stderr",
     "output_type": "stream",
     "text": [
      "100%|██████████| 1135/1135 [03:39<00:00,  5.17it/s]\n"
     ]
    },
    {
     "name": "stdout",
     "output_type": "stream",
     "text": [
      "There are 67 common objects in the three catalogs with xmm.\n"
     ]
    }
   ],
   "source": [
    "pd_common_gevtevsimbadxmm = create_common_data(pd_common_gevtevsimbad, data_xmm, matrix, \"gev_RAJ2000\", \"gev_DEJ2000\", \"s_glat\", \"s_glon\")\n",
    "print(\"There are \" + str(len(pd_common_gevtevsimbadxmm)) + \" common objects in the three catalogs with xmm.\")"
   ]
  },
  {
   "cell_type": "code",
   "execution_count": 17,
   "metadata": {},
   "outputs": [
    {
     "data": {
      "text/html": [
       "<div>\n",
       "<style scoped>\n",
       "    .dataframe tbody tr th:only-of-type {\n",
       "        vertical-align: middle;\n",
       "    }\n",
       "\n",
       "    .dataframe tbody tr th {\n",
       "        vertical-align: top;\n",
       "    }\n",
       "\n",
       "    .dataframe thead th {\n",
       "        text-align: right;\n",
       "    }\n",
       "</style>\n",
       "<table border=\"1\" class=\"dataframe\">\n",
       "  <thead>\n",
       "    <tr style=\"text-align: right;\">\n",
       "      <th></th>\n",
       "      <th>gev_0FGL_Name</th>\n",
       "      <th>gev_1FGL_Name</th>\n",
       "      <th>gev_1FHL_Name</th>\n",
       "      <th>gev_2FGL_Name</th>\n",
       "      <th>gev_ASSOC1</th>\n",
       "      <th>gev_ASSOC2</th>\n",
       "      <th>gev_ASSOC_GAM1</th>\n",
       "      <th>gev_ASSOC_GAM2</th>\n",
       "      <th>gev_ASSOC_GAM3</th>\n",
       "      <th>gev_ASSOC_TEV</th>\n",
       "      <th>...</th>\n",
       "      <th>xmm_SC_HR3</th>\n",
       "      <th>xmm_SC_HR3_ERR</th>\n",
       "      <th>xmm_SC_HR4</th>\n",
       "      <th>xmm_SC_HR4_ERR</th>\n",
       "      <th>xmm_SC_POSERR</th>\n",
       "      <th>xmm_SC_RA</th>\n",
       "      <th>xmm_SC_SUM_FLAG</th>\n",
       "      <th>xmm_SC_VAR_FLAG</th>\n",
       "      <th>xmm_SRCID</th>\n",
       "      <th>xmm_WEBPAGE_URL</th>\n",
       "    </tr>\n",
       "  </thead>\n",
       "  <tbody>\n",
       "    <tr>\n",
       "      <th>11</th>\n",
       "      <td>b'0FGL J0240.3+6113'</td>\n",
       "      <td>b'1FGL J0240.5+6113 '</td>\n",
       "      <td>b'1FHL J0240.2+6113 '</td>\n",
       "      <td>b'2FGL J0240.5+6113 '</td>\n",
       "      <td>b'LS I+61 303               '</td>\n",
       "      <td>b'                          '</td>\n",
       "      <td>b'1AGL J0242+6111'</td>\n",
       "      <td>b'              '</td>\n",
       "      <td>b'EGR J0240+6112 '</td>\n",
       "      <td>b'LS I +61 303         '</td>\n",
       "      <td>...</td>\n",
       "      <td>-1.000000</td>\n",
       "      <td>0.621338</td>\n",
       "      <td>1.000000</td>\n",
       "      <td>0.583818</td>\n",
       "      <td>2.281000</td>\n",
       "      <td>40.022122</td>\n",
       "      <td>0</td>\n",
       "      <td>0</td>\n",
       "      <td>205059811010050</td>\n",
       "      <td>b'http://xmm-catalog.irap.omp.eu/source/205059...</td>\n",
       "    </tr>\n",
       "    <tr>\n",
       "      <th>35</th>\n",
       "      <td>b'                 '</td>\n",
       "      <td>b'1FGL J0956.5+6938 '</td>\n",
       "      <td>b'                  '</td>\n",
       "      <td>b'2FGL J0955.9+6936 '</td>\n",
       "      <td>b'M 82                      '</td>\n",
       "      <td>b'                          '</td>\n",
       "      <td>b'               '</td>\n",
       "      <td>b'              '</td>\n",
       "      <td>b'               '</td>\n",
       "      <td>b'M 82                 '</td>\n",
       "      <td>...</td>\n",
       "      <td>-0.025561</td>\n",
       "      <td>0.030540</td>\n",
       "      <td>-0.291307</td>\n",
       "      <td>0.039613</td>\n",
       "      <td>0.268383</td>\n",
       "      <td>148.765898</td>\n",
       "      <td>3</td>\n",
       "      <td>70</td>\n",
       "      <td>201122902010022</td>\n",
       "      <td>b'http://xmm-catalog.irap.omp.eu/source/201122...</td>\n",
       "    </tr>\n",
       "    <tr>\n",
       "      <th>35</th>\n",
       "      <td>b'                 '</td>\n",
       "      <td>b'1FGL J0956.5+6938 '</td>\n",
       "      <td>b'                  '</td>\n",
       "      <td>b'2FGL J0955.9+6936 '</td>\n",
       "      <td>b'M 82                      '</td>\n",
       "      <td>b'                          '</td>\n",
       "      <td>b'               '</td>\n",
       "      <td>b'              '</td>\n",
       "      <td>b'               '</td>\n",
       "      <td>b'M 82                 '</td>\n",
       "      <td>...</td>\n",
       "      <td>-0.025561</td>\n",
       "      <td>0.030540</td>\n",
       "      <td>-0.291307</td>\n",
       "      <td>0.039613</td>\n",
       "      <td>0.268383</td>\n",
       "      <td>148.765898</td>\n",
       "      <td>3</td>\n",
       "      <td>70</td>\n",
       "      <td>201122902010022</td>\n",
       "      <td>b'http://xmm-catalog.irap.omp.eu/source/201122...</td>\n",
       "    </tr>\n",
       "    <tr>\n",
       "      <th>35</th>\n",
       "      <td>b'                 '</td>\n",
       "      <td>b'1FGL J0956.5+6938 '</td>\n",
       "      <td>b'                  '</td>\n",
       "      <td>b'2FGL J0955.9+6936 '</td>\n",
       "      <td>b'M 82                      '</td>\n",
       "      <td>b'                          '</td>\n",
       "      <td>b'               '</td>\n",
       "      <td>b'              '</td>\n",
       "      <td>b'               '</td>\n",
       "      <td>b'M 82                 '</td>\n",
       "      <td>...</td>\n",
       "      <td>-0.025561</td>\n",
       "      <td>0.030540</td>\n",
       "      <td>-0.291307</td>\n",
       "      <td>0.039613</td>\n",
       "      <td>0.268383</td>\n",
       "      <td>148.765898</td>\n",
       "      <td>3</td>\n",
       "      <td>70</td>\n",
       "      <td>201122902010022</td>\n",
       "      <td>b'http://xmm-catalog.irap.omp.eu/source/201122...</td>\n",
       "    </tr>\n",
       "    <tr>\n",
       "      <th>35</th>\n",
       "      <td>b'                 '</td>\n",
       "      <td>b'1FGL J0956.5+6938 '</td>\n",
       "      <td>b'                  '</td>\n",
       "      <td>b'2FGL J0955.9+6936 '</td>\n",
       "      <td>b'M 82                      '</td>\n",
       "      <td>b'                          '</td>\n",
       "      <td>b'               '</td>\n",
       "      <td>b'              '</td>\n",
       "      <td>b'               '</td>\n",
       "      <td>b'M 82                 '</td>\n",
       "      <td>...</td>\n",
       "      <td>-0.025561</td>\n",
       "      <td>0.030540</td>\n",
       "      <td>-0.291307</td>\n",
       "      <td>0.039613</td>\n",
       "      <td>0.268383</td>\n",
       "      <td>148.765898</td>\n",
       "      <td>3</td>\n",
       "      <td>70</td>\n",
       "      <td>201122902010022</td>\n",
       "      <td>b'http://xmm-catalog.irap.omp.eu/source/201122...</td>\n",
       "    </tr>\n",
       "  </tbody>\n",
       "</table>\n",
       "<p>5 rows × 238 columns</p>\n",
       "</div>"
      ],
      "text/plain": [
       "           gev_0FGL_Name          gev_1FGL_Name          gev_1FHL_Name  \\\n",
       "11  b'0FGL J0240.3+6113'  b'1FGL J0240.5+6113 '  b'1FHL J0240.2+6113 '   \n",
       "35  b'                 '  b'1FGL J0956.5+6938 '  b'                  '   \n",
       "35  b'                 '  b'1FGL J0956.5+6938 '  b'                  '   \n",
       "35  b'                 '  b'1FGL J0956.5+6938 '  b'                  '   \n",
       "35  b'                 '  b'1FGL J0956.5+6938 '  b'                  '   \n",
       "\n",
       "            gev_2FGL_Name                     gev_ASSOC1  \\\n",
       "11  b'2FGL J0240.5+6113 '  b'LS I+61 303               '   \n",
       "35  b'2FGL J0955.9+6936 '  b'M 82                      '   \n",
       "35  b'2FGL J0955.9+6936 '  b'M 82                      '   \n",
       "35  b'2FGL J0955.9+6936 '  b'M 82                      '   \n",
       "35  b'2FGL J0955.9+6936 '  b'M 82                      '   \n",
       "\n",
       "                       gev_ASSOC2      gev_ASSOC_GAM1     gev_ASSOC_GAM2  \\\n",
       "11  b'                          '  b'1AGL J0242+6111'  b'              '   \n",
       "35  b'                          '  b'               '  b'              '   \n",
       "35  b'                          '  b'               '  b'              '   \n",
       "35  b'                          '  b'               '  b'              '   \n",
       "35  b'                          '  b'               '  b'              '   \n",
       "\n",
       "        gev_ASSOC_GAM3             gev_ASSOC_TEV  \\\n",
       "11  b'EGR J0240+6112 '  b'LS I +61 303         '   \n",
       "35  b'               '  b'M 82                 '   \n",
       "35  b'               '  b'M 82                 '   \n",
       "35  b'               '  b'M 82                 '   \n",
       "35  b'               '  b'M 82                 '   \n",
       "\n",
       "                          ...                         xmm_SC_HR3  \\\n",
       "11                        ...                          -1.000000   \n",
       "35                        ...                          -0.025561   \n",
       "35                        ...                          -0.025561   \n",
       "35                        ...                          -0.025561   \n",
       "35                        ...                          -0.025561   \n",
       "\n",
       "    xmm_SC_HR3_ERR  xmm_SC_HR4  xmm_SC_HR4_ERR  xmm_SC_POSERR   xmm_SC_RA  \\\n",
       "11        0.621338    1.000000        0.583818       2.281000   40.022122   \n",
       "35        0.030540   -0.291307        0.039613       0.268383  148.765898   \n",
       "35        0.030540   -0.291307        0.039613       0.268383  148.765898   \n",
       "35        0.030540   -0.291307        0.039613       0.268383  148.765898   \n",
       "35        0.030540   -0.291307        0.039613       0.268383  148.765898   \n",
       "\n",
       "    xmm_SC_SUM_FLAG  xmm_SC_VAR_FLAG        xmm_SRCID  \\\n",
       "11                0                0  205059811010050   \n",
       "35                3               70  201122902010022   \n",
       "35                3               70  201122902010022   \n",
       "35                3               70  201122902010022   \n",
       "35                3               70  201122902010022   \n",
       "\n",
       "                                      xmm_WEBPAGE_URL  \n",
       "11  b'http://xmm-catalog.irap.omp.eu/source/205059...  \n",
       "35  b'http://xmm-catalog.irap.omp.eu/source/201122...  \n",
       "35  b'http://xmm-catalog.irap.omp.eu/source/201122...  \n",
       "35  b'http://xmm-catalog.irap.omp.eu/source/201122...  \n",
       "35  b'http://xmm-catalog.irap.omp.eu/source/201122...  \n",
       "\n",
       "[5 rows x 238 columns]"
      ]
     },
     "execution_count": 17,
     "metadata": {},
     "output_type": "execute_result"
    }
   ],
   "source": [
    "pd_common_gevtevsimbadxmm.head()"
   ]
  },
  {
   "cell_type": "markdown",
   "metadata": {
    "collapsed": true
   },
   "source": [
    "The next cells find common values in simbad-tev"
   ]
  },
  {
   "cell_type": "code",
   "execution_count": 18,
   "metadata": {},
   "outputs": [
    {
     "name": "stderr",
     "output_type": "stream",
     "text": [
      "100%|██████████| 126/126 [00:03<00:00, 33.74it/s]\n"
     ]
    },
    {
     "name": "stdout",
     "output_type": "stream",
     "text": [
      "There are 123 common objects in the tev-simbad catalogs.\n"
     ]
    }
   ],
   "source": [
    "matrix = create_matrix_common(only_tev_data, pd_simbad, _epsilon, 'tev_glat', 'tev_glon', \"s_glat\", \"s_glon\")\n",
    "pd_common_onlytevsimbad = create_common_data(only_tev_data, pd_simbad, matrix, 'tev_glat', 'tev_glon', \"s_glat\", \"s_glon\")\n",
    "print(\"There are \" + str(len(pd_common_onlytevsimbad)) + \" common objects in the tev-simbad catalogs.\")"
   ]
  },
  {
   "cell_type": "code",
   "execution_count": 19,
   "metadata": {},
   "outputs": [
    {
     "data": {
      "text/plain": [
       "(123, 499266)"
      ]
     },
     "execution_count": 19,
     "metadata": {},
     "output_type": "execute_result"
    }
   ],
   "source": [
    "matrix = create_matrix_common(pd_common_onlytevsimbad, data_xmm, _epsilon, \"tev_ra\", \"tev_dec\", \"xmm_SC_RA\", \"xmm_SC_DEC\")\n",
    "matrix.shape"
   ]
  },
  {
   "cell_type": "code",
   "execution_count": 20,
   "metadata": {},
   "outputs": [
    {
     "name": "stderr",
     "output_type": "stream",
     "text": [
      "100%|██████████| 1761/1761 [06:11<00:00,  4.75it/s]\n"
     ]
    },
    {
     "name": "stdout",
     "output_type": "stream",
     "text": [
      "There are 123 common objects in the tev-simbad catalog with xmm.\n"
     ]
    }
   ],
   "source": [
    "pd_common_onlytevsimbadxmm = create_common_data(pd_common_onlytevsimbad, data_xmm, matrix, \"tev_ra\", \"tev_dec\", \"s_glat\", \"s_glon\")\n",
    "print(\"There are \" + str(len(pd_common_onlytevsimbadxmm)) + \" common objects in the tev-simbad catalog with xmm.\")"
   ]
  },
  {
   "cell_type": "code",
   "execution_count": null,
   "metadata": {
    "collapsed": true
   },
   "outputs": [],
   "source": []
  },
  {
   "cell_type": "markdown",
   "metadata": {},
   "source": [
    "The next cells find common values in simbad-gev"
   ]
  },
  {
   "cell_type": "code",
   "execution_count": 21,
   "metadata": {},
   "outputs": [
    {
     "name": "stderr",
     "output_type": "stream",
     "text": [
      "100%|██████████| 159/159 [00:05<00:00, 27.21it/s]\n"
     ]
    },
    {
     "name": "stdout",
     "output_type": "stream",
     "text": [
      "There are 155 common objects in the gev-simbad catalogs.\n"
     ]
    }
   ],
   "source": [
    "matrix = create_matrix_common(only_gev_data, pd_simbad, _epsilon, 'gev_GLAT', 'gev_GLON', \"s_glat\", \"s_glon\")\n",
    "pd_common_onlygevsimbad = create_common_data(only_gev_data, pd_simbad, matrix, 'gev_GLAT', 'gev_GLON', \"s_glat\", \"s_glon\")\n",
    "print(\"There are \" + str(len(pd_common_onlygevsimbad)) + \" common objects in the gev-simbad catalogs.\")"
   ]
  },
  {
   "cell_type": "code",
   "execution_count": 22,
   "metadata": {},
   "outputs": [
    {
     "data": {
      "text/plain": [
       "(155, 499266)"
      ]
     },
     "execution_count": 22,
     "metadata": {},
     "output_type": "execute_result"
    }
   ],
   "source": [
    "matrix = create_matrix_common(pd_common_onlygevsimbad, data_xmm, _epsilon, \"gev_RAJ2000\", \"gev_DEJ2000\", \"xmm_SC_RA\", \"xmm_SC_DEC\")\n",
    "matrix.shape"
   ]
  },
  {
   "cell_type": "code",
   "execution_count": 23,
   "metadata": {},
   "outputs": [
    {
     "name": "stderr",
     "output_type": "stream",
     "text": [
      "100%|██████████| 2441/2441 [07:26<00:00,  5.47it/s]\n"
     ]
    },
    {
     "name": "stdout",
     "output_type": "stream",
     "text": [
      "There are 109 common objects in the gev-simbad catalog with xmm.\n"
     ]
    }
   ],
   "source": [
    "pd_common_onlygevsimbadxmm = create_common_data(pd_common_onlygevsimbad, data_xmm, matrix, \"gev_RAJ2000\", \"gev_DEJ2000\", \"s_glat\", \"s_glon\")\n",
    "print(\"There are \" + str(len(pd_common_onlygevsimbadxmm)) + \" common objects in the gev-simbad catalog with xmm.\")"
   ]
  },
  {
   "cell_type": "code",
   "execution_count": 24,
   "metadata": {},
   "outputs": [
    {
     "data": {
      "text/html": [
       "<div>\n",
       "<style scoped>\n",
       "    .dataframe tbody tr th:only-of-type {\n",
       "        vertical-align: middle;\n",
       "    }\n",
       "\n",
       "    .dataframe tbody tr th {\n",
       "        vertical-align: top;\n",
       "    }\n",
       "\n",
       "    .dataframe thead th {\n",
       "        text-align: right;\n",
       "    }\n",
       "</style>\n",
       "<table border=\"1\" class=\"dataframe\">\n",
       "  <thead>\n",
       "    <tr style=\"text-align: right;\">\n",
       "      <th></th>\n",
       "      <th>gev_0FGL_Name</th>\n",
       "      <th>gev_1FGL_Name</th>\n",
       "      <th>gev_1FHL_Name</th>\n",
       "      <th>gev_2FGL_Name</th>\n",
       "      <th>gev_ASSOC1</th>\n",
       "      <th>gev_ASSOC2</th>\n",
       "      <th>gev_ASSOC_GAM1</th>\n",
       "      <th>gev_ASSOC_GAM2</th>\n",
       "      <th>gev_ASSOC_GAM3</th>\n",
       "      <th>gev_ASSOC_TEV</th>\n",
       "      <th>...</th>\n",
       "      <th>xmm_SC_HR3</th>\n",
       "      <th>xmm_SC_HR3_ERR</th>\n",
       "      <th>xmm_SC_HR4</th>\n",
       "      <th>xmm_SC_HR4_ERR</th>\n",
       "      <th>xmm_SC_POSERR</th>\n",
       "      <th>xmm_SC_RA</th>\n",
       "      <th>xmm_SC_SUM_FLAG</th>\n",
       "      <th>xmm_SC_VAR_FLAG</th>\n",
       "      <th>xmm_SRCID</th>\n",
       "      <th>xmm_WEBPAGE_URL</th>\n",
       "    </tr>\n",
       "  </thead>\n",
       "  <tbody>\n",
       "    <tr>\n",
       "      <th>86</th>\n",
       "      <td>b'                 '</td>\n",
       "      <td>b'                  '</td>\n",
       "      <td>b'1FHL J0040.3+4049 '</td>\n",
       "      <td>b'                  '</td>\n",
       "      <td>b'B3 0037+405               '</td>\n",
       "      <td>b'                          '</td>\n",
       "      <td>b'               '</td>\n",
       "      <td>b'              '</td>\n",
       "      <td>b'               '</td>\n",
       "      <td>b'                     '</td>\n",
       "      <td>...</td>\n",
       "      <td>-0.153511</td>\n",
       "      <td>0.178042</td>\n",
       "      <td>0.293061</td>\n",
       "      <td>0.199234</td>\n",
       "      <td>1.203140</td>\n",
       "      <td>9.96372</td>\n",
       "      <td>1</td>\n",
       "      <td>0</td>\n",
       "      <td>204025605010130</td>\n",
       "      <td>b'http://xmm-catalog.irap.omp.eu/source/204025...</td>\n",
       "    </tr>\n",
       "    <tr>\n",
       "      <th>86</th>\n",
       "      <td>b'                 '</td>\n",
       "      <td>b'                  '</td>\n",
       "      <td>b'1FHL J0040.3+4049 '</td>\n",
       "      <td>b'                  '</td>\n",
       "      <td>b'B3 0037+405               '</td>\n",
       "      <td>b'                          '</td>\n",
       "      <td>b'               '</td>\n",
       "      <td>b'              '</td>\n",
       "      <td>b'               '</td>\n",
       "      <td>b'                     '</td>\n",
       "      <td>...</td>\n",
       "      <td>-0.153511</td>\n",
       "      <td>0.178042</td>\n",
       "      <td>0.293061</td>\n",
       "      <td>0.199234</td>\n",
       "      <td>1.203140</td>\n",
       "      <td>9.96372</td>\n",
       "      <td>1</td>\n",
       "      <td>0</td>\n",
       "      <td>204025605010130</td>\n",
       "      <td>b'http://xmm-catalog.irap.omp.eu/source/204025...</td>\n",
       "    </tr>\n",
       "    <tr>\n",
       "      <th>86</th>\n",
       "      <td>b'                 '</td>\n",
       "      <td>b'                  '</td>\n",
       "      <td>b'1FHL J0040.3+4049 '</td>\n",
       "      <td>b'                  '</td>\n",
       "      <td>b'B3 0037+405               '</td>\n",
       "      <td>b'                          '</td>\n",
       "      <td>b'               '</td>\n",
       "      <td>b'              '</td>\n",
       "      <td>b'               '</td>\n",
       "      <td>b'                     '</td>\n",
       "      <td>...</td>\n",
       "      <td>-0.153511</td>\n",
       "      <td>0.178042</td>\n",
       "      <td>0.293061</td>\n",
       "      <td>0.199234</td>\n",
       "      <td>1.203140</td>\n",
       "      <td>9.96372</td>\n",
       "      <td>1</td>\n",
       "      <td>0</td>\n",
       "      <td>204025605010130</td>\n",
       "      <td>b'http://xmm-catalog.irap.omp.eu/source/204025...</td>\n",
       "    </tr>\n",
       "    <tr>\n",
       "      <th>86</th>\n",
       "      <td>b'                 '</td>\n",
       "      <td>b'                  '</td>\n",
       "      <td>b'1FHL J0040.3+4049 '</td>\n",
       "      <td>b'                  '</td>\n",
       "      <td>b'B3 0037+405               '</td>\n",
       "      <td>b'                          '</td>\n",
       "      <td>b'               '</td>\n",
       "      <td>b'              '</td>\n",
       "      <td>b'               '</td>\n",
       "      <td>b'                     '</td>\n",
       "      <td>...</td>\n",
       "      <td>-0.153511</td>\n",
       "      <td>0.178042</td>\n",
       "      <td>0.293061</td>\n",
       "      <td>0.199234</td>\n",
       "      <td>1.203140</td>\n",
       "      <td>9.96372</td>\n",
       "      <td>1</td>\n",
       "      <td>0</td>\n",
       "      <td>204025605010130</td>\n",
       "      <td>b'http://xmm-catalog.irap.omp.eu/source/204025...</td>\n",
       "    </tr>\n",
       "    <tr>\n",
       "      <th>90</th>\n",
       "      <td>b'                 '</td>\n",
       "      <td>b'                  '</td>\n",
       "      <td>b'                  '</td>\n",
       "      <td>b'2FGL J0042.5+4114 '</td>\n",
       "      <td>b'M31                       '</td>\n",
       "      <td>b'                          '</td>\n",
       "      <td>b'               '</td>\n",
       "      <td>b'              '</td>\n",
       "      <td>b'               '</td>\n",
       "      <td>b'                     '</td>\n",
       "      <td>...</td>\n",
       "      <td>0.001301</td>\n",
       "      <td>0.098734</td>\n",
       "      <td>-0.365255</td>\n",
       "      <td>0.155236</td>\n",
       "      <td>0.744193</td>\n",
       "      <td>10.51067</td>\n",
       "      <td>1</td>\n",
       "      <td>0</td>\n",
       "      <td>201092701010170</td>\n",
       "      <td>b'http://xmm-catalog.irap.omp.eu/source/201092...</td>\n",
       "    </tr>\n",
       "  </tbody>\n",
       "</table>\n",
       "<p>5 rows × 150 columns</p>\n",
       "</div>"
      ],
      "text/plain": [
       "           gev_0FGL_Name          gev_1FGL_Name          gev_1FHL_Name  \\\n",
       "86  b'                 '  b'                  '  b'1FHL J0040.3+4049 '   \n",
       "86  b'                 '  b'                  '  b'1FHL J0040.3+4049 '   \n",
       "86  b'                 '  b'                  '  b'1FHL J0040.3+4049 '   \n",
       "86  b'                 '  b'                  '  b'1FHL J0040.3+4049 '   \n",
       "90  b'                 '  b'                  '  b'                  '   \n",
       "\n",
       "            gev_2FGL_Name                     gev_ASSOC1  \\\n",
       "86  b'                  '  b'B3 0037+405               '   \n",
       "86  b'                  '  b'B3 0037+405               '   \n",
       "86  b'                  '  b'B3 0037+405               '   \n",
       "86  b'                  '  b'B3 0037+405               '   \n",
       "90  b'2FGL J0042.5+4114 '  b'M31                       '   \n",
       "\n",
       "                       gev_ASSOC2      gev_ASSOC_GAM1     gev_ASSOC_GAM2  \\\n",
       "86  b'                          '  b'               '  b'              '   \n",
       "86  b'                          '  b'               '  b'              '   \n",
       "86  b'                          '  b'               '  b'              '   \n",
       "86  b'                          '  b'               '  b'              '   \n",
       "90  b'                          '  b'               '  b'              '   \n",
       "\n",
       "        gev_ASSOC_GAM3             gev_ASSOC_TEV  \\\n",
       "86  b'               '  b'                     '   \n",
       "86  b'               '  b'                     '   \n",
       "86  b'               '  b'                     '   \n",
       "86  b'               '  b'                     '   \n",
       "90  b'               '  b'                     '   \n",
       "\n",
       "                          ...                         xmm_SC_HR3  \\\n",
       "86                        ...                          -0.153511   \n",
       "86                        ...                          -0.153511   \n",
       "86                        ...                          -0.153511   \n",
       "86                        ...                          -0.153511   \n",
       "90                        ...                           0.001301   \n",
       "\n",
       "    xmm_SC_HR3_ERR  xmm_SC_HR4  xmm_SC_HR4_ERR  xmm_SC_POSERR  xmm_SC_RA  \\\n",
       "86        0.178042    0.293061        0.199234       1.203140    9.96372   \n",
       "86        0.178042    0.293061        0.199234       1.203140    9.96372   \n",
       "86        0.178042    0.293061        0.199234       1.203140    9.96372   \n",
       "86        0.178042    0.293061        0.199234       1.203140    9.96372   \n",
       "90        0.098734   -0.365255        0.155236       0.744193   10.51067   \n",
       "\n",
       "    xmm_SC_SUM_FLAG  xmm_SC_VAR_FLAG        xmm_SRCID  \\\n",
       "86                1                0  204025605010130   \n",
       "86                1                0  204025605010130   \n",
       "86                1                0  204025605010130   \n",
       "86                1                0  204025605010130   \n",
       "90                1                0  201092701010170   \n",
       "\n",
       "                                      xmm_WEBPAGE_URL  \n",
       "86  b'http://xmm-catalog.irap.omp.eu/source/204025...  \n",
       "86  b'http://xmm-catalog.irap.omp.eu/source/204025...  \n",
       "86  b'http://xmm-catalog.irap.omp.eu/source/204025...  \n",
       "86  b'http://xmm-catalog.irap.omp.eu/source/204025...  \n",
       "90  b'http://xmm-catalog.irap.omp.eu/source/201092...  \n",
       "\n",
       "[5 rows x 150 columns]"
      ]
     },
     "execution_count": 24,
     "metadata": {},
     "output_type": "execute_result"
    }
   ],
   "source": [
    "pd_common_onlygevsimbadxmm.head()"
   ]
  },
  {
   "cell_type": "code",
   "execution_count": 25,
   "metadata": {
    "collapsed": true
   },
   "outputs": [],
   "source": [
    "pd_common_gevtevsimbadxmm.to_csv(\"data/gevtevsimbadxmm.txt\", sep='\\t')\n",
    "pd_common_onlygevsimbadxmm.to_csv(\"data/gevsimbadxmm.txt\", sep='\\t')\n",
    "pd_common_onlytevsimbadxmm.to_csv(\"data/tevsimbadxmm.txt\", sep='\\t')"
   ]
  },
  {
   "cell_type": "code",
   "execution_count": 26,
   "metadata": {
    "collapsed": true
   },
   "outputs": [],
   "source": [
    "gevtev_simbadclasses = pd.read_csv(\"data/gevtev_simbadclasses.txt\", sep='\\t', encoding='utf-8')"
   ]
  },
  {
   "cell_type": "code",
   "execution_count": 27,
   "metadata": {
    "collapsed": true
   },
   "outputs": [],
   "source": [
    "matrix = create_matrix_common(gevtev_simbadclasses, data_xmm, _epsilon, \"gev_RAJ2000\", \"gev_DEJ2000\", \"xmm_SC_RA\", \"xmm_SC_DEC\")"
   ]
  },
  {
   "cell_type": "code",
   "execution_count": 28,
   "metadata": {},
   "outputs": [
    {
     "name": "stderr",
     "output_type": "stream",
     "text": [
      "100%|██████████| 4554/4554 [14:17<00:00,  5.31it/s]\n"
     ]
    }
   ],
   "source": [
    "pd_common_gevtevxmm = create_common_data(gevtev_simbadclasses, data_xmm, matrix, \"gev_RAJ2000\", \"gev_DEJ2000\", \"xmm_SC_RA\", \"xmm_SC_DEC\")"
   ]
  },
  {
   "cell_type": "code",
   "execution_count": 29,
   "metadata": {},
   "outputs": [
    {
     "name": "stdout",
     "output_type": "stream",
     "text": [
      "There are 5067 common objects in the gev-tev catalog with xmm.\n"
     ]
    }
   ],
   "source": [
    "print(\"There are \" + str(len(pd_common_gevtevxmm)) + \" common objects in the gev-tev catalog with xmm.\")"
   ]
  },
  {
   "cell_type": "code",
   "execution_count": 30,
   "metadata": {
    "collapsed": true
   },
   "outputs": [],
   "source": [
    "pd_common_gevtevxmm.to_csv(\"data/gevtev_simbadclasses_xmm.txt\", sep='\\t')"
   ]
  },
  {
   "cell_type": "code",
   "execution_count": 31,
   "metadata": {
    "collapsed": true
   },
   "outputs": [],
   "source": [
    "pd_common_gevtevxmm = pd.read_csv(\"data/gevtev_simbadclasses_xmm.txt\", sep='\\t')\n",
    "pd_common_gevtevxmm = pd_common_gevtevxmm.loc[:, ~pd_common_gevtevxmm.columns.str.contains('^Unnamed')]\n",
    "pd_common_gevtevxmm = pd_common_gevtevxmm.loc[:, ~pd_common_gevtevxmm.columns.str.contains('^marked')]\n",
    "pd_common_gevtevxmm.to_csv('data/gevtevxmm_s.txt',sep = '\\t')"
   ]
  },
  {
   "cell_type": "code",
   "execution_count": 32,
   "metadata": {},
   "outputs": [
    {
     "name": "stdout",
     "output_type": "stream",
     "text": [
      "71\n",
      "105\n"
     ]
    }
   ],
   "source": [
    "print(len(pd_common_gevtevxmm['gev_RAJ2000'].unique()))\n",
    "print(len(gevtev_simbadclasses['gev_RAJ2000'].unique()))"
   ]
  },
  {
   "cell_type": "code",
   "execution_count": null,
   "metadata": {
    "collapsed": true
   },
   "outputs": [],
   "source": []
  }
 ],
 "metadata": {
  "kernelspec": {
   "display_name": "Python 3",
   "language": "python",
   "name": "python3"
  },
  "language_info": {
   "codemirror_mode": {
    "name": "ipython",
    "version": 3
   },
   "file_extension": ".py",
   "mimetype": "text/x-python",
   "name": "python",
   "nbconvert_exporter": "python",
   "pygments_lexer": "ipython3",
   "version": "3.6.5"
  }
 },
 "nbformat": 4,
 "nbformat_minor": 2
}
