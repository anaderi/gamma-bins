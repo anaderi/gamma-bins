{
 "cells": [
  {
   "cell_type": "code",
   "execution_count": 20,
   "metadata": {},
   "outputs": [],
   "source": [
    "from astropy.io import fits\n",
    "import numpy as np\n",
    "from collections import Counter\n",
    "#fits_image_filename = fits.util.get_testdata_filepath()"
   ]
  },
  {
   "cell_type": "code",
   "execution_count": 21,
   "metadata": {},
   "outputs": [],
   "source": [
    "hdul = fits.open('gll_psc_v16.fit')\n",
    "cat = hdul[1].data"
   ]
  },
  {
   "cell_type": "code",
   "execution_count": 22,
   "metadata": {},
   "outputs": [],
   "source": [
    "names1 = ['ASSOC_TEV', 'CLASS1', 'GLON', 'GLAT', 'Variability_Index', 'Flux1000', 'Flux10000_100000', 'Flux1000_3000', 'Flux100_300', 'Flux3000_10000', 'Flux300_1000',  'Flux30_100'] "
   ]
  },
  {
   "cell_type": "markdown",
   "metadata": {},
   "source": []
  },
  {
   "cell_type": "code",
   "execution_count": 23,
   "metadata": {},
   "outputs": [
    {
     "name": "stdout",
     "output_type": "stream",
     "text": [
      "['ASSOC_TEV', 'CLASS1', 'GLON', 'GLAT', 'Variability_Index', 'Flux1000', 'Flux10000_100000', 'Flux1000_3000', 'Flux100_300', 'Flux3000_10000', 'Flux300_1000', 'Flux30_100']\n"
     ]
    }
   ],
   "source": [
    "print(names1)"
   ]
  },
  {
   "cell_type": "code",
   "execution_count": 24,
   "metadata": {},
   "outputs": [],
   "source": [
    "hdul2 = fits.open('gammacat.fits')\n",
    "cat2 = hdul2[1].data"
   ]
  },
  {
   "cell_type": "code",
   "execution_count": 25,
   "metadata": {},
   "outputs": [],
   "source": [
    "names2 = ['classes', 'glat', 'glon', 'morph_pa', 'fermi_names', 'reference_id', 'sed_dnde', 'sed_dnde_err', 'sed_e_ref', 'spec_dnde_1TeV', 'spec_dnde_1TeV_err', 'spec_eflux_1TeV_10TeV', 'spec_eflux_1TeV_10TeV_err', 'spec_flux_1TeV', 'spec_flux_1TeV_crab', 'spec_flux_1TeV_crab_err'\n",
    "    ]"
   ]
  },
  {
   "cell_type": "code",
   "execution_count": 26,
   "metadata": {
    "scrolled": true
   },
   "outputs": [
    {
     "name": "stdout",
     "output_type": "stream",
     "text": [
      "['classes', 'glat', 'glon', 'morph_pa', 'fermi_names', 'reference_id', 'sed_dnde', 'sed_dnde_err', 'sed_e_ref', 'spec_dnde_1TeV', 'spec_dnde_1TeV_err', 'spec_eflux_1TeV_10TeV', 'spec_eflux_1TeV_10TeV_err', 'spec_flux_1TeV', 'spec_flux_1TeV_crab', 'spec_flux_1TeV_crab_err']\n"
     ]
    }
   ],
   "source": [
    "print(names2)"
   ]
  },
  {
   "cell_type": "code",
   "execution_count": 27,
   "metadata": {},
   "outputs": [
    {
     "name": "stdout",
     "output_type": "stream",
     "text": [
      "1\n",
      "bin\n",
      "HMB\n",
      "bin\n",
      "HMB\n",
      "bin\n",
      "HMB\n",
      "{13: 319, 45: 1172, 125: 2358}\n"
     ]
    }
   ],
   "source": [
    "def thesamebin(glat1, glat2, glon1, glon2, class1, class2, epsilon):\n",
    "    d = {}\n",
    "    print(epsilon)\n",
    "    for j in range(len(glat2)):\n",
    "        for i in range(len(glat1)):\n",
    "            if ((class2[j].find('bin') != -1) & ((class1[i].find('BIN') != -1) | (class1[i].find('HMB') != -1))) :\n",
    "                if ((np.abs(glat1[i] - glat2[j]) < epsilon) & (np.abs(glon1[i] - glon2[j]) < epsilon)):\n",
    "                    print(class2[j])\n",
    "                    print(class1[i])\n",
    "                    d.update({j : i})\n",
    "    return d\n",
    "                \n",
    "print(thesamebin(cat[\"GLAT\"], cat2['glat'], cat[\"GLON\"], cat2['glon'], cat[\"CLASS1\"], cat2['classes'], 1))"
   ]
  },
  {
   "cell_type": "code",
   "execution_count": null,
   "metadata": {},
   "outputs": [],
   "source": []
  },
  {
   "cell_type": "code",
   "execution_count": 28,
   "metadata": {},
   "outputs": [
    {
     "name": "stdout",
     "output_type": "stream",
     "text": [
      "['ASSOC_TEV', 'CLASS1', 'GLON', 'GLAT', 'Variability_Index', 'Flux1000', 'Flux10000_100000', 'Flux1000_3000', 'Flux100_300', 'Flux3000_10000', 'Flux300_1000', 'Flux30_100']\n"
     ]
    }
   ],
   "source": [
    "print(names1)"
   ]
  },
  {
   "cell_type": "code",
   "execution_count": 29,
   "metadata": {},
   "outputs": [
    {
     "name": "stdout",
     "output_type": "stream",
     "text": [
      "['classes', 'glat', 'glon', 'morph_pa', 'fermi_names', 'reference_id', 'sed_dnde', 'sed_dnde_err', 'sed_e_ref', 'spec_dnde_1TeV', 'spec_dnde_1TeV_err', 'spec_eflux_1TeV_10TeV', 'spec_eflux_1TeV_10TeV_err', 'spec_flux_1TeV', 'spec_flux_1TeV_crab', 'spec_flux_1TeV_crab_err']\n"
     ]
    }
   ],
   "source": [
    "print(names2)"
   ]
  },
  {
   "cell_type": "code",
   "execution_count": 30,
   "metadata": {},
   "outputs": [
    {
     "name": "stdout",
     "output_type": "stream",
     "text": [
      "{'blazar': 'BLL', 'frsq': 'FRSQ', 'bin': 'BIN', 'galaxy': 'GAL', 'psr': 'PSR', 'pwn': 'PWN', 'snr': 'SNR', 'unid': ''}\n"
     ]
    }
   ],
   "source": [
    "gevToTev = {'BLL' : 'blazar', 'FRSQ' : 'frsq', 'HMB' : 'bin' , 'BIN' : 'bin', 'GAL' : 'galaxy', 'PSR' : 'psr', 'PWN' : 'pwn', 'SNR' : 'snr', '' : 'unid'}\n",
    "tevToGev = {v:k for k, v in gevToTev.items()}\n",
    "print(tevToGev)"
   ]
  },
  {
   "cell_type": "code",
   "execution_count": 31,
   "metadata": {},
   "outputs": [
    {
     "name": "stdout",
     "output_type": "stream",
     "text": [
      "{'BLL': 'blazar', 'FRSQ': 'frsq', 'HMB': 'bin', 'BIN': 'bin', 'GAL': 'galaxy', 'PSR': 'psr', 'PWN': 'pwn', 'SNR': 'snr', '': 'unid'}\n"
     ]
    }
   ],
   "source": [
    "print(gevToTev)"
   ]
  },
  {
   "cell_type": "code",
   "execution_count": 32,
   "metadata": {},
   "outputs": [
    {
     "name": "stdout",
     "output_type": "stream",
     "text": [
      "3e-10\n",
      "{95: 3030, 103: 3030, 105: 3030, 107: 3030, 108: 3030, 109: 3030, 11: 3030, 46: 3030, 68: 3030, 76: 3030, 77: 3030, 84: 3030, 86: 3030, 88: 3030, 90: 3030, 91: 3030, 93: 3030, 24: 2994, 31: 2994, 152: 3030, 153: 3030, 154: 3030, 155: 3030, 156: 3030, 9: 2884, 41: 2884, 37: 620, 44: 955, 47: 955, 50: 955, 61: 2354, 64: 955, 65: 2405, 66: 2405, 74: 955, 79: 1847, 82: 1847, 85: 2405, 87: 2405, 89: 2405, 94: 955, 100: 1847, 29: 2699, 39: 2699, 73: 2699, 75: 2699, 81: 2699, 96: 2699, 97: 2699, 98: 2699, 99: 2699, 104: 2699, 70: 2699, 60: 2358, 120: 2926, 113: 2704, 117: 2926, 126: 2926, 128: 2926, 134: 2926, 135: 2926, 111: 2237, 118: 2926, 119: 2926, 123: 2926, 127: 2926, 129: 2926, 131: 2926, 133: 2926, 137: 2926, 139: 2926, 140: 2926, 144: 2984, 141: 2926, 142: 2984, 0: 2699, 2: 2699, 115: 2274, 122: 2286, 143: 2440, 146: 2499, 151: 2699, 159: 2699, 160: 2699, 8: 2405, 132: 2354, 136: 2405, 138: 2405, 13: 2358, 163: 2699}\n"
     ]
    }
   ],
   "source": [
    "def thesame(glat1, glat2, glon1, glon2, class1, class2, epsilon):\n",
    "    ##########################\n",
    "    #looking for the same objects in GeV and TeV\n",
    "    #Return: dictionary with corresponding values\n",
    "    #\n",
    "    # feature1(list) - features of GeV \n",
    "    # feature2(list) - features of TeV \n",
    "    # epsilon(double) - distance accepted as equivalence\n",
    "    ##########################\n",
    "    d = {}\n",
    "    print(epsilon)\n",
    "    for i in range(len(glat1)):\n",
    "        for j in range(len(glat2)):\n",
    "            classGeV = class1[i]\n",
    "            start = -1\n",
    "            try: \n",
    "                start = (class2[j].find(gevToTev[classGeV]))\n",
    "            except:\n",
    "                pass\n",
    "            if (start != -1):\n",
    "                if (start != -1):\n",
    "                    if ((glat1[i] - glat2[j] < epsilon) & (glon1[i] - glon2[j] < epsilon)) :\n",
    "                        d.update({j : i})\n",
    "    return d\n",
    "\n",
    "D = thesame(cat[\"GLAT\"], cat2['glat'], cat[\"GLON\"], cat2['glon'], cat[\"CLASS1\"], cat2['classes'], 3e-10)\n",
    "print(D)"
   ]
  },
  {
   "cell_type": "code",
   "execution_count": 33,
   "metadata": {},
   "outputs": [],
   "source": [
    "namefinal = ['glat', 'glon', 'morph_pa', 'sed_dnde', 'sed_dnde_err', 'sed_e_ref', 'spec_dnde_1TeV', 'spec_dnde_1TeV_err', 'spec_eflux_1TeV_10TeV', 'spec_eflux_1TeV_10TeV_err', 'spec_flux_1TeV', 'spec_flux_1TeV_crab', 'spec_flux_1TeV_crab_err', 'ASSOC_TEV', 'Variability_Index', 'Flux1000', 'Flux10000_100000', 'Flux1000_3000', 'Flux100_300', 'Flux3000_10000', 'Flux300_1000', 'Flux30_100', 'Flux1000', 'Flux10000_100000', 'Flux1000_3000', 'Flux100_300', 'Flux3000_10000', 'Flux300_1000', 'Flux30_100', 'CLASS1']"
   ]
  },
  {
   "cell_type": "code",
   "execution_count": 34,
   "metadata": {},
   "outputs": [],
   "source": [
    "otherassoc = {'glon' : 'GLON', 'glat' : 'GLAT'}"
   ]
  },
  {
   "cell_type": "code",
   "execution_count": 35,
   "metadata": {},
   "outputs": [],
   "source": [
    "def addCommon(data, D, namefinal):\n",
    "    ##########################\n",
    "    #adding objects found both in GeV and TeV\n",
    "    #\n",
    "    # data(list) - new objects will be added in this list\n",
    "    # D(dictionary) - a dictionary with repeated objects from TeV and GeV\n",
    "    # namefinal(list) - names of required features to fill in data\n",
    "    ##########################\n",
    "    k = 0\n",
    "    #print(D)\n",
    "    for j in D.keys():\n",
    "        data.append([])\n",
    "        for i in range(13):\n",
    "            data[k].append(cat2[namefinal[i]][j])\n",
    "        for i in range(13, len(namefinal)):\n",
    "            data[k].append(cat[namefinal[i]][D[j]])\n",
    "        k = k+1\n",
    "            \n",
    "    return data\n",
    "    #print(str(cat['CLASS1'][D[i]]) + \" - \" + str(cat2['classes'][i]) + \"\\n\")\n",
    "    \n",
    "    \n"
   ]
  },
  {
   "cell_type": "code",
   "execution_count": 36,
   "metadata": {},
   "outputs": [],
   "source": [
    "def addCat2(data, D, namefinal):\n",
    "    ##########################\n",
    "    #adding objects found only in TeV\n",
    "    #\n",
    "    # data(list) - new objects will be added in this list\n",
    "    # D(dictionary) - a dictionary with repeated objects from TeV and GeV\n",
    "    # namefinal(list) - names of required features to fill in data\n",
    "    ##########################\n",
    "    k = len(data)\n",
    "    for j in range(len(cat2)):\n",
    "        if not(j in D.keys()):\n",
    "            data.append([])\n",
    "            for i in range(13):\n",
    "                data[k].append(cat2[namefinal[i]][j])\n",
    "            for i in range(13, len(namefinal) - 1):\n",
    "                data[k].append(None)\n",
    "            try:\n",
    "                data[k].append(tevToGev[cat2['classes'][j]])\n",
    "            except:\n",
    "                data[k].append(cat2['classes'][j])\n",
    "            k = k+1\n",
    "    return data"
   ]
  },
  {
   "cell_type": "code",
   "execution_count": 37,
   "metadata": {},
   "outputs": [],
   "source": [
    "def addCat(data,  D, namefinal):\n",
    "    ##########################\n",
    "    #adding objects found only in GeV\n",
    "    #\n",
    "    # data(list) - new objects will be added in this list\n",
    "    # D(dictionary) - a dictionary with repeated objects from TeV and GeV\n",
    "    # namefinal(list) - names of required features to fill in data\n",
    "    ##########################\n",
    "    k = len(data)    \n",
    "    for j in range(len(cat)):\n",
    "        if not(j in D.values()):\n",
    "            data.append([])\n",
    "            for i in range(2):\n",
    "                data[k].append(cat[otherassoc[namefinal[i]]][j])\n",
    "            for i in range(2, 13): \n",
    "                data[k].append(None)\n",
    "            for i in range(13, len(namefinal)):\n",
    "                data[k].append(cat[namefinal[i]][j])\n",
    "            k = k+1\n",
    "    return data"
   ]
  },
  {
   "cell_type": "code",
   "execution_count": 38,
   "metadata": {},
   "outputs": [
    {
     "name": "stdout",
     "output_type": "stream",
     "text": [
      "Added common values = 90\n",
      "Added values which can be found only in grammacat.fits (TeV) = 76\n",
      "Added values which can be found only in gll_psc_v16.fit (GeV) = 3016\n",
      "Size of grammacat.fits (TeV) = 166\n",
      "Size of gll_psc_v16.fits (GeV) = 3034\n"
     ]
    }
   ],
   "source": [
    "data = []\n",
    "data = addCommon(data, D, namefinal)\n",
    "len0 = len(data)\n",
    "print(\"Added common values = \" + str(len0))\n",
    "data = addCat2(data, D, namefinal)\n",
    "print(\"Added values which can be found only in grammacat.fits (TeV) = \" + str(len(data) - len0))\n",
    "len0 = len(data)\n",
    "data = addCat(data, D, namefinal)\n",
    "print(\"Added values which can be found only in gll_psc_v16.fit (GeV) = \" + str(len(data) - len0))\n",
    "\n",
    "print(\"Size of grammacat.fits (TeV) = \"  + str(len(cat2)))\n",
    "print(\"Size of gll_psc_v16.fits (GeV) = \"  + str(len(cat)))"
   ]
  },
  {
   "cell_type": "code",
   "execution_count": null,
   "metadata": {},
   "outputs": [],
   "source": []
  },
  {
   "cell_type": "code",
   "execution_count": null,
   "metadata": {
    "collapsed": true
   },
   "outputs": [],
   "source": []
  }
 ],
 "metadata": {
  "kernelspec": {
   "display_name": "Python 3",
   "language": "python",
   "name": "python3"
  },
  "language_info": {
   "codemirror_mode": {
    "name": "ipython",
    "version": 3
   },
   "file_extension": ".py",
   "mimetype": "text/x-python",
   "name": "python",
   "nbconvert_exporter": "python",
   "pygments_lexer": "ipython3",
   "version": "3.6.5"
  }
 },
 "nbformat": 4,
 "nbformat_minor": 2
}
