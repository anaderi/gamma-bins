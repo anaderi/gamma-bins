{
 "cells": [
  {
   "cell_type": "markdown",
   "metadata": {},
   "source": [
    "# TeV_spectrum\n",
    "\n",
    "Description of TeV columns - https://github.com/gammapy/gamma-cat/blob/master/output/gammacat.ecsv"
   ]
  },
  {
   "cell_type": "code",
   "execution_count": null,
   "metadata": {
    "collapsed": true
   },
   "outputs": [],
   "source": [
    "import pandas as pd\n",
    "import math\n",
    "import astropy.units as u\n",
    "import numpy as np\n",
    "import matplotlib.pyplot as plt\n",
    "from astroquery.simbad import Simbad\n",
    "from astropy.coordinates import SkyCoord\n",
    "from pandas.plotting import scatter_matrix\n",
    "from scipy.interpolate import interp1d"
   ]
  },
  {
   "cell_type": "markdown",
   "metadata": {},
   "source": [
    "In this notebook catalog_TeV is an intersection of gev, tev and simbad catalogs."
   ]
  },
  {
   "cell_type": "code",
   "execution_count": null,
   "metadata": {
    "collapsed": true
   },
   "outputs": [],
   "source": [
    "catalog_TeV = pd.read_csv(\"markeddata/gevtevsimbad.txt\", sep='\\t', index_col=0)"
   ]
  },
  {
   "cell_type": "code",
   "execution_count": null,
   "metadata": {
    "collapsed": true
   },
   "outputs": [],
   "source": [
    "columns_TeV = [\n",
    "    'tev_sed_dnde',\n",
    "    'tev_sed_dnde_err',\n",
    "    'tev_sed_dnde_errn',\n",
    "    'tev_sed_dnde_errp',\n",
    "    'tev_sed_dnde_ul',\n",
    "    'tev_sed_e_max',\n",
    "    'tev_sed_e_min',\n",
    "    'tev_sed_e_ref',\n",
    "    'tev_sed_n_points',\n",
    "    'tev_sed_n_ul',\n",
    "    'tev_sed_reference_id',\n",
    "    'tev_seen_by',\n",
    "    'tev_significance',\n",
    "    'tev_source_id',\n",
    "    'tev_spec_dnde_1TeV',\n",
    "    'tev_spec_dnde_1TeV_err',\n",
    "    'tev_spec_ecpl_e_cut',\n",
    "    'tev_spec_ecpl_e_cut_err',\n",
    "    'tev_spec_ecpl_e_cut_err_sys',\n",
    "    'tev_spec_ecpl_e_ref',\n",
    "    'tev_spec_ecpl_index',\n",
    "    'tev_spec_ecpl_index_err',\n",
    "    'tev_spec_ecpl_index_err_sys',\n",
    "    'tev_spec_ecpl_norm',\n",
    "    'tev_spec_ecpl_norm_err',\n",
    "    'tev_spec_ecpl_norm_err_sys',\n",
    "    'tev_spec_eflux_1TeV_10TeV',\n",
    "    'tev_spec_eflux_1TeV_10TeV_err',\n",
    "    'tev_spec_erange_max',\n",
    "    'tev_spec_erange_min',\n",
    "    'tev_spec_flux_1TeV',\n",
    "    'tev_spec_flux_1TeV_crab',\n",
    "    'tev_spec_flux_1TeV_crab_err',\n",
    "    'tev_spec_flux_1TeV_err',\n",
    "    'tev_spec_pl2_e_max',\n",
    "    'tev_spec_pl2_e_min',\n",
    "    'tev_spec_pl2_flux',\n",
    "    'tev_spec_pl2_flux_err',\n",
    "    'tev_spec_pl2_flux_err_sys',\n",
    "    'tev_spec_pl2_index',\n",
    "    'tev_spec_pl2_index_err',\n",
    "    'tev_spec_pl2_index_err_sys',\n",
    "    'tev_spec_pl_e_ref',\n",
    "    'tev_spec_pl_index',\n",
    "    'tev_spec_pl_index_err',\n",
    "    'tev_spec_pl_index_err_sys',\n",
    "    'tev_spec_pl_norm',\n",
    "    'tev_spec_pl_norm_err',\n",
    "    'tev_spec_pl_norm_err_sys',\n",
    "    'tev_spec_theta',\n",
    "    'tev_spec_type',\n",
    "]"
   ]
  },
  {
   "cell_type": "code",
   "execution_count": null,
   "metadata": {},
   "outputs": [],
   "source": [
    "catalog_TeV[['s_MAIN_ID', 'tev_sed_e_ref', 'tev_sed_dnde', 'tev_sed_dnde_err']]"
   ]
  },
  {
   "cell_type": "markdown",
   "metadata": {},
   "source": [
    "Axe x - tev_sed_e_ref\n",
    "\n",
    "Axe y - tev_sed_dnde"
   ]
  },
  {
   "cell_type": "code",
   "execution_count": null,
   "metadata": {},
   "outputs": [],
   "source": [
    "for idx in range(len(catalog_TeV)):\n",
    "    plt.clf()\n",
    "    x = catalog_TeV.loc[idx, 'tev_sed_e_ref']\n",
    "    y = catalog_TeV.loc[idx, 'tev_sed_dnde']\n",
    "    y_err = catalog_TeV.loc[idx,'tev_sed_dnde_err']\n",
    "\n",
    "    #in catalog this columns are in string format\n",
    "    #these three lines converge to a list of floats and nan -s\n",
    "    x = [float(xi) for xi in x[1:-1].split()]\n",
    "    y = [float(yi) for yi in y[1:-1].split()]\n",
    "    y_err = [float(y_erri) for y_erri in y_err[1:-1].split()]\n",
    "    \n",
    "    \n",
    "    #replace nan -s by zeros\n",
    "    x = [0 if math.isnan(xi) else xi for xi in x]\n",
    "    y = [0 if math.isnan(yi) else yi for yi in y]\n",
    "    y_err = [0 if math.isnan(y_erri) else y_erri for y_erri in y_err]\n",
    "    \n",
    "    #verify that a spectrum is not empty \n",
    "    if max(x) > 0: \n",
    "        fig = plt.figure()\n",
    "        ax = fig.add_subplot(111)\n",
    "\n",
    "        ## the bars\n",
    "        rects1 = ax.bar(x, y,\n",
    "                color='green',\n",
    "                yerr=y_err,\n",
    "                error_kw=dict(elinewidth=2,ecolor='red'))\n",
    "\n",
    "        # axes and labels\n",
    "        ax.set_ylim(0,(max(y)+max(y_err))*1.12)\n",
    "        ax.set_ylabel('Fluxes')\n",
    "        #ax.set_xticks(x)\n",
    "        plt.show()"
   ]
  },
  {
   "cell_type": "markdown",
   "metadata": {},
   "source": [
    "Logarithmic scale :"
   ]
  },
  {
   "cell_type": "code",
   "execution_count": null,
   "metadata": {},
   "outputs": [],
   "source": [
    "for idx in range(len(catalog_TeV)):\n",
    "    #the same cycle as before, plotting logarithmes\n",
    "    plt.clf()\n",
    "    x = catalog_TeV.loc[idx, 'tev_sed_e_ref']\n",
    "    y = catalog_TeV.loc[idx, 'tev_sed_dnde']\n",
    "    y_err = catalog_TeV.loc[idx,'tev_sed_dnde_err']\n",
    "\n",
    "\n",
    "    x = [float(xi) for xi in x[1:-1].split()]\n",
    "    y = [float(yi) for yi in y[1:-1].split()]\n",
    "    y_err = [float(y_erri) for y_erri in y_err[1:-1].split()]\n",
    "    \n",
    "    x = [0 if math.isnan(xi) else xi for xi in x]\n",
    "    y = [0 if math.isnan(yi) else yi for yi in y]\n",
    "    y_err = [0 if math.isnan(y_erri) else y_erri for y_erri in y_err]\n",
    "    if max(x) > 0: \n",
    "        fig = plt.figure()\n",
    "        ax = fig.add_subplot(111)\n",
    "\n",
    "        # axes and labels\n",
    "        ax.plot(np.log(x), np.log(y))\n",
    "        #ax.set_xticks(x)\n",
    "        plt.show()"
   ]
  },
  {
   "cell_type": "code",
   "execution_count": null,
   "metadata": {
    "collapsed": true
   },
   "outputs": [],
   "source": []
  }
 ],
 "metadata": {
  "kernelspec": {
   "display_name": "Python 3",
   "language": "python",
   "name": "python3"
  },
  "language_info": {
   "codemirror_mode": {
    "name": "ipython",
    "version": 3
   },
   "file_extension": ".py",
   "mimetype": "text/x-python",
   "name": "python",
   "nbconvert_exporter": "python",
   "pygments_lexer": "ipython3",
   "version": "3.6.3"
  }
 },
 "nbformat": 4,
 "nbformat_minor": 2
}
