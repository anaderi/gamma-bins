{
 "cells": [
  {
   "cell_type": "markdown",
   "metadata": {},
   "source": [
    "# TeV_spectrum\n",
    "\n",
    "Description of TeV columns - https://github.com/gammapy/gamma-cat/blob/master/output/gammacat.ecsv"
   ]
  },
  {
   "cell_type": "code",
   "execution_count": 1,
   "metadata": {
    "collapsed": true
   },
   "outputs": [],
   "source": [
    "import pandas as pd\n",
    "import math\n",
    "import astropy.units as u\n",
    "import numpy as np\n",
    "import matplotlib.pyplot as plt\n",
    "from astroquery.simbad import Simbad\n",
    "from astropy.coordinates import SkyCoord\n",
    "from pandas.plotting import scatter_matrix\n",
    "from scipy.interpolate import interp1d"
   ]
  },
  {
   "cell_type": "markdown",
   "metadata": {},
   "source": [
    "In this notebook catalog_TeV is an intersection of gev, tev and simbad catalogs."
   ]
  },
  {
   "cell_type": "code",
   "execution_count": 2,
   "metadata": {
    "collapsed": true
   },
   "outputs": [],
   "source": [
    "catalog_TeV = pd.read_csv(\"markeddata/gevtevsimbad.txt\", sep='\\t', index_col=0)"
   ]
  },
  {
   "cell_type": "code",
   "execution_count": 3,
   "metadata": {
    "collapsed": true
   },
   "outputs": [],
   "source": [
    "columns_TeV = [\n",
    "    'tev_sed_dnde',\n",
    "    'tev_sed_dnde_err',\n",
    "    'tev_sed_dnde_errn',\n",
    "    'tev_sed_dnde_errp',\n",
    "    'tev_sed_dnde_ul',\n",
    "    'tev_sed_e_max',\n",
    "    'tev_sed_e_min',\n",
    "    'tev_sed_e_ref',\n",
    "    'tev_sed_n_points',\n",
    "    'tev_sed_n_ul',\n",
    "    'tev_sed_reference_id',\n",
    "    'tev_seen_by',\n",
    "    'tev_significance',\n",
    "    'tev_source_id',\n",
    "    'tev_spec_dnde_1TeV',\n",
    "    'tev_spec_dnde_1TeV_err',\n",
    "    'tev_spec_ecpl_e_cut',\n",
    "    'tev_spec_ecpl_e_cut_err',\n",
    "    'tev_spec_ecpl_e_cut_err_sys',\n",
    "    'tev_spec_ecpl_e_ref',\n",
    "    'tev_spec_ecpl_index',\n",
    "    'tev_spec_ecpl_index_err',\n",
    "    'tev_spec_ecpl_index_err_sys',\n",
    "    'tev_spec_ecpl_norm',\n",
    "    'tev_spec_ecpl_norm_err',\n",
    "    'tev_spec_ecpl_norm_err_sys',\n",
    "    'tev_spec_eflux_1TeV_10TeV',\n",
    "    'tev_spec_eflux_1TeV_10TeV_err',\n",
    "    'tev_spec_erange_max',\n",
    "    'tev_spec_erange_min',\n",
    "    'tev_spec_flux_1TeV',\n",
    "    'tev_spec_flux_1TeV_crab',\n",
    "    'tev_spec_flux_1TeV_crab_err',\n",
    "    'tev_spec_flux_1TeV_err',\n",
    "    'tev_spec_pl2_e_max',\n",
    "    'tev_spec_pl2_e_min',\n",
    "    'tev_spec_pl2_flux',\n",
    "    'tev_spec_pl2_flux_err',\n",
    "    'tev_spec_pl2_flux_err_sys',\n",
    "    'tev_spec_pl2_index',\n",
    "    'tev_spec_pl2_index_err',\n",
    "    'tev_spec_pl2_index_err_sys',\n",
    "    'tev_spec_pl_e_ref',\n",
    "    'tev_spec_pl_index',\n",
    "    'tev_spec_pl_index_err',\n",
    "    'tev_spec_pl_index_err_sys',\n",
    "    'tev_spec_pl_norm',\n",
    "    'tev_spec_pl_norm_err',\n",
    "    'tev_spec_pl_norm_err_sys',\n",
    "    'tev_spec_theta',\n",
    "    'tev_spec_type',\n",
    "]"
   ]
  },
  {
   "cell_type": "code",
   "execution_count": 4,
   "metadata": {},
   "outputs": [
    {
     "data": {
      "text/html": [
       "<div>\n",
       "<style>\n",
       "    .dataframe thead tr:only-child th {\n",
       "        text-align: right;\n",
       "    }\n",
       "\n",
       "    .dataframe thead th {\n",
       "        text-align: left;\n",
       "    }\n",
       "\n",
       "    .dataframe tbody tr th {\n",
       "        vertical-align: top;\n",
       "    }\n",
       "</style>\n",
       "<table border=\"1\" class=\"dataframe\">\n",
       "  <thead>\n",
       "    <tr style=\"text-align: right;\">\n",
       "      <th></th>\n",
       "      <th>s_MAIN_ID</th>\n",
       "      <th>tev_sed_e_ref</th>\n",
       "      <th>tev_sed_dnde</th>\n",
       "      <th>tev_sed_dnde_err</th>\n",
       "    </tr>\n",
       "  </thead>\n",
       "  <tbody>\n",
       "    <tr>\n",
       "      <th>0</th>\n",
       "      <td>b'GCIRS  8'</td>\n",
       "      <td>[ nan  nan  nan  nan  nan  nan  nan  nan  nan ...</td>\n",
       "      <td>[ nan  nan  nan  nan  nan  nan  nan  nan  nan ...</td>\n",
       "      <td>[ nan  nan  nan  nan  nan  nan  nan  nan  nan ...</td>\n",
       "    </tr>\n",
       "    <tr>\n",
       "      <th>1</th>\n",
       "      <td>b'[MCD2010] 13'</td>\n",
       "      <td>[  0.39789999   0.56220001   0.79430002   1.12...</td>\n",
       "      <td>[  3.23300002e-12   4.40699994e-13   2.9500000...</td>\n",
       "      <td>[ nan  nan  nan  nan  nan  nan  nan  nan  nan ...</td>\n",
       "    </tr>\n",
       "    <tr>\n",
       "      <th>2</th>\n",
       "      <td>b'[MCD2010] 13'</td>\n",
       "      <td>[ nan  nan  nan  nan  nan  nan  nan  nan  nan ...</td>\n",
       "      <td>[ nan  nan  nan  nan  nan  nan  nan  nan  nan ...</td>\n",
       "      <td>[ nan  nan  nan  nan  nan  nan  nan  nan  nan ...</td>\n",
       "    </tr>\n",
       "    <tr>\n",
       "      <th>3</th>\n",
       "      <td>b'Schulte 21'</td>\n",
       "      <td>[  0.79000002   1.25999999   2.           3.16...</td>\n",
       "      <td>[  1.69999995e-12   4.99999998e-13   2.2999999...</td>\n",
       "      <td>[  4.99999998e-13   1.49999994e-13   5.9999998...</td>\n",
       "    </tr>\n",
       "    <tr>\n",
       "      <th>4</th>\n",
       "      <td>b'2FGL J1019.0-5856'</td>\n",
       "      <td>[  0.40220299   0.79795301   1.23277998   1.90...</td>\n",
       "      <td>[  2.25568609e-12   3.47791213e-13   2.2703089...</td>\n",
       "      <td>[ nan  nan  nan  nan  nan  nan  nan  nan  nan ...</td>\n",
       "    </tr>\n",
       "    <tr>\n",
       "      <th>5</th>\n",
       "      <td>b'[KRL2007b] 332'</td>\n",
       "      <td>[  0.73806798   1.29738998   2.29364991   4.04...</td>\n",
       "      <td>[  1.83209992e-11   8.44120000e-12   1.8995499...</td>\n",
       "      <td>[ nan  nan  nan  nan  nan  nan  nan  nan  nan ...</td>\n",
       "    </tr>\n",
       "    <tr>\n",
       "      <th>6</th>\n",
       "      <td>b'V* V479 Sct'</td>\n",
       "      <td>[  0.277619     0.43024501   0.691719     1.11...</td>\n",
       "      <td>[  3.43570006e-10   1.29701000e-10   4.9657198...</td>\n",
       "      <td>[ nan  nan  nan  nan  nan  nan  nan  nan  nan ...</td>\n",
       "    </tr>\n",
       "    <tr>\n",
       "      <th>7</th>\n",
       "      <td>b'LS   I +61  303'</td>\n",
       "      <td>[  0.59841502   0.87828797   1.28896999   1.89...</td>\n",
       "      <td>[  3.22340006e-12   9.27542006e-13   2.3246899...</td>\n",
       "      <td>[ nan  nan  nan  nan  nan  nan  nan  nan  nan ...</td>\n",
       "    </tr>\n",
       "    <tr>\n",
       "      <th>8</th>\n",
       "      <td>b'CXOU J095550.1+694034'</td>\n",
       "      <td>[ nan  nan  nan  nan  nan  nan  nan  nan  nan ...</td>\n",
       "      <td>[ nan  nan  nan  nan  nan  nan  nan  nan  nan ...</td>\n",
       "      <td>[ nan  nan  nan  nan  nan  nan  nan  nan  nan ...</td>\n",
       "    </tr>\n",
       "    <tr>\n",
       "      <th>9</th>\n",
       "      <td>b'SSTGC 519103'</td>\n",
       "      <td>[ nan  nan  nan  nan  nan  nan  nan  nan  nan ...</td>\n",
       "      <td>[ nan  nan  nan  nan  nan  nan  nan  nan  nan ...</td>\n",
       "      <td>[ nan  nan  nan  nan  nan  nan  nan  nan  nan ...</td>\n",
       "    </tr>\n",
       "    <tr>\n",
       "      <th>10</th>\n",
       "      <td>b'GCIRS  1W'</td>\n",
       "      <td>[ nan  nan  nan  nan  nan  nan  nan  nan  nan ...</td>\n",
       "      <td>[ nan  nan  nan  nan  nan  nan  nan  nan  nan ...</td>\n",
       "      <td>[ nan  nan  nan  nan  nan  nan  nan  nan  nan ...</td>\n",
       "    </tr>\n",
       "    <tr>\n",
       "      <th>11</th>\n",
       "      <td>b'LS  IV -05   11'</td>\n",
       "      <td>[  0.73806798   1.29738998   2.29364991   4.04...</td>\n",
       "      <td>[  1.83209992e-11   8.44120000e-12   1.8995499...</td>\n",
       "      <td>[ nan  nan  nan  nan  nan  nan  nan  nan  nan ...</td>\n",
       "    </tr>\n",
       "    <tr>\n",
       "      <th>12</th>\n",
       "      <td>b'[MCD2010] 18'</td>\n",
       "      <td>[  0.39789999   0.56220001   0.79430002   1.12...</td>\n",
       "      <td>[  3.23300002e-12   4.40699994e-13   2.9500000...</td>\n",
       "      <td>[ nan  nan  nan  nan  nan  nan  nan  nan  nan ...</td>\n",
       "    </tr>\n",
       "    <tr>\n",
       "      <th>13</th>\n",
       "      <td>b'[MT91] 213'</td>\n",
       "      <td>[  0.79000002   1.25999999   2.           3.16...</td>\n",
       "      <td>[  1.69999995e-12   4.99999998e-13   2.2999999...</td>\n",
       "      <td>[  4.99999998e-13   1.49999994e-13   5.9999998...</td>\n",
       "    </tr>\n",
       "    <tr>\n",
       "      <th>14</th>\n",
       "      <td>b'[CHP2004] J095549.8+693934'</td>\n",
       "      <td>[ nan  nan  nan  nan  nan  nan  nan  nan  nan ...</td>\n",
       "      <td>[ nan  nan  nan  nan  nan  nan  nan  nan  nan ...</td>\n",
       "      <td>[ nan  nan  nan  nan  nan  nan  nan  nan  nan ...</td>\n",
       "    </tr>\n",
       "    <tr>\n",
       "      <th>15</th>\n",
       "      <td>b'[MTK2001b] 8'</td>\n",
       "      <td>[ nan  nan  nan  nan  nan  nan  nan  nan  nan ...</td>\n",
       "      <td>[ nan  nan  nan  nan  nan  nan  nan  nan  nan ...</td>\n",
       "      <td>[ nan  nan  nan  nan  nan  nan  nan  nan  nan ...</td>\n",
       "    </tr>\n",
       "    <tr>\n",
       "      <th>16</th>\n",
       "      <td>b'[CHP2004] J095637.5+694137'</td>\n",
       "      <td>[ nan  nan  nan  nan  nan  nan  nan  nan  nan ...</td>\n",
       "      <td>[ nan  nan  nan  nan  nan  nan  nan  nan  nan ...</td>\n",
       "      <td>[ nan  nan  nan  nan  nan  nan  nan  nan  nan ...</td>\n",
       "    </tr>\n",
       "    <tr>\n",
       "      <th>17</th>\n",
       "      <td>b'CXOU J095601.7+694308'</td>\n",
       "      <td>[ nan  nan  nan  nan  nan  nan  nan  nan  nan ...</td>\n",
       "      <td>[ nan  nan  nan  nan  nan  nan  nan  nan  nan ...</td>\n",
       "      <td>[ nan  nan  nan  nan  nan  nan  nan  nan  nan ...</td>\n",
       "    </tr>\n",
       "    <tr>\n",
       "      <th>18</th>\n",
       "      <td>b'CXOU J095548.9+694010'</td>\n",
       "      <td>[ nan  nan  nan  nan  nan  nan  nan  nan  nan ...</td>\n",
       "      <td>[ nan  nan  nan  nan  nan  nan  nan  nan  nan ...</td>\n",
       "      <td>[ nan  nan  nan  nan  nan  nan  nan  nan  nan ...</td>\n",
       "    </tr>\n",
       "    <tr>\n",
       "      <th>19</th>\n",
       "      <td>b'CXOU J095527.1+693923'</td>\n",
       "      <td>[ nan  nan  nan  nan  nan  nan  nan  nan  nan ...</td>\n",
       "      <td>[ nan  nan  nan  nan  nan  nan  nan  nan  nan ...</td>\n",
       "      <td>[ nan  nan  nan  nan  nan  nan  nan  nan  nan ...</td>\n",
       "    </tr>\n",
       "    <tr>\n",
       "      <th>20</th>\n",
       "      <td>b'CXOU J095552.8+694020'</td>\n",
       "      <td>[ nan  nan  nan  nan  nan  nan  nan  nan  nan ...</td>\n",
       "      <td>[ nan  nan  nan  nan  nan  nan  nan  nan  nan ...</td>\n",
       "      <td>[ nan  nan  nan  nan  nan  nan  nan  nan  nan ...</td>\n",
       "    </tr>\n",
       "    <tr>\n",
       "      <th>21</th>\n",
       "      <td>b'CXOU J095552.4+694024'</td>\n",
       "      <td>[ nan  nan  nan  nan  nan  nan  nan  nan  nan ...</td>\n",
       "      <td>[ nan  nan  nan  nan  nan  nan  nan  nan  nan ...</td>\n",
       "      <td>[ nan  nan  nan  nan  nan  nan  nan  nan  nan ...</td>\n",
       "    </tr>\n",
       "    <tr>\n",
       "      <th>22</th>\n",
       "      <td>b'CXOU J095550.7+694039'</td>\n",
       "      <td>[ nan  nan  nan  nan  nan  nan  nan  nan  nan ...</td>\n",
       "      <td>[ nan  nan  nan  nan  nan  nan  nan  nan  nan ...</td>\n",
       "      <td>[ nan  nan  nan  nan  nan  nan  nan  nan  nan ...</td>\n",
       "    </tr>\n",
       "    <tr>\n",
       "      <th>23</th>\n",
       "      <td>b'CXOU J095547.5+694120'</td>\n",
       "      <td>[ nan  nan  nan  nan  nan  nan  nan  nan  nan ...</td>\n",
       "      <td>[ nan  nan  nan  nan  nan  nan  nan  nan  nan ...</td>\n",
       "      <td>[ nan  nan  nan  nan  nan  nan  nan  nan  nan ...</td>\n",
       "    </tr>\n",
       "    <tr>\n",
       "      <th>24</th>\n",
       "      <td>b'CXOU J095527.2+694050'</td>\n",
       "      <td>[ nan  nan  nan  nan  nan  nan  nan  nan  nan ...</td>\n",
       "      <td>[ nan  nan  nan  nan  nan  nan  nan  nan  nan ...</td>\n",
       "      <td>[ nan  nan  nan  nan  nan  nan  nan  nan  nan ...</td>\n",
       "    </tr>\n",
       "    <tr>\n",
       "      <th>25</th>\n",
       "      <td>b'CXOU J095600.7+694107'</td>\n",
       "      <td>[ nan  nan  nan  nan  nan  nan  nan  nan  nan ...</td>\n",
       "      <td>[ nan  nan  nan  nan  nan  nan  nan  nan  nan ...</td>\n",
       "      <td>[ nan  nan  nan  nan  nan  nan  nan  nan  nan ...</td>\n",
       "    </tr>\n",
       "    <tr>\n",
       "      <th>26</th>\n",
       "      <td>b'CXOU J095549.1+694036'</td>\n",
       "      <td>[ nan  nan  nan  nan  nan  nan  nan  nan  nan ...</td>\n",
       "      <td>[ nan  nan  nan  nan  nan  nan  nan  nan  nan ...</td>\n",
       "      <td>[ nan  nan  nan  nan  nan  nan  nan  nan  nan ...</td>\n",
       "    </tr>\n",
       "    <tr>\n",
       "      <th>27</th>\n",
       "      <td>b'CXOU J095546.5+694040'</td>\n",
       "      <td>[ nan  nan  nan  nan  nan  nan  nan  nan  nan ...</td>\n",
       "      <td>[ nan  nan  nan  nan  nan  nan  nan  nan  nan ...</td>\n",
       "      <td>[ nan  nan  nan  nan  nan  nan  nan  nan  nan ...</td>\n",
       "    </tr>\n",
       "    <tr>\n",
       "      <th>28</th>\n",
       "      <td>b'CXOU J095552.7+694045'</td>\n",
       "      <td>[ nan  nan  nan  nan  nan  nan  nan  nan  nan ...</td>\n",
       "      <td>[ nan  nan  nan  nan  nan  nan  nan  nan  nan ...</td>\n",
       "      <td>[ nan  nan  nan  nan  nan  nan  nan  nan  nan ...</td>\n",
       "    </tr>\n",
       "    <tr>\n",
       "      <th>29</th>\n",
       "      <td>b'CXOU J095622.7+694134'</td>\n",
       "      <td>[ nan  nan  nan  nan  nan  nan  nan  nan  nan ...</td>\n",
       "      <td>[ nan  nan  nan  nan  nan  nan  nan  nan  nan ...</td>\n",
       "      <td>[ nan  nan  nan  nan  nan  nan  nan  nan  nan ...</td>\n",
       "    </tr>\n",
       "    <tr>\n",
       "      <th>...</th>\n",
       "      <td>...</td>\n",
       "      <td>...</td>\n",
       "      <td>...</td>\n",
       "      <td>...</td>\n",
       "    </tr>\n",
       "    <tr>\n",
       "      <th>38</th>\n",
       "      <td>b'[SST2011] J095554.56+694100.4'</td>\n",
       "      <td>[ nan  nan  nan  nan  nan  nan  nan  nan  nan ...</td>\n",
       "      <td>[ nan  nan  nan  nan  nan  nan  nan  nan  nan ...</td>\n",
       "      <td>[ nan  nan  nan  nan  nan  nan  nan  nan  nan ...</td>\n",
       "    </tr>\n",
       "    <tr>\n",
       "      <th>39</th>\n",
       "      <td>b'CXOU J095550.9+694044'</td>\n",
       "      <td>[ nan  nan  nan  nan  nan  nan  nan  nan  nan ...</td>\n",
       "      <td>[ nan  nan  nan  nan  nan  nan  nan  nan  nan ...</td>\n",
       "      <td>[ nan  nan  nan  nan  nan  nan  nan  nan  nan ...</td>\n",
       "    </tr>\n",
       "    <tr>\n",
       "      <th>40</th>\n",
       "      <td>b'CXOU J095552.2+694042'</td>\n",
       "      <td>[ nan  nan  nan  nan  nan  nan  nan  nan  nan ...</td>\n",
       "      <td>[ nan  nan  nan  nan  nan  nan  nan  nan  nan ...</td>\n",
       "      <td>[ nan  nan  nan  nan  nan  nan  nan  nan  nan ...</td>\n",
       "    </tr>\n",
       "    <tr>\n",
       "      <th>41</th>\n",
       "      <td>b'CXOU J095621.2+694224'</td>\n",
       "      <td>[ nan  nan  nan  nan  nan  nan  nan  nan  nan ...</td>\n",
       "      <td>[ nan  nan  nan  nan  nan  nan  nan  nan  nan ...</td>\n",
       "      <td>[ nan  nan  nan  nan  nan  nan  nan  nan  nan ...</td>\n",
       "    </tr>\n",
       "    <tr>\n",
       "      <th>42</th>\n",
       "      <td>b'CXOU J095554.1+694039'</td>\n",
       "      <td>[ nan  nan  nan  nan  nan  nan  nan  nan  nan ...</td>\n",
       "      <td>[ nan  nan  nan  nan  nan  nan  nan  nan  nan ...</td>\n",
       "      <td>[ nan  nan  nan  nan  nan  nan  nan  nan  nan ...</td>\n",
       "    </tr>\n",
       "    <tr>\n",
       "      <th>43</th>\n",
       "      <td>b'SN 2004am'</td>\n",
       "      <td>[ nan  nan  nan  nan  nan  nan  nan  nan  nan ...</td>\n",
       "      <td>[ nan  nan  nan  nan  nan  nan  nan  nan  nan ...</td>\n",
       "      <td>[ nan  nan  nan  nan  nan  nan  nan  nan  nan ...</td>\n",
       "    </tr>\n",
       "    <tr>\n",
       "      <th>44</th>\n",
       "      <td>b'[SST2011] J095552.13+694053.1'</td>\n",
       "      <td>[ nan  nan  nan  nan  nan  nan  nan  nan  nan ...</td>\n",
       "      <td>[ nan  nan  nan  nan  nan  nan  nan  nan  nan ...</td>\n",
       "      <td>[ nan  nan  nan  nan  nan  nan  nan  nan  nan ...</td>\n",
       "    </tr>\n",
       "    <tr>\n",
       "      <th>45</th>\n",
       "      <td>b'CXOU J095534.5+693823'</td>\n",
       "      <td>[ nan  nan  nan  nan  nan  nan  nan  nan  nan ...</td>\n",
       "      <td>[ nan  nan  nan  nan  nan  nan  nan  nan  nan ...</td>\n",
       "      <td>[ nan  nan  nan  nan  nan  nan  nan  nan  nan ...</td>\n",
       "    </tr>\n",
       "    <tr>\n",
       "      <th>46</th>\n",
       "      <td>b'CXOU J095551.2+694012'</td>\n",
       "      <td>[ nan  nan  nan  nan  nan  nan  nan  nan  nan ...</td>\n",
       "      <td>[ nan  nan  nan  nan  nan  nan  nan  nan  nan ...</td>\n",
       "      <td>[ nan  nan  nan  nan  nan  nan  nan  nan  nan ...</td>\n",
       "    </tr>\n",
       "    <tr>\n",
       "      <th>47</th>\n",
       "      <td>b'CXOU J095555.1+694027'</td>\n",
       "      <td>[ nan  nan  nan  nan  nan  nan  nan  nan  nan ...</td>\n",
       "      <td>[ nan  nan  nan  nan  nan  nan  nan  nan  nan ...</td>\n",
       "      <td>[ nan  nan  nan  nan  nan  nan  nan  nan  nan ...</td>\n",
       "    </tr>\n",
       "    <tr>\n",
       "      <th>48</th>\n",
       "      <td>b'CXOU J095551.3+694043'</td>\n",
       "      <td>[ nan  nan  nan  nan  nan  nan  nan  nan  nan ...</td>\n",
       "      <td>[ nan  nan  nan  nan  nan  nan  nan  nan  nan ...</td>\n",
       "      <td>[ nan  nan  nan  nan  nan  nan  nan  nan  nan ...</td>\n",
       "    </tr>\n",
       "    <tr>\n",
       "      <th>49</th>\n",
       "      <td>b'CXOU J095551.0+694050'</td>\n",
       "      <td>[ nan  nan  nan  nan  nan  nan  nan  nan  nan ...</td>\n",
       "      <td>[ nan  nan  nan  nan  nan  nan  nan  nan  nan ...</td>\n",
       "      <td>[ nan  nan  nan  nan  nan  nan  nan  nan  nan ...</td>\n",
       "    </tr>\n",
       "    <tr>\n",
       "      <th>50</th>\n",
       "      <td>b'CXOU J095554.9+694038'</td>\n",
       "      <td>[ nan  nan  nan  nan  nan  nan  nan  nan  nan ...</td>\n",
       "      <td>[ nan  nan  nan  nan  nan  nan  nan  nan  nan ...</td>\n",
       "      <td>[ nan  nan  nan  nan  nan  nan  nan  nan  nan ...</td>\n",
       "    </tr>\n",
       "    <tr>\n",
       "      <th>51</th>\n",
       "      <td>b'CXOU J095632.1+694127'</td>\n",
       "      <td>[ nan  nan  nan  nan  nan  nan  nan  nan  nan ...</td>\n",
       "      <td>[ nan  nan  nan  nan  nan  nan  nan  nan  nan ...</td>\n",
       "      <td>[ nan  nan  nan  nan  nan  nan  nan  nan  nan ...</td>\n",
       "    </tr>\n",
       "    <tr>\n",
       "      <th>52</th>\n",
       "      <td>b'NAME M82 ULX-1'</td>\n",
       "      <td>[ nan  nan  nan  nan  nan  nan  nan  nan  nan ...</td>\n",
       "      <td>[ nan  nan  nan  nan  nan  nan  nan  nan  nan ...</td>\n",
       "      <td>[ nan  nan  nan  nan  nan  nan  nan  nan  nan ...</td>\n",
       "    </tr>\n",
       "    <tr>\n",
       "      <th>53</th>\n",
       "      <td>b'[CHP2004] J095630.9+694220'</td>\n",
       "      <td>[ nan  nan  nan  nan  nan  nan  nan  nan  nan ...</td>\n",
       "      <td>[ nan  nan  nan  nan  nan  nan  nan  nan  nan ...</td>\n",
       "      <td>[ nan  nan  nan  nan  nan  nan  nan  nan  nan ...</td>\n",
       "    </tr>\n",
       "    <tr>\n",
       "      <th>54</th>\n",
       "      <td>b'CXOU J095550.6+694043'</td>\n",
       "      <td>[ nan  nan  nan  nan  nan  nan  nan  nan  nan ...</td>\n",
       "      <td>[ nan  nan  nan  nan  nan  nan  nan  nan  nan ...</td>\n",
       "      <td>[ nan  nan  nan  nan  nan  nan  nan  nan  nan ...</td>\n",
       "    </tr>\n",
       "    <tr>\n",
       "      <th>55</th>\n",
       "      <td>b'CXOU J095608.0+694139'</td>\n",
       "      <td>[ nan  nan  nan  nan  nan  nan  nan  nan  nan ...</td>\n",
       "      <td>[ nan  nan  nan  nan  nan  nan  nan  nan  nan ...</td>\n",
       "      <td>[ nan  nan  nan  nan  nan  nan  nan  nan  nan ...</td>\n",
       "    </tr>\n",
       "    <tr>\n",
       "      <th>56</th>\n",
       "      <td>b'CXOU J095624.6+694256'</td>\n",
       "      <td>[ nan  nan  nan  nan  nan  nan  nan  nan  nan ...</td>\n",
       "      <td>[ nan  nan  nan  nan  nan  nan  nan  nan  nan ...</td>\n",
       "      <td>[ nan  nan  nan  nan  nan  nan  nan  nan  nan ...</td>\n",
       "    </tr>\n",
       "    <tr>\n",
       "      <th>57</th>\n",
       "      <td>b'CXOM82 J095538.3+694030'</td>\n",
       "      <td>[ nan  nan  nan  nan  nan  nan  nan  nan  nan ...</td>\n",
       "      <td>[ nan  nan  nan  nan  nan  nan  nan  nan  nan ...</td>\n",
       "      <td>[ nan  nan  nan  nan  nan  nan  nan  nan  nan ...</td>\n",
       "    </tr>\n",
       "    <tr>\n",
       "      <th>58</th>\n",
       "      <td>b'CXOU J095531.8+693957'</td>\n",
       "      <td>[ nan  nan  nan  nan  nan  nan  nan  nan  nan ...</td>\n",
       "      <td>[ nan  nan  nan  nan  nan  nan  nan  nan  nan ...</td>\n",
       "      <td>[ nan  nan  nan  nan  nan  nan  nan  nan  nan ...</td>\n",
       "    </tr>\n",
       "    <tr>\n",
       "      <th>59</th>\n",
       "      <td>b'CXOU J095553.3+694101'</td>\n",
       "      <td>[ nan  nan  nan  nan  nan  nan  nan  nan  nan ...</td>\n",
       "      <td>[ nan  nan  nan  nan  nan  nan  nan  nan  nan ...</td>\n",
       "      <td>[ nan  nan  nan  nan  nan  nan  nan  nan  nan ...</td>\n",
       "    </tr>\n",
       "    <tr>\n",
       "      <th>60</th>\n",
       "      <td>b'CXOU J095546.1+694026'</td>\n",
       "      <td>[ nan  nan  nan  nan  nan  nan  nan  nan  nan ...</td>\n",
       "      <td>[ nan  nan  nan  nan  nan  nan  nan  nan  nan ...</td>\n",
       "      <td>[ nan  nan  nan  nan  nan  nan  nan  nan  nan ...</td>\n",
       "    </tr>\n",
       "    <tr>\n",
       "      <th>61</th>\n",
       "      <td>b'[CHP2004] J095619.6+694146'</td>\n",
       "      <td>[ nan  nan  nan  nan  nan  nan  nan  nan  nan ...</td>\n",
       "      <td>[ nan  nan  nan  nan  nan  nan  nan  nan  nan ...</td>\n",
       "      <td>[ nan  nan  nan  nan  nan  nan  nan  nan  nan ...</td>\n",
       "    </tr>\n",
       "    <tr>\n",
       "      <th>62</th>\n",
       "      <td>b'CXOU J095510.7+693955'</td>\n",
       "      <td>[ nan  nan  nan  nan  nan  nan  nan  nan  nan ...</td>\n",
       "      <td>[ nan  nan  nan  nan  nan  nan  nan  nan  nan ...</td>\n",
       "      <td>[ nan  nan  nan  nan  nan  nan  nan  nan  nan ...</td>\n",
       "    </tr>\n",
       "    <tr>\n",
       "      <th>63</th>\n",
       "      <td>b'CXOU J095547.4+694059'</td>\n",
       "      <td>[ nan  nan  nan  nan  nan  nan  nan  nan  nan ...</td>\n",
       "      <td>[ nan  nan  nan  nan  nan  nan  nan  nan  nan ...</td>\n",
       "      <td>[ nan  nan  nan  nan  nan  nan  nan  nan  nan ...</td>\n",
       "    </tr>\n",
       "    <tr>\n",
       "      <th>64</th>\n",
       "      <td>b'CXOU J095553.9+694045'</td>\n",
       "      <td>[ nan  nan  nan  nan  nan  nan  nan  nan  nan ...</td>\n",
       "      <td>[ nan  nan  nan  nan  nan  nan  nan  nan  nan ...</td>\n",
       "      <td>[ nan  nan  nan  nan  nan  nan  nan  nan  nan ...</td>\n",
       "    </tr>\n",
       "    <tr>\n",
       "      <th>65</th>\n",
       "      <td>b'CXOM82 J095550.5+694022'</td>\n",
       "      <td>[ nan  nan  nan  nan  nan  nan  nan  nan  nan ...</td>\n",
       "      <td>[ nan  nan  nan  nan  nan  nan  nan  nan  nan ...</td>\n",
       "      <td>[ nan  nan  nan  nan  nan  nan  nan  nan  nan ...</td>\n",
       "    </tr>\n",
       "    <tr>\n",
       "      <th>66</th>\n",
       "      <td>b'CXOU J095615.2+694142'</td>\n",
       "      <td>[ nan  nan  nan  nan  nan  nan  nan  nan  nan ...</td>\n",
       "      <td>[ nan  nan  nan  nan  nan  nan  nan  nan  nan ...</td>\n",
       "      <td>[ nan  nan  nan  nan  nan  nan  nan  nan  nan ...</td>\n",
       "    </tr>\n",
       "    <tr>\n",
       "      <th>67</th>\n",
       "      <td>b'CXOU J095553.2+694052'</td>\n",
       "      <td>[ nan  nan  nan  nan  nan  nan  nan  nan  nan ...</td>\n",
       "      <td>[ nan  nan  nan  nan  nan  nan  nan  nan  nan ...</td>\n",
       "      <td>[ nan  nan  nan  nan  nan  nan  nan  nan  nan ...</td>\n",
       "    </tr>\n",
       "  </tbody>\n",
       "</table>\n",
       "<p>68 rows × 4 columns</p>\n",
       "</div>"
      ],
      "text/plain": [
       "                           s_MAIN_ID  \\\n",
       "0                        b'GCIRS  8'   \n",
       "1                    b'[MCD2010] 13'   \n",
       "2                    b'[MCD2010] 13'   \n",
       "3                      b'Schulte 21'   \n",
       "4               b'2FGL J1019.0-5856'   \n",
       "5                  b'[KRL2007b] 332'   \n",
       "6                     b'V* V479 Sct'   \n",
       "7                 b'LS   I +61  303'   \n",
       "8           b'CXOU J095550.1+694034'   \n",
       "9                    b'SSTGC 519103'   \n",
       "10                      b'GCIRS  1W'   \n",
       "11                b'LS  IV -05   11'   \n",
       "12                   b'[MCD2010] 18'   \n",
       "13                     b'[MT91] 213'   \n",
       "14     b'[CHP2004] J095549.8+693934'   \n",
       "15                   b'[MTK2001b] 8'   \n",
       "16     b'[CHP2004] J095637.5+694137'   \n",
       "17          b'CXOU J095601.7+694308'   \n",
       "18          b'CXOU J095548.9+694010'   \n",
       "19          b'CXOU J095527.1+693923'   \n",
       "20          b'CXOU J095552.8+694020'   \n",
       "21          b'CXOU J095552.4+694024'   \n",
       "22          b'CXOU J095550.7+694039'   \n",
       "23          b'CXOU J095547.5+694120'   \n",
       "24          b'CXOU J095527.2+694050'   \n",
       "25          b'CXOU J095600.7+694107'   \n",
       "26          b'CXOU J095549.1+694036'   \n",
       "27          b'CXOU J095546.5+694040'   \n",
       "28          b'CXOU J095552.7+694045'   \n",
       "29          b'CXOU J095622.7+694134'   \n",
       "..                               ...   \n",
       "38  b'[SST2011] J095554.56+694100.4'   \n",
       "39          b'CXOU J095550.9+694044'   \n",
       "40          b'CXOU J095552.2+694042'   \n",
       "41          b'CXOU J095621.2+694224'   \n",
       "42          b'CXOU J095554.1+694039'   \n",
       "43                      b'SN 2004am'   \n",
       "44  b'[SST2011] J095552.13+694053.1'   \n",
       "45          b'CXOU J095534.5+693823'   \n",
       "46          b'CXOU J095551.2+694012'   \n",
       "47          b'CXOU J095555.1+694027'   \n",
       "48          b'CXOU J095551.3+694043'   \n",
       "49          b'CXOU J095551.0+694050'   \n",
       "50          b'CXOU J095554.9+694038'   \n",
       "51          b'CXOU J095632.1+694127'   \n",
       "52                 b'NAME M82 ULX-1'   \n",
       "53     b'[CHP2004] J095630.9+694220'   \n",
       "54          b'CXOU J095550.6+694043'   \n",
       "55          b'CXOU J095608.0+694139'   \n",
       "56          b'CXOU J095624.6+694256'   \n",
       "57        b'CXOM82 J095538.3+694030'   \n",
       "58          b'CXOU J095531.8+693957'   \n",
       "59          b'CXOU J095553.3+694101'   \n",
       "60          b'CXOU J095546.1+694026'   \n",
       "61     b'[CHP2004] J095619.6+694146'   \n",
       "62          b'CXOU J095510.7+693955'   \n",
       "63          b'CXOU J095547.4+694059'   \n",
       "64          b'CXOU J095553.9+694045'   \n",
       "65        b'CXOM82 J095550.5+694022'   \n",
       "66          b'CXOU J095615.2+694142'   \n",
       "67          b'CXOU J095553.2+694052'   \n",
       "\n",
       "                                        tev_sed_e_ref  \\\n",
       "0   [ nan  nan  nan  nan  nan  nan  nan  nan  nan ...   \n",
       "1   [  0.39789999   0.56220001   0.79430002   1.12...   \n",
       "2   [ nan  nan  nan  nan  nan  nan  nan  nan  nan ...   \n",
       "3   [  0.79000002   1.25999999   2.           3.16...   \n",
       "4   [  0.40220299   0.79795301   1.23277998   1.90...   \n",
       "5   [  0.73806798   1.29738998   2.29364991   4.04...   \n",
       "6   [  0.277619     0.43024501   0.691719     1.11...   \n",
       "7   [  0.59841502   0.87828797   1.28896999   1.89...   \n",
       "8   [ nan  nan  nan  nan  nan  nan  nan  nan  nan ...   \n",
       "9   [ nan  nan  nan  nan  nan  nan  nan  nan  nan ...   \n",
       "10  [ nan  nan  nan  nan  nan  nan  nan  nan  nan ...   \n",
       "11  [  0.73806798   1.29738998   2.29364991   4.04...   \n",
       "12  [  0.39789999   0.56220001   0.79430002   1.12...   \n",
       "13  [  0.79000002   1.25999999   2.           3.16...   \n",
       "14  [ nan  nan  nan  nan  nan  nan  nan  nan  nan ...   \n",
       "15  [ nan  nan  nan  nan  nan  nan  nan  nan  nan ...   \n",
       "16  [ nan  nan  nan  nan  nan  nan  nan  nan  nan ...   \n",
       "17  [ nan  nan  nan  nan  nan  nan  nan  nan  nan ...   \n",
       "18  [ nan  nan  nan  nan  nan  nan  nan  nan  nan ...   \n",
       "19  [ nan  nan  nan  nan  nan  nan  nan  nan  nan ...   \n",
       "20  [ nan  nan  nan  nan  nan  nan  nan  nan  nan ...   \n",
       "21  [ nan  nan  nan  nan  nan  nan  nan  nan  nan ...   \n",
       "22  [ nan  nan  nan  nan  nan  nan  nan  nan  nan ...   \n",
       "23  [ nan  nan  nan  nan  nan  nan  nan  nan  nan ...   \n",
       "24  [ nan  nan  nan  nan  nan  nan  nan  nan  nan ...   \n",
       "25  [ nan  nan  nan  nan  nan  nan  nan  nan  nan ...   \n",
       "26  [ nan  nan  nan  nan  nan  nan  nan  nan  nan ...   \n",
       "27  [ nan  nan  nan  nan  nan  nan  nan  nan  nan ...   \n",
       "28  [ nan  nan  nan  nan  nan  nan  nan  nan  nan ...   \n",
       "29  [ nan  nan  nan  nan  nan  nan  nan  nan  nan ...   \n",
       "..                                                ...   \n",
       "38  [ nan  nan  nan  nan  nan  nan  nan  nan  nan ...   \n",
       "39  [ nan  nan  nan  nan  nan  nan  nan  nan  nan ...   \n",
       "40  [ nan  nan  nan  nan  nan  nan  nan  nan  nan ...   \n",
       "41  [ nan  nan  nan  nan  nan  nan  nan  nan  nan ...   \n",
       "42  [ nan  nan  nan  nan  nan  nan  nan  nan  nan ...   \n",
       "43  [ nan  nan  nan  nan  nan  nan  nan  nan  nan ...   \n",
       "44  [ nan  nan  nan  nan  nan  nan  nan  nan  nan ...   \n",
       "45  [ nan  nan  nan  nan  nan  nan  nan  nan  nan ...   \n",
       "46  [ nan  nan  nan  nan  nan  nan  nan  nan  nan ...   \n",
       "47  [ nan  nan  nan  nan  nan  nan  nan  nan  nan ...   \n",
       "48  [ nan  nan  nan  nan  nan  nan  nan  nan  nan ...   \n",
       "49  [ nan  nan  nan  nan  nan  nan  nan  nan  nan ...   \n",
       "50  [ nan  nan  nan  nan  nan  nan  nan  nan  nan ...   \n",
       "51  [ nan  nan  nan  nan  nan  nan  nan  nan  nan ...   \n",
       "52  [ nan  nan  nan  nan  nan  nan  nan  nan  nan ...   \n",
       "53  [ nan  nan  nan  nan  nan  nan  nan  nan  nan ...   \n",
       "54  [ nan  nan  nan  nan  nan  nan  nan  nan  nan ...   \n",
       "55  [ nan  nan  nan  nan  nan  nan  nan  nan  nan ...   \n",
       "56  [ nan  nan  nan  nan  nan  nan  nan  nan  nan ...   \n",
       "57  [ nan  nan  nan  nan  nan  nan  nan  nan  nan ...   \n",
       "58  [ nan  nan  nan  nan  nan  nan  nan  nan  nan ...   \n",
       "59  [ nan  nan  nan  nan  nan  nan  nan  nan  nan ...   \n",
       "60  [ nan  nan  nan  nan  nan  nan  nan  nan  nan ...   \n",
       "61  [ nan  nan  nan  nan  nan  nan  nan  nan  nan ...   \n",
       "62  [ nan  nan  nan  nan  nan  nan  nan  nan  nan ...   \n",
       "63  [ nan  nan  nan  nan  nan  nan  nan  nan  nan ...   \n",
       "64  [ nan  nan  nan  nan  nan  nan  nan  nan  nan ...   \n",
       "65  [ nan  nan  nan  nan  nan  nan  nan  nan  nan ...   \n",
       "66  [ nan  nan  nan  nan  nan  nan  nan  nan  nan ...   \n",
       "67  [ nan  nan  nan  nan  nan  nan  nan  nan  nan ...   \n",
       "\n",
       "                                         tev_sed_dnde  \\\n",
       "0   [ nan  nan  nan  nan  nan  nan  nan  nan  nan ...   \n",
       "1   [  3.23300002e-12   4.40699994e-13   2.9500000...   \n",
       "2   [ nan  nan  nan  nan  nan  nan  nan  nan  nan ...   \n",
       "3   [  1.69999995e-12   4.99999998e-13   2.2999999...   \n",
       "4   [  2.25568609e-12   3.47791213e-13   2.2703089...   \n",
       "5   [  1.83209992e-11   8.44120000e-12   1.8995499...   \n",
       "6   [  3.43570006e-10   1.29701000e-10   4.9657198...   \n",
       "7   [  3.22340006e-12   9.27542006e-13   2.3246899...   \n",
       "8   [ nan  nan  nan  nan  nan  nan  nan  nan  nan ...   \n",
       "9   [ nan  nan  nan  nan  nan  nan  nan  nan  nan ...   \n",
       "10  [ nan  nan  nan  nan  nan  nan  nan  nan  nan ...   \n",
       "11  [  1.83209992e-11   8.44120000e-12   1.8995499...   \n",
       "12  [  3.23300002e-12   4.40699994e-13   2.9500000...   \n",
       "13  [  1.69999995e-12   4.99999998e-13   2.2999999...   \n",
       "14  [ nan  nan  nan  nan  nan  nan  nan  nan  nan ...   \n",
       "15  [ nan  nan  nan  nan  nan  nan  nan  nan  nan ...   \n",
       "16  [ nan  nan  nan  nan  nan  nan  nan  nan  nan ...   \n",
       "17  [ nan  nan  nan  nan  nan  nan  nan  nan  nan ...   \n",
       "18  [ nan  nan  nan  nan  nan  nan  nan  nan  nan ...   \n",
       "19  [ nan  nan  nan  nan  nan  nan  nan  nan  nan ...   \n",
       "20  [ nan  nan  nan  nan  nan  nan  nan  nan  nan ...   \n",
       "21  [ nan  nan  nan  nan  nan  nan  nan  nan  nan ...   \n",
       "22  [ nan  nan  nan  nan  nan  nan  nan  nan  nan ...   \n",
       "23  [ nan  nan  nan  nan  nan  nan  nan  nan  nan ...   \n",
       "24  [ nan  nan  nan  nan  nan  nan  nan  nan  nan ...   \n",
       "25  [ nan  nan  nan  nan  nan  nan  nan  nan  nan ...   \n",
       "26  [ nan  nan  nan  nan  nan  nan  nan  nan  nan ...   \n",
       "27  [ nan  nan  nan  nan  nan  nan  nan  nan  nan ...   \n",
       "28  [ nan  nan  nan  nan  nan  nan  nan  nan  nan ...   \n",
       "29  [ nan  nan  nan  nan  nan  nan  nan  nan  nan ...   \n",
       "..                                                ...   \n",
       "38  [ nan  nan  nan  nan  nan  nan  nan  nan  nan ...   \n",
       "39  [ nan  nan  nan  nan  nan  nan  nan  nan  nan ...   \n",
       "40  [ nan  nan  nan  nan  nan  nan  nan  nan  nan ...   \n",
       "41  [ nan  nan  nan  nan  nan  nan  nan  nan  nan ...   \n",
       "42  [ nan  nan  nan  nan  nan  nan  nan  nan  nan ...   \n",
       "43  [ nan  nan  nan  nan  nan  nan  nan  nan  nan ...   \n",
       "44  [ nan  nan  nan  nan  nan  nan  nan  nan  nan ...   \n",
       "45  [ nan  nan  nan  nan  nan  nan  nan  nan  nan ...   \n",
       "46  [ nan  nan  nan  nan  nan  nan  nan  nan  nan ...   \n",
       "47  [ nan  nan  nan  nan  nan  nan  nan  nan  nan ...   \n",
       "48  [ nan  nan  nan  nan  nan  nan  nan  nan  nan ...   \n",
       "49  [ nan  nan  nan  nan  nan  nan  nan  nan  nan ...   \n",
       "50  [ nan  nan  nan  nan  nan  nan  nan  nan  nan ...   \n",
       "51  [ nan  nan  nan  nan  nan  nan  nan  nan  nan ...   \n",
       "52  [ nan  nan  nan  nan  nan  nan  nan  nan  nan ...   \n",
       "53  [ nan  nan  nan  nan  nan  nan  nan  nan  nan ...   \n",
       "54  [ nan  nan  nan  nan  nan  nan  nan  nan  nan ...   \n",
       "55  [ nan  nan  nan  nan  nan  nan  nan  nan  nan ...   \n",
       "56  [ nan  nan  nan  nan  nan  nan  nan  nan  nan ...   \n",
       "57  [ nan  nan  nan  nan  nan  nan  nan  nan  nan ...   \n",
       "58  [ nan  nan  nan  nan  nan  nan  nan  nan  nan ...   \n",
       "59  [ nan  nan  nan  nan  nan  nan  nan  nan  nan ...   \n",
       "60  [ nan  nan  nan  nan  nan  nan  nan  nan  nan ...   \n",
       "61  [ nan  nan  nan  nan  nan  nan  nan  nan  nan ...   \n",
       "62  [ nan  nan  nan  nan  nan  nan  nan  nan  nan ...   \n",
       "63  [ nan  nan  nan  nan  nan  nan  nan  nan  nan ...   \n",
       "64  [ nan  nan  nan  nan  nan  nan  nan  nan  nan ...   \n",
       "65  [ nan  nan  nan  nan  nan  nan  nan  nan  nan ...   \n",
       "66  [ nan  nan  nan  nan  nan  nan  nan  nan  nan ...   \n",
       "67  [ nan  nan  nan  nan  nan  nan  nan  nan  nan ...   \n",
       "\n",
       "                                     tev_sed_dnde_err  \n",
       "0   [ nan  nan  nan  nan  nan  nan  nan  nan  nan ...  \n",
       "1   [ nan  nan  nan  nan  nan  nan  nan  nan  nan ...  \n",
       "2   [ nan  nan  nan  nan  nan  nan  nan  nan  nan ...  \n",
       "3   [  4.99999998e-13   1.49999994e-13   5.9999998...  \n",
       "4   [ nan  nan  nan  nan  nan  nan  nan  nan  nan ...  \n",
       "5   [ nan  nan  nan  nan  nan  nan  nan  nan  nan ...  \n",
       "6   [ nan  nan  nan  nan  nan  nan  nan  nan  nan ...  \n",
       "7   [ nan  nan  nan  nan  nan  nan  nan  nan  nan ...  \n",
       "8   [ nan  nan  nan  nan  nan  nan  nan  nan  nan ...  \n",
       "9   [ nan  nan  nan  nan  nan  nan  nan  nan  nan ...  \n",
       "10  [ nan  nan  nan  nan  nan  nan  nan  nan  nan ...  \n",
       "11  [ nan  nan  nan  nan  nan  nan  nan  nan  nan ...  \n",
       "12  [ nan  nan  nan  nan  nan  nan  nan  nan  nan ...  \n",
       "13  [  4.99999998e-13   1.49999994e-13   5.9999998...  \n",
       "14  [ nan  nan  nan  nan  nan  nan  nan  nan  nan ...  \n",
       "15  [ nan  nan  nan  nan  nan  nan  nan  nan  nan ...  \n",
       "16  [ nan  nan  nan  nan  nan  nan  nan  nan  nan ...  \n",
       "17  [ nan  nan  nan  nan  nan  nan  nan  nan  nan ...  \n",
       "18  [ nan  nan  nan  nan  nan  nan  nan  nan  nan ...  \n",
       "19  [ nan  nan  nan  nan  nan  nan  nan  nan  nan ...  \n",
       "20  [ nan  nan  nan  nan  nan  nan  nan  nan  nan ...  \n",
       "21  [ nan  nan  nan  nan  nan  nan  nan  nan  nan ...  \n",
       "22  [ nan  nan  nan  nan  nan  nan  nan  nan  nan ...  \n",
       "23  [ nan  nan  nan  nan  nan  nan  nan  nan  nan ...  \n",
       "24  [ nan  nan  nan  nan  nan  nan  nan  nan  nan ...  \n",
       "25  [ nan  nan  nan  nan  nan  nan  nan  nan  nan ...  \n",
       "26  [ nan  nan  nan  nan  nan  nan  nan  nan  nan ...  \n",
       "27  [ nan  nan  nan  nan  nan  nan  nan  nan  nan ...  \n",
       "28  [ nan  nan  nan  nan  nan  nan  nan  nan  nan ...  \n",
       "29  [ nan  nan  nan  nan  nan  nan  nan  nan  nan ...  \n",
       "..                                                ...  \n",
       "38  [ nan  nan  nan  nan  nan  nan  nan  nan  nan ...  \n",
       "39  [ nan  nan  nan  nan  nan  nan  nan  nan  nan ...  \n",
       "40  [ nan  nan  nan  nan  nan  nan  nan  nan  nan ...  \n",
       "41  [ nan  nan  nan  nan  nan  nan  nan  nan  nan ...  \n",
       "42  [ nan  nan  nan  nan  nan  nan  nan  nan  nan ...  \n",
       "43  [ nan  nan  nan  nan  nan  nan  nan  nan  nan ...  \n",
       "44  [ nan  nan  nan  nan  nan  nan  nan  nan  nan ...  \n",
       "45  [ nan  nan  nan  nan  nan  nan  nan  nan  nan ...  \n",
       "46  [ nan  nan  nan  nan  nan  nan  nan  nan  nan ...  \n",
       "47  [ nan  nan  nan  nan  nan  nan  nan  nan  nan ...  \n",
       "48  [ nan  nan  nan  nan  nan  nan  nan  nan  nan ...  \n",
       "49  [ nan  nan  nan  nan  nan  nan  nan  nan  nan ...  \n",
       "50  [ nan  nan  nan  nan  nan  nan  nan  nan  nan ...  \n",
       "51  [ nan  nan  nan  nan  nan  nan  nan  nan  nan ...  \n",
       "52  [ nan  nan  nan  nan  nan  nan  nan  nan  nan ...  \n",
       "53  [ nan  nan  nan  nan  nan  nan  nan  nan  nan ...  \n",
       "54  [ nan  nan  nan  nan  nan  nan  nan  nan  nan ...  \n",
       "55  [ nan  nan  nan  nan  nan  nan  nan  nan  nan ...  \n",
       "56  [ nan  nan  nan  nan  nan  nan  nan  nan  nan ...  \n",
       "57  [ nan  nan  nan  nan  nan  nan  nan  nan  nan ...  \n",
       "58  [ nan  nan  nan  nan  nan  nan  nan  nan  nan ...  \n",
       "59  [ nan  nan  nan  nan  nan  nan  nan  nan  nan ...  \n",
       "60  [ nan  nan  nan  nan  nan  nan  nan  nan  nan ...  \n",
       "61  [ nan  nan  nan  nan  nan  nan  nan  nan  nan ...  \n",
       "62  [ nan  nan  nan  nan  nan  nan  nan  nan  nan ...  \n",
       "63  [ nan  nan  nan  nan  nan  nan  nan  nan  nan ...  \n",
       "64  [ nan  nan  nan  nan  nan  nan  nan  nan  nan ...  \n",
       "65  [ nan  nan  nan  nan  nan  nan  nan  nan  nan ...  \n",
       "66  [ nan  nan  nan  nan  nan  nan  nan  nan  nan ...  \n",
       "67  [ nan  nan  nan  nan  nan  nan  nan  nan  nan ...  \n",
       "\n",
       "[68 rows x 4 columns]"
      ]
     },
     "execution_count": 4,
     "metadata": {},
     "output_type": "execute_result"
    }
   ],
   "source": [
    "catalog_TeV[['s_MAIN_ID', 'tev_sed_e_ref', 'tev_sed_dnde', 'tev_sed_dnde_err']]"
   ]
  },
  {
   "cell_type": "markdown",
   "metadata": {},
   "source": [
    "Axe x - tev_sed_e_ref\n",
    "\n",
    "Axe y - tev_sed_dnde\n",
    "\n",
    "Red lines represent errors of tev_sed_dnde"
   ]
  },
  {
   "cell_type": "code",
   "execution_count": 5,
   "metadata": {},
   "outputs": [
    {
     "data": {
      "text/plain": [
       "<matplotlib.figure.Figure at 0xd229f60>"
      ]
     },
     "metadata": {},
     "output_type": "display_data"
    },
    {
     "data": {
      "image/png": "[encoded data removed]",
      "text/plain": [
       "<matplotlib.figure.Figure at 0xd287a58>"
      ]
     },
     "metadata": {},
     "output_type": "display_data"
    },
    {
     "data": {
      "text/plain": [
       "<matplotlib.figure.Figure at 0xd392f60>"
      ]
     },
     "metadata": {},
     "output_type": "display_data"
    },
    {
     "data": {
      "image/png": "[encoded data removed]",
      "text/plain": [
       "<matplotlib.figure.Figure at 0xd3732b0>"
      ]
     },
     "metadata": {},
     "output_type": "display_data"
    },
    {
     "data": {
      "text/plain": [
       "<matplotlib.figure.Figure at 0xd45cac8>"
      ]
     },
     "metadata": {},
     "output_type": "display_data"
    },
    {
     "data": {
      "image/png": "[encoded data removed]",
      "text/plain": [
       "<matplotlib.figure.Figure at 0xd392278>"
      ]
     },
     "metadata": {},
     "output_type": "display_data"
    },
    {
     "data": {
      "text/plain": [
       "<matplotlib.figure.Figure at 0xd397f60>"
      ]
     },
     "metadata": {},
     "output_type": "display_data"
    },
    {
     "data": {
      "image/png": "[encoded data removed]",
      "text/plain": [
       "<matplotlib.figure.Figure at 0xd51a358>"
      ]
     },
     "metadata": {},
     "output_type": "display_data"
    },
    {
     "data": {
      "text/plain": [
       "<matplotlib.figure.Figure at 0xd5efeb8>"
      ]
     },
     "metadata": {},
     "output_type": "display_data"
    },
    {
     "data": {
      "image/png": "[encoded data removed]",
      "text/plain": [
       "<matplotlib.figure.Figure at 0xd5ef208>"
      ]
     },
     "metadata": {},
     "output_type": "display_data"
    },
    {
     "data": {
      "text/plain": [
       "<matplotlib.figure.Figure at 0xd6157b8>"
      ]
     },
     "metadata": {},
     "output_type": "display_data"
    },
    {
     "data": {
      "image/png": "[encoded data removed]",
      "text/plain": [
       "<matplotlib.figure.Figure at 0xd5ef588>"
      ]
     },
     "metadata": {},
     "output_type": "display_data"
    },
    {
     "data": {
      "text/plain": [
       "<matplotlib.figure.Figure at 0xd69f9e8>"
      ]
     },
     "metadata": {},
     "output_type": "display_data"
    },
    {
     "data": {
      "image/png": "[encoded data removed]",
      "text/plain": [
       "<matplotlib.figure.Figure at 0xd7640f0>"
      ]
     },
     "metadata": {},
     "output_type": "display_data"
    },
    {
     "data": {
      "text/plain": [
       "<matplotlib.figure.Figure at 0xd71e518>"
      ]
     },
     "metadata": {},
     "output_type": "display_data"
    },
    {
     "data": {
      "image/png": "[encoded data removed]",
      "text/plain": [
       "<matplotlib.figure.Figure at 0xd5efda0>"
      ]
     },
     "metadata": {},
     "output_type": "display_data"
    },
    {
     "data": {
      "text/plain": [
       "<matplotlib.figure.Figure at 0x35f8908>"
      ]
     },
     "metadata": {},
     "output_type": "display_data"
    },
    {
     "data": {
      "image/png": "[encoded data removed]",
      "text/plain": [
       "<matplotlib.figure.Figure at 0xd71e518>"
      ]
     },
     "metadata": {},
     "output_type": "display_data"
    }
   ],
   "source": [
    "for idx in range(len(catalog_TeV)):\n",
    "    plt.clf()\n",
    "    x = catalog_TeV.loc[idx, 'tev_sed_e_ref']\n",
    "    y = catalog_TeV.loc[idx, 'tev_sed_dnde']\n",
    "    y_err = catalog_TeV.loc[idx,'tev_sed_dnde_err']\n",
    "\n",
    "    #in catalog this columns are in string format\n",
    "    #these three lines converge to a list of floats and nan -s\n",
    "    x = [float(xi) for xi in x[1:-1].split()]\n",
    "    y = [float(yi) for yi in y[1:-1].split()]\n",
    "    y_err = [float(y_erri) for y_erri in y_err[1:-1].split()]\n",
    "    \n",
    "    \n",
    "    #replace nan -s by zeros\n",
    "    x = [0 if math.isnan(xi) else xi for xi in x]\n",
    "    y = [0 if math.isnan(yi) else yi for yi in y]\n",
    "    y_err = [0 if math.isnan(y_erri) else y_erri for y_erri in y_err]\n",
    "    \n",
    "    #verify that a spectrum is not empty \n",
    "    if max(x) > 0: \n",
    "        fig = plt.figure()\n",
    "        ax = fig.add_subplot(111)\n",
    "\n",
    "        ## the bars\n",
    "        rects1 = ax.bar(x, y,\n",
    "                color='green',\n",
    "                yerr=y_err,\n",
    "                error_kw=dict(elinewidth=2,ecolor='red'))\n",
    "\n",
    "        # axes and labels\n",
    "        ax.set_ylim(0,(max(y)+max(y_err))*1.12)\n",
    "        ax.set_ylabel('Fluxes')\n",
    "        #ax.set_xticks(x)\n",
    "        plt.show()"
   ]
  },
  {
   "cell_type": "markdown",
   "metadata": {},
   "source": [
    "Logarithmic scale :"
   ]
  },
  {
   "cell_type": "code",
   "execution_count": 6,
   "metadata": {},
   "outputs": [
    {
     "name": "stderr",
     "output_type": "stream",
     "text": [
      "C:\\Users\\Admin\\Anaconda3\\lib\\site-packages\\ipykernel_launcher.py:21: RuntimeWarning: divide by zero encountered in log\n"
     ]
    },
    {
     "data": {
      "text/plain": [
       "<matplotlib.figure.Figure at 0xd5efd30>"
      ]
     },
     "metadata": {},
     "output_type": "display_data"
    },
    {
     "data": {
      "image/png": "[encoded data removed]",
      "text/plain": [
       "<matplotlib.figure.Figure at 0xd291cc0>"
      ]
     },
     "metadata": {},
     "output_type": "display_data"
    },
    {
     "data": {
      "text/plain": [
       "<matplotlib.figure.Figure at 0xd5e2da0>"
      ]
     },
     "metadata": {},
     "output_type": "display_data"
    },
    {
     "data": {
      "image/png": "[encoded data removed]",
      "text/plain": [
       "<matplotlib.figure.Figure at 0xd5cfe48>"
      ]
     },
     "metadata": {},
     "output_type": "display_data"
    },
    {
     "data": {
      "text/plain": [
       "<matplotlib.figure.Figure at 0xd595588>"
      ]
     },
     "metadata": {},
     "output_type": "display_data"
    },
    {
     "data": {
      "image/png": "[encoded data removed]",
      "text/plain": [
       "<matplotlib.figure.Figure at 0x3880630>"
      ]
     },
     "metadata": {},
     "output_type": "display_data"
    },
    {
     "data": {
      "text/plain": [
       "<matplotlib.figure.Figure at 0xd3ddbe0>"
      ]
     },
     "metadata": {},
     "output_type": "display_data"
    },
    {
     "data": {
      "image/png": "[encoded data removed]",
      "text/plain": [
       "<matplotlib.figure.Figure at 0xd287438>"
      ]
     },
     "metadata": {},
     "output_type": "display_data"
    },
    {
     "data": {
      "text/plain": [
       "<matplotlib.figure.Figure at 0xd3f5470>"
      ]
     },
     "metadata": {},
     "output_type": "display_data"
    },
    {
     "data": {
      "image/png": "[encoded data removed]",
      "text/plain": [
       "<matplotlib.figure.Figure at 0xd429c88>"
      ]
     },
     "metadata": {},
     "output_type": "display_data"
    },
    {
     "data": {
      "text/plain": [
       "<matplotlib.figure.Figure at 0xd7d16d8>"
      ]
     },
     "metadata": {},
     "output_type": "display_data"
    },
    {
     "data": {
      "image/png": "[encoded data removed]",
      "text/plain": [
       "<matplotlib.figure.Figure at 0xd3f5550>"
      ]
     },
     "metadata": {},
     "output_type": "display_data"
    },
    {
     "data": {
      "text/plain": [
       "<matplotlib.figure.Figure at 0xd830da0>"
      ]
     },
     "metadata": {},
     "output_type": "display_data"
    },
    {
     "data": {
      "image/png": "[encoded data removed]",
      "text/plain": [
       "<matplotlib.figure.Figure at 0xd7fe940>"
      ]
     },
     "metadata": {},
     "output_type": "display_data"
    },
    {
     "data": {
      "text/plain": [
       "<matplotlib.figure.Figure at 0xd7e88d0>"
      ]
     },
     "metadata": {},
     "output_type": "display_data"
    },
    {
     "data": {
      "image/png": "[encoded data removed]",
      "text/plain": [
       "<matplotlib.figure.Figure at 0xd89c710>"
      ]
     },
     "metadata": {},
     "output_type": "display_data"
    },
    {
     "data": {
      "text/plain": [
       "<matplotlib.figure.Figure at 0xd84e128>"
      ]
     },
     "metadata": {},
     "output_type": "display_data"
    },
    {
     "data": {
      "image/png": "[encoded data removed]",
      "text/plain": [
       "<matplotlib.figure.Figure at 0xe8c6f60>"
      ]
     },
     "metadata": {},
     "output_type": "display_data"
    }
   ],
   "source": [
    "for idx in range(len(catalog_TeV)):\n",
    "    #the same cycle as before, plotting logarithmes\n",
    "    plt.clf()\n",
    "    x = catalog_TeV.loc[idx, 'tev_sed_e_ref']\n",
    "    y = catalog_TeV.loc[idx, 'tev_sed_dnde']\n",
    "    y_err = catalog_TeV.loc[idx,'tev_sed_dnde_err']\n",
    "\n",
    "\n",
    "    x = [float(xi) for xi in x[1:-1].split()]\n",
    "    y = [float(yi) for yi in y[1:-1].split()]\n",
    "    y_err = [float(y_erri) for y_erri in y_err[1:-1].split()]\n",
    "    \n",
    "    x = [0 if math.isnan(xi) else xi for xi in x]\n",
    "    y = [0 if math.isnan(yi) else yi for yi in y]\n",
    "    y_err = [0 if math.isnan(y_erri) else y_erri for y_erri in y_err]\n",
    "    if max(x) > 0: \n",
    "        fig = plt.figure()\n",
    "        ax = fig.add_subplot(111)\n",
    "\n",
    "        # axes and labels\n",
    "        ax.plot(np.log(x), np.log(y))\n",
    "        #ax.set_xticks(x)\n",
    "        plt.show()"
   ]
  },
  {
   "cell_type": "code",
   "execution_count": null,
   "metadata": {
    "collapsed": true
   },
   "outputs": [],
   "source": []
  }
 ],
 "metadata": {
  "kernelspec": {
   "display_name": "Python 3",
   "language": "python",
   "name": "python3"
  },
  "language_info": {
   "codemirror_mode": {
    "name": "ipython",
    "version": 3
   },
   "file_extension": ".py",
   "mimetype": "text/x-python",
   "name": "python",
   "nbconvert_exporter": "python",
   "pygments_lexer": "ipython3",
   "version": "3.6.3"
  }
 },
 "nbformat": 4,
 "nbformat_minor": 2
}
