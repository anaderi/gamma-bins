{
 "cells": [
  {
   "cell_type": "code",
   "execution_count": 1,
   "metadata": {
    "collapsed": true
   },
   "outputs": [],
   "source": [
    "from astropy.io import fits\n",
    "#fits_image_filename = fits.util.get_testdata_filepath()\n",
    "\n",
    "hdul = fits.open('gammacat.fits.gz')"
   ]
  },
  {
   "cell_type": "code",
   "execution_count": 2,
   "metadata": {},
   "outputs": [
    {
     "name": "stdout",
     "output_type": "stream",
     "text": [
      "Filename: gammacat.fits.gz\n",
      "No.    Name      Ver    Type      Cards   Dimensions   Format\n",
      "  0  PRIMARY       1 PrimaryHDU       4   ()      \n",
      "  1                1 BinTableHDU    395   166R x 83C   [J, 21A, 76A, 72A, 81A, 4A, 11A, 8A, 37A, 7A, K, 6A, 14A, K, 14A, 19A, E, E, E, E, E, E, E, E, E, E, E, 5A, E, E, E, E, E, E, 8A, 4A, E, E, E, E, E, E, E, E, E, E, E, E, E, E, E, E, E, E, E, E, E, E, E, E, E, E, E, E, E, E, E, E, E, E, E, E, 19A, J, J, 40E, 40E, 40E, 40E, 40E, 40E, 40E, 40E]   \n"
     ]
    }
   ],
   "source": [
    "hdul.info()"
   ]
  },
  {
   "cell_type": "code",
   "execution_count": 45,
   "metadata": {},
   "outputs": [],
   "source": [
    "hdul[0].data"
   ]
  },
  {
   "cell_type": "code",
   "execution_count": 42,
   "metadata": {},
   "outputs": [
    {
     "data": {
      "text/plain": [
       "(166,)"
      ]
     },
     "execution_count": 42,
     "metadata": {},
     "output_type": "execute_result"
    }
   ],
   "source": [
    "cat = hdul[1].data\n",
    "cat.shape"
   ]
  },
  {
   "cell_type": "code",
   "execution_count": 5,
   "metadata": {},
   "outputs": [
    {
     "data": {
      "text/plain": [
       "ColDefs(\n",
       "    name = 'source_id'; format = 'J'\n",
       "    name = 'common_name'; format = '21A'\n",
       "    name = 'gamma_names'; format = '76A'\n",
       "    name = 'fermi_names'; format = '72A'\n",
       "    name = 'other_names'; format = '81A'\n",
       "    name = 'where'; format = '4A'\n",
       "    name = 'classes'; format = '11A'\n",
       "    name = 'discoverer'; format = '8A'\n",
       "    name = 'seen_by'; format = '37A'\n",
       "    name = 'discovery_date'; format = '7A'\n",
       "    name = 'tevcat_id'; format = 'K'\n",
       "    name = 'tevcat2_id'; format = '6A'\n",
       "    name = 'tevcat_name'; format = '14A'\n",
       "    name = 'tgevcat_id'; format = 'K'\n",
       "    name = 'tgevcat_name'; format = '14A'\n",
       "    name = 'reference_id'; format = '19A'\n",
       "    name = 'significance'; format = 'E'\n",
       "    name = 'livetime'; format = 'E'; unit = 'h'\n",
       "    name = 'ra'; format = 'E'; unit = 'deg'\n",
       "    name = 'dec'; format = 'E'; unit = 'deg'\n",
       "    name = 'glon'; format = 'E'; unit = 'deg'\n",
       "    name = 'glat'; format = 'E'; unit = 'deg'\n",
       "    name = 'pos_ra'; format = 'E'; unit = 'deg'\n",
       "    name = 'pos_dec'; format = 'E'; unit = 'deg'\n",
       "    name = 'pos_glon'; format = 'E'; unit = 'deg'\n",
       "    name = 'pos_glat'; format = 'E'; unit = 'deg'\n",
       "    name = 'pos_err'; format = 'E'; unit = 'deg'\n",
       "    name = 'morph_type'; format = '5A'\n",
       "    name = 'morph_sigma'; format = 'E'; unit = 'deg'\n",
       "    name = 'morph_sigma_err'; format = 'E'; unit = 'deg'\n",
       "    name = 'morph_sigma2'; format = 'E'; unit = 'deg'\n",
       "    name = 'morph_sigma2_err'; format = 'E'; unit = 'deg'\n",
       "    name = 'morph_pa'; format = 'E'; unit = 'deg'\n",
       "    name = 'morph_pa_err'; format = 'E'; unit = 'deg'\n",
       "    name = 'morph_pa_frame'; format = '8A'\n",
       "    name = 'spec_type'; format = '4A'\n",
       "    name = 'spec_pl_norm'; format = 'E'; unit = 'cm-2 s-1 TeV-1'\n",
       "    name = 'spec_pl_norm_err'; format = 'E'; unit = 'cm-2 s-1 TeV-1'\n",
       "    name = 'spec_pl_norm_err_sys'; format = 'E'; unit = 'cm-2 s-1 TeV-1'\n",
       "    name = 'spec_pl_index'; format = 'E'\n",
       "    name = 'spec_pl_index_err'; format = 'E'\n",
       "    name = 'spec_pl_index_err_sys'; format = 'E'\n",
       "    name = 'spec_pl_e_ref'; format = 'E'; unit = 'TeV'\n",
       "    name = 'spec_pl2_flux'; format = 'E'; unit = 'cm-2 s-1'\n",
       "    name = 'spec_pl2_flux_err'; format = 'E'; unit = 'cm-2 s-1'\n",
       "    name = 'spec_pl2_flux_err_sys'; format = 'E'; unit = 'cm-2 s-1'\n",
       "    name = 'spec_pl2_index'; format = 'E'\n",
       "    name = 'spec_pl2_index_err'; format = 'E'\n",
       "    name = 'spec_pl2_index_err_sys'; format = 'E'\n",
       "    name = 'spec_pl2_e_min'; format = 'E'; unit = 'TeV'\n",
       "    name = 'spec_pl2_e_max'; format = 'E'; unit = 'TeV'\n",
       "    name = 'spec_ecpl_norm'; format = 'E'; unit = 'cm-2 s-1 TeV-1'\n",
       "    name = 'spec_ecpl_norm_err'; format = 'E'; unit = 'cm-2 s-1 TeV-1'\n",
       "    name = 'spec_ecpl_norm_err_sys'; format = 'E'; unit = 'cm-2 s-1 TeV-1'\n",
       "    name = 'spec_ecpl_index'; format = 'E'\n",
       "    name = 'spec_ecpl_index_err'; format = 'E'\n",
       "    name = 'spec_ecpl_index_err_sys'; format = 'E'\n",
       "    name = 'spec_ecpl_e_cut'; format = 'E'; unit = 'TeV'\n",
       "    name = 'spec_ecpl_e_cut_err'; format = 'E'; unit = 'TeV'\n",
       "    name = 'spec_ecpl_e_cut_err_sys'; format = 'E'; unit = 'TeV'\n",
       "    name = 'spec_ecpl_e_ref'; format = 'E'; unit = 'TeV'\n",
       "    name = 'spec_erange_min'; format = 'E'; unit = 'TeV'\n",
       "    name = 'spec_erange_max'; format = 'E'; unit = 'TeV'\n",
       "    name = 'spec_theta'; format = 'E'; unit = 'deg'\n",
       "    name = 'spec_dnde_1TeV'; format = 'E'; unit = 'cm-2 s-1 TeV-1'\n",
       "    name = 'spec_dnde_1TeV_err'; format = 'E'; unit = 'cm-2 s-1 TeV-1'\n",
       "    name = 'spec_flux_1TeV'; format = 'E'; unit = 'cm-2 s-1'\n",
       "    name = 'spec_flux_1TeV_err'; format = 'E'; unit = 'cm-2 s-1'\n",
       "    name = 'spec_flux_1TeV_crab'; format = 'E'\n",
       "    name = 'spec_flux_1TeV_crab_err'; format = 'E'\n",
       "    name = 'spec_eflux_1TeV_10TeV'; format = 'E'; unit = 'cm-2 erg s-1'\n",
       "    name = 'spec_eflux_1TeV_10TeV_err'; format = 'E'; unit = 'cm-2 erg s-1'\n",
       "    name = 'sed_reference_id'; format = '19A'\n",
       "    name = 'sed_n_points'; format = 'J'\n",
       "    name = 'sed_n_ul'; format = 'J'\n",
       "    name = 'sed_e_ref'; format = '40E'; unit = 'TeV'\n",
       "    name = 'sed_e_min'; format = '40E'; unit = 'TeV'\n",
       "    name = 'sed_e_max'; format = '40E'; unit = 'TeV'\n",
       "    name = 'sed_dnde'; format = '40E'; unit = 'cm-2 s-1 TeV-1'\n",
       "    name = 'sed_dnde_err'; format = '40E'; unit = 'cm-2 s-1 TeV-1'\n",
       "    name = 'sed_dnde_errp'; format = '40E'; unit = 'cm-2 s-1 TeV-1'\n",
       "    name = 'sed_dnde_errn'; format = '40E'; unit = 'cm-2 s-1 TeV-1'\n",
       "    name = 'sed_dnde_ul'; format = '40E'; unit = 'cm-2 s-1 TeV-1'\n",
       ")"
      ]
     },
     "execution_count": 5,
     "metadata": {},
     "output_type": "execute_result"
    }
   ],
   "source": [
    "cat.columns"
   ]
  },
  {
   "cell_type": "code",
   "execution_count": 7,
   "metadata": {},
   "outputs": [
    {
     "data": {
      "text/plain": [
       "chararray(['pwn,snr', 'hbl', 'snr', 'hbl', 'hbl', 'galaxy', 'hbl', 'hbl',\n",
       "       'pwn', 'blazar', 'ibl', 'unid', 'hbl', 'bin', 'hbl', 'hbl', 'fri',\n",
       "       'hbl', 'hbl', 'hbl', 'hbl', 'hbl', 'ibl', 'snr,mc', 'psr', 'pwn',\n",
       "       'other', 'pwn', 'hbl', 'snr', 'bin', 'psr,pwn', 'hbl', 'hbl', 'hbl',\n",
       "       'ibl', 'hbl', 'pwn', 'hbl', 'snr', 'galaxy', 'blazar', 'hbl', 'hbl',\n",
       "       'pwn', 'bin', 'unid', 'pwn', 'hbl', 'hbl', 'pwn', 'hbl', 'hbl',\n",
       "       'hbl', 'hbl', 'ibl', 'hbl', 'fsrq', 'fri', 'fsrq', 'bin', 'pwn',\n",
       "       'hbl', 'fri', 'pwn', 'pwn', 'pwn', 'hbl', 'unid', 'hbl', 'snr',\n",
       "       'hbl', 'fsrq', 'snr,mc', 'pwn', 'snr', 'unid', 'unid', 'fsrq',\n",
       "       'pwn', 'lbl', 'snr', 'pwn', 'hbl', 'unid', 'pwn', 'unid', 'pwn',\n",
       "       'unid', 'pwn', 'unid', 'unid', 'hbl', 'unid', 'pwn', 'unid', 'snr',\n",
       "       'snr', 'snr,mc', 'snr,mc', 'pwn', 'hbl', 'hbl', 'unid', 'snr',\n",
       "       'unid', 'hbl', 'unid,snr,mc', 'unid', 'unid', 'unid', 'unid', 'pwn',\n",
       "       'unid,gc', 'snr,mc', 'snr,mc', 'snr,mc', 'unid', 'unid', 'unid',\n",
       "       'unid', 'pwn', 'pwn,snr', 'unid', 'pwn', 'bin', 'unid', 'unid,pwn',\n",
       "       'unid', 'bin,unid', 'pwn', 'unid', 'pwn', 'unid', 'unid', 'unid',\n",
       "       'pwn', 'unid', 'pwn', 'unid', 'unid', 'unid', 'unid', 'snr,mc',\n",
       "       'unid', 'snr,mc', 'pwn,snr', 'hbl', 'hbl', 'ibl', 'hbl', 'pwn,snr',\n",
       "       'unid', 'pwn,unid', 'unid', 'unid', 'unid', 'hbl', 'lbl', 'pwn,snr',\n",
       "       'pwn,snr', 'ibl', 'hbl', 'snr', 'hbl', 'hbl'], \n",
       "      dtype='<U11')"
      ]
     },
     "execution_count": 7,
     "metadata": {},
     "output_type": "execute_result"
    }
   ],
   "source": [
    "cat['classes']"
   ]
  },
  {
   "cell_type": "code",
   "execution_count": 12,
   "metadata": {},
   "outputs": [],
   "source": [
    "from collections import Counter\n",
    "classes = cat['classes']\n",
    "c = Counter([i for j in classes for i in j.split(',')])"
   ]
  },
  {
   "cell_type": "code",
   "execution_count": 13,
   "metadata": {},
   "outputs": [
    {
     "data": {
      "text/plain": [
       "Counter({'bin': 6,\n",
       "         'blazar': 2,\n",
       "         'fri': 3,\n",
       "         'fsrq': 4,\n",
       "         'galaxy': 2,\n",
       "         'gc': 1,\n",
       "         'hbl': 44,\n",
       "         'ibl': 6,\n",
       "         'lbl': 2,\n",
       "         'mc': 10,\n",
       "         'other': 1,\n",
       "         'psr': 2,\n",
       "         'pwn': 35,\n",
       "         'snr': 26,\n",
       "         'unid': 44})"
      ]
     },
     "execution_count": 13,
     "metadata": {},
     "output_type": "execute_result"
    }
   ],
   "source": [
    "c"
   ]
  },
  {
   "cell_type": "code",
   "execution_count": 20,
   "metadata": {},
   "outputs": [],
   "source": [
    "\n",
    "bins1 = cat[classes == 'bin']\n",
    "bins2 = cat[classes == 'bin,unid']"
   ]
  },
  {
   "cell_type": "code",
   "execution_count": 21,
   "metadata": {},
   "outputs": [
    {
     "data": {
      "text/plain": [
       "((5,), (1,))"
      ]
     },
     "execution_count": 21,
     "metadata": {},
     "output_type": "execute_result"
    }
   ],
   "source": [
    "bins1.shape, bins2.shape\n"
   ]
  },
  {
   "cell_type": "code",
   "execution_count": 24,
   "metadata": {
    "collapsed": true
   },
   "outputs": [],
   "source": [
    "import numpy as np"
   ]
  },
  {
   "cell_type": "code",
   "execution_count": 25,
   "metadata": {
    "collapsed": true
   },
   "outputs": [],
   "source": [
    "bins = np.concatenate([bins1, bins2])"
   ]
  },
  {
   "cell_type": "code",
   "execution_count": 26,
   "metadata": {},
   "outputs": [
    {
     "data": {
      "text/plain": [
       "array([b'', b'', b'1FGL J1018.6-5856', b'', b'', b''], \n",
       "      dtype='|S72')"
      ]
     },
     "execution_count": 26,
     "metadata": {},
     "output_type": "execute_result"
    }
   ],
   "source": [
    "bins['fermi_names']"
   ]
  },
  {
   "cell_type": "code",
   "execution_count": 27,
   "metadata": {},
   "outputs": [
    {
     "data": {
      "text/plain": [
       "array([b'LS I +61 303', b'HESS J0632+057', b'HESS J1018-589 A',\n",
       "       b'PSR B1259-63', b'LS 5039', b'HESS J1832-093'], \n",
       "      dtype='|S21')"
      ]
     },
     "execution_count": 27,
     "metadata": {},
     "output_type": "execute_result"
    }
   ],
   "source": [
    "bins['common_name']"
   ]
  },
  {
   "cell_type": "code",
   "execution_count": 28,
   "metadata": {},
   "outputs": [
    {
     "data": {
      "text/plain": [
       "(14, b'LS I +61 303', b'VER J0240+612', b'', b'', b'gal', b'bin', b'magic', b'veritas,magic', b'2006-06', 89, b'fW749W', b'TeV J0240+612', 14, b'TeV J0240+6115', b'2016ApJ...817L...7A', nan, nan, 40.13193893432617, 61.22933578491211, 135.67527770996094, 1.0861347913742065, nan, nan, nan, nan, nan, b'none', nan, nan, nan, nan, nan, nan, b'', b'pl', 4.799999807347799e-12, 3.99999992980668e-13, 9.999999960041972e-13, 2.359999895095825, 0.11999999731779099, 0.30000001192092896, 1.0, nan, nan, nan, nan, nan, nan, nan, nan, nan, nan, nan, nan, nan, nan, nan, nan, nan, nan, 0.30000001192092896, 20.0, nan, 4.799999807347799e-12, 3.99999992980668e-13, 3.529411788869008e-12, 4.28353533199477e-13, 17.013776779174805, 2.064908266067505, 1.2037348548488147e-11, 1.7515463905659612e-12, b'2007A&A...475L...9A', 8, 0, array([  0.59841502,   0.87828797,   1.28896999,   1.89222002,\n",
       "         2.77740002,   4.07638979,   6.48667002,  11.53489971,\n",
       "                nan,          nan,          nan,          nan,\n",
       "                nan,          nan,          nan,          nan,\n",
       "                nan,          nan,          nan,          nan,\n",
       "                nan,          nan,          nan,          nan,\n",
       "                nan,          nan,          nan,          nan,\n",
       "                nan,          nan,          nan,          nan,\n",
       "                nan,          nan,          nan,          nan,\n",
       "                nan,          nan,          nan,          nan], dtype=float32), array([ nan,  nan,  nan,  nan,  nan,  nan,  nan,  nan,  nan,  nan,  nan,\n",
       "        nan,  nan,  nan,  nan,  nan,  nan,  nan,  nan,  nan,  nan,  nan,\n",
       "        nan,  nan,  nan,  nan,  nan,  nan,  nan,  nan,  nan,  nan,  nan,\n",
       "        nan,  nan,  nan,  nan,  nan,  nan,  nan], dtype=float32), array([ nan,  nan,  nan,  nan,  nan,  nan,  nan,  nan,  nan,  nan,  nan,\n",
       "        nan,  nan,  nan,  nan,  nan,  nan,  nan,  nan,  nan,  nan,  nan,\n",
       "        nan,  nan,  nan,  nan,  nan,  nan,  nan,  nan,  nan,  nan,  nan,\n",
       "        nan,  nan,  nan,  nan,  nan,  nan,  nan], dtype=float32), array([  3.22340006e-12,   9.27542006e-13,   2.32468992e-13,\n",
       "         1.62989996e-13,   7.40980018e-14,   2.43739999e-14,\n",
       "         3.78948014e-15,   1.42780003e-15,              nan,\n",
       "                    nan,              nan,              nan,\n",
       "                    nan,              nan,              nan,\n",
       "                    nan,              nan,              nan,\n",
       "                    nan,              nan,              nan,\n",
       "                    nan,              nan,              nan,\n",
       "                    nan,              nan,              nan,\n",
       "                    nan,              nan,              nan,\n",
       "                    nan,              nan,              nan,\n",
       "                    nan,              nan,              nan,\n",
       "                    nan,              nan,              nan,\n",
       "                    nan], dtype=float32), array([ nan,  nan,  nan,  nan,  nan,  nan,  nan,  nan,  nan,  nan,  nan,\n",
       "        nan,  nan,  nan,  nan,  nan,  nan,  nan,  nan,  nan,  nan,  nan,\n",
       "        nan,  nan,  nan,  nan,  nan,  nan,  nan,  nan,  nan,  nan,  nan,\n",
       "        nan,  nan,  nan,  nan,  nan,  nan,  nan], dtype=float32), array([  1.32769999e-12,   2.79171001e-13,   1.03759998e-13,\n",
       "         4.79358984e-14,   2.33040007e-14,   1.11649996e-14,\n",
       "         3.18687994e-15,   1.03069997e-15,              nan,\n",
       "                    nan,              nan,              nan,\n",
       "                    nan,              nan,              nan,\n",
       "                    nan,              nan,              nan,\n",
       "                    nan,              nan,              nan,\n",
       "                    nan,              nan,              nan,\n",
       "                    nan,              nan,              nan,\n",
       "                    nan,              nan,              nan,\n",
       "                    nan,              nan,              nan,\n",
       "                    nan,              nan,              nan,\n",
       "                    nan,              nan,              nan,\n",
       "                    nan], dtype=float32), array([  1.32769999e-12,   2.79171001e-13,   1.03759998e-13,\n",
       "         4.79358984e-14,   2.33040007e-14,   1.11649996e-14,\n",
       "         3.18687994e-15,   1.03069997e-15,              nan,\n",
       "                    nan,              nan,              nan,\n",
       "                    nan,              nan,              nan,\n",
       "                    nan,              nan,              nan,\n",
       "                    nan,              nan,              nan,\n",
       "                    nan,              nan,              nan,\n",
       "                    nan,              nan,              nan,\n",
       "                    nan,              nan,              nan,\n",
       "                    nan,              nan,              nan,\n",
       "                    nan,              nan,              nan,\n",
       "                    nan,              nan,              nan,\n",
       "                    nan], dtype=float32), array([ nan,  nan,  nan,  nan,  nan,  nan,  nan,  nan,  nan,  nan,  nan,\n",
       "        nan,  nan,  nan,  nan,  nan,  nan,  nan,  nan,  nan,  nan,  nan,\n",
       "        nan,  nan,  nan,  nan,  nan,  nan,  nan,  nan,  nan,  nan,  nan,\n",
       "        nan,  nan,  nan,  nan,  nan,  nan,  nan], dtype=float32))"
      ]
     },
     "execution_count": 28,
     "metadata": {},
     "output_type": "execute_result"
    }
   ],
   "source": [
    "bins[0]"
   ]
  },
  {
   "cell_type": "code",
   "execution_count": 40,
   "metadata": {},
   "outputs": [],
   "source": [
    "rec1 = dict(zip([c.name for c in cat.columns], bins[1]))"
   ]
  },
  {
   "cell_type": "code",
   "execution_count": 41,
   "metadata": {
    "scrolled": false
   },
   "outputs": [
    {
     "data": {
      "text/plain": [
       "{'classes': b'bin',\n",
       " 'common_name': b'HESS J0632+057',\n",
       " 'dec': 5.8003273,\n",
       " 'discoverer': b'hess',\n",
       " 'discovery_date': b'2007-07',\n",
       " 'fermi_names': b'',\n",
       " 'gamma_names': b'HESS J0632+057,VER J0633+057',\n",
       " 'glat': -1.4395283,\n",
       " 'glon': 205.66653,\n",
       " 'livetime': 60.0,\n",
       " 'morph_pa': nan,\n",
       " 'morph_pa_err': nan,\n",
       " 'morph_pa_frame': b'',\n",
       " 'morph_sigma': nan,\n",
       " 'morph_sigma2': nan,\n",
       " 'morph_sigma2_err': nan,\n",
       " 'morph_sigma_err': nan,\n",
       " 'morph_type': b'none',\n",
       " 'other_names': b'HD 259440',\n",
       " 'pos_dec': nan,\n",
       " 'pos_err': nan,\n",
       " 'pos_glat': nan,\n",
       " 'pos_glon': nan,\n",
       " 'pos_ra': nan,\n",
       " 'ra': 98.246895,\n",
       " 'reference_id': b'2017arXiv170804045M',\n",
       " 'sed_dnde': array([  1.63999994e-11,   4.72999981e-12,   4.01000023e-12,\n",
       "          1.50999992e-12,   1.58999997e-13,              nan,\n",
       "                     nan,              nan,              nan,\n",
       "                     nan,              nan,              nan,\n",
       "                     nan,              nan,              nan,\n",
       "                     nan,              nan,              nan,\n",
       "                     nan,              nan,              nan,\n",
       "                     nan,              nan,              nan,\n",
       "                     nan,              nan,              nan,\n",
       "                     nan,              nan,              nan,\n",
       "                     nan,              nan,              nan,\n",
       "                     nan,              nan,              nan,\n",
       "                     nan,              nan,              nan,\n",
       "                     nan], dtype=float32),\n",
       " 'sed_dnde_err': array([  6.27000014e-12,   2.39999990e-12,   1.31999999e-12,\n",
       "          5.55000002e-13,   1.11999995e-13,              nan,\n",
       "                     nan,              nan,              nan,\n",
       "                     nan,              nan,              nan,\n",
       "                     nan,              nan,              nan,\n",
       "                     nan,              nan,              nan,\n",
       "                     nan,              nan,              nan,\n",
       "                     nan,              nan,              nan,\n",
       "                     nan,              nan,              nan,\n",
       "                     nan,              nan,              nan,\n",
       "                     nan,              nan,              nan,\n",
       "                     nan,              nan,              nan,\n",
       "                     nan,              nan,              nan,\n",
       "                     nan], dtype=float32),\n",
       " 'sed_dnde_errn': array([ nan,  nan,  nan,  nan,  nan,  nan,  nan,  nan,  nan,  nan,  nan,\n",
       "         nan,  nan,  nan,  nan,  nan,  nan,  nan,  nan,  nan,  nan,  nan,\n",
       "         nan,  nan,  nan,  nan,  nan,  nan,  nan,  nan,  nan,  nan,  nan,\n",
       "         nan,  nan,  nan,  nan,  nan,  nan,  nan], dtype=float32),\n",
       " 'sed_dnde_errp': array([ nan,  nan,  nan,  nan,  nan,  nan,  nan,  nan,  nan,  nan,  nan,\n",
       "         nan,  nan,  nan,  nan,  nan,  nan,  nan,  nan,  nan,  nan,  nan,\n",
       "         nan,  nan,  nan,  nan,  nan,  nan,  nan,  nan,  nan,  nan,  nan,\n",
       "         nan,  nan,  nan,  nan,  nan,  nan,  nan], dtype=float32),\n",
       " 'sed_dnde_ul': array([ nan,  nan,  nan,  nan,  nan,  nan,  nan,  nan,  nan,  nan,  nan,\n",
       "         nan,  nan,  nan,  nan,  nan,  nan,  nan,  nan,  nan,  nan,  nan,\n",
       "         nan,  nan,  nan,  nan,  nan,  nan,  nan,  nan,  nan,  nan,  nan,\n",
       "         nan,  nan,  nan,  nan,  nan,  nan,  nan], dtype=float32),\n",
       " 'sed_e_max': array([ nan,  nan,  nan,  nan,  nan,  nan,  nan,  nan,  nan,  nan,  nan,\n",
       "         nan,  nan,  nan,  nan,  nan,  nan,  nan,  nan,  nan,  nan,  nan,\n",
       "         nan,  nan,  nan,  nan,  nan,  nan,  nan,  nan,  nan,  nan,  nan,\n",
       "         nan,  nan,  nan,  nan,  nan,  nan,  nan], dtype=float32),\n",
       " 'sed_e_min': array([ nan,  nan,  nan,  nan,  nan,  nan,  nan,  nan,  nan,  nan,  nan,\n",
       "         nan,  nan,  nan,  nan,  nan,  nan,  nan,  nan,  nan,  nan,  nan,\n",
       "         nan,  nan,  nan,  nan,  nan,  nan,  nan,  nan,  nan,  nan,  nan,\n",
       "         nan,  nan,  nan,  nan,  nan,  nan,  nan], dtype=float32),\n",
       " 'sed_e_ref': array([ 0.35800001,  0.46200001,  0.59500003,  0.80000001,  1.347     ,\n",
       "                nan,         nan,         nan,         nan,         nan,\n",
       "                nan,         nan,         nan,         nan,         nan,\n",
       "                nan,         nan,         nan,         nan,         nan,\n",
       "                nan,         nan,         nan,         nan,         nan,\n",
       "                nan,         nan,         nan,         nan,         nan,\n",
       "                nan,         nan,         nan,         nan,         nan,\n",
       "                nan,         nan,         nan,         nan,         nan], dtype=float32),\n",
       " 'sed_n_points': 5,\n",
       " 'sed_n_ul': 0,\n",
       " 'sed_reference_id': b'2009ApJ...698L.133A',\n",
       " 'seen_by': b'hess,veritas,magic',\n",
       " 'significance': 6.1999998,\n",
       " 'source_id': 30,\n",
       " 'spec_dnde_1TeV': 2.1e-13,\n",
       " 'spec_dnde_1TeV_err': 3.9999999e-13,\n",
       " 'spec_ecpl_e_cut': nan,\n",
       " 'spec_ecpl_e_cut_err': nan,\n",
       " 'spec_ecpl_e_cut_err_sys': nan,\n",
       " 'spec_ecpl_e_ref': nan,\n",
       " 'spec_ecpl_index': nan,\n",
       " 'spec_ecpl_index_err': nan,\n",
       " 'spec_ecpl_index_err_sys': nan,\n",
       " 'spec_ecpl_norm': nan,\n",
       " 'spec_ecpl_norm_err': nan,\n",
       " 'spec_ecpl_norm_err_sys': nan,\n",
       " 'spec_eflux_1TeV_10TeV': 3.9481171e-13,\n",
       " 'spec_eflux_1TeV_10TeV_err': 7.5512762e-13,\n",
       " 'spec_erange_max': 10.5,\n",
       " 'spec_erange_min': 0.235,\n",
       " 'spec_flux_1TeV': 1.2574851e-13,\n",
       " 'spec_flux_1TeV_crab': 0.60617948,\n",
       " 'spec_flux_1TeV_crab_err': 1.1569076,\n",
       " 'spec_flux_1TeV_err': 2.3999392e-13,\n",
       " 'spec_pl2_e_max': nan,\n",
       " 'spec_pl2_e_min': nan,\n",
       " 'spec_pl2_flux': nan,\n",
       " 'spec_pl2_flux_err': nan,\n",
       " 'spec_pl2_flux_err_sys': nan,\n",
       " 'spec_pl2_index': nan,\n",
       " 'spec_pl2_index_err': nan,\n",
       " 'spec_pl2_index_err_sys': nan,\n",
       " 'spec_pl_e_ref': 1.0,\n",
       " 'spec_pl_index': 2.6700001,\n",
       " 'spec_pl_index_err': 0.2,\n",
       " 'spec_pl_index_err_sys': nan,\n",
       " 'spec_pl_norm': 2.1e-13,\n",
       " 'spec_pl_norm_err': 3.9999999e-13,\n",
       " 'spec_pl_norm_err_sys': 3.9999999e-14,\n",
       " 'spec_theta': nan,\n",
       " 'spec_type': b'pl',\n",
       " 'tevcat2_id': b'jPeNQq',\n",
       " 'tevcat_id': 134,\n",
       " 'tevcat_name': b'TeV J0632+058',\n",
       " 'tgevcat_id': 30,\n",
       " 'tgevcat_name': b'TeV J0632+0548',\n",
       " 'where': b'gal'}"
      ]
     },
     "execution_count": 41,
     "metadata": {},
     "output_type": "execute_result"
    }
   ],
   "source": [
    "rec1\n",
    "\n"
   ]
  },
  {
   "cell_type": "code",
   "execution_count": null,
   "metadata": {
    "collapsed": true
   },
   "outputs": [],
   "source": []
  }
 ],
 "metadata": {
  "kernelspec": {
   "display_name": "Python 3",
   "language": "python",
   "name": "python3"
  },
  "language_info": {
   "codemirror_mode": {
    "name": "ipython",
    "version": 3
   },
   "file_extension": ".py",
   "mimetype": "text/x-python",
   "name": "python",
   "nbconvert_exporter": "python",
   "pygments_lexer": "ipython3",
   "version": "3.6.2"
  }
 },
 "nbformat": 4,
 "nbformat_minor": 2
}
