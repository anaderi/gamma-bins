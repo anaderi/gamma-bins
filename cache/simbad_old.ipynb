{
 "cells": [
  {
   "cell_type": "markdown",
   "metadata": {},
   "source": [
    "# Similar objects in simbad, GEV and TEV catalogs\n",
    "First, we import all the packages that we will need."
   ]
  },
  {
   "cell_type": "code",
   "execution_count": 1,
   "metadata": {
    "collapsed": true
   },
   "outputs": [],
   "source": [
    "import warnings\n",
    "import pandas as pd\n",
    "import numpy as np\n",
    "from getsimbad import get_simbad_data\n",
    "from gevtev import compare_gev_tev_data\n",
    "\n",
    "warnings.filterwarnings(\"ignore\")"
   ]
  },
  {
   "cell_type": "markdown",
   "metadata": {},
   "source": [
    "This constant determines a threshold for the similarity between the objects:\n",
    "$$|glat_{1} - glat_{2}| <= \\epsilon$$\n",
    "$$\\epsilon = 1,2*10^{-1}$$"
   ]
  },
  {
   "cell_type": "code",
   "execution_count": 2,
   "metadata": {
    "collapsed": true
   },
   "outputs": [],
   "source": [
    "_epsilon = 1.2e-1"
   ]
  },
  {
   "cell_type": "markdown",
   "metadata": {},
   "source": [
    "The cell above loads data from SIMBAD catalog obtained by requests 'Be', 'O', 'B' and 'plsr'. If the file \"data/symbad.txt\" does not exist, run getsimbad.py."
   ]
  },
  {
   "cell_type": "code",
   "execution_count": 3,
   "metadata": {
    "collapsed": true
   },
   "outputs": [],
   "source": [
    "try:\n",
    "    pd_simbad = pd.read_csv(\"data/simbad.txt\", sep='\\t', encoding='utf-8')\n",
    "    del pd_simbad['Unnamed: 0']\n",
    "except FileNotFoundError:\n",
    "    pd_simbad = get_simbad_data()\n"
   ]
  },
  {
   "cell_type": "code",
   "execution_count": 4,
   "metadata": {},
   "outputs": [
    {
     "data": {
      "text/html": [
       "<div>\n",
       "<style>\n",
       "    .dataframe thead tr:only-child th {\n",
       "        text-align: right;\n",
       "    }\n",
       "\n",
       "    .dataframe thead th {\n",
       "        text-align: left;\n",
       "    }\n",
       "\n",
       "    .dataframe tbody tr th {\n",
       "        vertical-align: top;\n",
       "    }\n",
       "</style>\n",
       "<table border=\"1\" class=\"dataframe\">\n",
       "  <thead>\n",
       "    <tr style=\"text-align: right;\">\n",
       "      <th></th>\n",
       "      <th>s_MAIN_ID</th>\n",
       "      <th>s_RA</th>\n",
       "      <th>s_DEC</th>\n",
       "      <th>s_RA_PREC</th>\n",
       "      <th>s_DEC_PREC</th>\n",
       "      <th>s_COO_ERR_MAJA</th>\n",
       "      <th>s_COO_ERR_MINA</th>\n",
       "      <th>s_COO_ERR_ANGLE</th>\n",
       "      <th>s_COO_QUAL</th>\n",
       "      <th>s_COO_WAVELENGTH</th>\n",
       "      <th>...</th>\n",
       "      <th>s_FLUX_H</th>\n",
       "      <th>s_FLUX_K</th>\n",
       "      <th>s_FLUX_u</th>\n",
       "      <th>s_FLUX_g</th>\n",
       "      <th>s_FLUX_r</th>\n",
       "      <th>s_FLUX_i</th>\n",
       "      <th>s_FLUX_z</th>\n",
       "      <th>s_class</th>\n",
       "      <th>s_glat</th>\n",
       "      <th>s_glon</th>\n",
       "    </tr>\n",
       "  </thead>\n",
       "  <tbody>\n",
       "    <tr>\n",
       "      <th>0</th>\n",
       "      <td>b'HD 201433A'</td>\n",
       "      <td>21 08 38.894</td>\n",
       "      <td>+30 12 20.27</td>\n",
       "      <td>7.0</td>\n",
       "      <td>7.0</td>\n",
       "      <td>26.0000</td>\n",
       "      <td>26.0000</td>\n",
       "      <td>90.0</td>\n",
       "      <td>B</td>\n",
       "      <td>O</td>\n",
       "      <td>...</td>\n",
       "      <td>NaN</td>\n",
       "      <td>NaN</td>\n",
       "      <td>NaN</td>\n",
       "      <td>NaN</td>\n",
       "      <td>NaN</td>\n",
       "      <td>NaN</td>\n",
       "      <td>NaN</td>\n",
       "      <td>plsr</td>\n",
       "      <td>-11.774311</td>\n",
       "      <td>76.107743</td>\n",
       "    </tr>\n",
       "    <tr>\n",
       "      <th>1</th>\n",
       "      <td>b'* nu. For'</td>\n",
       "      <td>02 04 29.4462</td>\n",
       "      <td>-29 17 48.491</td>\n",
       "      <td>14.0</td>\n",
       "      <td>14.0</td>\n",
       "      <td>0.1834</td>\n",
       "      <td>0.1942</td>\n",
       "      <td>90.0</td>\n",
       "      <td>A</td>\n",
       "      <td>O</td>\n",
       "      <td>...</td>\n",
       "      <td>5.048</td>\n",
       "      <td>5.015</td>\n",
       "      <td>NaN</td>\n",
       "      <td>NaN</td>\n",
       "      <td>NaN</td>\n",
       "      <td>NaN</td>\n",
       "      <td>NaN</td>\n",
       "      <td>plsr</td>\n",
       "      <td>-73.777993</td>\n",
       "      <td>224.887601</td>\n",
       "    </tr>\n",
       "    <tr>\n",
       "      <th>2</th>\n",
       "      <td>b'* phi Her'</td>\n",
       "      <td>16 08 46.1668</td>\n",
       "      <td>+44 56 05.732</td>\n",
       "      <td>14.0</td>\n",
       "      <td>14.0</td>\n",
       "      <td>0.3710</td>\n",
       "      <td>0.3754</td>\n",
       "      <td>90.0</td>\n",
       "      <td>A</td>\n",
       "      <td>O</td>\n",
       "      <td>...</td>\n",
       "      <td>4.330</td>\n",
       "      <td>4.320</td>\n",
       "      <td>NaN</td>\n",
       "      <td>NaN</td>\n",
       "      <td>NaN</td>\n",
       "      <td>NaN</td>\n",
       "      <td>NaN</td>\n",
       "      <td>plsr</td>\n",
       "      <td>47.107400</td>\n",
       "      <td>70.847825</td>\n",
       "    </tr>\n",
       "    <tr>\n",
       "      <th>3</th>\n",
       "      <td>b'V* CG And'</td>\n",
       "      <td>00 00 43.6345</td>\n",
       "      <td>+45 15 12.002</td>\n",
       "      <td>14.0</td>\n",
       "      <td>14.0</td>\n",
       "      <td>0.0550</td>\n",
       "      <td>0.0422</td>\n",
       "      <td>90.0</td>\n",
       "      <td>A</td>\n",
       "      <td>O</td>\n",
       "      <td>...</td>\n",
       "      <td>6.506</td>\n",
       "      <td>6.511</td>\n",
       "      <td>NaN</td>\n",
       "      <td>NaN</td>\n",
       "      <td>NaN</td>\n",
       "      <td>NaN</td>\n",
       "      <td>NaN</td>\n",
       "      <td>plsr</td>\n",
       "      <td>-16.702455</td>\n",
       "      <td>113.649358</td>\n",
       "    </tr>\n",
       "    <tr>\n",
       "      <th>4</th>\n",
       "      <td>b'HD 133029'</td>\n",
       "      <td>15 00 38.7184</td>\n",
       "      <td>+47 16 38.793</td>\n",
       "      <td>14.0</td>\n",
       "      <td>14.0</td>\n",
       "      <td>0.0472</td>\n",
       "      <td>0.0421</td>\n",
       "      <td>90.0</td>\n",
       "      <td>A</td>\n",
       "      <td>O</td>\n",
       "      <td>...</td>\n",
       "      <td>6.585</td>\n",
       "      <td>6.570</td>\n",
       "      <td>NaN</td>\n",
       "      <td>NaN</td>\n",
       "      <td>NaN</td>\n",
       "      <td>NaN</td>\n",
       "      <td>NaN</td>\n",
       "      <td>plsr</td>\n",
       "      <td>57.710074</td>\n",
       "      <td>80.191942</td>\n",
       "    </tr>\n",
       "  </tbody>\n",
       "</table>\n",
       "<p>5 rows × 28 columns</p>\n",
       "</div>"
      ],
      "text/plain": [
       "       s_MAIN_ID           s_RA          s_DEC  s_RA_PREC  s_DEC_PREC  \\\n",
       "0  b'HD 201433A'   21 08 38.894   +30 12 20.27        7.0         7.0   \n",
       "1   b'* nu. For'  02 04 29.4462  -29 17 48.491       14.0        14.0   \n",
       "2   b'* phi Her'  16 08 46.1668  +44 56 05.732       14.0        14.0   \n",
       "3   b'V* CG And'  00 00 43.6345  +45 15 12.002       14.0        14.0   \n",
       "4   b'HD 133029'  15 00 38.7184  +47 16 38.793       14.0        14.0   \n",
       "\n",
       "   s_COO_ERR_MAJA  s_COO_ERR_MINA  s_COO_ERR_ANGLE s_COO_QUAL  \\\n",
       "0         26.0000         26.0000             90.0          B   \n",
       "1          0.1834          0.1942             90.0          A   \n",
       "2          0.3710          0.3754             90.0          A   \n",
       "3          0.0550          0.0422             90.0          A   \n",
       "4          0.0472          0.0421             90.0          A   \n",
       "\n",
       "  s_COO_WAVELENGTH     ...     s_FLUX_H  s_FLUX_K  s_FLUX_u  s_FLUX_g  \\\n",
       "0                O     ...          NaN       NaN       NaN       NaN   \n",
       "1                O     ...        5.048     5.015       NaN       NaN   \n",
       "2                O     ...        4.330     4.320       NaN       NaN   \n",
       "3                O     ...        6.506     6.511       NaN       NaN   \n",
       "4                O     ...        6.585     6.570       NaN       NaN   \n",
       "\n",
       "   s_FLUX_r  s_FLUX_i  s_FLUX_z  s_class     s_glat      s_glon  \n",
       "0       NaN       NaN       NaN     plsr -11.774311   76.107743  \n",
       "1       NaN       NaN       NaN     plsr -73.777993  224.887601  \n",
       "2       NaN       NaN       NaN     plsr  47.107400   70.847825  \n",
       "3       NaN       NaN       NaN     plsr -16.702455  113.649358  \n",
       "4       NaN       NaN       NaN     plsr  57.710074   80.191942  \n",
       "\n",
       "[5 rows x 28 columns]"
      ]
     },
     "execution_count": 4,
     "metadata": {},
     "output_type": "execute_result"
    }
   ],
   "source": [
    "pd_simbad.head()"
   ]
  },
  {
   "cell_type": "markdown",
   "metadata": {},
   "source": [
    "We load data common for GEV and TEV catalogs."
   ]
  },
  {
   "cell_type": "code",
   "execution_count": 5,
   "metadata": {
    "collapsed": true,
    "scrolled": true
   },
   "outputs": [],
   "source": [
    "common_data, only_tev_data, only_gev_data = compare_gev_tev_data(_epsilon)"
   ]
  },
  {
   "cell_type": "markdown",
   "metadata": {},
   "source": [
    "The following cells compare distances from a common catalog of GEV and TEV and SIMBAD catalog by translating SIMBAD coordinates to glan and glot due to astropy module. If their relative distance is smaller than $\\epsilon$ they are associated to each another."
   ]
  },
  {
   "cell_type": "code",
   "execution_count": 8,
   "metadata": {
    "collapsed": true
   },
   "outputs": [],
   "source": [
    "def create_vectors_common_gevtev_simbad_old(gevtev, simbad, epsilon, catalog=\"tev\"):\n",
    "    \"\"\"This function looks for the same objects in GeV and TeV and Simbad catalogs \n",
    "    \n",
    "    Return: two vectors where each index of TEV(GEV) is associated with its indev in GEV(TEV).\n",
    "    If such objects does not existe, the corresponding vector coordinate is equal to -1\n",
    "    \n",
    "    gevtev - a pandas dataFrame of common GeV and TeV \n",
    "    simbad - a pandas dataFrame of Simbad \n",
    "    epsilon(double) - distance accepted as equivalence\n",
    "    \"\"\"\n",
    "    d = {}\n",
    "    classes = {}\n",
    "    if (catalog.find(\"tev\") != -1):\n",
    "        glat_gevtev = gevtev[catalog+'_glat']\n",
    "        glon_gevtev = gevtev[catalog+'_glon']\n",
    "    else:\n",
    "        glat_gevtev = gevtev[catalog+'_GLAT']\n",
    "        glon_gevtev = gevtev[catalog+'_GLON']        \n",
    "\n",
    "    glat_simbad = simbad['s_glat']\n",
    "    glon_simbad = simbad['s_glon']\n",
    "    \n",
    "    C_associations_gevtev = -1.0 * np.ones((len(glat_gevtev)))\n",
    "    C_associations_simbad = -1.0 * np.ones((len(glat_simbad)))\n",
    "    \n",
    "    # в данной реализации:\n",
    "    # если для объекта i gevtev по расстоянию подходит несколько объектов из simbad, \n",
    "    # то привязан он будет к последнему\n",
    "    for i in range(len(glat_gevtev)):\n",
    "        for j in range(len(glat_simbad)):\n",
    "            if ((np.abs(glat_gevtev[i] - glat_simbad[j]) < epsilon) \n",
    "                and (np.abs(glon_gevtev[i] - glon_simbad[j]) < epsilon)) :\n",
    "                    C_associations_gevtev[i] = j\n",
    "                    C_associations_simbad[j] = i\n",
    "    return C_associations_gevtev, C_associations_simbad"
   ]
  },
  {
   "cell_type": "code",
   "execution_count": 15,
   "metadata": {
    "collapsed": true
   },
   "outputs": [],
   "source": [
    "def create_vectors_common_gevtev_simbad(gevtev, simbad, epsilon, catalog=\"tev\"):\n",
    "    \"\"\"This function looks for the same objects in GeV and TeV and Simbad catalogs \n",
    "    \n",
    "    Return: two vectors where each index of TEV(GEV) is associated with its indev in GEV(TEV).\n",
    "    If such objects does not existe, the corresponding vector coordinate is equal to -1\n",
    "    \n",
    "    gevtev - a pandas dataFrame of common GeV and TeV \n",
    "    simbad - a pandas dataFrame of Simbad \n",
    "    epsilon(double) - distance accepted as equivalence\n",
    "    \"\"\"\n",
    "    d = {}\n",
    "    classes = {}\n",
    "    if (catalog.find(\"tev\") != -1):\n",
    "        glat_gevtev = gevtev[catalog+'_glat']\n",
    "        glon_gevtev = gevtev[catalog+'_glon']\n",
    "    else:\n",
    "        glat_gevtev = gevtev[catalog+'_GLAT']\n",
    "        glon_gevtev = gevtev[catalog+'_GLON']        \n",
    "\n",
    "    glat_simbad = simbad['s_glat']\n",
    "    glon_simbad = simbad['s_glon']\n",
    "    \n",
    "    C_associations_gevtev = -1.0 * np.ones((len(glat_gevtev)))\n",
    "    C_associations_simbad = -1.0 * np.ones((len(glat_simbad)))\n",
    "    \n",
    "    glat_dif_matrix = np.dot(np.vstack((glat_gevtev, -np.ones_like(glat_gevtev))).T,\n",
    "                            np.vstack((np.ones_like(glat_simbad), glat_simbad)))\n",
    "    glon_dif_matrix = np.dot(np.vstack((glon_gevtev, -np.ones_like(glon_gevtev))).T,\n",
    "                            np.vstack((np.ones_like(glon_simbad), glon_simbad)))\n",
    "    pairs_matrix = np.logical_and(np.abs(glat_dif_matrix) < epsilon, \n",
    "                                np.abs(glon_dif_matrix) < epsilon)\n",
    "    \n",
    "    for i in range(C_associations_gevtev.size):\n",
    "        associations = np.argwhere(pairs_matrix[i])\n",
    "        if associations.size > 0:\n",
    "            C_associations_gevtev[i] = associations.max()\n",
    "            \n",
    "    for j in range(C_associations_simbad.size):\n",
    "        associations = np.argwhere(pairs_matrix[:, j])\n",
    "        if associations.size > 0:\n",
    "            C_associations_simbad[j] = associations.max()\n",
    "\n",
    "    return C_associations_gevtev, C_associations_simbad"
   ]
  },
  {
   "cell_type": "markdown",
   "metadata": {},
   "source": [
    "Comparison: "
   ]
  },
  {
   "cell_type": "code",
   "execution_count": 10,
   "metadata": {
    "collapsed": true
   },
   "outputs": [],
   "source": [
    "import time"
   ]
  },
  {
   "cell_type": "code",
   "execution_count": 11,
   "metadata": {},
   "outputs": [
    {
     "name": "stdout",
     "output_type": "stream",
     "text": [
      "27.991779804229736\n",
      "0.16498470306396484\n",
      "True True\n"
     ]
    }
   ],
   "source": [
    "start_time = time.time()\n",
    "C_associations_gevtev_old, C_associations_simbad_old = create_vectors_common_gevtev_simbad_old(common_data, pd_simbad, _epsilon)\n",
    "print(time.time() - start_time)\n",
    "start_time = time.time()\n",
    "C_associations_gevtev, C_associations_simbad = create_vectors_common_gevtev_simbad(common_data, pd_simbad, _epsilon)\n",
    "print(time.time() - start_time)\n",
    "print((C_associations_gevtev_old == C_associations_gevtev).all(), (C_associations_simbad_old == C_associations_simbad).all())"
   ]
  },
  {
   "cell_type": "code",
   "execution_count": 12,
   "metadata": {},
   "outputs": [
    {
     "name": "stdout",
     "output_type": "stream",
     "text": [
      "43.52845478057861\n",
      "0.18444347381591797\n",
      "True True\n"
     ]
    }
   ],
   "source": [
    "start_time = time.time()\n",
    "C_associations_gevtev_old, C_associations_simbad_old = create_vectors_common_gevtev_simbad_old(only_tev_data, pd_simbad, _epsilon)\n",
    "print(time.time() - start_time)\n",
    "start_time = time.time()\n",
    "C_associations_gevtev, C_associations_simbad = create_vectors_common_gevtev_simbad(only_tev_data, pd_simbad, _epsilon)\n",
    "print(time.time() - start_time)\n",
    "print((C_associations_gevtev_old == C_associations_gevtev).all(), (C_associations_simbad_old == C_associations_simbad).all())"
   ]
  },
  {
   "cell_type": "code",
   "execution_count": 14,
   "metadata": {},
   "outputs": [
    {
     "name": "stdout",
     "output_type": "stream",
     "text": [
      "1430.0458295345306\n",
      "9.62966251373291\n",
      "True True\n"
     ]
    }
   ],
   "source": [
    "start_time = time.time()\n",
    "C_associations_gevtev_old, C_associations_simbad_old = create_vectors_common_gevtev_simbad_old(only_gev_data, pd_simbad, _epsilon, catalog=\"gev\")\n",
    "print(time.time() - start_time)\n",
    "start_time = time.time()\n",
    "C_associations_gevtev, C_associations_simbad = create_vectors_common_gevtev_simbad(only_gev_data, pd_simbad, _epsilon, catalog=\"gev\")\n",
    "print(time.time() - start_time)\n",
    "print((C_associations_gevtev_old == C_associations_gevtev).all(), (C_associations_simbad_old == C_associations_simbad).all())"
   ]
  },
  {
   "cell_type": "code",
   "execution_count": null,
   "metadata": {
    "collapsed": true
   },
   "outputs": [],
   "source": []
  },
  {
   "cell_type": "code",
   "execution_count": 16,
   "metadata": {
    "collapsed": true
   },
   "outputs": [],
   "source": [
    "C_associations_gevtev, C_associations_simbad = create_vectors_common_gevtev_simbad(common_data, pd_simbad, _epsilon)"
   ]
  },
  {
   "cell_type": "code",
   "execution_count": 17,
   "metadata": {
    "collapsed": true
   },
   "outputs": [],
   "source": [
    "def create_common_data(data_gevtev, data_simbad, C_associations_gevtev, C_associations_simbad, catalog=\"tev\"):\n",
    "    \"\"\"The fonction adds objects found both in GeV, TeV and simbad.\n",
    "    \"\"\"\n",
    "    data_gevtev['join'] = C_associations_gevtev\n",
    "\n",
    "    pd_common_sgevtev = pd.merge(data_simbad, data_gevtev, left_index=True, right_on='join', how='inner')\n",
    "    del data_gevtev['join']\n",
    "    \n",
    "    try:\n",
    "        del pd_common_sgevtev['join_y']\n",
    "    except:\n",
    "        pass\n",
    "    \n",
    "    data_simbad['join'] = C_associations_simbad\n",
    "    pd_common_sgevtev0 = pd.merge(data_simbad, data_gevtev, right_index=True, left_on='join', how='inner')\n",
    "    del data_simbad['join']\n",
    "    \n",
    "    pd_common_sgevtev = pd_common_sgevtev.append(pd_common_sgevtev0)\n",
    "    if (catalog.find(\"tev\") != -1):    \n",
    "        array_non_duplicate = [catalog+'_glat', catalog+'_glon', 's_glat','s_glon']\n",
    "    else:\n",
    "        array_non_duplicate = [catalog+'_GLAT', catalog+'_GLON', 's_glat','s_glon']\n",
    "    pd_common_sgevtev = pd_common_sgevtev.drop_duplicates(array_non_duplicate)\n",
    "    pd_common_sgevtev = pd_common_sgevtev.reset_index()\n",
    "    try:\n",
    "        del pd_common_sgevtev['join_x']\n",
    "    except KeyError:\n",
    "        pass\n",
    "    try:\n",
    "        del pd_common_sgevtev['join']\n",
    "    except:\n",
    "        pass\n",
    "    try:\n",
    "        del pd_common_sgevtev['index']\n",
    "    except:\n",
    "        pass\n",
    "    #df_common = pd.DataFrame(data = data, columns = namefinal)\n",
    "    return pd_common_sgevtev"
   ]
  },
  {
   "cell_type": "code",
   "execution_count": 18,
   "metadata": {
    "scrolled": true
   },
   "outputs": [
    {
     "name": "stdout",
     "output_type": "stream",
     "text": [
      "There are 68 common objects in the three catalogs.\n"
     ]
    }
   ],
   "source": [
    "pd_common_gevtevsimbad = create_common_data(common_data, pd_simbad, C_associations_gevtev, C_associations_simbad)\n",
    "print(\"There are \" + str(len(pd_common_gevtevsimbad)) + \" common objects in the three catalogs.\")"
   ]
  },
  {
   "cell_type": "code",
   "execution_count": 19,
   "metadata": {},
   "outputs": [
    {
     "data": {
      "text/html": [
       "<div>\n",
       "<style>\n",
       "    .dataframe thead tr:only-child th {\n",
       "        text-align: right;\n",
       "    }\n",
       "\n",
       "    .dataframe thead th {\n",
       "        text-align: left;\n",
       "    }\n",
       "\n",
       "    .dataframe tbody tr th {\n",
       "        vertical-align: top;\n",
       "    }\n",
       "</style>\n",
       "<table border=\"1\" class=\"dataframe\">\n",
       "  <thead>\n",
       "    <tr style=\"text-align: right;\">\n",
       "      <th></th>\n",
       "      <th>level_0</th>\n",
       "      <th>gev_0FGL_Name</th>\n",
       "      <th>gev_1FGL_Name</th>\n",
       "      <th>gev_1FHL_Name</th>\n",
       "      <th>gev_2FGL_Name</th>\n",
       "      <th>gev_ASSOC1</th>\n",
       "      <th>gev_ASSOC2</th>\n",
       "      <th>gev_ASSOC_GAM1</th>\n",
       "      <th>gev_ASSOC_GAM2</th>\n",
       "      <th>gev_ASSOC_GAM3</th>\n",
       "      <th>...</th>\n",
       "      <th>tev_spec_pl_norm_err</th>\n",
       "      <th>tev_spec_pl_norm_err_sys</th>\n",
       "      <th>tev_spec_theta</th>\n",
       "      <th>tev_spec_type</th>\n",
       "      <th>tev_tevcat2_id</th>\n",
       "      <th>tev_tevcat_id</th>\n",
       "      <th>tev_tevcat_name</th>\n",
       "      <th>tev_tgevcat_id</th>\n",
       "      <th>tev_tgevcat_name</th>\n",
       "      <th>tev_where</th>\n",
       "    </tr>\n",
       "  </thead>\n",
       "  <tbody>\n",
       "    <tr>\n",
       "      <th>0</th>\n",
       "      <td>79</td>\n",
       "      <td>b'                 '</td>\n",
       "      <td>b'                  '</td>\n",
       "      <td>b'                  '</td>\n",
       "      <td>b'                  '</td>\n",
       "      <td>b'                          '</td>\n",
       "      <td>b'                          '</td>\n",
       "      <td>b'               '</td>\n",
       "      <td>b'              '</td>\n",
       "      <td>b'               '</td>\n",
       "      <td>...</td>\n",
       "      <td>NaN</td>\n",
       "      <td>NaN</td>\n",
       "      <td>NaN</td>\n",
       "      <td>b'none'</td>\n",
       "      <td>b'PehQOM'</td>\n",
       "      <td>121</td>\n",
       "      <td>b'TeV J1745-290d'</td>\n",
       "      <td>107</td>\n",
       "      <td>b'TeV J1745-2900'</td>\n",
       "      <td>b'gal'</td>\n",
       "    </tr>\n",
       "    <tr>\n",
       "      <th>1</th>\n",
       "      <td>81</td>\n",
       "      <td>b'                 '</td>\n",
       "      <td>b'1FGL J1746.4-2849c'</td>\n",
       "      <td>b'1FHL J1746.3-2851 '</td>\n",
       "      <td>b'2FGL J1746.6-2851c'</td>\n",
       "      <td>b'PWN G0.13-0.11            '</td>\n",
       "      <td>b'                          '</td>\n",
       "      <td>b'               '</td>\n",
       "      <td>b'3EG J1746-2851'</td>\n",
       "      <td>b'               '</td>\n",
       "      <td>...</td>\n",
       "      <td>5.000000e-14</td>\n",
       "      <td>NaN</td>\n",
       "      <td>0.09</td>\n",
       "      <td>b'pl'</td>\n",
       "      <td>b'LsZtAg'</td>\n",
       "      <td>277</td>\n",
       "      <td>b'TeV J1746-289'</td>\n",
       "      <td>-9223372036854775808</td>\n",
       "      <td>b''</td>\n",
       "      <td>b'gal'</td>\n",
       "    </tr>\n",
       "    <tr>\n",
       "      <th>2</th>\n",
       "      <td>108</td>\n",
       "      <td>b'                 '</td>\n",
       "      <td>b'1FGL J1746.4-2849c'</td>\n",
       "      <td>b'1FHL J1746.3-2851 '</td>\n",
       "      <td>b'2FGL J1746.6-2851c'</td>\n",
       "      <td>b'PWN G0.13-0.11            '</td>\n",
       "      <td>b'                          '</td>\n",
       "      <td>b'               '</td>\n",
       "      <td>b'3EG J1746-2851'</td>\n",
       "      <td>b'               '</td>\n",
       "      <td>...</td>\n",
       "      <td>NaN</td>\n",
       "      <td>NaN</td>\n",
       "      <td>NaN</td>\n",
       "      <td>b'none'</td>\n",
       "      <td>b'LsZtAg'</td>\n",
       "      <td>269</td>\n",
       "      <td>b'TeV J1746-289'</td>\n",
       "      <td>-9223372036854775808</td>\n",
       "      <td>b''</td>\n",
       "      <td>b'gal'</td>\n",
       "    </tr>\n",
       "    <tr>\n",
       "      <th>3</th>\n",
       "      <td>97</td>\n",
       "      <td>b'0FGL J2032.2+4122'</td>\n",
       "      <td>b'1FGL J2032.2+4127 '</td>\n",
       "      <td>b'1FHL J2032.1+4125 '</td>\n",
       "      <td>b'2FGL J2032.2+4126 '</td>\n",
       "      <td>b'LAT PSR J2032+4127        '</td>\n",
       "      <td>b'                          '</td>\n",
       "      <td>b'1AGL J2032+4102'</td>\n",
       "      <td>b'              '</td>\n",
       "      <td>b'               '</td>\n",
       "      <td>...</td>\n",
       "      <td>1.600000e-13</td>\n",
       "      <td>2.200000e-13</td>\n",
       "      <td>NaN</td>\n",
       "      <td>b'pl'</td>\n",
       "      <td>b'3IY6Gd'</td>\n",
       "      <td>87</td>\n",
       "      <td>b'TeV J2032+415'</td>\n",
       "      <td>146</td>\n",
       "      <td>b'TeV J2031+4133'</td>\n",
       "      <td>b'gal'</td>\n",
       "    </tr>\n",
       "    <tr>\n",
       "      <th>4</th>\n",
       "      <td>37</td>\n",
       "      <td>b'0FGL J1018.2-5858'</td>\n",
       "      <td>b'1FGL J1018.6-5856 '</td>\n",
       "      <td>b'1FHL J1018.9-5855 '</td>\n",
       "      <td>b'2FGL J1019.0-5856 '</td>\n",
       "      <td>b'1FGL J1018.6-5856         '</td>\n",
       "      <td>b'                          '</td>\n",
       "      <td>b'               '</td>\n",
       "      <td>b'              '</td>\n",
       "      <td>b'               '</td>\n",
       "      <td>...</td>\n",
       "      <td>4.000000e-14</td>\n",
       "      <td>5.800000e-14</td>\n",
       "      <td>NaN</td>\n",
       "      <td>b'pl'</td>\n",
       "      <td>b'5FlzLA'</td>\n",
       "      <td>237</td>\n",
       "      <td>b'TeV J1018-589'</td>\n",
       "      <td>45</td>\n",
       "      <td>b'TeV J1018-5856'</td>\n",
       "      <td>b'gal'</td>\n",
       "    </tr>\n",
       "  </tbody>\n",
       "</table>\n",
       "<p>5 rows × 189 columns</p>\n",
       "</div>"
      ],
      "text/plain": [
       "   level_0         gev_0FGL_Name          gev_1FGL_Name  \\\n",
       "0       79  b'                 '  b'                  '   \n",
       "1       81  b'                 '  b'1FGL J1746.4-2849c'   \n",
       "2      108  b'                 '  b'1FGL J1746.4-2849c'   \n",
       "3       97  b'0FGL J2032.2+4122'  b'1FGL J2032.2+4127 '   \n",
       "4       37  b'0FGL J1018.2-5858'  b'1FGL J1018.6-5856 '   \n",
       "\n",
       "           gev_1FHL_Name          gev_2FGL_Name  \\\n",
       "0  b'                  '  b'                  '   \n",
       "1  b'1FHL J1746.3-2851 '  b'2FGL J1746.6-2851c'   \n",
       "2  b'1FHL J1746.3-2851 '  b'2FGL J1746.6-2851c'   \n",
       "3  b'1FHL J2032.1+4125 '  b'2FGL J2032.2+4126 '   \n",
       "4  b'1FHL J1018.9-5855 '  b'2FGL J1019.0-5856 '   \n",
       "\n",
       "                      gev_ASSOC1                     gev_ASSOC2  \\\n",
       "0  b'                          '  b'                          '   \n",
       "1  b'PWN G0.13-0.11            '  b'                          '   \n",
       "2  b'PWN G0.13-0.11            '  b'                          '   \n",
       "3  b'LAT PSR J2032+4127        '  b'                          '   \n",
       "4  b'1FGL J1018.6-5856         '  b'                          '   \n",
       "\n",
       "       gev_ASSOC_GAM1     gev_ASSOC_GAM2      gev_ASSOC_GAM3    ...      \\\n",
       "0  b'               '  b'              '  b'               '    ...       \n",
       "1  b'               '  b'3EG J1746-2851'  b'               '    ...       \n",
       "2  b'               '  b'3EG J1746-2851'  b'               '    ...       \n",
       "3  b'1AGL J2032+4102'  b'              '  b'               '    ...       \n",
       "4  b'               '  b'              '  b'               '    ...       \n",
       "\n",
       "  tev_spec_pl_norm_err tev_spec_pl_norm_err_sys  tev_spec_theta  \\\n",
       "0                  NaN                      NaN             NaN   \n",
       "1         5.000000e-14                      NaN            0.09   \n",
       "2                  NaN                      NaN             NaN   \n",
       "3         1.600000e-13             2.200000e-13             NaN   \n",
       "4         4.000000e-14             5.800000e-14             NaN   \n",
       "\n",
       "   tev_spec_type  tev_tevcat2_id  tev_tevcat_id    tev_tevcat_name  \\\n",
       "0        b'none'       b'PehQOM'            121  b'TeV J1745-290d'   \n",
       "1          b'pl'       b'LsZtAg'            277   b'TeV J1746-289'   \n",
       "2        b'none'       b'LsZtAg'            269   b'TeV J1746-289'   \n",
       "3          b'pl'       b'3IY6Gd'             87   b'TeV J2032+415'   \n",
       "4          b'pl'       b'5FlzLA'            237   b'TeV J1018-589'   \n",
       "\n",
       "        tev_tgevcat_id   tev_tgevcat_name  tev_where  \n",
       "0                  107  b'TeV J1745-2900'     b'gal'  \n",
       "1 -9223372036854775808                b''     b'gal'  \n",
       "2 -9223372036854775808                b''     b'gal'  \n",
       "3                  146  b'TeV J2031+4133'     b'gal'  \n",
       "4                   45  b'TeV J1018-5856'     b'gal'  \n",
       "\n",
       "[5 rows x 189 columns]"
      ]
     },
     "execution_count": 19,
     "metadata": {},
     "output_type": "execute_result"
    }
   ],
   "source": [
    "pd_common_gevtevsimbad.head()"
   ]
  },
  {
   "cell_type": "markdown",
   "metadata": {},
   "source": [
    "The next cell chooses several columns from a dataFrame to make sure that the output is correct(objects have the same coordinates etc.)"
   ]
  },
  {
   "cell_type": "code",
   "execution_count": 20,
   "metadata": {},
   "outputs": [
    {
     "data": {
      "text/html": [
       "<div>\n",
       "<style>\n",
       "    .dataframe thead tr:only-child th {\n",
       "        text-align: right;\n",
       "    }\n",
       "\n",
       "    .dataframe thead th {\n",
       "        text-align: left;\n",
       "    }\n",
       "\n",
       "    .dataframe tbody tr th {\n",
       "        vertical-align: top;\n",
       "    }\n",
       "</style>\n",
       "<table border=\"1\" class=\"dataframe\">\n",
       "  <thead>\n",
       "    <tr style=\"text-align: right;\">\n",
       "      <th></th>\n",
       "      <th>s_glat</th>\n",
       "      <th>s_glon</th>\n",
       "      <th>gev_ASSOC_TEV</th>\n",
       "      <th>tev_glat</th>\n",
       "      <th>gev_GLAT</th>\n",
       "      <th>tev_glon</th>\n",
       "      <th>gev_GLON</th>\n",
       "      <th>s_class</th>\n",
       "      <th>gev_CLASS1</th>\n",
       "      <th>tev_classes</th>\n",
       "    </tr>\n",
       "  </thead>\n",
       "  <tbody>\n",
       "    <tr>\n",
       "      <th>0</th>\n",
       "      <td>-0.042219</td>\n",
       "      <td>359.951421</td>\n",
       "      <td>b'                     '</td>\n",
       "      <td>-0.046162</td>\n",
       "      <td>-0.020071</td>\n",
       "      <td>359.944244</td>\n",
       "      <td>359.863953</td>\n",
       "      <td>O</td>\n",
       "      <td>b'     '</td>\n",
       "      <td>b'unid'</td>\n",
       "    </tr>\n",
       "    <tr>\n",
       "      <th>1</th>\n",
       "      <td>-0.068187</td>\n",
       "      <td>0.059459</td>\n",
       "      <td>b'                     '</td>\n",
       "      <td>-0.113206</td>\n",
       "      <td>-0.103157</td>\n",
       "      <td>0.140617</td>\n",
       "      <td>0.149201</td>\n",
       "      <td>O</td>\n",
       "      <td>b'pwn  '</td>\n",
       "      <td>b'unid'</td>\n",
       "    </tr>\n",
       "    <tr>\n",
       "      <th>2</th>\n",
       "      <td>-0.068187</td>\n",
       "      <td>0.059459</td>\n",
       "      <td>b'                     '</td>\n",
       "      <td>-0.147977</td>\n",
       "      <td>-0.103157</td>\n",
       "      <td>0.054990</td>\n",
       "      <td>0.149201</td>\n",
       "      <td>O</td>\n",
       "      <td>b'pwn  '</td>\n",
       "      <td>b'unid'</td>\n",
       "    </tr>\n",
       "    <tr>\n",
       "      <th>3</th>\n",
       "      <td>1.005632</td>\n",
       "      <td>80.270553</td>\n",
       "      <td>b'TeV J2032+4130       '</td>\n",
       "      <td>1.111117</td>\n",
       "      <td>1.018827</td>\n",
       "      <td>80.299477</td>\n",
       "      <td>80.218597</td>\n",
       "      <td>B0Ve</td>\n",
       "      <td>b'PSR  '</td>\n",
       "      <td>b'unid'</td>\n",
       "    </tr>\n",
       "    <tr>\n",
       "      <th>4</th>\n",
       "      <td>-1.678443</td>\n",
       "      <td>284.361358</td>\n",
       "      <td>b'HESS J1018-589       '</td>\n",
       "      <td>-1.779517</td>\n",
       "      <td>-1.690106</td>\n",
       "      <td>284.314087</td>\n",
       "      <td>284.351227</td>\n",
       "      <td>B0Ve</td>\n",
       "      <td>b'HMB  '</td>\n",
       "      <td>b'bin'</td>\n",
       "    </tr>\n",
       "  </tbody>\n",
       "</table>\n",
       "</div>"
      ],
      "text/plain": [
       "     s_glat      s_glon             gev_ASSOC_TEV  tev_glat  gev_GLAT  \\\n",
       "0 -0.042219  359.951421  b'                     ' -0.046162 -0.020071   \n",
       "1 -0.068187    0.059459  b'                     ' -0.113206 -0.103157   \n",
       "2 -0.068187    0.059459  b'                     ' -0.147977 -0.103157   \n",
       "3  1.005632   80.270553  b'TeV J2032+4130       '  1.111117  1.018827   \n",
       "4 -1.678443  284.361358  b'HESS J1018-589       ' -1.779517 -1.690106   \n",
       "\n",
       "     tev_glon    gev_GLON s_class gev_CLASS1 tev_classes  \n",
       "0  359.944244  359.863953       O   b'     '     b'unid'  \n",
       "1    0.140617    0.149201       O   b'pwn  '     b'unid'  \n",
       "2    0.054990    0.149201       O   b'pwn  '     b'unid'  \n",
       "3   80.299477   80.218597    B0Ve   b'PSR  '     b'unid'  \n",
       "4  284.314087  284.351227    B0Ve   b'HMB  '      b'bin'  "
      ]
     },
     "execution_count": 20,
     "metadata": {},
     "output_type": "execute_result"
    }
   ],
   "source": [
    "columns_to_compare = ['s_glat',\n",
    "                     's_glon',\n",
    "                     'gev_ASSOC_TEV',\n",
    "                     'tev_glat', \n",
    "                     'gev_GLAT',\n",
    "                     'tev_glon',\n",
    "                     'gev_GLON',\n",
    "                     's_class',\n",
    "                     'gev_CLASS1',\n",
    "                     'tev_classes']\n",
    "pd_common_gevtevsimbad[columns_to_compare].head()"
   ]
  },
  {
   "cell_type": "code",
   "execution_count": 21,
   "metadata": {
    "collapsed": true
   },
   "outputs": [],
   "source": [
    "columns_to_compare_gevtev = ['gev_ASSOC_TEV',\n",
    "                     'tev_glat', \n",
    "                     'gev_GLAT',\n",
    "                     'tev_glon',\n",
    "                     'gev_GLON',\n",
    "                     'gev_CLASS1',\n",
    "                     'tev_classes']"
   ]
  },
  {
   "cell_type": "code",
   "execution_count": 22,
   "metadata": {
    "collapsed": true
   },
   "outputs": [],
   "source": [
    "common_data.to_csv(\"gevtev.txt\", sep='\\t')"
   ]
  },
  {
   "cell_type": "markdown",
   "metadata": {
    "collapsed": true
   },
   "source": [
    "The next cells find common values in simbad-tev"
   ]
  },
  {
   "cell_type": "code",
   "execution_count": 23,
   "metadata": {
    "collapsed": true
   },
   "outputs": [],
   "source": [
    "C_associations_tev, C_associations_simbad = create_vectors_common_gevtev_simbad(only_tev_data, pd_simbad, _epsilon)"
   ]
  },
  {
   "cell_type": "code",
   "execution_count": 24,
   "metadata": {
    "collapsed": true
   },
   "outputs": [],
   "source": [
    "pd_common_onlytevsimbad = create_common_data(only_tev_data, pd_simbad, C_associations_tev, C_associations_simbad, catalog=\"tev\")"
   ]
  },
  {
   "cell_type": "code",
   "execution_count": 25,
   "metadata": {},
   "outputs": [
    {
     "name": "stdout",
     "output_type": "stream",
     "text": [
      "There are 123 common objects in the tev and simbad catalogs.\n"
     ]
    }
   ],
   "source": [
    "print(\"There are \" + str(len(pd_common_onlytevsimbad)) + \" common objects in the tev and simbad catalogs.\")"
   ]
  },
  {
   "cell_type": "markdown",
   "metadata": {},
   "source": [
    "The next cells find common values in simbad-gev"
   ]
  },
  {
   "cell_type": "markdown",
   "metadata": {},
   "source": [
    "This cell can take up to 40 minutes."
   ]
  },
  {
   "cell_type": "code",
   "execution_count": 26,
   "metadata": {
    "collapsed": true
   },
   "outputs": [],
   "source": [
    "C_associations_gev, C_associations_simbad = create_vectors_common_gevtev_simbad(only_gev_data, pd_simbad, _epsilon, catalog=\"gev\")"
   ]
  },
  {
   "cell_type": "code",
   "execution_count": 27,
   "metadata": {
    "collapsed": true
   },
   "outputs": [],
   "source": [
    "pd_common_onlygevsimbad = create_common_data(only_gev_data, pd_simbad, C_associations_gev, C_associations_simbad, catalog=\"gev\")"
   ]
  },
  {
   "cell_type": "code",
   "execution_count": 28,
   "metadata": {},
   "outputs": [
    {
     "name": "stdout",
     "output_type": "stream",
     "text": [
      "There are 154 common objects in the gev and simbad catalogs.\n"
     ]
    }
   ],
   "source": [
    "print(\"There are \" + str(len(pd_common_onlygevsimbad)) + \" common objects in the gev and simbad catalogs.\")"
   ]
  },
  {
   "cell_type": "code",
   "execution_count": 29,
   "metadata": {
    "collapsed": true
   },
   "outputs": [],
   "source": [
    "pd_common_gevtevsimbad.to_csv(\"data/gevtevsimbad.txt\", sep='\\t')\n",
    "pd_common_onlygevsimbad.to_csv(\"data/gevsimbad.txt\", sep='\\t')\n",
    "pd_common_onlytevsimbad.to_csv(\"data/tevsimbad.txt\", sep='\\t')"
   ]
  },
  {
   "cell_type": "code",
   "execution_count": 30,
   "metadata": {
    "collapsed": true
   },
   "outputs": [],
   "source": [
    "only_gev_data.to_csv(\"data/gev.txt\", sep='\\t')\n",
    "only_tev_data.to_csv(\"data/tev.txt\", sep='\\t')\n",
    "pd_simbad.to_csv(\"data/simbad.txt\", sep='\\t')"
   ]
  },
  {
   "cell_type": "code",
   "execution_count": null,
   "metadata": {
    "collapsed": true
   },
   "outputs": [],
   "source": []
  }
 ],
 "metadata": {
  "kernelspec": {
   "display_name": "Python 3",
   "language": "python",
   "name": "python3"
  },
  "language_info": {
   "codemirror_mode": {
    "name": "ipython",
    "version": 3
   },
   "file_extension": ".py",
   "mimetype": "text/x-python",
   "name": "python",
   "nbconvert_exporter": "python",
   "pygments_lexer": "ipython3",
   "version": "3.5.4"
  }
 },
 "nbformat": 4,
 "nbformat_minor": 2
}
